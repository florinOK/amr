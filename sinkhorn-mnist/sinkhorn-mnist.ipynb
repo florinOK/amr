{
  "nbformat": 4,
  "nbformat_minor": 0,
  "metadata": {
    "colab": {
      "name": "sinkhorn-mnist.ipynb",
      "provenance": [],
      "authorship_tag": "ABX9TyOg+Sz+n7TMaxu+jUcwC8Qj",
      "include_colab_link": true
    },
    "kernelspec": {
      "name": "python3",
      "display_name": "Python 3"
    }
  },
  "cells": [
    {
      "cell_type": "markdown",
      "metadata": {
        "id": "view-in-github",
        "colab_type": "text"
      },
      "source": [
        "<a href=\"https://colab.research.google.com/github/florinOK/amr/blob/colab/sinkhorn-mnist/sinkhorn-mnist.ipynb\" target=\"_parent\"><img src=\"https://colab.research.google.com/assets/colab-badge.svg\" alt=\"Open In Colab\"/></a>"
      ]
    },
    {
      "cell_type": "markdown",
      "metadata": {
        "id": "Biwpp4NMKPvQ"
      },
      "source": [
        "[LEARNING LATENT PERMUTATIONS WITH GUMBEL-SINKHORN NETWORKS](https://arxiv.org/pdf/1802.08665.pdf)\n",
        "\n",
        "---\n",
        "https://github.com/google/gumbel_sinkhorn  \n",
        "https://github.com/bbrattoli/JigsawPuzzlePytorch  "
      ]
    },
    {
      "cell_type": "markdown",
      "metadata": {
        "id": "7wczk1BedINN"
      },
      "source": [
        "Задача отсортировать n чисел из отрезка [0, 1].\n",
        "\n",
        "Каждому элементу последовательности (числу) xi поставили в соответствие вектор h. Размерность вектора равна длине последовательности, таким образом образуется квадратная матрица из векторов последовательности. К этой матрице применяется Sinkhorn оператор, в результате получается матрица перестановки для сортировки исходной последовательности.\n",
        "\n",
        "\n"
      ]
    },
    {
      "cell_type": "code",
      "metadata": {
        "id": "fq4u8HGhLvPY",
        "outputId": "dcbdf43d-3aee-4e52-8e0e-475b180c974a",
        "colab": {
          "base_uri": "https://localhost:8080/",
          "height": 872
        }
      },
      "source": [
        "! pip install tensorflow==1.15.2"
      ],
      "execution_count": 1,
      "outputs": [
        {
          "output_type": "stream",
          "text": [
            "Collecting tensorflow==1.15.2\n",
            "\u001b[?25l  Downloading https://files.pythonhosted.org/packages/9a/d9/fd234c7bf68638423fb8e7f44af7fcfce3bcaf416b51e6d902391e47ec43/tensorflow-1.15.2-cp36-cp36m-manylinux2010_x86_64.whl (110.5MB)\n",
            "\u001b[K     |████████████████████████████████| 110.5MB 62kB/s \n",
            "\u001b[?25hRequirement already satisfied: six>=1.10.0 in /usr/local/lib/python3.6/dist-packages (from tensorflow==1.15.2) (1.15.0)\n",
            "Requirement already satisfied: astor>=0.6.0 in /usr/local/lib/python3.6/dist-packages (from tensorflow==1.15.2) (0.8.1)\n",
            "Requirement already satisfied: keras-preprocessing>=1.0.5 in /usr/local/lib/python3.6/dist-packages (from tensorflow==1.15.2) (1.1.2)\n",
            "Collecting tensorboard<1.16.0,>=1.15.0\n",
            "\u001b[?25l  Downloading https://files.pythonhosted.org/packages/1e/e9/d3d747a97f7188f48aa5eda486907f3b345cd409f0a0850468ba867db246/tensorboard-1.15.0-py3-none-any.whl (3.8MB)\n",
            "\u001b[K     |████████████████████████████████| 3.8MB 45.1MB/s \n",
            "\u001b[?25hRequirement already satisfied: google-pasta>=0.1.6 in /usr/local/lib/python3.6/dist-packages (from tensorflow==1.15.2) (0.2.0)\n",
            "Collecting keras-applications>=1.0.8\n",
            "\u001b[?25l  Downloading https://files.pythonhosted.org/packages/71/e3/19762fdfc62877ae9102edf6342d71b28fbfd9dea3d2f96a882ce099b03f/Keras_Applications-1.0.8-py3-none-any.whl (50kB)\n",
            "\u001b[K     |████████████████████████████████| 51kB 6.5MB/s \n",
            "\u001b[?25hRequirement already satisfied: numpy<2.0,>=1.16.0 in /usr/local/lib/python3.6/dist-packages (from tensorflow==1.15.2) (1.18.5)\n",
            "Requirement already satisfied: termcolor>=1.1.0 in /usr/local/lib/python3.6/dist-packages (from tensorflow==1.15.2) (1.1.0)\n",
            "Requirement already satisfied: absl-py>=0.7.0 in /usr/local/lib/python3.6/dist-packages (from tensorflow==1.15.2) (0.10.0)\n",
            "Requirement already satisfied: wrapt>=1.11.1 in /usr/local/lib/python3.6/dist-packages (from tensorflow==1.15.2) (1.12.1)\n",
            "Requirement already satisfied: wheel>=0.26; python_version >= \"3\" in /usr/local/lib/python3.6/dist-packages (from tensorflow==1.15.2) (0.35.1)\n",
            "Requirement already satisfied: opt-einsum>=2.3.2 in /usr/local/lib/python3.6/dist-packages (from tensorflow==1.15.2) (3.3.0)\n",
            "Requirement already satisfied: protobuf>=3.6.1 in /usr/local/lib/python3.6/dist-packages (from tensorflow==1.15.2) (3.12.4)\n",
            "Requirement already satisfied: grpcio>=1.8.6 in /usr/local/lib/python3.6/dist-packages (from tensorflow==1.15.2) (1.32.0)\n",
            "Collecting gast==0.2.2\n",
            "  Downloading https://files.pythonhosted.org/packages/4e/35/11749bf99b2d4e3cceb4d55ca22590b0d7c2c62b9de38ac4a4a7f4687421/gast-0.2.2.tar.gz\n",
            "Collecting tensorflow-estimator==1.15.1\n",
            "\u001b[?25l  Downloading https://files.pythonhosted.org/packages/de/62/2ee9cd74c9fa2fa450877847ba560b260f5d0fb70ee0595203082dafcc9d/tensorflow_estimator-1.15.1-py2.py3-none-any.whl (503kB)\n",
            "\u001b[K     |████████████████████████████████| 512kB 42.6MB/s \n",
            "\u001b[?25hRequirement already satisfied: werkzeug>=0.11.15 in /usr/local/lib/python3.6/dist-packages (from tensorboard<1.16.0,>=1.15.0->tensorflow==1.15.2) (1.0.1)\n",
            "Requirement already satisfied: setuptools>=41.0.0 in /usr/local/lib/python3.6/dist-packages (from tensorboard<1.16.0,>=1.15.0->tensorflow==1.15.2) (50.3.0)\n",
            "Requirement already satisfied: markdown>=2.6.8 in /usr/local/lib/python3.6/dist-packages (from tensorboard<1.16.0,>=1.15.0->tensorflow==1.15.2) (3.2.2)\n",
            "Requirement already satisfied: h5py in /usr/local/lib/python3.6/dist-packages (from keras-applications>=1.0.8->tensorflow==1.15.2) (2.10.0)\n",
            "Requirement already satisfied: importlib-metadata; python_version < \"3.8\" in /usr/local/lib/python3.6/dist-packages (from markdown>=2.6.8->tensorboard<1.16.0,>=1.15.0->tensorflow==1.15.2) (2.0.0)\n",
            "Requirement already satisfied: zipp>=0.5 in /usr/local/lib/python3.6/dist-packages (from importlib-metadata; python_version < \"3.8\"->markdown>=2.6.8->tensorboard<1.16.0,>=1.15.0->tensorflow==1.15.2) (3.2.0)\n",
            "Building wheels for collected packages: gast\n",
            "  Building wheel for gast (setup.py) ... \u001b[?25l\u001b[?25hdone\n",
            "  Created wheel for gast: filename=gast-0.2.2-cp36-none-any.whl size=7542 sha256=f4468908337be9d74ab097efd198426a0a8307b63f4a35abc88e7ee35dac5a6c\n",
            "  Stored in directory: /root/.cache/pip/wheels/5c/2e/7e/a1d4d4fcebe6c381f378ce7743a3ced3699feb89bcfbdadadd\n",
            "Successfully built gast\n",
            "\u001b[31mERROR: tensorflow-probability 0.11.0 has requirement gast>=0.3.2, but you'll have gast 0.2.2 which is incompatible.\u001b[0m\n",
            "Installing collected packages: tensorboard, keras-applications, gast, tensorflow-estimator, tensorflow\n",
            "  Found existing installation: tensorboard 2.3.0\n",
            "    Uninstalling tensorboard-2.3.0:\n",
            "      Successfully uninstalled tensorboard-2.3.0\n",
            "  Found existing installation: gast 0.3.3\n",
            "    Uninstalling gast-0.3.3:\n",
            "      Successfully uninstalled gast-0.3.3\n",
            "  Found existing installation: tensorflow-estimator 2.3.0\n",
            "    Uninstalling tensorflow-estimator-2.3.0:\n",
            "      Successfully uninstalled tensorflow-estimator-2.3.0\n",
            "  Found existing installation: tensorflow 2.3.0\n",
            "    Uninstalling tensorflow-2.3.0:\n",
            "      Successfully uninstalled tensorflow-2.3.0\n",
            "Successfully installed gast-0.2.2 keras-applications-1.0.8 tensorboard-1.15.0 tensorflow-1.15.2 tensorflow-estimator-1.15.1\n"
          ],
          "name": "stdout"
        }
      ]
    },
    {
      "cell_type": "code",
      "metadata": {
        "id": "tt-I4wqZKI_6"
      },
      "source": [
        "import numpy as np\n",
        "import tensorflow as tf"
      ],
      "execution_count": 2,
      "outputs": []
    },
    {
      "cell_type": "markdown",
      "metadata": {
        "id": "nUqBcKa6f3Ax"
      },
      "source": [
        "# optimizer.py"
      ]
    },
    {
      "cell_type": "code",
      "metadata": {
        "id": "ml-CVYABgb_p"
      },
      "source": [
        "# Copyright 2017 Google Inc.\n",
        "#\n",
        "# Licensed under the Apache License, Version 2.0 (the \"License\");\n",
        "# you may not use this file except in compliance with the License.\n",
        "# You may obtain a copy of the License at\n",
        "#\n",
        "#     https://www.apache.org/licenses/LICENSE-2.0\n",
        "#\n",
        "# Unless required by applicable law or agreed to in writing, software\n",
        "# distributed under the License is distributed on an \"AS IS\" BASIS,\n",
        "# WITHOUT WARRANTIES OR CONDITIONS OF ANY KIND, either express or implied.\n",
        "# See the License for the specific language governing permissions and\n",
        "# limitations under the License.\n",
        "\n",
        "\n",
        "\"\"\"Library with optimization definitions and functions.\"\"\"\n",
        "\n",
        "from __future__ import absolute_import\n",
        "from __future__ import division\n",
        "from __future__ import print_function\n",
        "\n",
        "import tensorflow as tf\n",
        "\n",
        "\n",
        "def set_optimizer(optimizer, lr, opt_eps=1.0, opt_momentum=0.9, rms_decay=0.9,\n",
        "                  adam_beta1=0.9, adam_beta2=0.999):\n",
        "  \"\"\"Sets optimizer optimizer op.\n",
        "\n",
        "  Args:\n",
        "   optimizer: A string (sgd, momentum, adagrad, adam, rmsprop).\n",
        "   lr: learning rate, a float.\n",
        "   opt_eps: Optimizer epsilon (for ADAM and RMSprop).\n",
        "   opt_momentum: Optimizer momentum. Common for Momentum and RMSProp.\n",
        "   rms_decay: RMSProp decay parameter.\n",
        "   adam_beta1: beta_1 parameter for ADAM.\n",
        "   adam_beta2: beta_2 parameter for ADAM.\n",
        "  Returns:\n",
        "    opt, the optimizer op.\n",
        "\n",
        "  \"\"\"\n",
        "\n",
        "  if optimizer == \"sgd\":\n",
        "    opt = tf.train.GradientDescentOptimizer(lr)\n",
        "  elif optimizer == \"momentum\":\n",
        "    opt = tf.train.MomentumOptimizer(lr, opt_momentum)\n",
        "  elif optimizer == \"adagrad\":\n",
        "    opt = tf.train.AdagradOptimizer(lr)\n",
        "  elif optimizer == \"adam\":\n",
        "    opt = tf.train.AdamOptimizer(lr, beta1=adam_beta1, beta2=adam_beta2,\n",
        "                                 epsilon=opt_eps)\n",
        "  elif optimizer == \"rmsprop\":\n",
        "    opt = tf.train.RMSPropOptimizer(lr, rms_decay, opt_momentum, opt_eps)\n",
        "  return opt\n"
      ],
      "execution_count": 4,
      "outputs": []
    },
    {
      "cell_type": "markdown",
      "metadata": {
        "id": "rP4nxw5VfQZm"
      },
      "source": [
        "# sinkhorn_ops.py"
      ]
    },
    {
      "cell_type": "code",
      "metadata": {
        "id": "x-mpJSCYghZg"
      },
      "source": [
        "# Copyright 2017 Google Inc.\n",
        "#\n",
        "# Licensed under the Apache License, Version 2.0 (the \"License\");\n",
        "# you may not use this file except in compliance with the License.\n",
        "# You may obtain a copy of the License at\n",
        "#\n",
        "#      http://www.apache.org/licenses/LICENSE-2.0\n",
        "#\n",
        "# Unless required by applicable law or agreed to in writing, software\n",
        "# distributed under the License is distributed on an \"AS IS\" BASIS,\n",
        "# WITHOUT WARRANTIES OR CONDITIONS OF ANY KIND, either express or implied.\n",
        "# See the License for the specific language governing permissions and\n",
        "# limitations under the License.\n",
        "\n",
        "\"\"\"A tensorflow lib of ops with permutations, and sinkhorn balancing.\n",
        "\n",
        "A tensorflow library of operations and sampling with permutations\n",
        "and their approximation with doubly-stochastic matrices, through Sinkhorn\n",
        "balancing\n",
        "\n",
        "\"\"\"\n",
        "\n",
        "from __future__ import absolute_import\n",
        "from __future__ import division\n",
        "from __future__ import print_function\n",
        "\n",
        "import numpy as np\n",
        "from scipy.optimize import linear_sum_assignment\n",
        "from scipy.stats import kendalltau\n",
        "import tensorflow as tf\n",
        "\n",
        "\n",
        "def sample_gumbel(shape, eps=1e-20):\n",
        "  \"\"\"Samples arbitrary-shaped standard gumbel variables.\n",
        "\n",
        "  Args:\n",
        "    shape: list of integers\n",
        "    eps: float, for numerical stability\n",
        "  Returns:\n",
        "    A sample of standard Gumbel random variables\n",
        "  \"\"\"\n",
        "\n",
        "  u = tf.random_uniform(shape, minval=0, maxval=1, dtype=tf.float32)\n",
        "  return -tf.log(-tf.log(u + eps) + eps)\n",
        "\n",
        "\n",
        "def matching(matrix_batch):\n",
        "  \"\"\"Solves a matching problem for a batch of matrices.\n",
        "\n",
        "  This is a wrapper for the scipy.optimize.linear_sum_assignment function. It\n",
        "  solves the optimization problem max_P sum_i,j M_i,j P_i,j with P a\n",
        "  permutation matrix. Notice the negative sign; the reason, the original\n",
        "  function solves a minimization problem\n",
        "\n",
        "  Args:\n",
        "    matrix_batch: A 3D tensor (a batch of matrices) with\n",
        "      shape = [batch_size, N, N]. If 2D, the input is reshaped to 3D with\n",
        "      batch_size = 1.\n",
        "\n",
        "  Returns:\n",
        "    listperms, a 2D integer tensor of permutations with shape [batch_size, N]\n",
        "      so that listperms[n, :] is the permutation of range(N) that solves the\n",
        "      problem  max_P sum_i,j M_i,j P_i,j with M = matrix_batch[n, :, :].\n",
        "  \"\"\"\n",
        "\n",
        "  def hungarian(x):\n",
        "    if x.ndim == 2:\n",
        "      x = np.reshape(x, [1, x.shape[0], x.shape[1]])\n",
        "    sol = np.zeros((x.shape[0], x.shape[1]), dtype=np.int32)\n",
        "    for i in range(x.shape[0]):\n",
        "      sol[i, :] = linear_sum_assignment(-x[i, :])[1].astype(np.int32)\n",
        "    return sol\n",
        "\n",
        "  listperms = tf.py_func(hungarian, [matrix_batch], tf.int32)\n",
        "  return listperms\n",
        "\n",
        "\n",
        "def kendall_tau(batch_perm1, batch_perm2):\n",
        "  \"\"\"Wraps scipy.stats kendalltau function.\n",
        "\n",
        "  Args:\n",
        "    batch_perm1: A 2D tensor (a batch of matrices) with\n",
        "      shape = [batch_size, N]\n",
        "    batch_perm2: same as batch_perm1\n",
        "\n",
        "  Returns:\n",
        "    A list of Kendall distances between each of the elements of the batch.\n",
        "  \"\"\"\n",
        "\n",
        "  def kendalltau_batch(x, y):\n",
        "\n",
        "    if x.ndim == 1:\n",
        "      x = np.reshape(x, [1, x.shape[0]])\n",
        "    if y.ndim == 1:\n",
        "      y = np.reshape(y, [1, y.shape[0]])\n",
        "    kendall = np.zeros((x.shape[0], 1), dtype=np.float32)\n",
        "    for i in range(x.shape[0]):\n",
        "      kendall[i, :] = kendalltau(x[i, :], y[i, :])[0]\n",
        "    return kendall\n",
        "\n",
        "  listkendall = tf.py_func(kendalltau_batch, [batch_perm1, batch_perm2], tf.float32)\n",
        "  return listkendall\n",
        "\n",
        "\n",
        "def sinkhorn(log_alpha, n_iters=20):\n",
        "  \"\"\"Performs incomplete Sinkhorn normalization to log_alpha.\n",
        "\n",
        "  By a theorem by Sinkhorn and Knopp [1], a sufficiently well-behaved  matrix\n",
        "  with positive entries can be turned into a doubly-stochastic matrix\n",
        "  (i.e. its rows and columns add up to one) via the succesive row and column\n",
        "  normalization.\n",
        "  -To ensure positivity, the effective input to sinkhorn has to be\n",
        "  exp(log_alpha) (elementwise).\n",
        "  -However, for stability, sinkhorn works in the log-space. It is only at\n",
        "   return time that entries are exponentiated.\n",
        "\n",
        "  [1] Sinkhorn, Richard and Knopp, Paul.\n",
        "  Concerning nonnegative matrices and doubly stochastic\n",
        "  matrices. Pacific Journal of Mathematics, 1967\n",
        "\n",
        "  Args:\n",
        "    log_alpha: 2D tensor (a matrix of shape [N, N])\n",
        "      or 3D tensor (a batch of matrices of shape = [batch_size, N, N])\n",
        "    n_iters: number of sinkhorn iterations (in practice, as little as 20\n",
        "      iterations are needed to achieve decent convergence for N~100)\n",
        "\n",
        "  Returns:\n",
        "    A 3D tensor of close-to-doubly-stochastic matrices (2D tensors are\n",
        "      converted to 3D tensors with batch_size equals to 1)\n",
        "  \"\"\"\n",
        "  n = tf.shape(log_alpha)[1]\n",
        "  log_alpha = tf.reshape(log_alpha, [-1, n, n])\n",
        "\n",
        "  for _ in range(n_iters):\n",
        "    log_alpha -= tf.reshape(tf.reduce_logsumexp(log_alpha, axis=2), [-1, n, 1])\n",
        "    log_alpha -= tf.reshape(tf.reduce_logsumexp(log_alpha, axis=1), [-1, 1, n])\n",
        "  return tf.exp(log_alpha)\n",
        "\n",
        "\n",
        "def gumbel_sinkhorn(log_alpha, temp=1.0, n_samples=1, noise_factor=1.0, n_iters=20, squeeze=True):\n",
        "  \"\"\"Random doubly-stochastic matrices via gumbel noise.\n",
        "\n",
        "  In the zero-temperature limit sinkhorn(log_alpha/temp) approaches\n",
        "  a permutation matrix. Therefore, for low temperatures this method can be\n",
        "  seen as an approximate sampling of permutation matrices, where the\n",
        "  distribution is parameterized by the matrix log_alpha\n",
        "\n",
        "  The deterministic case (noise_factor=0) is also interesting: it can be\n",
        "  shown that lim t->0 sinkhorn(log_alpha/t) = M, where M is a\n",
        "  permutation matrix, the solution of the\n",
        "  matching problem M=arg max_M sum_i,j log_alpha_i,j M_i,j.\n",
        "  Therefore, the deterministic limit case of gumbel_sinkhorn can be seen\n",
        "  as approximate solving of a matching problem, otherwise solved via the\n",
        "  Hungarian algorithm.\n",
        "\n",
        "  Warning: the convergence holds true in the limit case n_iters = infty.\n",
        "  Unfortunately, in practice n_iter is finite which can lead to numerical\n",
        "  instabilities, mostly if temp is very low. Those manifest as\n",
        "  pseudo-convergence or some row-columns to fractional entries (e.g.\n",
        "  a row having two entries with 0.5, instead of a single 1.0)\n",
        "  To minimize those effects, try increasing n_iter for decreased temp.\n",
        "  On the other hand, too-low temperature usually lead to high-variance in\n",
        "  gradients, so better not choose too low temperatures.\n",
        "\n",
        "  Args:\n",
        "    log_alpha: 2D tensor (a matrix of shape [N, N])\n",
        "      or 3D tensor (a batch of matrices of shape = [batch_size, N, N])\n",
        "    temp: temperature parameter, a float.\n",
        "    n_samples: number of samples\n",
        "    noise_factor: scaling factor for the gumbel samples. Mostly to explore\n",
        "      different degrees of randomness (and the absence of randomness, with\n",
        "      noise_factor=0)\n",
        "    n_iters: number of sinkhorn iterations. Should be chosen carefully, in\n",
        "      inverse corresponde with temp to avoid numerical stabilities.\n",
        "    squeeze: a boolean, if True and there is a single sample, the output will\n",
        "      remain being a 3D tensor.\n",
        "\n",
        "  Returns:\n",
        "    sink: a 4D tensor of [batch_size, n_samples, N, N] i.e.\n",
        "      batch_size *n_samples doubly-stochastic matrices. If n_samples = 1 and\n",
        "      squeeze = True then the output is 3D.\n",
        "    log_alpha_w_noise: a 4D tensor of [batch_size, n_samples, N, N] of\n",
        "      noisy samples of log_alpha, divided by the temperature parameter. If\n",
        "      n_samples = 1 then the output is 3D.\n",
        "  \"\"\"\n",
        "  n = tf.shape(log_alpha)[1]\n",
        "  log_alpha = tf.reshape(log_alpha, [-1, n, n])\n",
        "  batch_size = tf.shape(log_alpha)[0]\n",
        "  log_alpha_w_noise = tf.tile(log_alpha, [n_samples, 1, 1])\n",
        "  if noise_factor == 0:\n",
        "    noise = 0.0\n",
        "  else:\n",
        "    noise = sample_gumbel([n_samples*batch_size, n, n])*noise_factor\n",
        "  log_alpha_w_noise += noise\n",
        "  log_alpha_w_noise /= temp\n",
        "  sink = sinkhorn(log_alpha_w_noise, n_iters)\n",
        "  if n_samples > 1 or squeeze is False:\n",
        "    sink = tf.reshape(sink, [n_samples, batch_size, n, n])\n",
        "    sink = tf.transpose(sink, [1, 0, 2, 3])\n",
        "    log_alpha_w_noise = tf.reshape(\n",
        "        log_alpha_w_noise, [n_samples, batch_size, n, n])\n",
        "    log_alpha_w_noise = tf.transpose(log_alpha_w_noise, [1, 0, 2, 3])\n",
        "  return sink, log_alpha_w_noise\n",
        "\n",
        "\n",
        "def sample_uniform_and_order(n_lists, n_numbers, prob_inc):\n",
        "  \"\"\"Samples uniform random numbers, and sort them.\n",
        "\n",
        "  Returns a 2-D tensor of n_lists lists of n_numbers sorted numbers in the [0,1]\n",
        "  interval, each of them having n_numbers elements.\n",
        "  Lists are increasing with probability prob_inc.\n",
        "  It does so by first sampling uniform random numbers, and then sorting them.\n",
        "  Therefore, sorted numbers follow the distribution of the order statistics of\n",
        "  a uniform distribution.\n",
        "  It also returns the random numbers and the lists of permutations p such\n",
        "  p(sorted) = random.\n",
        "  Notice that if one ones to build sorted numbers in different intervals, one\n",
        "  might just want to re-scaled this canonical form.\n",
        "\n",
        "  Args:\n",
        "    n_lists: An int,the number of lists to be sorted.\n",
        "    n_numbers: An int, the number of elements in the permutation.\n",
        "    prob_inc: A float, the probability that an list of numbers will be sorted in\n",
        "    increasing order.\n",
        "\n",
        "  Returns:\n",
        "   ordered: a 2-D float tensor with shape = [n_list, n_numbers] of sorted lists\n",
        "     of numbers.\n",
        "   random: a 2-D float tensor with shape = [n_list, n_numbers] of uniform random\n",
        "     numbers.\n",
        "   permutations: a 2-D int tensor with shape = [n_list, n_numbers], row i\n",
        "     satisfies ordered[i, permutations[i]) = random[i,:].\n",
        "\n",
        "  \"\"\"\n",
        "\n",
        "  bern = tf.contrib.distributions.Bernoulli(\n",
        "      probs=np.ones((n_lists, 1)) * prob_inc).sample()\n",
        "  sign = -1*tf.cast(tf.multiply(bern, 2) -1, dtype=tf.float32)\n",
        "  random = tf.random_uniform(shape=[n_lists, n_numbers], dtype=tf.float32)\n",
        "  random_with_sign = tf.multiply(random, sign)\n",
        "  ordered, permutations = tf.nn.top_k(random_with_sign, k=n_numbers)\n",
        "  ordered = tf.multiply(ordered, sign)\n",
        "  return ordered, random, permutations\n",
        "\n",
        "\n",
        "def sample_permutations(n_permutations, n_objects):\n",
        "  \"\"\"Samples a batch permutations from the uniform distribution.\n",
        "\n",
        "  Returns a sample of n_permutations permutations of n_objects indices.\n",
        "  Permutations are assumed to be represented as lists of integers\n",
        "  (see 'listperm2matperm' and 'matperm2listperm' for conversion to alternative\n",
        "  matricial representation). It does so by sampling from a continuous\n",
        "  distribution and then ranking the elements. By symmetry, the resulting\n",
        "  distribution over permutations must be uniform.\n",
        "\n",
        "  Args:\n",
        "    n_permutations: An int, the number of permutations to sample.\n",
        "    n_objects: An int, the number of elements in the permutation.\n",
        "      the embedding sources.\n",
        "\n",
        "  Returns:\n",
        "    A 2D integer tensor with shape [n_permutations, n_objects], where each\n",
        "      row is a permutation of range(n_objects)\n",
        "\n",
        "  \"\"\"\n",
        "\n",
        "  random_pre_perm = tf.random_normal(shape=[n_permutations, n_objects])\n",
        "  _, permutations = tf.nn.top_k(random_pre_perm, k=n_objects)\n",
        "  return permutations\n",
        "\n",
        "\n",
        "def permute_batch_split(batch_split, permutations):\n",
        "  \"\"\"Scrambles a batch of objects according to permutations.\n",
        "\n",
        "  It takes a 3D tensor [batch_size, n_objects, object_size]\n",
        "  and permutes items in axis=1 according to the 2D integer tensor\n",
        "  permutations, (with shape [batch_size, n_objects]) a list of permutations\n",
        "  expressed as lists. For many dimensional-objects (e.g. images), objects have\n",
        "  to be flattened so they will respect the 3D format, i.e. tf.reshape(\n",
        "  batch_split, [batch_size, n_objects, -1])\n",
        "\n",
        "  Args:\n",
        "    batch_split: 3D tensor with shape = [batch_size, n_objects, object_size] of\n",
        "      splitted objects\n",
        "    permutations: a 2D integer tensor with shape = [batch_size, n_objects] of\n",
        "      permutations, so that permutations[n] is a permutation of range(n_objects)\n",
        "\n",
        "  Returns:\n",
        "    A 3D tensor perm_batch_split with the same shape as batch_split,\n",
        "      so that perm_batch_split[n, j,:] = batch_split[n, perm[n,j],:]\n",
        "\n",
        "  \"\"\"\n",
        "\n",
        "  batch_split_size = tf.shape(batch_split, out_type=permutations.dtype)[0]\n",
        "  n_objects = tf.shape(batch_split)[1]\n",
        "\n",
        "  ind_permutations = tf.reshape(permutations, [-1, 1])\n",
        "\n",
        "  ind_batch = tf.reshape(tf.tile(tf.reshape(tf.range(batch_split_size),\n",
        "                                            [-1, 1]),\n",
        "                                 [1, n_objects]),\n",
        "                         [-1, 1])\n",
        "\n",
        "  ind_batch_and_permutation = tf.concat((ind_batch, ind_permutations), axis=1)\n",
        "\n",
        "  batch_split = tf.reshape(tf.gather_nd(batch_split, ind_batch_and_permutation),\n",
        "                           [batch_split_size, n_objects, -1])\n",
        "\n",
        "  return batch_split\n",
        "\n",
        "\n",
        "def listperm2matperm(listperm):\n",
        "  \"\"\"Converts a batch of permutations to its matricial form.\n",
        "\n",
        "  Args:\n",
        "    listperm: 2D tensor of permutations of shape [batch_size, n_objects] so that\n",
        "      listperm[n] is a permutation of range(n_objects).\n",
        "\n",
        "  Returns:\n",
        "    a 3D tensor of permutations matperm of\n",
        "      shape = [batch_size, n_objects, n_objects] so that matperm[n, :, :] is a\n",
        "      permutation of the identity matrix, with matperm[n, i, listperm[n,i]] = 1\n",
        "  \"\"\"\n",
        "  n_objects = tf.shape(listperm)[1]\n",
        "  return tf.one_hot(listperm, n_objects)\n",
        "\n",
        "\n",
        "def matperm2listperm(matperm, dtype=tf.int32):\n",
        "  \"\"\"Converts a batch of permutations to its enumeration (list) form.\n",
        "\n",
        "  Args:\n",
        "    matperm: a 3D tensor of permutations of\n",
        "      shape = [batch_size, n_objects, n_objects] so that matperm[n, :, :] is a\n",
        "      permutation of the identity matrix. If the input is 2D, it is reshaped\n",
        "      to 3D with batch_size = 1.\n",
        "    dtype: output_type (tf.int32, tf.int64)\n",
        "\n",
        "  Returns:\n",
        "    A 2D tensor of permutations listperm, where listperm[n,i]\n",
        "    is the index of the only non-zero entry in matperm[n, i, :]\n",
        "  \"\"\"\n",
        "  matperm = tf.reshape(matperm, [-1,\n",
        "                                 tf.shape(matperm)[1], tf.shape(matperm)[1]])\n",
        "  batch_size = tf.shape(matperm)[0]\n",
        "  n_objects = tf.shape(matperm)[1]\n",
        "\n",
        "  return tf.reshape(tf.argmax(matperm, axis=2, output_type=dtype),\n",
        "                    [batch_size, n_objects])\n",
        "\n",
        "\n",
        "def invert_listperm(listperm):\n",
        "  \"\"\"Inverts a batch of permutations.\n",
        "\n",
        "  Args:\n",
        "    listperm: a 2D integer tensor of permutations listperm of\n",
        "      shape = [batch_size, n_objects] so that listperm[n] is a permutation of\n",
        "      range(n_objects)\n",
        "  Returns:\n",
        "    A 2D tensor of permutations listperm, where listperm[n,i]\n",
        "    is the index of the only non-zero entry in matperm[n, i, :]\n",
        "  \"\"\"\n",
        "  return matperm2listperm(tf.transpose(listperm2matperm(listperm), [0, 2, 1]))\n"
      ],
      "execution_count": 6,
      "outputs": []
    },
    {
      "cell_type": "markdown",
      "metadata": {
        "id": "KuoasXikff5u"
      },
      "source": [
        "# sorting_model.py"
      ]
    },
    {
      "cell_type": "code",
      "metadata": {
        "id": "FOJ1b5MKgn7Y"
      },
      "source": [
        "# Copyright 2017 Google Inc.\n",
        "#\n",
        "# Licensed under the Apache License, Version 2.0 (the \"License\");\n",
        "# you may not use this file except in compliance with the License.\n",
        "# You may obtain a copy of the License at\n",
        "#\n",
        "#     https://www.apache.org/licenses/LICENSE-2.0\n",
        "#\n",
        "# Unless required by applicable law or agreed to in writing, software\n",
        "# distributed under the License is distributed on an \"AS IS\" BASIS,\n",
        "# WITHOUT WARRANTIES OR CONDITIONS OF ANY KIND, either express or implied.\n",
        "# See the License for the specific language governing permissions and\n",
        "# limitations under the License.\n",
        "\n",
        "\n",
        "\"\"\"Model class for sorting numbers.\n",
        "\"\"\"\n",
        "\n",
        "from __future__ import absolute_import\n",
        "from __future__ import division\n",
        "from __future__ import print_function\n",
        "\n",
        "import tensorflow as tf\n",
        "\n",
        "\n",
        "class SortingModel(object):\n",
        "  \"\"\"Constructs the graph of tensors to learn to sort numbers.\"\"\"\n",
        "\n",
        "  def __init__(self, graph, hparams):\n",
        "    self.graph = graph\n",
        "    self.hparams = hparams\n",
        "    self.batch_size = hparams.batch_size\n",
        "    self.n_numbers = hparams.n_numbers\n",
        "    self.samples_per_num = hparams.samples_per_num\n",
        "    self.n_iter_sinkhorn = hparams.n_iter_sinkhorn\n",
        "    self.noise_factor = hparams.noise_factor\n",
        "    self.prob_inc = hparams.prob_inc\n",
        "    self.optimizer = hparams.optimizer\n",
        "    self.n_units = hparams.n_units\n",
        "\n",
        "  def set_input(self):\n",
        "    with self.graph.as_default():\n",
        "      (self._ordered, self._random, self._hard_perms) = \\\n",
        "          sample_uniform_and_order(self.batch_size, self.n_numbers, self.prob_inc)\n",
        "      # tiled variables, to compare to many permutations\n",
        "      self._ordered_tiled = tf.tile(self._ordered, [self.samples_per_num, 1])\n",
        "      self._random_tiled = tf.tile(self._random, [self.samples_per_num, 1])\n",
        "\n",
        "  def build_network(self):\n",
        "    \"\"\"The most important part, where the neural network is built.\"\"\"\n",
        "\n",
        "    def _create_log_alpha(self):\n",
        "      \"\"\"Creates the variable log_alpha, through NN processing of input.\"\"\"\n",
        "\n",
        "      with tf.variable_scope(\"model_params\"):\n",
        "        # each number is processed with the same network, so data is reshaped\n",
        "        # so that numbers occupy the 'batch' position.\n",
        "        random_flattened = tf.reshape(self._random, [-1, 1])\n",
        "        # net: output of the first neural network that connects numbers to a\n",
        "        # 'latent' representation.\n",
        "        net = dropout(fc(random_flattened, self.n_units), self.keep_prob)\n",
        "        # now those latent representation is connected to rows of the matrix\n",
        "        # log_alpha.\n",
        "        processed = dropout(fc(net, self.n_numbers, activation_fn=None), self.keep_prob)\n",
        "\n",
        "        # the matrix log_alpha is created by concatenation of the rows\n",
        "        # corresponding to different numbers.\n",
        "        return tf.reshape(processed, [-1, self.n_numbers, self.n_numbers])\n",
        "\n",
        "    with self.graph.as_default():\n",
        "\n",
        "      self.keep_prob = tf.constant(self.hparams.keep_prob, dtype=tf.float32)\n",
        "      self.temperature = tf.constant(self.hparams.temperature, dtype=tf.float32)\n",
        "      self._global_step = tf.Variable(0, trainable=False)\n",
        "      fc = tf.contrib.layers.fully_connected\n",
        "      dropout = tf.contrib.layers.dropout\n",
        "\n",
        "      self._log_alpha = _create_log_alpha(self)\n",
        "      # Now, we sample using gumbel_sinkhorn from the\n",
        "      # constructed matrix log_alpha.\n",
        "      (self._soft_perms_inf, self._log_alpha_w_noise) = gumbel_sinkhorn(\n",
        "          self._log_alpha, self.temperature, self.samples_per_num,\n",
        "          self.noise_factor, self.n_iter_sinkhorn, squeeze=False\n",
        "      )\n",
        "\n",
        "  def build_initializer(self):\n",
        "    with self.graph.as_default():\n",
        "      tf.initialize_all_variables()\n",
        "\n",
        "  def build_l2s_loss(self):\n",
        "    \"\"\"Builds loss tensor with soft permutations, for training.\"\"\"\n",
        "    with self.graph.as_default():\n",
        "      inv_soft_perms = tf.transpose(self._soft_perms_inf, [0, 1, 3, 2])\n",
        "      inv_soft_perms_flat = tf.reshape(tf.transpose(inv_soft_perms, [1, 0, 2, 3]), [-1, self.n_numbers, self.n_numbers])\n",
        "      ordered_tiled = tf.reshape(self._ordered_tiled, [-1, self.n_numbers, 1])\n",
        "      random_tiled = tf.reshape(self._random_tiled, [-1, self.n_numbers, 1])\n",
        "      # squared l2 loss\n",
        "      self._l2s_diff = tf.reduce_mean(tf.square(ordered_tiled - tf.matmul(inv_soft_perms_flat, random_tiled)))\n",
        "\n",
        "  def build_hard_losses(self):\n",
        "    \"\"\"Losses based on hard reconstruction. Only for evaluation.\n",
        "\n",
        "    Doubly stochastic matrices are rounded with\n",
        "    the matching function.\n",
        "    \"\"\"\n",
        "\n",
        "    log_alpha_w_noise = tf.transpose(self._log_alpha_w_noise, [1, 0, 2, 3])\n",
        "    log_alpha_w_noise_flat = tf.reshape(log_alpha_w_noise, [-1, self.n_numbers, self.n_numbers])\n",
        "\n",
        "    hard_perms_inf = matching(log_alpha_w_noise_flat)\n",
        "    inverse_hard_perms_inf = invert_listperm(hard_perms_inf)\n",
        "    hard_perms_tiled = tf.tile(self._hard_perms, [self.samples_per_num, 1])\n",
        "\n",
        "    # The 3D output of permute_batch_split must be squeezed\n",
        "    _permute_batch_split = permute_batch_split(self._random_tiled, inverse_hard_perms_inf)\n",
        "    self._ordered_inf_tiled = tf.reshape(_permute_batch_split, [-1, self.n_numbers])\n",
        "\n",
        "    self._l1_diff = tf.reduce_mean(tf.abs(self._ordered_tiled - self._ordered_inf_tiled))\n",
        "    self._l2sh_diff = tf.reduce_mean(tf.square(self._ordered_tiled - self._ordered_inf_tiled))\n",
        "\n",
        "    diff_perms = tf.cast(tf.abs(hard_perms_tiled - inverse_hard_perms_inf), tf.float32)\n",
        "    self._prop_wrong = -tf.reduce_mean(tf.sign(-diff_perms))\n",
        "    self._prop_any_wrong = -tf.reduce_mean(tf.sign(-tf.reduce_sum(diff_perms, 1)))\n",
        "    self._kendall_tau = tf.reduce_mean(kendall_tau(hard_perms_tiled, inverse_hard_perms_inf))\n",
        "\n",
        "  def build_optimizer(self):\n",
        "    with self.graph.as_default():\n",
        "      opt = set_optimizer(self.hparams.optimizer, self.hparams.lr, opt_eps=1e-8)\n",
        "      self._train_op = tf.contrib.training.create_train_op(\n",
        "          self._l2s_diff, opt, global_step=self._global_step)\n",
        "\n",
        "  def build_train_ops(self):\n",
        "    with self.graph.as_default():\n",
        "      self._vars = tf.trainable_variables()\n",
        "      self._train_op = tf.train.AdamOptimizer(self.hparams.lr).minimize(self._l2s_diff,\n",
        "                                                                        var_list=self._vars,\n",
        "                                                                        global_step=self._global_step)\n",
        "\n",
        "  def add_summaries_train(self):\n",
        "    \"\"\"Adds necessary summaries which will be computed during training.\"\"\"\n",
        "    with tf.name_scope(\"Training\"):\n",
        "      with self.graph.as_default():\n",
        "        tf.summary.scalar(\"Total_l2_squared_loss\", self._l2s_diff)\n",
        "\n",
        "  def add_summaries_eval(self):\n",
        "    \"\"\"Adds necessary summaries which will be computed during evaluation.\"\"\"\n",
        "    with tf.name_scope(\"Evaluation\"):\n",
        "      with self.graph.as_default():\n",
        "        tf.summary.scalar(\"L1_diff\", self._l1_diff)\n",
        "        tf.summary.scalar(\"L2_squared_diff\", self._l2sh_diff)\n",
        "        tf.summary.scalar(\"Proportion_wrong\", self._prop_wrong)\n",
        "        tf.summary.scalar(\"Proportion_where_any_is_wrong\", self._prop_any_wrong)\n",
        "        tf.summary.scalar(\"Kendall's_tau\", self._kendall_tau)\n",
        "\n",
        "  def get_eval_measures(self):\n",
        "    \"\"\"Getter method for evaluation measures.\"\"\"\n",
        "    return (self._l1_diff, self._l2sh_diff, self._kendall_tau, self._prop_wrong, self._prop_any_wrong)\n",
        "\n",
        "  @property\n",
        "  def train_op(self):\n",
        "    return self._train_op\n",
        "\n",
        "  @property\n",
        "  def ordered_inf(self):\n",
        "    return tf.transpose(tf.reshape(self._ordered_inf_tiled, [self.samples_per_num, -1, self.n_numbers]), [1, 0, 2])\n",
        "\n",
        "  @property\n",
        "  def ordered(self):\n",
        "    return tf.transpose(tf.reshape(self._ordered_tiled, [self.samples_per_num, -1, self.n_numbers]), [1, 0, 2])\n",
        "\n",
        "  @property\n",
        "  def random(self):\n",
        "    return tf.transpose(tf.reshape(self._random_tiled, [self.samples_per_num, -1, self.n_numbers]), [1, 0, 2])\n",
        "\n",
        "  @property\n",
        "  def global_step(self):\n",
        "    return self._global_step\n"
      ],
      "execution_count": 22,
      "outputs": []
    },
    {
      "cell_type": "markdown",
      "metadata": {
        "id": "RjedikHRfiU3"
      },
      "source": [
        "# sorting_train.py"
      ]
    },
    {
      "cell_type": "code",
      "metadata": {
        "id": "hkcXsm0egD3v",
        "outputId": "e947244b-a9bc-4e9d-c56c-358623387faa",
        "colab": {
          "base_uri": "https://localhost:8080/",
          "height": 1000
        }
      },
      "source": [
        "# Copyright 2017 Google Inc.\n",
        "#\n",
        "# Licensed under the Apache License, Version 2.0 (the \"License\");\n",
        "# you may not use this file except in compliance with the License.\n",
        "# You may obtain a copy of the License at\n",
        "#\n",
        "#     https://www.apache.org/licenses/LICENSE-2.0\n",
        "#\n",
        "# Unless required by applicable law or agreed to in writing, software\n",
        "# distributed under the License is distributed on an \"AS IS\" BASIS,\n",
        "# WITHOUT WARRANTIES OR CONDITIONS OF ANY KIND, either express or implied.\n",
        "# See the License for the specific language governing permissions and\n",
        "# limitations under the License.\n",
        "\n",
        "\"\"\"Trains a model that sorts numbers, keeping loss summaries in tensorboard.\n",
        "\n",
        "The flag hparam has to be passed as a string of comma separated statements of\n",
        "the form hparam=value, where the hparam's are any of the listed in the\n",
        "dictionary DEFAULT_HPARAMS.\n",
        "See the README.md file for further compilation and running instructions.\n",
        "\"\"\"\n",
        "\n",
        "from __future__ import absolute_import\n",
        "from __future__ import division\n",
        "from __future__ import print_function\n",
        "\n",
        "import tensorflow as tf\n",
        "\n",
        "\n",
        "flags = tf.app.flags\n",
        "gfile = tf.gfile\n",
        "\n",
        "DEFAULT_HPARAMS = tf.contrib.training.HParams(hparams='',\n",
        "                                              num_iters=500,\n",
        "                                              save_summaries_secs=30,\n",
        "                                              save_interval_secs=30,\n",
        "                                              exp_log_dir='./tmp_sorting/',\n",
        "                                              max_to_keep=1,\n",
        "                                              #\n",
        "                                              n_numbers=50,\n",
        "                                              lr=0.1,\n",
        "                                              temperature=1.0,\n",
        "                                              batch_size=10,\n",
        "                                              prob_inc=1.0,\n",
        "                                              samples_per_num=5,\n",
        "                                              n_iter_sinkhorn=10,\n",
        "                                              n_units=32,\n",
        "                                              noise_factor=1.0,\n",
        "                                              optimizer='adam',\n",
        "                                              keep_prob=1.)\n",
        "\n",
        "\n",
        "def main(_):\n",
        "\n",
        "  hparams = DEFAULT_HPARAMS\n",
        "\n",
        "  if not gfile.Exists(hparams.exp_log_dir):\n",
        "    gfile.MakeDirs(hparams.exp_log_dir)\n",
        "  tf.reset_default_graph()\n",
        "  g = tf.Graph()\n",
        "  model = SortingModel(g, hparams)\n",
        "  with g.as_default():\n",
        "    model.set_input()\n",
        "    model.build_network()\n",
        "    model.build_l2s_loss()\n",
        "    model.build_optimizer()\n",
        "    model.add_summaries_train()\n",
        "\n",
        "    with tf.Session():\n",
        "      tf.contrib.slim.learning.train(\n",
        "          train_op=model.train_op,\n",
        "          logdir=hparams.exp_log_dir,\n",
        "          global_step=model.global_step,\n",
        "          saver=tf.train.Saver(max_to_keep=hparams.max_to_keep),\n",
        "          number_of_steps=hparams.num_iters,\n",
        "          save_summaries_secs=hparams.save_summaries_secs,\n",
        "          save_interval_secs=hparams.save_interval_secs)\n",
        "\n",
        "\n",
        "if __name__ == '__main__':\n",
        "  tf.app.run(main)\n"
      ],
      "execution_count": 17,
      "outputs": [
        {
          "output_type": "stream",
          "text": [
            "WARNING:tensorflow:From <ipython-input-6-5efadca2e524>:237: Bernoulli.__init__ (from tensorflow.python.ops.distributions.bernoulli) is deprecated and will be removed after 2019-01-01.\n",
            "Instructions for updating:\n",
            "The TensorFlow Distributions library has moved to TensorFlow Probability (https://github.com/tensorflow/probability). You should update all references to use `tfp.distributions` instead of `tf.distributions`.\n"
          ],
          "name": "stdout"
        },
        {
          "output_type": "stream",
          "text": [
            "W1007 10:11:43.495110 140316417697664 deprecation.py:323] From <ipython-input-6-5efadca2e524>:237: Bernoulli.__init__ (from tensorflow.python.ops.distributions.bernoulli) is deprecated and will be removed after 2019-01-01.\n",
            "Instructions for updating:\n",
            "The TensorFlow Distributions library has moved to TensorFlow Probability (https://github.com/tensorflow/probability). You should update all references to use `tfp.distributions` instead of `tf.distributions`.\n"
          ],
          "name": "stderr"
        },
        {
          "output_type": "stream",
          "text": [
            "WARNING:tensorflow:From /usr/local/lib/python3.6/dist-packages/tensorflow_core/python/ops/distributions/bernoulli.py:97: Distribution.__init__ (from tensorflow.python.ops.distributions.distribution) is deprecated and will be removed after 2019-01-01.\n",
            "Instructions for updating:\n",
            "The TensorFlow Distributions library has moved to TensorFlow Probability (https://github.com/tensorflow/probability). You should update all references to use `tfp.distributions` instead of `tf.distributions`.\n"
          ],
          "name": "stdout"
        },
        {
          "output_type": "stream",
          "text": [
            "W1007 10:11:43.507371 140316417697664 deprecation.py:323] From /usr/local/lib/python3.6/dist-packages/tensorflow_core/python/ops/distributions/bernoulli.py:97: Distribution.__init__ (from tensorflow.python.ops.distributions.distribution) is deprecated and will be removed after 2019-01-01.\n",
            "Instructions for updating:\n",
            "The TensorFlow Distributions library has moved to TensorFlow Probability (https://github.com/tensorflow/probability). You should update all references to use `tfp.distributions` instead of `tf.distributions`.\n"
          ],
          "name": "stderr"
        },
        {
          "output_type": "stream",
          "text": [
            "WARNING:tensorflow:From /usr/local/lib/python3.6/dist-packages/tensorflow_core/contrib/layers/python/layers/layers.py:1866: Layer.apply (from tensorflow.python.keras.engine.base_layer) is deprecated and will be removed in a future version.\n",
            "Instructions for updating:\n",
            "Please use `layer.__call__` method instead.\n"
          ],
          "name": "stdout"
        },
        {
          "output_type": "stream",
          "text": [
            "W1007 10:11:43.563846 140316417697664 deprecation.py:323] From /usr/local/lib/python3.6/dist-packages/tensorflow_core/contrib/layers/python/layers/layers.py:1866: Layer.apply (from tensorflow.python.keras.engine.base_layer) is deprecated and will be removed in a future version.\n",
            "Instructions for updating:\n",
            "Please use `layer.__call__` method instead.\n"
          ],
          "name": "stderr"
        },
        {
          "output_type": "stream",
          "text": [
            "WARNING:tensorflow:From /usr/local/lib/python3.6/dist-packages/tensorflow_core/python/ops/math_ops.py:2509: where (from tensorflow.python.ops.array_ops) is deprecated and will be removed in a future version.\n",
            "Instructions for updating:\n",
            "Use tf.where in 2.0, which has the same broadcast rule as np.where\n"
          ],
          "name": "stdout"
        },
        {
          "output_type": "stream",
          "text": [
            "W1007 10:11:43.655707 140316417697664 deprecation.py:323] From /usr/local/lib/python3.6/dist-packages/tensorflow_core/python/ops/math_ops.py:2509: where (from tensorflow.python.ops.array_ops) is deprecated and will be removed in a future version.\n",
            "Instructions for updating:\n",
            "Use tf.where in 2.0, which has the same broadcast rule as np.where\n"
          ],
          "name": "stderr"
        },
        {
          "output_type": "stream",
          "text": [
            "WARNING:tensorflow:From /usr/local/lib/python3.6/dist-packages/tensorflow_core/contrib/slim/python/slim/learning.py:742: Supervisor.__init__ (from tensorflow.python.training.supervisor) is deprecated and will be removed in a future version.\n",
            "Instructions for updating:\n",
            "Please switch to tf.train.MonitoredTrainingSession\n"
          ],
          "name": "stdout"
        },
        {
          "output_type": "stream",
          "text": [
            "W1007 10:11:44.496141 140316417697664 deprecation.py:323] From /usr/local/lib/python3.6/dist-packages/tensorflow_core/contrib/slim/python/slim/learning.py:742: Supervisor.__init__ (from tensorflow.python.training.supervisor) is deprecated and will be removed in a future version.\n",
            "Instructions for updating:\n",
            "Please switch to tf.train.MonitoredTrainingSession\n"
          ],
          "name": "stderr"
        },
        {
          "output_type": "stream",
          "text": [
            "INFO:tensorflow:Running local_init_op.\n"
          ],
          "name": "stdout"
        },
        {
          "output_type": "stream",
          "text": [
            "I1007 10:11:44.612016 140316417697664 session_manager.py:500] Running local_init_op.\n"
          ],
          "name": "stderr"
        },
        {
          "output_type": "stream",
          "text": [
            "INFO:tensorflow:Done running local_init_op.\n"
          ],
          "name": "stdout"
        },
        {
          "output_type": "stream",
          "text": [
            "I1007 10:11:44.633799 140316417697664 session_manager.py:502] Done running local_init_op.\n"
          ],
          "name": "stderr"
        },
        {
          "output_type": "stream",
          "text": [
            "INFO:tensorflow:Starting Session.\n"
          ],
          "name": "stdout"
        },
        {
          "output_type": "stream",
          "text": [
            "I1007 10:11:45.033273 140316417697664 learning.py:754] Starting Session.\n"
          ],
          "name": "stderr"
        },
        {
          "output_type": "stream",
          "text": [
            "INFO:tensorflow:Saving checkpoint to path ./tmp_sorting/model.ckpt\n",
            "INFO:tensorflow:Starting Queues.\n"
          ],
          "name": "stdout"
        },
        {
          "output_type": "stream",
          "text": [
            "I1007 10:11:45.063235 140315174192896 supervisor.py:1117] Saving checkpoint to path ./tmp_sorting/model.ckpt\n",
            "I1007 10:11:45.063715 140316417697664 learning.py:768] Starting Queues.\n"
          ],
          "name": "stderr"
        },
        {
          "output_type": "stream",
          "text": [
            "INFO:tensorflow:Variable/sec: 0\n"
          ],
          "name": "stdout"
        },
        {
          "output_type": "stream",
          "text": [
            "I1007 10:11:45.152615 140315182585600 supervisor.py:1099] Variable/sec: 0\n"
          ],
          "name": "stderr"
        },
        {
          "output_type": "stream",
          "text": [
            "INFO:tensorflow:Recording summary at step 0.\n"
          ],
          "name": "stdout"
        },
        {
          "output_type": "stream",
          "text": [
            "I1007 10:11:45.229440 140315190978304 supervisor.py:1050] Recording summary at step 0.\n"
          ],
          "name": "stderr"
        },
        {
          "output_type": "stream",
          "text": [
            "INFO:tensorflow:global step 1: loss = 0.1005 (0.413 sec/step)\n"
          ],
          "name": "stdout"
        },
        {
          "output_type": "stream",
          "text": [
            "I1007 10:11:45.523130 140316417697664 learning.py:507] global step 1: loss = 0.1005 (0.413 sec/step)\n"
          ],
          "name": "stderr"
        },
        {
          "output_type": "stream",
          "text": [
            "INFO:tensorflow:global step 2: loss = 0.0897 (0.038 sec/step)\n"
          ],
          "name": "stdout"
        },
        {
          "output_type": "stream",
          "text": [
            "I1007 10:11:45.636984 140316417697664 learning.py:507] global step 2: loss = 0.0897 (0.038 sec/step)\n"
          ],
          "name": "stderr"
        },
        {
          "output_type": "stream",
          "text": [
            "INFO:tensorflow:global step 3: loss = 0.0787 (0.035 sec/step)\n"
          ],
          "name": "stdout"
        },
        {
          "output_type": "stream",
          "text": [
            "I1007 10:11:45.676543 140316417697664 learning.py:507] global step 3: loss = 0.0787 (0.035 sec/step)\n"
          ],
          "name": "stderr"
        },
        {
          "output_type": "stream",
          "text": [
            "INFO:tensorflow:global step 4: loss = 0.0574 (0.037 sec/step)\n"
          ],
          "name": "stdout"
        },
        {
          "output_type": "stream",
          "text": [
            "I1007 10:11:45.717190 140316417697664 learning.py:507] global step 4: loss = 0.0574 (0.037 sec/step)\n"
          ],
          "name": "stderr"
        },
        {
          "output_type": "stream",
          "text": [
            "INFO:tensorflow:global step 5: loss = 0.0442 (0.035 sec/step)\n"
          ],
          "name": "stdout"
        },
        {
          "output_type": "stream",
          "text": [
            "I1007 10:11:45.756019 140316417697664 learning.py:507] global step 5: loss = 0.0442 (0.035 sec/step)\n"
          ],
          "name": "stderr"
        },
        {
          "output_type": "stream",
          "text": [
            "INFO:tensorflow:global step 6: loss = 0.0288 (0.036 sec/step)\n"
          ],
          "name": "stdout"
        },
        {
          "output_type": "stream",
          "text": [
            "I1007 10:11:45.796707 140316417697664 learning.py:507] global step 6: loss = 0.0288 (0.036 sec/step)\n"
          ],
          "name": "stderr"
        },
        {
          "output_type": "stream",
          "text": [
            "INFO:tensorflow:global step 7: loss = 0.0232 (0.038 sec/step)\n"
          ],
          "name": "stdout"
        },
        {
          "output_type": "stream",
          "text": [
            "I1007 10:11:45.839557 140316417697664 learning.py:507] global step 7: loss = 0.0232 (0.038 sec/step)\n"
          ],
          "name": "stderr"
        },
        {
          "output_type": "stream",
          "text": [
            "INFO:tensorflow:global step 8: loss = 0.0182 (0.036 sec/step)\n"
          ],
          "name": "stdout"
        },
        {
          "output_type": "stream",
          "text": [
            "I1007 10:11:45.880536 140316417697664 learning.py:507] global step 8: loss = 0.0182 (0.036 sec/step)\n"
          ],
          "name": "stderr"
        },
        {
          "output_type": "stream",
          "text": [
            "INFO:tensorflow:global step 9: loss = 0.0143 (0.036 sec/step)\n"
          ],
          "name": "stdout"
        },
        {
          "output_type": "stream",
          "text": [
            "I1007 10:11:45.920774 140316417697664 learning.py:507] global step 9: loss = 0.0143 (0.036 sec/step)\n"
          ],
          "name": "stderr"
        },
        {
          "output_type": "stream",
          "text": [
            "INFO:tensorflow:global step 10: loss = 0.0117 (0.035 sec/step)\n"
          ],
          "name": "stdout"
        },
        {
          "output_type": "stream",
          "text": [
            "I1007 10:11:45.960884 140316417697664 learning.py:507] global step 10: loss = 0.0117 (0.035 sec/step)\n"
          ],
          "name": "stderr"
        },
        {
          "output_type": "stream",
          "text": [
            "INFO:tensorflow:global step 11: loss = 0.0097 (0.034 sec/step)\n"
          ],
          "name": "stdout"
        },
        {
          "output_type": "stream",
          "text": [
            "I1007 10:11:46.000324 140316417697664 learning.py:507] global step 11: loss = 0.0097 (0.034 sec/step)\n"
          ],
          "name": "stderr"
        },
        {
          "output_type": "stream",
          "text": [
            "INFO:tensorflow:global step 12: loss = 0.0093 (0.034 sec/step)\n"
          ],
          "name": "stdout"
        },
        {
          "output_type": "stream",
          "text": [
            "I1007 10:11:46.037872 140316417697664 learning.py:507] global step 12: loss = 0.0093 (0.034 sec/step)\n"
          ],
          "name": "stderr"
        },
        {
          "output_type": "stream",
          "text": [
            "INFO:tensorflow:global step 13: loss = 0.0093 (0.033 sec/step)\n"
          ],
          "name": "stdout"
        },
        {
          "output_type": "stream",
          "text": [
            "I1007 10:11:46.078151 140316417697664 learning.py:507] global step 13: loss = 0.0093 (0.033 sec/step)\n"
          ],
          "name": "stderr"
        },
        {
          "output_type": "stream",
          "text": [
            "INFO:tensorflow:global step 14: loss = 0.0093 (0.034 sec/step)\n"
          ],
          "name": "stdout"
        },
        {
          "output_type": "stream",
          "text": [
            "I1007 10:11:46.115822 140316417697664 learning.py:507] global step 14: loss = 0.0093 (0.034 sec/step)\n"
          ],
          "name": "stderr"
        },
        {
          "output_type": "stream",
          "text": [
            "INFO:tensorflow:global step 15: loss = 0.0085 (0.033 sec/step)\n"
          ],
          "name": "stdout"
        },
        {
          "output_type": "stream",
          "text": [
            "I1007 10:11:46.154901 140316417697664 learning.py:507] global step 15: loss = 0.0085 (0.033 sec/step)\n"
          ],
          "name": "stderr"
        },
        {
          "output_type": "stream",
          "text": [
            "INFO:tensorflow:global step 16: loss = 0.0090 (0.037 sec/step)\n"
          ],
          "name": "stdout"
        },
        {
          "output_type": "stream",
          "text": [
            "I1007 10:11:46.197595 140316417697664 learning.py:507] global step 16: loss = 0.0090 (0.037 sec/step)\n"
          ],
          "name": "stderr"
        },
        {
          "output_type": "stream",
          "text": [
            "INFO:tensorflow:global step 17: loss = 0.0104 (0.040 sec/step)\n"
          ],
          "name": "stdout"
        },
        {
          "output_type": "stream",
          "text": [
            "I1007 10:11:46.241944 140316417697664 learning.py:507] global step 17: loss = 0.0104 (0.040 sec/step)\n"
          ],
          "name": "stderr"
        },
        {
          "output_type": "stream",
          "text": [
            "INFO:tensorflow:global step 18: loss = 0.0124 (0.038 sec/step)\n"
          ],
          "name": "stdout"
        },
        {
          "output_type": "stream",
          "text": [
            "I1007 10:11:46.282816 140316417697664 learning.py:507] global step 18: loss = 0.0124 (0.038 sec/step)\n"
          ],
          "name": "stderr"
        },
        {
          "output_type": "stream",
          "text": [
            "INFO:tensorflow:global step 19: loss = 0.0101 (0.036 sec/step)\n"
          ],
          "name": "stdout"
        },
        {
          "output_type": "stream",
          "text": [
            "I1007 10:11:46.321711 140316417697664 learning.py:507] global step 19: loss = 0.0101 (0.036 sec/step)\n"
          ],
          "name": "stderr"
        },
        {
          "output_type": "stream",
          "text": [
            "INFO:tensorflow:global step 20: loss = 0.0104 (0.037 sec/step)\n"
          ],
          "name": "stdout"
        },
        {
          "output_type": "stream",
          "text": [
            "I1007 10:11:46.364115 140316417697664 learning.py:507] global step 20: loss = 0.0104 (0.037 sec/step)\n"
          ],
          "name": "stderr"
        },
        {
          "output_type": "stream",
          "text": [
            "INFO:tensorflow:global step 21: loss = 0.0088 (0.034 sec/step)\n"
          ],
          "name": "stdout"
        },
        {
          "output_type": "stream",
          "text": [
            "I1007 10:11:46.403612 140316417697664 learning.py:507] global step 21: loss = 0.0088 (0.034 sec/step)\n"
          ],
          "name": "stderr"
        },
        {
          "output_type": "stream",
          "text": [
            "INFO:tensorflow:global step 22: loss = 0.0078 (0.034 sec/step)\n"
          ],
          "name": "stdout"
        },
        {
          "output_type": "stream",
          "text": [
            "I1007 10:11:46.442121 140316417697664 learning.py:507] global step 22: loss = 0.0078 (0.034 sec/step)\n"
          ],
          "name": "stderr"
        },
        {
          "output_type": "stream",
          "text": [
            "INFO:tensorflow:global step 23: loss = 0.0074 (0.034 sec/step)\n"
          ],
          "name": "stdout"
        },
        {
          "output_type": "stream",
          "text": [
            "I1007 10:11:46.479671 140316417697664 learning.py:507] global step 23: loss = 0.0074 (0.034 sec/step)\n"
          ],
          "name": "stderr"
        },
        {
          "output_type": "stream",
          "text": [
            "INFO:tensorflow:global step 24: loss = 0.0076 (0.033 sec/step)\n"
          ],
          "name": "stdout"
        },
        {
          "output_type": "stream",
          "text": [
            "I1007 10:11:46.518222 140316417697664 learning.py:507] global step 24: loss = 0.0076 (0.033 sec/step)\n"
          ],
          "name": "stderr"
        },
        {
          "output_type": "stream",
          "text": [
            "INFO:tensorflow:global step 25: loss = 0.0067 (0.032 sec/step)\n"
          ],
          "name": "stdout"
        },
        {
          "output_type": "stream",
          "text": [
            "I1007 10:11:46.557059 140316417697664 learning.py:507] global step 25: loss = 0.0067 (0.032 sec/step)\n"
          ],
          "name": "stderr"
        },
        {
          "output_type": "stream",
          "text": [
            "INFO:tensorflow:global step 26: loss = 0.0069 (0.037 sec/step)\n"
          ],
          "name": "stdout"
        },
        {
          "output_type": "stream",
          "text": [
            "I1007 10:11:46.599698 140316417697664 learning.py:507] global step 26: loss = 0.0069 (0.037 sec/step)\n"
          ],
          "name": "stderr"
        },
        {
          "output_type": "stream",
          "text": [
            "INFO:tensorflow:global step 27: loss = 0.0072 (0.039 sec/step)\n"
          ],
          "name": "stdout"
        },
        {
          "output_type": "stream",
          "text": [
            "I1007 10:11:46.644930 140316417697664 learning.py:507] global step 27: loss = 0.0072 (0.039 sec/step)\n"
          ],
          "name": "stderr"
        },
        {
          "output_type": "stream",
          "text": [
            "INFO:tensorflow:global step 28: loss = 0.0067 (0.036 sec/step)\n"
          ],
          "name": "stdout"
        },
        {
          "output_type": "stream",
          "text": [
            "I1007 10:11:46.684025 140316417697664 learning.py:507] global step 28: loss = 0.0067 (0.036 sec/step)\n"
          ],
          "name": "stderr"
        },
        {
          "output_type": "stream",
          "text": [
            "INFO:tensorflow:global step 29: loss = 0.0070 (0.035 sec/step)\n"
          ],
          "name": "stdout"
        },
        {
          "output_type": "stream",
          "text": [
            "I1007 10:11:46.725766 140316417697664 learning.py:507] global step 29: loss = 0.0070 (0.035 sec/step)\n"
          ],
          "name": "stderr"
        },
        {
          "output_type": "stream",
          "text": [
            "INFO:tensorflow:global step 30: loss = 0.0071 (0.035 sec/step)\n"
          ],
          "name": "stdout"
        },
        {
          "output_type": "stream",
          "text": [
            "I1007 10:11:46.764523 140316417697664 learning.py:507] global step 30: loss = 0.0071 (0.035 sec/step)\n"
          ],
          "name": "stderr"
        },
        {
          "output_type": "stream",
          "text": [
            "INFO:tensorflow:global step 31: loss = 0.0068 (0.035 sec/step)\n"
          ],
          "name": "stdout"
        },
        {
          "output_type": "stream",
          "text": [
            "I1007 10:11:46.803195 140316417697664 learning.py:507] global step 31: loss = 0.0068 (0.035 sec/step)\n"
          ],
          "name": "stderr"
        },
        {
          "output_type": "stream",
          "text": [
            "INFO:tensorflow:global step 32: loss = 0.0071 (0.036 sec/step)\n"
          ],
          "name": "stdout"
        },
        {
          "output_type": "stream",
          "text": [
            "I1007 10:11:46.843209 140316417697664 learning.py:507] global step 32: loss = 0.0071 (0.036 sec/step)\n"
          ],
          "name": "stderr"
        },
        {
          "output_type": "stream",
          "text": [
            "INFO:tensorflow:global step 33: loss = 0.0064 (0.035 sec/step)\n"
          ],
          "name": "stdout"
        },
        {
          "output_type": "stream",
          "text": [
            "I1007 10:11:46.880845 140316417697664 learning.py:507] global step 33: loss = 0.0064 (0.035 sec/step)\n"
          ],
          "name": "stderr"
        },
        {
          "output_type": "stream",
          "text": [
            "INFO:tensorflow:global step 34: loss = 0.0067 (0.034 sec/step)\n"
          ],
          "name": "stdout"
        },
        {
          "output_type": "stream",
          "text": [
            "I1007 10:11:46.918589 140316417697664 learning.py:507] global step 34: loss = 0.0067 (0.034 sec/step)\n"
          ],
          "name": "stderr"
        },
        {
          "output_type": "stream",
          "text": [
            "INFO:tensorflow:global step 35: loss = 0.0064 (0.038 sec/step)\n"
          ],
          "name": "stdout"
        },
        {
          "output_type": "stream",
          "text": [
            "I1007 10:11:46.958955 140316417697664 learning.py:507] global step 35: loss = 0.0064 (0.038 sec/step)\n"
          ],
          "name": "stderr"
        },
        {
          "output_type": "stream",
          "text": [
            "INFO:tensorflow:global step 36: loss = 0.0064 (0.044 sec/step)\n"
          ],
          "name": "stdout"
        },
        {
          "output_type": "stream",
          "text": [
            "I1007 10:11:47.007019 140316417697664 learning.py:507] global step 36: loss = 0.0064 (0.044 sec/step)\n"
          ],
          "name": "stderr"
        },
        {
          "output_type": "stream",
          "text": [
            "INFO:tensorflow:global step 37: loss = 0.0062 (0.035 sec/step)\n"
          ],
          "name": "stdout"
        },
        {
          "output_type": "stream",
          "text": [
            "I1007 10:11:47.048907 140316417697664 learning.py:507] global step 37: loss = 0.0062 (0.035 sec/step)\n"
          ],
          "name": "stderr"
        },
        {
          "output_type": "stream",
          "text": [
            "INFO:tensorflow:global step 38: loss = 0.0060 (0.035 sec/step)\n"
          ],
          "name": "stdout"
        },
        {
          "output_type": "stream",
          "text": [
            "I1007 10:11:47.087666 140316417697664 learning.py:507] global step 38: loss = 0.0060 (0.035 sec/step)\n"
          ],
          "name": "stderr"
        },
        {
          "output_type": "stream",
          "text": [
            "INFO:tensorflow:global step 39: loss = 0.0058 (0.033 sec/step)\n"
          ],
          "name": "stdout"
        },
        {
          "output_type": "stream",
          "text": [
            "I1007 10:11:47.127858 140316417697664 learning.py:507] global step 39: loss = 0.0058 (0.033 sec/step)\n"
          ],
          "name": "stderr"
        },
        {
          "output_type": "stream",
          "text": [
            "INFO:tensorflow:global step 40: loss = 0.0056 (0.036 sec/step)\n"
          ],
          "name": "stdout"
        },
        {
          "output_type": "stream",
          "text": [
            "I1007 10:11:47.167436 140316417697664 learning.py:507] global step 40: loss = 0.0056 (0.036 sec/step)\n"
          ],
          "name": "stderr"
        },
        {
          "output_type": "stream",
          "text": [
            "INFO:tensorflow:global step 41: loss = 0.0061 (0.035 sec/step)\n"
          ],
          "name": "stdout"
        },
        {
          "output_type": "stream",
          "text": [
            "I1007 10:11:47.205578 140316417697664 learning.py:507] global step 41: loss = 0.0061 (0.035 sec/step)\n"
          ],
          "name": "stderr"
        },
        {
          "output_type": "stream",
          "text": [
            "INFO:tensorflow:global step 42: loss = 0.0057 (0.034 sec/step)\n"
          ],
          "name": "stdout"
        },
        {
          "output_type": "stream",
          "text": [
            "I1007 10:11:47.243065 140316417697664 learning.py:507] global step 42: loss = 0.0057 (0.034 sec/step)\n"
          ],
          "name": "stderr"
        },
        {
          "output_type": "stream",
          "text": [
            "INFO:tensorflow:global step 43: loss = 0.0058 (0.035 sec/step)\n"
          ],
          "name": "stdout"
        },
        {
          "output_type": "stream",
          "text": [
            "I1007 10:11:47.281902 140316417697664 learning.py:507] global step 43: loss = 0.0058 (0.035 sec/step)\n"
          ],
          "name": "stderr"
        },
        {
          "output_type": "stream",
          "text": [
            "INFO:tensorflow:global step 44: loss = 0.0060 (0.035 sec/step)\n"
          ],
          "name": "stdout"
        },
        {
          "output_type": "stream",
          "text": [
            "I1007 10:11:47.320699 140316417697664 learning.py:507] global step 44: loss = 0.0060 (0.035 sec/step)\n"
          ],
          "name": "stderr"
        },
        {
          "output_type": "stream",
          "text": [
            "INFO:tensorflow:global step 45: loss = 0.0054 (0.035 sec/step)\n"
          ],
          "name": "stdout"
        },
        {
          "output_type": "stream",
          "text": [
            "I1007 10:11:47.359894 140316417697664 learning.py:507] global step 45: loss = 0.0054 (0.035 sec/step)\n"
          ],
          "name": "stderr"
        },
        {
          "output_type": "stream",
          "text": [
            "INFO:tensorflow:global step 46: loss = 0.0053 (0.035 sec/step)\n"
          ],
          "name": "stdout"
        },
        {
          "output_type": "stream",
          "text": [
            "I1007 10:11:47.399991 140316417697664 learning.py:507] global step 46: loss = 0.0053 (0.035 sec/step)\n"
          ],
          "name": "stderr"
        },
        {
          "output_type": "stream",
          "text": [
            "INFO:tensorflow:global step 47: loss = 0.0055 (0.038 sec/step)\n"
          ],
          "name": "stdout"
        },
        {
          "output_type": "stream",
          "text": [
            "I1007 10:11:47.442437 140316417697664 learning.py:507] global step 47: loss = 0.0055 (0.038 sec/step)\n"
          ],
          "name": "stderr"
        },
        {
          "output_type": "stream",
          "text": [
            "INFO:tensorflow:global step 48: loss = 0.0051 (0.035 sec/step)\n"
          ],
          "name": "stdout"
        },
        {
          "output_type": "stream",
          "text": [
            "I1007 10:11:47.482544 140316417697664 learning.py:507] global step 48: loss = 0.0051 (0.035 sec/step)\n"
          ],
          "name": "stderr"
        },
        {
          "output_type": "stream",
          "text": [
            "INFO:tensorflow:global step 49: loss = 0.0055 (0.036 sec/step)\n"
          ],
          "name": "stdout"
        },
        {
          "output_type": "stream",
          "text": [
            "I1007 10:11:47.523821 140316417697664 learning.py:507] global step 49: loss = 0.0055 (0.036 sec/step)\n"
          ],
          "name": "stderr"
        },
        {
          "output_type": "stream",
          "text": [
            "INFO:tensorflow:global step 50: loss = 0.0051 (0.034 sec/step)\n"
          ],
          "name": "stdout"
        },
        {
          "output_type": "stream",
          "text": [
            "I1007 10:11:47.563191 140316417697664 learning.py:507] global step 50: loss = 0.0051 (0.034 sec/step)\n"
          ],
          "name": "stderr"
        },
        {
          "output_type": "stream",
          "text": [
            "INFO:tensorflow:global step 51: loss = 0.0052 (0.034 sec/step)\n"
          ],
          "name": "stdout"
        },
        {
          "output_type": "stream",
          "text": [
            "I1007 10:11:47.601762 140316417697664 learning.py:507] global step 51: loss = 0.0052 (0.034 sec/step)\n"
          ],
          "name": "stderr"
        },
        {
          "output_type": "stream",
          "text": [
            "INFO:tensorflow:global step 52: loss = 0.0051 (0.033 sec/step)\n"
          ],
          "name": "stdout"
        },
        {
          "output_type": "stream",
          "text": [
            "I1007 10:11:47.639584 140316417697664 learning.py:507] global step 52: loss = 0.0051 (0.033 sec/step)\n"
          ],
          "name": "stderr"
        },
        {
          "output_type": "stream",
          "text": [
            "INFO:tensorflow:global step 53: loss = 0.0052 (0.039 sec/step)\n"
          ],
          "name": "stdout"
        },
        {
          "output_type": "stream",
          "text": [
            "I1007 10:11:47.683437 140316417697664 learning.py:507] global step 53: loss = 0.0052 (0.039 sec/step)\n"
          ],
          "name": "stderr"
        },
        {
          "output_type": "stream",
          "text": [
            "INFO:tensorflow:global step 54: loss = 0.0048 (0.035 sec/step)\n"
          ],
          "name": "stdout"
        },
        {
          "output_type": "stream",
          "text": [
            "I1007 10:11:47.722941 140316417697664 learning.py:507] global step 54: loss = 0.0048 (0.035 sec/step)\n"
          ],
          "name": "stderr"
        },
        {
          "output_type": "stream",
          "text": [
            "INFO:tensorflow:global step 55: loss = 0.0046 (0.031 sec/step)\n"
          ],
          "name": "stdout"
        },
        {
          "output_type": "stream",
          "text": [
            "I1007 10:11:47.760313 140316417697664 learning.py:507] global step 55: loss = 0.0046 (0.031 sec/step)\n"
          ],
          "name": "stderr"
        },
        {
          "output_type": "stream",
          "text": [
            "INFO:tensorflow:global step 56: loss = 0.0051 (0.032 sec/step)\n"
          ],
          "name": "stdout"
        },
        {
          "output_type": "stream",
          "text": [
            "I1007 10:11:47.798012 140316417697664 learning.py:507] global step 56: loss = 0.0051 (0.032 sec/step)\n"
          ],
          "name": "stderr"
        },
        {
          "output_type": "stream",
          "text": [
            "INFO:tensorflow:global step 57: loss = 0.0051 (0.033 sec/step)\n"
          ],
          "name": "stdout"
        },
        {
          "output_type": "stream",
          "text": [
            "I1007 10:11:47.837324 140316417697664 learning.py:507] global step 57: loss = 0.0051 (0.033 sec/step)\n"
          ],
          "name": "stderr"
        },
        {
          "output_type": "stream",
          "text": [
            "INFO:tensorflow:global step 58: loss = 0.0048 (0.031 sec/step)\n"
          ],
          "name": "stdout"
        },
        {
          "output_type": "stream",
          "text": [
            "I1007 10:11:47.875182 140316417697664 learning.py:507] global step 58: loss = 0.0048 (0.031 sec/step)\n"
          ],
          "name": "stderr"
        },
        {
          "output_type": "stream",
          "text": [
            "INFO:tensorflow:global step 59: loss = 0.0047 (0.032 sec/step)\n"
          ],
          "name": "stdout"
        },
        {
          "output_type": "stream",
          "text": [
            "I1007 10:11:47.912108 140316417697664 learning.py:507] global step 59: loss = 0.0047 (0.032 sec/step)\n"
          ],
          "name": "stderr"
        },
        {
          "output_type": "stream",
          "text": [
            "INFO:tensorflow:global step 60: loss = 0.0049 (0.033 sec/step)\n"
          ],
          "name": "stdout"
        },
        {
          "output_type": "stream",
          "text": [
            "I1007 10:11:47.952459 140316417697664 learning.py:507] global step 60: loss = 0.0049 (0.033 sec/step)\n"
          ],
          "name": "stderr"
        },
        {
          "output_type": "stream",
          "text": [
            "INFO:tensorflow:global step 61: loss = 0.0046 (0.032 sec/step)\n"
          ],
          "name": "stdout"
        },
        {
          "output_type": "stream",
          "text": [
            "I1007 10:11:47.991574 140316417697664 learning.py:507] global step 61: loss = 0.0046 (0.032 sec/step)\n"
          ],
          "name": "stderr"
        },
        {
          "output_type": "stream",
          "text": [
            "INFO:tensorflow:global step 62: loss = 0.0044 (0.035 sec/step)\n"
          ],
          "name": "stdout"
        },
        {
          "output_type": "stream",
          "text": [
            "I1007 10:11:48.032156 140316417697664 learning.py:507] global step 62: loss = 0.0044 (0.035 sec/step)\n"
          ],
          "name": "stderr"
        },
        {
          "output_type": "stream",
          "text": [
            "INFO:tensorflow:global step 63: loss = 0.0044 (0.032 sec/step)\n"
          ],
          "name": "stdout"
        },
        {
          "output_type": "stream",
          "text": [
            "I1007 10:11:48.070277 140316417697664 learning.py:507] global step 63: loss = 0.0044 (0.032 sec/step)\n"
          ],
          "name": "stderr"
        },
        {
          "output_type": "stream",
          "text": [
            "INFO:tensorflow:global step 64: loss = 0.0044 (0.034 sec/step)\n"
          ],
          "name": "stdout"
        },
        {
          "output_type": "stream",
          "text": [
            "I1007 10:11:48.108727 140316417697664 learning.py:507] global step 64: loss = 0.0044 (0.034 sec/step)\n"
          ],
          "name": "stderr"
        },
        {
          "output_type": "stream",
          "text": [
            "INFO:tensorflow:global step 65: loss = 0.0046 (0.035 sec/step)\n"
          ],
          "name": "stdout"
        },
        {
          "output_type": "stream",
          "text": [
            "I1007 10:11:48.148170 140316417697664 learning.py:507] global step 65: loss = 0.0046 (0.035 sec/step)\n"
          ],
          "name": "stderr"
        },
        {
          "output_type": "stream",
          "text": [
            "INFO:tensorflow:global step 66: loss = 0.0042 (0.034 sec/step)\n"
          ],
          "name": "stdout"
        },
        {
          "output_type": "stream",
          "text": [
            "I1007 10:11:48.186206 140316417697664 learning.py:507] global step 66: loss = 0.0042 (0.034 sec/step)\n"
          ],
          "name": "stderr"
        },
        {
          "output_type": "stream",
          "text": [
            "INFO:tensorflow:global step 67: loss = 0.0042 (0.033 sec/step)\n"
          ],
          "name": "stdout"
        },
        {
          "output_type": "stream",
          "text": [
            "I1007 10:11:48.226035 140316417697664 learning.py:507] global step 67: loss = 0.0042 (0.033 sec/step)\n"
          ],
          "name": "stderr"
        },
        {
          "output_type": "stream",
          "text": [
            "INFO:tensorflow:global step 68: loss = 0.0043 (0.036 sec/step)\n"
          ],
          "name": "stdout"
        },
        {
          "output_type": "stream",
          "text": [
            "I1007 10:11:48.265073 140316417697664 learning.py:507] global step 68: loss = 0.0043 (0.036 sec/step)\n"
          ],
          "name": "stderr"
        },
        {
          "output_type": "stream",
          "text": [
            "INFO:tensorflow:global step 69: loss = 0.0043 (0.034 sec/step)\n"
          ],
          "name": "stdout"
        },
        {
          "output_type": "stream",
          "text": [
            "I1007 10:11:48.303074 140316417697664 learning.py:507] global step 69: loss = 0.0043 (0.034 sec/step)\n"
          ],
          "name": "stderr"
        },
        {
          "output_type": "stream",
          "text": [
            "INFO:tensorflow:global step 70: loss = 0.0043 (0.036 sec/step)\n"
          ],
          "name": "stdout"
        },
        {
          "output_type": "stream",
          "text": [
            "I1007 10:11:48.342912 140316417697664 learning.py:507] global step 70: loss = 0.0043 (0.036 sec/step)\n"
          ],
          "name": "stderr"
        },
        {
          "output_type": "stream",
          "text": [
            "INFO:tensorflow:global step 71: loss = 0.0039 (0.034 sec/step)\n"
          ],
          "name": "stdout"
        },
        {
          "output_type": "stream",
          "text": [
            "I1007 10:11:48.379838 140316417697664 learning.py:507] global step 71: loss = 0.0039 (0.034 sec/step)\n"
          ],
          "name": "stderr"
        },
        {
          "output_type": "stream",
          "text": [
            "INFO:tensorflow:global step 72: loss = 0.0040 (0.035 sec/step)\n"
          ],
          "name": "stdout"
        },
        {
          "output_type": "stream",
          "text": [
            "I1007 10:11:48.418099 140316417697664 learning.py:507] global step 72: loss = 0.0040 (0.035 sec/step)\n"
          ],
          "name": "stderr"
        },
        {
          "output_type": "stream",
          "text": [
            "INFO:tensorflow:global step 73: loss = 0.0042 (0.033 sec/step)\n"
          ],
          "name": "stdout"
        },
        {
          "output_type": "stream",
          "text": [
            "I1007 10:11:48.457033 140316417697664 learning.py:507] global step 73: loss = 0.0042 (0.033 sec/step)\n"
          ],
          "name": "stderr"
        },
        {
          "output_type": "stream",
          "text": [
            "INFO:tensorflow:global step 74: loss = 0.0044 (0.032 sec/step)\n"
          ],
          "name": "stdout"
        },
        {
          "output_type": "stream",
          "text": [
            "I1007 10:11:48.496020 140316417697664 learning.py:507] global step 74: loss = 0.0044 (0.032 sec/step)\n"
          ],
          "name": "stderr"
        },
        {
          "output_type": "stream",
          "text": [
            "INFO:tensorflow:global step 75: loss = 0.0039 (0.036 sec/step)\n"
          ],
          "name": "stdout"
        },
        {
          "output_type": "stream",
          "text": [
            "I1007 10:11:48.534687 140316417697664 learning.py:507] global step 75: loss = 0.0039 (0.036 sec/step)\n"
          ],
          "name": "stderr"
        },
        {
          "output_type": "stream",
          "text": [
            "INFO:tensorflow:global step 76: loss = 0.0040 (0.032 sec/step)\n"
          ],
          "name": "stdout"
        },
        {
          "output_type": "stream",
          "text": [
            "I1007 10:11:48.574262 140316417697664 learning.py:507] global step 76: loss = 0.0040 (0.032 sec/step)\n"
          ],
          "name": "stderr"
        },
        {
          "output_type": "stream",
          "text": [
            "INFO:tensorflow:global step 77: loss = 0.0038 (0.034 sec/step)\n"
          ],
          "name": "stdout"
        },
        {
          "output_type": "stream",
          "text": [
            "I1007 10:11:48.611882 140316417697664 learning.py:507] global step 77: loss = 0.0038 (0.034 sec/step)\n"
          ],
          "name": "stderr"
        },
        {
          "output_type": "stream",
          "text": [
            "INFO:tensorflow:global step 78: loss = 0.0039 (0.031 sec/step)\n"
          ],
          "name": "stdout"
        },
        {
          "output_type": "stream",
          "text": [
            "I1007 10:11:48.649564 140316417697664 learning.py:507] global step 78: loss = 0.0039 (0.031 sec/step)\n"
          ],
          "name": "stderr"
        },
        {
          "output_type": "stream",
          "text": [
            "INFO:tensorflow:global step 79: loss = 0.0038 (0.038 sec/step)\n"
          ],
          "name": "stdout"
        },
        {
          "output_type": "stream",
          "text": [
            "I1007 10:11:48.694494 140316417697664 learning.py:507] global step 79: loss = 0.0038 (0.038 sec/step)\n"
          ],
          "name": "stderr"
        },
        {
          "output_type": "stream",
          "text": [
            "INFO:tensorflow:global step 80: loss = 0.0036 (0.040 sec/step)\n"
          ],
          "name": "stdout"
        },
        {
          "output_type": "stream",
          "text": [
            "I1007 10:11:48.740255 140316417697664 learning.py:507] global step 80: loss = 0.0036 (0.040 sec/step)\n"
          ],
          "name": "stderr"
        },
        {
          "output_type": "stream",
          "text": [
            "INFO:tensorflow:global step 81: loss = 0.0037 (0.035 sec/step)\n"
          ],
          "name": "stdout"
        },
        {
          "output_type": "stream",
          "text": [
            "I1007 10:11:48.778825 140316417697664 learning.py:507] global step 81: loss = 0.0037 (0.035 sec/step)\n"
          ],
          "name": "stderr"
        },
        {
          "output_type": "stream",
          "text": [
            "INFO:tensorflow:global step 82: loss = 0.0037 (0.034 sec/step)\n"
          ],
          "name": "stdout"
        },
        {
          "output_type": "stream",
          "text": [
            "I1007 10:11:48.817078 140316417697664 learning.py:507] global step 82: loss = 0.0037 (0.034 sec/step)\n"
          ],
          "name": "stderr"
        },
        {
          "output_type": "stream",
          "text": [
            "INFO:tensorflow:global step 83: loss = 0.0036 (0.033 sec/step)\n"
          ],
          "name": "stdout"
        },
        {
          "output_type": "stream",
          "text": [
            "I1007 10:11:48.855931 140316417697664 learning.py:507] global step 83: loss = 0.0036 (0.033 sec/step)\n"
          ],
          "name": "stderr"
        },
        {
          "output_type": "stream",
          "text": [
            "INFO:tensorflow:global step 84: loss = 0.0034 (0.035 sec/step)\n"
          ],
          "name": "stdout"
        },
        {
          "output_type": "stream",
          "text": [
            "I1007 10:11:48.894700 140316417697664 learning.py:507] global step 84: loss = 0.0034 (0.035 sec/step)\n"
          ],
          "name": "stderr"
        },
        {
          "output_type": "stream",
          "text": [
            "INFO:tensorflow:global step 85: loss = 0.0034 (0.035 sec/step)\n"
          ],
          "name": "stdout"
        },
        {
          "output_type": "stream",
          "text": [
            "I1007 10:11:48.932918 140316417697664 learning.py:507] global step 85: loss = 0.0034 (0.035 sec/step)\n"
          ],
          "name": "stderr"
        },
        {
          "output_type": "stream",
          "text": [
            "INFO:tensorflow:global step 86: loss = 0.0033 (0.036 sec/step)\n"
          ],
          "name": "stdout"
        },
        {
          "output_type": "stream",
          "text": [
            "I1007 10:11:48.972165 140316417697664 learning.py:507] global step 86: loss = 0.0033 (0.036 sec/step)\n"
          ],
          "name": "stderr"
        },
        {
          "output_type": "stream",
          "text": [
            "INFO:tensorflow:global step 87: loss = 0.0034 (0.034 sec/step)\n"
          ],
          "name": "stdout"
        },
        {
          "output_type": "stream",
          "text": [
            "I1007 10:11:49.012803 140316417697664 learning.py:507] global step 87: loss = 0.0034 (0.034 sec/step)\n"
          ],
          "name": "stderr"
        },
        {
          "output_type": "stream",
          "text": [
            "INFO:tensorflow:global step 88: loss = 0.0034 (0.034 sec/step)\n"
          ],
          "name": "stdout"
        },
        {
          "output_type": "stream",
          "text": [
            "I1007 10:11:49.051375 140316417697664 learning.py:507] global step 88: loss = 0.0034 (0.034 sec/step)\n"
          ],
          "name": "stderr"
        },
        {
          "output_type": "stream",
          "text": [
            "INFO:tensorflow:global step 89: loss = 0.0031 (0.034 sec/step)\n"
          ],
          "name": "stdout"
        },
        {
          "output_type": "stream",
          "text": [
            "I1007 10:11:49.092218 140316417697664 learning.py:507] global step 89: loss = 0.0031 (0.034 sec/step)\n"
          ],
          "name": "stderr"
        },
        {
          "output_type": "stream",
          "text": [
            "INFO:tensorflow:global step 90: loss = 0.0033 (0.035 sec/step)\n"
          ],
          "name": "stdout"
        },
        {
          "output_type": "stream",
          "text": [
            "I1007 10:11:49.134348 140316417697664 learning.py:507] global step 90: loss = 0.0033 (0.035 sec/step)\n"
          ],
          "name": "stderr"
        },
        {
          "output_type": "stream",
          "text": [
            "INFO:tensorflow:global step 91: loss = 0.0030 (0.036 sec/step)\n"
          ],
          "name": "stdout"
        },
        {
          "output_type": "stream",
          "text": [
            "I1007 10:11:49.174998 140316417697664 learning.py:507] global step 91: loss = 0.0030 (0.036 sec/step)\n"
          ],
          "name": "stderr"
        },
        {
          "output_type": "stream",
          "text": [
            "INFO:tensorflow:global step 92: loss = 0.0032 (0.034 sec/step)\n"
          ],
          "name": "stdout"
        },
        {
          "output_type": "stream",
          "text": [
            "I1007 10:11:49.214782 140316417697664 learning.py:507] global step 92: loss = 0.0032 (0.034 sec/step)\n"
          ],
          "name": "stderr"
        },
        {
          "output_type": "stream",
          "text": [
            "INFO:tensorflow:global step 93: loss = 0.0032 (0.032 sec/step)\n"
          ],
          "name": "stdout"
        },
        {
          "output_type": "stream",
          "text": [
            "I1007 10:11:49.254664 140316417697664 learning.py:507] global step 93: loss = 0.0032 (0.032 sec/step)\n"
          ],
          "name": "stderr"
        },
        {
          "output_type": "stream",
          "text": [
            "INFO:tensorflow:global step 94: loss = 0.0031 (0.033 sec/step)\n"
          ],
          "name": "stdout"
        },
        {
          "output_type": "stream",
          "text": [
            "I1007 10:11:49.292763 140316417697664 learning.py:507] global step 94: loss = 0.0031 (0.033 sec/step)\n"
          ],
          "name": "stderr"
        },
        {
          "output_type": "stream",
          "text": [
            "INFO:tensorflow:global step 95: loss = 0.0031 (0.032 sec/step)\n"
          ],
          "name": "stdout"
        },
        {
          "output_type": "stream",
          "text": [
            "I1007 10:11:49.331261 140316417697664 learning.py:507] global step 95: loss = 0.0031 (0.032 sec/step)\n"
          ],
          "name": "stderr"
        },
        {
          "output_type": "stream",
          "text": [
            "INFO:tensorflow:global step 96: loss = 0.0031 (0.035 sec/step)\n"
          ],
          "name": "stdout"
        },
        {
          "output_type": "stream",
          "text": [
            "I1007 10:11:49.373062 140316417697664 learning.py:507] global step 96: loss = 0.0031 (0.035 sec/step)\n"
          ],
          "name": "stderr"
        },
        {
          "output_type": "stream",
          "text": [
            "INFO:tensorflow:global step 97: loss = 0.0030 (0.035 sec/step)\n"
          ],
          "name": "stdout"
        },
        {
          "output_type": "stream",
          "text": [
            "I1007 10:11:49.412085 140316417697664 learning.py:507] global step 97: loss = 0.0030 (0.035 sec/step)\n"
          ],
          "name": "stderr"
        },
        {
          "output_type": "stream",
          "text": [
            "INFO:tensorflow:global step 98: loss = 0.0031 (0.037 sec/step)\n"
          ],
          "name": "stdout"
        },
        {
          "output_type": "stream",
          "text": [
            "I1007 10:11:49.451902 140316417697664 learning.py:507] global step 98: loss = 0.0031 (0.037 sec/step)\n"
          ],
          "name": "stderr"
        },
        {
          "output_type": "stream",
          "text": [
            "INFO:tensorflow:global step 99: loss = 0.0029 (0.034 sec/step)\n"
          ],
          "name": "stdout"
        },
        {
          "output_type": "stream",
          "text": [
            "I1007 10:11:49.491446 140316417697664 learning.py:507] global step 99: loss = 0.0029 (0.034 sec/step)\n"
          ],
          "name": "stderr"
        },
        {
          "output_type": "stream",
          "text": [
            "INFO:tensorflow:global step 100: loss = 0.0029 (0.034 sec/step)\n"
          ],
          "name": "stdout"
        },
        {
          "output_type": "stream",
          "text": [
            "I1007 10:11:49.530071 140316417697664 learning.py:507] global step 100: loss = 0.0029 (0.034 sec/step)\n"
          ],
          "name": "stderr"
        },
        {
          "output_type": "stream",
          "text": [
            "INFO:tensorflow:global step 101: loss = 0.0030 (0.036 sec/step)\n"
          ],
          "name": "stdout"
        },
        {
          "output_type": "stream",
          "text": [
            "I1007 10:11:49.569681 140316417697664 learning.py:507] global step 101: loss = 0.0030 (0.036 sec/step)\n"
          ],
          "name": "stderr"
        },
        {
          "output_type": "stream",
          "text": [
            "INFO:tensorflow:global step 102: loss = 0.0029 (0.032 sec/step)\n"
          ],
          "name": "stdout"
        },
        {
          "output_type": "stream",
          "text": [
            "I1007 10:11:49.608820 140316417697664 learning.py:507] global step 102: loss = 0.0029 (0.032 sec/step)\n"
          ],
          "name": "stderr"
        },
        {
          "output_type": "stream",
          "text": [
            "INFO:tensorflow:global step 103: loss = 0.0031 (0.031 sec/step)\n"
          ],
          "name": "stdout"
        },
        {
          "output_type": "stream",
          "text": [
            "I1007 10:11:49.649347 140316417697664 learning.py:507] global step 103: loss = 0.0031 (0.031 sec/step)\n"
          ],
          "name": "stderr"
        },
        {
          "output_type": "stream",
          "text": [
            "INFO:tensorflow:global step 104: loss = 0.0030 (0.037 sec/step)\n"
          ],
          "name": "stdout"
        },
        {
          "output_type": "stream",
          "text": [
            "I1007 10:11:49.690293 140316417697664 learning.py:507] global step 104: loss = 0.0030 (0.037 sec/step)\n"
          ],
          "name": "stderr"
        },
        {
          "output_type": "stream",
          "text": [
            "INFO:tensorflow:global step 105: loss = 0.0028 (0.034 sec/step)\n"
          ],
          "name": "stdout"
        },
        {
          "output_type": "stream",
          "text": [
            "I1007 10:11:49.730018 140316417697664 learning.py:507] global step 105: loss = 0.0028 (0.034 sec/step)\n"
          ],
          "name": "stderr"
        },
        {
          "output_type": "stream",
          "text": [
            "INFO:tensorflow:global step 106: loss = 0.0028 (0.032 sec/step)\n"
          ],
          "name": "stdout"
        },
        {
          "output_type": "stream",
          "text": [
            "I1007 10:11:49.768997 140316417697664 learning.py:507] global step 106: loss = 0.0028 (0.032 sec/step)\n"
          ],
          "name": "stderr"
        },
        {
          "output_type": "stream",
          "text": [
            "INFO:tensorflow:global step 107: loss = 0.0026 (0.032 sec/step)\n"
          ],
          "name": "stdout"
        },
        {
          "output_type": "stream",
          "text": [
            "I1007 10:11:49.808016 140316417697664 learning.py:507] global step 107: loss = 0.0026 (0.032 sec/step)\n"
          ],
          "name": "stderr"
        },
        {
          "output_type": "stream",
          "text": [
            "INFO:tensorflow:global step 108: loss = 0.0027 (0.034 sec/step)\n"
          ],
          "name": "stdout"
        },
        {
          "output_type": "stream",
          "text": [
            "I1007 10:11:49.849510 140316417697664 learning.py:507] global step 108: loss = 0.0027 (0.034 sec/step)\n"
          ],
          "name": "stderr"
        },
        {
          "output_type": "stream",
          "text": [
            "INFO:tensorflow:global step 109: loss = 0.0028 (0.035 sec/step)\n"
          ],
          "name": "stdout"
        },
        {
          "output_type": "stream",
          "text": [
            "I1007 10:11:49.889224 140316417697664 learning.py:507] global step 109: loss = 0.0028 (0.035 sec/step)\n"
          ],
          "name": "stderr"
        },
        {
          "output_type": "stream",
          "text": [
            "INFO:tensorflow:global step 110: loss = 0.0027 (0.033 sec/step)\n"
          ],
          "name": "stdout"
        },
        {
          "output_type": "stream",
          "text": [
            "I1007 10:11:49.928941 140316417697664 learning.py:507] global step 110: loss = 0.0027 (0.033 sec/step)\n"
          ],
          "name": "stderr"
        },
        {
          "output_type": "stream",
          "text": [
            "INFO:tensorflow:global step 111: loss = 0.0025 (0.034 sec/step)\n"
          ],
          "name": "stdout"
        },
        {
          "output_type": "stream",
          "text": [
            "I1007 10:11:49.969752 140316417697664 learning.py:507] global step 111: loss = 0.0025 (0.034 sec/step)\n"
          ],
          "name": "stderr"
        },
        {
          "output_type": "stream",
          "text": [
            "INFO:tensorflow:global step 112: loss = 0.0026 (0.033 sec/step)\n"
          ],
          "name": "stdout"
        },
        {
          "output_type": "stream",
          "text": [
            "I1007 10:11:50.008018 140316417697664 learning.py:507] global step 112: loss = 0.0026 (0.033 sec/step)\n"
          ],
          "name": "stderr"
        },
        {
          "output_type": "stream",
          "text": [
            "INFO:tensorflow:global step 113: loss = 0.0025 (0.033 sec/step)\n"
          ],
          "name": "stdout"
        },
        {
          "output_type": "stream",
          "text": [
            "I1007 10:11:50.046270 140316417697664 learning.py:507] global step 113: loss = 0.0025 (0.033 sec/step)\n"
          ],
          "name": "stderr"
        },
        {
          "output_type": "stream",
          "text": [
            "INFO:tensorflow:global step 114: loss = 0.0026 (0.034 sec/step)\n"
          ],
          "name": "stdout"
        },
        {
          "output_type": "stream",
          "text": [
            "I1007 10:11:50.083791 140316417697664 learning.py:507] global step 114: loss = 0.0026 (0.034 sec/step)\n"
          ],
          "name": "stderr"
        },
        {
          "output_type": "stream",
          "text": [
            "INFO:tensorflow:global step 115: loss = 0.0025 (0.036 sec/step)\n"
          ],
          "name": "stdout"
        },
        {
          "output_type": "stream",
          "text": [
            "I1007 10:11:50.123415 140316417697664 learning.py:507] global step 115: loss = 0.0025 (0.036 sec/step)\n"
          ],
          "name": "stderr"
        },
        {
          "output_type": "stream",
          "text": [
            "INFO:tensorflow:global step 116: loss = 0.0025 (0.033 sec/step)\n"
          ],
          "name": "stdout"
        },
        {
          "output_type": "stream",
          "text": [
            "I1007 10:11:50.161171 140316417697664 learning.py:507] global step 116: loss = 0.0025 (0.033 sec/step)\n"
          ],
          "name": "stderr"
        },
        {
          "output_type": "stream",
          "text": [
            "INFO:tensorflow:global step 117: loss = 0.0027 (0.034 sec/step)\n"
          ],
          "name": "stdout"
        },
        {
          "output_type": "stream",
          "text": [
            "I1007 10:11:50.201990 140316417697664 learning.py:507] global step 117: loss = 0.0027 (0.034 sec/step)\n"
          ],
          "name": "stderr"
        },
        {
          "output_type": "stream",
          "text": [
            "INFO:tensorflow:global step 118: loss = 0.0026 (0.037 sec/step)\n"
          ],
          "name": "stdout"
        },
        {
          "output_type": "stream",
          "text": [
            "I1007 10:11:50.242743 140316417697664 learning.py:507] global step 118: loss = 0.0026 (0.037 sec/step)\n"
          ],
          "name": "stderr"
        },
        {
          "output_type": "stream",
          "text": [
            "INFO:tensorflow:global step 119: loss = 0.0023 (0.035 sec/step)\n"
          ],
          "name": "stdout"
        },
        {
          "output_type": "stream",
          "text": [
            "I1007 10:11:50.280963 140316417697664 learning.py:507] global step 119: loss = 0.0023 (0.035 sec/step)\n"
          ],
          "name": "stderr"
        },
        {
          "output_type": "stream",
          "text": [
            "INFO:tensorflow:global step 120: loss = 0.0029 (0.036 sec/step)\n"
          ],
          "name": "stdout"
        },
        {
          "output_type": "stream",
          "text": [
            "I1007 10:11:50.322015 140316417697664 learning.py:507] global step 120: loss = 0.0029 (0.036 sec/step)\n"
          ],
          "name": "stderr"
        },
        {
          "output_type": "stream",
          "text": [
            "INFO:tensorflow:global step 121: loss = 0.0024 (0.035 sec/step)\n"
          ],
          "name": "stdout"
        },
        {
          "output_type": "stream",
          "text": [
            "I1007 10:11:50.362873 140316417697664 learning.py:507] global step 121: loss = 0.0024 (0.035 sec/step)\n"
          ],
          "name": "stderr"
        },
        {
          "output_type": "stream",
          "text": [
            "INFO:tensorflow:global step 122: loss = 0.0025 (0.034 sec/step)\n"
          ],
          "name": "stdout"
        },
        {
          "output_type": "stream",
          "text": [
            "I1007 10:11:50.400253 140316417697664 learning.py:507] global step 122: loss = 0.0025 (0.034 sec/step)\n"
          ],
          "name": "stderr"
        },
        {
          "output_type": "stream",
          "text": [
            "INFO:tensorflow:global step 123: loss = 0.0025 (0.034 sec/step)\n"
          ],
          "name": "stdout"
        },
        {
          "output_type": "stream",
          "text": [
            "I1007 10:11:50.438082 140316417697664 learning.py:507] global step 123: loss = 0.0025 (0.034 sec/step)\n"
          ],
          "name": "stderr"
        },
        {
          "output_type": "stream",
          "text": [
            "INFO:tensorflow:global step 124: loss = 0.0022 (0.033 sec/step)\n"
          ],
          "name": "stdout"
        },
        {
          "output_type": "stream",
          "text": [
            "I1007 10:11:50.478135 140316417697664 learning.py:507] global step 124: loss = 0.0022 (0.033 sec/step)\n"
          ],
          "name": "stderr"
        },
        {
          "output_type": "stream",
          "text": [
            "INFO:tensorflow:global step 125: loss = 0.0024 (0.035 sec/step)\n"
          ],
          "name": "stdout"
        },
        {
          "output_type": "stream",
          "text": [
            "I1007 10:11:50.517659 140316417697664 learning.py:507] global step 125: loss = 0.0024 (0.035 sec/step)\n"
          ],
          "name": "stderr"
        },
        {
          "output_type": "stream",
          "text": [
            "INFO:tensorflow:global step 126: loss = 0.0026 (0.032 sec/step)\n"
          ],
          "name": "stdout"
        },
        {
          "output_type": "stream",
          "text": [
            "I1007 10:11:50.556266 140316417697664 learning.py:507] global step 126: loss = 0.0026 (0.032 sec/step)\n"
          ],
          "name": "stderr"
        },
        {
          "output_type": "stream",
          "text": [
            "INFO:tensorflow:global step 127: loss = 0.0021 (0.034 sec/step)\n"
          ],
          "name": "stdout"
        },
        {
          "output_type": "stream",
          "text": [
            "I1007 10:11:50.593343 140316417697664 learning.py:507] global step 127: loss = 0.0021 (0.034 sec/step)\n"
          ],
          "name": "stderr"
        },
        {
          "output_type": "stream",
          "text": [
            "INFO:tensorflow:global step 128: loss = 0.0023 (0.035 sec/step)\n"
          ],
          "name": "stdout"
        },
        {
          "output_type": "stream",
          "text": [
            "I1007 10:11:50.632080 140316417697664 learning.py:507] global step 128: loss = 0.0023 (0.035 sec/step)\n"
          ],
          "name": "stderr"
        },
        {
          "output_type": "stream",
          "text": [
            "INFO:tensorflow:global step 129: loss = 0.0023 (0.034 sec/step)\n"
          ],
          "name": "stdout"
        },
        {
          "output_type": "stream",
          "text": [
            "I1007 10:11:50.672303 140316417697664 learning.py:507] global step 129: loss = 0.0023 (0.034 sec/step)\n"
          ],
          "name": "stderr"
        },
        {
          "output_type": "stream",
          "text": [
            "INFO:tensorflow:global step 130: loss = 0.0023 (0.040 sec/step)\n"
          ],
          "name": "stdout"
        },
        {
          "output_type": "stream",
          "text": [
            "I1007 10:11:50.719620 140316417697664 learning.py:507] global step 130: loss = 0.0023 (0.040 sec/step)\n"
          ],
          "name": "stderr"
        },
        {
          "output_type": "stream",
          "text": [
            "INFO:tensorflow:global step 131: loss = 0.0024 (0.036 sec/step)\n"
          ],
          "name": "stdout"
        },
        {
          "output_type": "stream",
          "text": [
            "I1007 10:11:50.759653 140316417697664 learning.py:507] global step 131: loss = 0.0024 (0.036 sec/step)\n"
          ],
          "name": "stderr"
        },
        {
          "output_type": "stream",
          "text": [
            "INFO:tensorflow:global step 132: loss = 0.0023 (0.034 sec/step)\n"
          ],
          "name": "stdout"
        },
        {
          "output_type": "stream",
          "text": [
            "I1007 10:11:50.797583 140316417697664 learning.py:507] global step 132: loss = 0.0023 (0.034 sec/step)\n"
          ],
          "name": "stderr"
        },
        {
          "output_type": "stream",
          "text": [
            "INFO:tensorflow:global step 133: loss = 0.0025 (0.037 sec/step)\n"
          ],
          "name": "stdout"
        },
        {
          "output_type": "stream",
          "text": [
            "I1007 10:11:50.837812 140316417697664 learning.py:507] global step 133: loss = 0.0025 (0.037 sec/step)\n"
          ],
          "name": "stderr"
        },
        {
          "output_type": "stream",
          "text": [
            "INFO:tensorflow:global step 134: loss = 0.0022 (0.035 sec/step)\n"
          ],
          "name": "stdout"
        },
        {
          "output_type": "stream",
          "text": [
            "I1007 10:11:50.878088 140316417697664 learning.py:507] global step 134: loss = 0.0022 (0.035 sec/step)\n"
          ],
          "name": "stderr"
        },
        {
          "output_type": "stream",
          "text": [
            "INFO:tensorflow:global step 135: loss = 0.0024 (0.032 sec/step)\n"
          ],
          "name": "stdout"
        },
        {
          "output_type": "stream",
          "text": [
            "I1007 10:11:50.917115 140316417697664 learning.py:507] global step 135: loss = 0.0024 (0.032 sec/step)\n"
          ],
          "name": "stderr"
        },
        {
          "output_type": "stream",
          "text": [
            "INFO:tensorflow:global step 136: loss = 0.0023 (0.038 sec/step)\n"
          ],
          "name": "stdout"
        },
        {
          "output_type": "stream",
          "text": [
            "I1007 10:11:50.958132 140316417697664 learning.py:507] global step 136: loss = 0.0023 (0.038 sec/step)\n"
          ],
          "name": "stderr"
        },
        {
          "output_type": "stream",
          "text": [
            "INFO:tensorflow:global step 137: loss = 0.0021 (0.033 sec/step)\n"
          ],
          "name": "stdout"
        },
        {
          "output_type": "stream",
          "text": [
            "I1007 10:11:50.996616 140316417697664 learning.py:507] global step 137: loss = 0.0021 (0.033 sec/step)\n"
          ],
          "name": "stderr"
        },
        {
          "output_type": "stream",
          "text": [
            "INFO:tensorflow:global step 138: loss = 0.0021 (0.036 sec/step)\n"
          ],
          "name": "stdout"
        },
        {
          "output_type": "stream",
          "text": [
            "I1007 10:11:51.035810 140316417697664 learning.py:507] global step 138: loss = 0.0021 (0.036 sec/step)\n"
          ],
          "name": "stderr"
        },
        {
          "output_type": "stream",
          "text": [
            "INFO:tensorflow:global step 139: loss = 0.0023 (0.042 sec/step)\n"
          ],
          "name": "stdout"
        },
        {
          "output_type": "stream",
          "text": [
            "I1007 10:11:51.081270 140316417697664 learning.py:507] global step 139: loss = 0.0023 (0.042 sec/step)\n"
          ],
          "name": "stderr"
        },
        {
          "output_type": "stream",
          "text": [
            "INFO:tensorflow:global step 140: loss = 0.0022 (0.040 sec/step)\n"
          ],
          "name": "stdout"
        },
        {
          "output_type": "stream",
          "text": [
            "I1007 10:11:51.123709 140316417697664 learning.py:507] global step 140: loss = 0.0022 (0.040 sec/step)\n"
          ],
          "name": "stderr"
        },
        {
          "output_type": "stream",
          "text": [
            "INFO:tensorflow:global step 141: loss = 0.0023 (0.034 sec/step)\n"
          ],
          "name": "stdout"
        },
        {
          "output_type": "stream",
          "text": [
            "I1007 10:11:51.160866 140316417697664 learning.py:507] global step 141: loss = 0.0023 (0.034 sec/step)\n"
          ],
          "name": "stderr"
        },
        {
          "output_type": "stream",
          "text": [
            "INFO:tensorflow:global step 142: loss = 0.0025 (0.034 sec/step)\n"
          ],
          "name": "stdout"
        },
        {
          "output_type": "stream",
          "text": [
            "I1007 10:11:51.201044 140316417697664 learning.py:507] global step 142: loss = 0.0025 (0.034 sec/step)\n"
          ],
          "name": "stderr"
        },
        {
          "output_type": "stream",
          "text": [
            "INFO:tensorflow:global step 143: loss = 0.0023 (0.032 sec/step)\n"
          ],
          "name": "stdout"
        },
        {
          "output_type": "stream",
          "text": [
            "I1007 10:11:51.240779 140316417697664 learning.py:507] global step 143: loss = 0.0023 (0.032 sec/step)\n"
          ],
          "name": "stderr"
        },
        {
          "output_type": "stream",
          "text": [
            "INFO:tensorflow:global step 144: loss = 0.0021 (0.034 sec/step)\n"
          ],
          "name": "stdout"
        },
        {
          "output_type": "stream",
          "text": [
            "I1007 10:11:51.278945 140316417697664 learning.py:507] global step 144: loss = 0.0021 (0.034 sec/step)\n"
          ],
          "name": "stderr"
        },
        {
          "output_type": "stream",
          "text": [
            "INFO:tensorflow:global step 145: loss = 0.0023 (0.036 sec/step)\n"
          ],
          "name": "stdout"
        },
        {
          "output_type": "stream",
          "text": [
            "I1007 10:11:51.318670 140316417697664 learning.py:507] global step 145: loss = 0.0023 (0.036 sec/step)\n"
          ],
          "name": "stderr"
        },
        {
          "output_type": "stream",
          "text": [
            "INFO:tensorflow:global step 146: loss = 0.0021 (0.033 sec/step)\n"
          ],
          "name": "stdout"
        },
        {
          "output_type": "stream",
          "text": [
            "I1007 10:11:51.359127 140316417697664 learning.py:507] global step 146: loss = 0.0021 (0.033 sec/step)\n"
          ],
          "name": "stderr"
        },
        {
          "output_type": "stream",
          "text": [
            "INFO:tensorflow:global step 147: loss = 0.0022 (0.035 sec/step)\n"
          ],
          "name": "stdout"
        },
        {
          "output_type": "stream",
          "text": [
            "I1007 10:11:51.397257 140316417697664 learning.py:507] global step 147: loss = 0.0022 (0.035 sec/step)\n"
          ],
          "name": "stderr"
        },
        {
          "output_type": "stream",
          "text": [
            "INFO:tensorflow:global step 148: loss = 0.0025 (0.032 sec/step)\n"
          ],
          "name": "stdout"
        },
        {
          "output_type": "stream",
          "text": [
            "I1007 10:11:51.437073 140316417697664 learning.py:507] global step 148: loss = 0.0025 (0.032 sec/step)\n"
          ],
          "name": "stderr"
        },
        {
          "output_type": "stream",
          "text": [
            "INFO:tensorflow:global step 149: loss = 0.0022 (0.033 sec/step)\n"
          ],
          "name": "stdout"
        },
        {
          "output_type": "stream",
          "text": [
            "I1007 10:11:51.474721 140316417697664 learning.py:507] global step 149: loss = 0.0022 (0.033 sec/step)\n"
          ],
          "name": "stderr"
        },
        {
          "output_type": "stream",
          "text": [
            "INFO:tensorflow:global step 150: loss = 0.0021 (0.039 sec/step)\n"
          ],
          "name": "stdout"
        },
        {
          "output_type": "stream",
          "text": [
            "I1007 10:11:51.518167 140316417697664 learning.py:507] global step 150: loss = 0.0021 (0.039 sec/step)\n"
          ],
          "name": "stderr"
        },
        {
          "output_type": "stream",
          "text": [
            "INFO:tensorflow:global step 151: loss = 0.0020 (0.034 sec/step)\n"
          ],
          "name": "stdout"
        },
        {
          "output_type": "stream",
          "text": [
            "I1007 10:11:51.555539 140316417697664 learning.py:507] global step 151: loss = 0.0020 (0.034 sec/step)\n"
          ],
          "name": "stderr"
        },
        {
          "output_type": "stream",
          "text": [
            "INFO:tensorflow:global step 152: loss = 0.0023 (0.033 sec/step)\n"
          ],
          "name": "stdout"
        },
        {
          "output_type": "stream",
          "text": [
            "I1007 10:11:51.594244 140316417697664 learning.py:507] global step 152: loss = 0.0023 (0.033 sec/step)\n"
          ],
          "name": "stderr"
        },
        {
          "output_type": "stream",
          "text": [
            "INFO:tensorflow:global step 153: loss = 0.0022 (0.035 sec/step)\n"
          ],
          "name": "stdout"
        },
        {
          "output_type": "stream",
          "text": [
            "I1007 10:11:51.633330 140316417697664 learning.py:507] global step 153: loss = 0.0022 (0.035 sec/step)\n"
          ],
          "name": "stderr"
        },
        {
          "output_type": "stream",
          "text": [
            "INFO:tensorflow:global step 154: loss = 0.0019 (0.034 sec/step)\n"
          ],
          "name": "stdout"
        },
        {
          "output_type": "stream",
          "text": [
            "I1007 10:11:51.673982 140316417697664 learning.py:507] global step 154: loss = 0.0019 (0.034 sec/step)\n"
          ],
          "name": "stderr"
        },
        {
          "output_type": "stream",
          "text": [
            "INFO:tensorflow:global step 155: loss = 0.0021 (0.036 sec/step)\n"
          ],
          "name": "stdout"
        },
        {
          "output_type": "stream",
          "text": [
            "I1007 10:11:51.713813 140316417697664 learning.py:507] global step 155: loss = 0.0021 (0.036 sec/step)\n"
          ],
          "name": "stderr"
        },
        {
          "output_type": "stream",
          "text": [
            "INFO:tensorflow:global step 156: loss = 0.0020 (0.039 sec/step)\n"
          ],
          "name": "stdout"
        },
        {
          "output_type": "stream",
          "text": [
            "I1007 10:11:51.756628 140316417697664 learning.py:507] global step 156: loss = 0.0020 (0.039 sec/step)\n"
          ],
          "name": "stderr"
        },
        {
          "output_type": "stream",
          "text": [
            "INFO:tensorflow:global step 157: loss = 0.0021 (0.035 sec/step)\n"
          ],
          "name": "stdout"
        },
        {
          "output_type": "stream",
          "text": [
            "I1007 10:11:51.794898 140316417697664 learning.py:507] global step 157: loss = 0.0021 (0.035 sec/step)\n"
          ],
          "name": "stderr"
        },
        {
          "output_type": "stream",
          "text": [
            "INFO:tensorflow:global step 158: loss = 0.0019 (0.035 sec/step)\n"
          ],
          "name": "stdout"
        },
        {
          "output_type": "stream",
          "text": [
            "I1007 10:11:51.833265 140316417697664 learning.py:507] global step 158: loss = 0.0019 (0.035 sec/step)\n"
          ],
          "name": "stderr"
        },
        {
          "output_type": "stream",
          "text": [
            "INFO:tensorflow:global step 159: loss = 0.0021 (0.034 sec/step)\n"
          ],
          "name": "stdout"
        },
        {
          "output_type": "stream",
          "text": [
            "I1007 10:11:51.873806 140316417697664 learning.py:507] global step 159: loss = 0.0021 (0.034 sec/step)\n"
          ],
          "name": "stderr"
        },
        {
          "output_type": "stream",
          "text": [
            "INFO:tensorflow:global step 160: loss = 0.0023 (0.031 sec/step)\n"
          ],
          "name": "stdout"
        },
        {
          "output_type": "stream",
          "text": [
            "I1007 10:11:51.912415 140316417697664 learning.py:507] global step 160: loss = 0.0023 (0.031 sec/step)\n"
          ],
          "name": "stderr"
        },
        {
          "output_type": "stream",
          "text": [
            "INFO:tensorflow:global step 161: loss = 0.0021 (0.034 sec/step)\n"
          ],
          "name": "stdout"
        },
        {
          "output_type": "stream",
          "text": [
            "I1007 10:11:51.953817 140316417697664 learning.py:507] global step 161: loss = 0.0021 (0.034 sec/step)\n"
          ],
          "name": "stderr"
        },
        {
          "output_type": "stream",
          "text": [
            "INFO:tensorflow:global step 162: loss = 0.0023 (0.038 sec/step)\n"
          ],
          "name": "stdout"
        },
        {
          "output_type": "stream",
          "text": [
            "I1007 10:11:51.994044 140316417697664 learning.py:507] global step 162: loss = 0.0023 (0.038 sec/step)\n"
          ],
          "name": "stderr"
        },
        {
          "output_type": "stream",
          "text": [
            "INFO:tensorflow:global step 163: loss = 0.0021 (0.038 sec/step)\n"
          ],
          "name": "stdout"
        },
        {
          "output_type": "stream",
          "text": [
            "I1007 10:11:52.036108 140316417697664 learning.py:507] global step 163: loss = 0.0021 (0.038 sec/step)\n"
          ],
          "name": "stderr"
        },
        {
          "output_type": "stream",
          "text": [
            "INFO:tensorflow:global step 164: loss = 0.0022 (0.036 sec/step)\n"
          ],
          "name": "stdout"
        },
        {
          "output_type": "stream",
          "text": [
            "I1007 10:11:52.075679 140316417697664 learning.py:507] global step 164: loss = 0.0022 (0.036 sec/step)\n"
          ],
          "name": "stderr"
        },
        {
          "output_type": "stream",
          "text": [
            "INFO:tensorflow:global step 165: loss = 0.0020 (0.039 sec/step)\n"
          ],
          "name": "stdout"
        },
        {
          "output_type": "stream",
          "text": [
            "I1007 10:11:52.117398 140316417697664 learning.py:507] global step 165: loss = 0.0020 (0.039 sec/step)\n"
          ],
          "name": "stderr"
        },
        {
          "output_type": "stream",
          "text": [
            "INFO:tensorflow:global step 166: loss = 0.0022 (0.036 sec/step)\n"
          ],
          "name": "stdout"
        },
        {
          "output_type": "stream",
          "text": [
            "I1007 10:11:52.157906 140316417697664 learning.py:507] global step 166: loss = 0.0022 (0.036 sec/step)\n"
          ],
          "name": "stderr"
        },
        {
          "output_type": "stream",
          "text": [
            "INFO:tensorflow:global step 167: loss = 0.0019 (0.033 sec/step)\n"
          ],
          "name": "stdout"
        },
        {
          "output_type": "stream",
          "text": [
            "I1007 10:11:52.196430 140316417697664 learning.py:507] global step 167: loss = 0.0019 (0.033 sec/step)\n"
          ],
          "name": "stderr"
        },
        {
          "output_type": "stream",
          "text": [
            "INFO:tensorflow:global step 168: loss = 0.0023 (0.034 sec/step)\n"
          ],
          "name": "stdout"
        },
        {
          "output_type": "stream",
          "text": [
            "I1007 10:11:52.235567 140316417697664 learning.py:507] global step 168: loss = 0.0023 (0.034 sec/step)\n"
          ],
          "name": "stderr"
        },
        {
          "output_type": "stream",
          "text": [
            "INFO:tensorflow:global step 169: loss = 0.0023 (0.032 sec/step)\n"
          ],
          "name": "stdout"
        },
        {
          "output_type": "stream",
          "text": [
            "I1007 10:11:52.273803 140316417697664 learning.py:507] global step 169: loss = 0.0023 (0.032 sec/step)\n"
          ],
          "name": "stderr"
        },
        {
          "output_type": "stream",
          "text": [
            "INFO:tensorflow:global step 170: loss = 0.0019 (0.032 sec/step)\n"
          ],
          "name": "stdout"
        },
        {
          "output_type": "stream",
          "text": [
            "I1007 10:11:52.312606 140316417697664 learning.py:507] global step 170: loss = 0.0019 (0.032 sec/step)\n"
          ],
          "name": "stderr"
        },
        {
          "output_type": "stream",
          "text": [
            "INFO:tensorflow:global step 171: loss = 0.0022 (0.036 sec/step)\n"
          ],
          "name": "stdout"
        },
        {
          "output_type": "stream",
          "text": [
            "I1007 10:11:52.352141 140316417697664 learning.py:507] global step 171: loss = 0.0022 (0.036 sec/step)\n"
          ],
          "name": "stderr"
        },
        {
          "output_type": "stream",
          "text": [
            "INFO:tensorflow:global step 172: loss = 0.0018 (0.038 sec/step)\n"
          ],
          "name": "stdout"
        },
        {
          "output_type": "stream",
          "text": [
            "I1007 10:11:52.393447 140316417697664 learning.py:507] global step 172: loss = 0.0018 (0.038 sec/step)\n"
          ],
          "name": "stderr"
        },
        {
          "output_type": "stream",
          "text": [
            "INFO:tensorflow:global step 173: loss = 0.0018 (0.037 sec/step)\n"
          ],
          "name": "stdout"
        },
        {
          "output_type": "stream",
          "text": [
            "I1007 10:11:52.434991 140316417697664 learning.py:507] global step 173: loss = 0.0018 (0.037 sec/step)\n"
          ],
          "name": "stderr"
        },
        {
          "output_type": "stream",
          "text": [
            "INFO:tensorflow:global step 174: loss = 0.0019 (0.031 sec/step)\n"
          ],
          "name": "stdout"
        },
        {
          "output_type": "stream",
          "text": [
            "I1007 10:11:52.473190 140316417697664 learning.py:507] global step 174: loss = 0.0019 (0.031 sec/step)\n"
          ],
          "name": "stderr"
        },
        {
          "output_type": "stream",
          "text": [
            "INFO:tensorflow:global step 175: loss = 0.0022 (0.035 sec/step)\n"
          ],
          "name": "stdout"
        },
        {
          "output_type": "stream",
          "text": [
            "I1007 10:11:52.511876 140316417697664 learning.py:507] global step 175: loss = 0.0022 (0.035 sec/step)\n"
          ],
          "name": "stderr"
        },
        {
          "output_type": "stream",
          "text": [
            "INFO:tensorflow:global step 176: loss = 0.0023 (0.037 sec/step)\n"
          ],
          "name": "stdout"
        },
        {
          "output_type": "stream",
          "text": [
            "I1007 10:11:52.552598 140316417697664 learning.py:507] global step 176: loss = 0.0023 (0.037 sec/step)\n"
          ],
          "name": "stderr"
        },
        {
          "output_type": "stream",
          "text": [
            "INFO:tensorflow:global step 177: loss = 0.0019 (0.034 sec/step)\n"
          ],
          "name": "stdout"
        },
        {
          "output_type": "stream",
          "text": [
            "I1007 10:11:52.591501 140316417697664 learning.py:507] global step 177: loss = 0.0019 (0.034 sec/step)\n"
          ],
          "name": "stderr"
        },
        {
          "output_type": "stream",
          "text": [
            "INFO:tensorflow:global step 178: loss = 0.0018 (0.031 sec/step)\n"
          ],
          "name": "stdout"
        },
        {
          "output_type": "stream",
          "text": [
            "I1007 10:11:52.629714 140316417697664 learning.py:507] global step 178: loss = 0.0018 (0.031 sec/step)\n"
          ],
          "name": "stderr"
        },
        {
          "output_type": "stream",
          "text": [
            "INFO:tensorflow:global step 179: loss = 0.0021 (0.037 sec/step)\n"
          ],
          "name": "stdout"
        },
        {
          "output_type": "stream",
          "text": [
            "I1007 10:11:52.669468 140316417697664 learning.py:507] global step 179: loss = 0.0021 (0.037 sec/step)\n"
          ],
          "name": "stderr"
        },
        {
          "output_type": "stream",
          "text": [
            "INFO:tensorflow:global step 180: loss = 0.0022 (0.031 sec/step)\n"
          ],
          "name": "stdout"
        },
        {
          "output_type": "stream",
          "text": [
            "I1007 10:11:52.708027 140316417697664 learning.py:507] global step 180: loss = 0.0022 (0.031 sec/step)\n"
          ],
          "name": "stderr"
        },
        {
          "output_type": "stream",
          "text": [
            "INFO:tensorflow:global step 181: loss = 0.0018 (0.038 sec/step)\n"
          ],
          "name": "stdout"
        },
        {
          "output_type": "stream",
          "text": [
            "I1007 10:11:52.749863 140316417697664 learning.py:507] global step 181: loss = 0.0018 (0.038 sec/step)\n"
          ],
          "name": "stderr"
        },
        {
          "output_type": "stream",
          "text": [
            "INFO:tensorflow:global step 182: loss = 0.0021 (0.034 sec/step)\n"
          ],
          "name": "stdout"
        },
        {
          "output_type": "stream",
          "text": [
            "I1007 10:11:52.787280 140316417697664 learning.py:507] global step 182: loss = 0.0021 (0.034 sec/step)\n"
          ],
          "name": "stderr"
        },
        {
          "output_type": "stream",
          "text": [
            "INFO:tensorflow:global step 183: loss = 0.0020 (0.038 sec/step)\n"
          ],
          "name": "stdout"
        },
        {
          "output_type": "stream",
          "text": [
            "I1007 10:11:52.827593 140316417697664 learning.py:507] global step 183: loss = 0.0020 (0.038 sec/step)\n"
          ],
          "name": "stderr"
        },
        {
          "output_type": "stream",
          "text": [
            "INFO:tensorflow:global step 184: loss = 0.0019 (0.037 sec/step)\n"
          ],
          "name": "stdout"
        },
        {
          "output_type": "stream",
          "text": [
            "I1007 10:11:52.868324 140316417697664 learning.py:507] global step 184: loss = 0.0019 (0.037 sec/step)\n"
          ],
          "name": "stderr"
        },
        {
          "output_type": "stream",
          "text": [
            "INFO:tensorflow:global step 185: loss = 0.0020 (0.030 sec/step)\n"
          ],
          "name": "stdout"
        },
        {
          "output_type": "stream",
          "text": [
            "I1007 10:11:52.905503 140316417697664 learning.py:507] global step 185: loss = 0.0020 (0.030 sec/step)\n"
          ],
          "name": "stderr"
        },
        {
          "output_type": "stream",
          "text": [
            "INFO:tensorflow:global step 186: loss = 0.0018 (0.033 sec/step)\n"
          ],
          "name": "stdout"
        },
        {
          "output_type": "stream",
          "text": [
            "I1007 10:11:52.946047 140316417697664 learning.py:507] global step 186: loss = 0.0018 (0.033 sec/step)\n"
          ],
          "name": "stderr"
        },
        {
          "output_type": "stream",
          "text": [
            "INFO:tensorflow:global step 187: loss = 0.0018 (0.031 sec/step)\n"
          ],
          "name": "stdout"
        },
        {
          "output_type": "stream",
          "text": [
            "I1007 10:11:52.984569 140316417697664 learning.py:507] global step 187: loss = 0.0018 (0.031 sec/step)\n"
          ],
          "name": "stderr"
        },
        {
          "output_type": "stream",
          "text": [
            "INFO:tensorflow:global step 188: loss = 0.0020 (0.037 sec/step)\n"
          ],
          "name": "stdout"
        },
        {
          "output_type": "stream",
          "text": [
            "I1007 10:11:53.026059 140316417697664 learning.py:507] global step 188: loss = 0.0020 (0.037 sec/step)\n"
          ],
          "name": "stderr"
        },
        {
          "output_type": "stream",
          "text": [
            "INFO:tensorflow:global step 189: loss = 0.0018 (0.032 sec/step)\n"
          ],
          "name": "stdout"
        },
        {
          "output_type": "stream",
          "text": [
            "I1007 10:11:53.065072 140316417697664 learning.py:507] global step 189: loss = 0.0018 (0.032 sec/step)\n"
          ],
          "name": "stderr"
        },
        {
          "output_type": "stream",
          "text": [
            "INFO:tensorflow:global step 190: loss = 0.0018 (0.033 sec/step)\n"
          ],
          "name": "stdout"
        },
        {
          "output_type": "stream",
          "text": [
            "I1007 10:11:53.104007 140316417697664 learning.py:507] global step 190: loss = 0.0018 (0.033 sec/step)\n"
          ],
          "name": "stderr"
        },
        {
          "output_type": "stream",
          "text": [
            "INFO:tensorflow:global step 191: loss = 0.0021 (0.037 sec/step)\n"
          ],
          "name": "stdout"
        },
        {
          "output_type": "stream",
          "text": [
            "I1007 10:11:53.143933 140316417697664 learning.py:507] global step 191: loss = 0.0021 (0.037 sec/step)\n"
          ],
          "name": "stderr"
        },
        {
          "output_type": "stream",
          "text": [
            "INFO:tensorflow:global step 192: loss = 0.0021 (0.033 sec/step)\n"
          ],
          "name": "stdout"
        },
        {
          "output_type": "stream",
          "text": [
            "I1007 10:11:53.180675 140316417697664 learning.py:507] global step 192: loss = 0.0021 (0.033 sec/step)\n"
          ],
          "name": "stderr"
        },
        {
          "output_type": "stream",
          "text": [
            "INFO:tensorflow:global step 193: loss = 0.0020 (0.038 sec/step)\n"
          ],
          "name": "stdout"
        },
        {
          "output_type": "stream",
          "text": [
            "I1007 10:11:53.222366 140316417697664 learning.py:507] global step 193: loss = 0.0020 (0.038 sec/step)\n"
          ],
          "name": "stderr"
        },
        {
          "output_type": "stream",
          "text": [
            "INFO:tensorflow:global step 194: loss = 0.0021 (0.033 sec/step)\n"
          ],
          "name": "stdout"
        },
        {
          "output_type": "stream",
          "text": [
            "I1007 10:11:53.262179 140316417697664 learning.py:507] global step 194: loss = 0.0021 (0.033 sec/step)\n"
          ],
          "name": "stderr"
        },
        {
          "output_type": "stream",
          "text": [
            "INFO:tensorflow:global step 195: loss = 0.0021 (0.031 sec/step)\n"
          ],
          "name": "stdout"
        },
        {
          "output_type": "stream",
          "text": [
            "I1007 10:11:53.300159 140316417697664 learning.py:507] global step 195: loss = 0.0021 (0.031 sec/step)\n"
          ],
          "name": "stderr"
        },
        {
          "output_type": "stream",
          "text": [
            "INFO:tensorflow:global step 196: loss = 0.0024 (0.034 sec/step)\n"
          ],
          "name": "stdout"
        },
        {
          "output_type": "stream",
          "text": [
            "I1007 10:11:53.337327 140316417697664 learning.py:507] global step 196: loss = 0.0024 (0.034 sec/step)\n"
          ],
          "name": "stderr"
        },
        {
          "output_type": "stream",
          "text": [
            "INFO:tensorflow:global step 197: loss = 0.0016 (0.031 sec/step)\n"
          ],
          "name": "stdout"
        },
        {
          "output_type": "stream",
          "text": [
            "I1007 10:11:53.376257 140316417697664 learning.py:507] global step 197: loss = 0.0016 (0.031 sec/step)\n"
          ],
          "name": "stderr"
        },
        {
          "output_type": "stream",
          "text": [
            "INFO:tensorflow:global step 198: loss = 0.0022 (0.037 sec/step)\n"
          ],
          "name": "stdout"
        },
        {
          "output_type": "stream",
          "text": [
            "I1007 10:11:53.415446 140316417697664 learning.py:507] global step 198: loss = 0.0022 (0.037 sec/step)\n"
          ],
          "name": "stderr"
        },
        {
          "output_type": "stream",
          "text": [
            "INFO:tensorflow:global step 199: loss = 0.0016 (0.034 sec/step)\n"
          ],
          "name": "stdout"
        },
        {
          "output_type": "stream",
          "text": [
            "I1007 10:11:53.453409 140316417697664 learning.py:507] global step 199: loss = 0.0016 (0.034 sec/step)\n"
          ],
          "name": "stderr"
        },
        {
          "output_type": "stream",
          "text": [
            "INFO:tensorflow:global step 200: loss = 0.0017 (0.035 sec/step)\n"
          ],
          "name": "stdout"
        },
        {
          "output_type": "stream",
          "text": [
            "I1007 10:11:53.491652 140316417697664 learning.py:507] global step 200: loss = 0.0017 (0.035 sec/step)\n"
          ],
          "name": "stderr"
        },
        {
          "output_type": "stream",
          "text": [
            "INFO:tensorflow:global step 201: loss = 0.0019 (0.035 sec/step)\n"
          ],
          "name": "stdout"
        },
        {
          "output_type": "stream",
          "text": [
            "I1007 10:11:53.529276 140316417697664 learning.py:507] global step 201: loss = 0.0019 (0.035 sec/step)\n"
          ],
          "name": "stderr"
        },
        {
          "output_type": "stream",
          "text": [
            "INFO:tensorflow:global step 202: loss = 0.0028 (0.032 sec/step)\n"
          ],
          "name": "stdout"
        },
        {
          "output_type": "stream",
          "text": [
            "I1007 10:11:53.568409 140316417697664 learning.py:507] global step 202: loss = 0.0028 (0.032 sec/step)\n"
          ],
          "name": "stderr"
        },
        {
          "output_type": "stream",
          "text": [
            "INFO:tensorflow:global step 203: loss = 0.0019 (0.038 sec/step)\n"
          ],
          "name": "stdout"
        },
        {
          "output_type": "stream",
          "text": [
            "I1007 10:11:53.612276 140316417697664 learning.py:507] global step 203: loss = 0.0019 (0.038 sec/step)\n"
          ],
          "name": "stderr"
        },
        {
          "output_type": "stream",
          "text": [
            "INFO:tensorflow:global step 204: loss = 0.0017 (0.033 sec/step)\n"
          ],
          "name": "stdout"
        },
        {
          "output_type": "stream",
          "text": [
            "I1007 10:11:53.651432 140316417697664 learning.py:507] global step 204: loss = 0.0017 (0.033 sec/step)\n"
          ],
          "name": "stderr"
        },
        {
          "output_type": "stream",
          "text": [
            "INFO:tensorflow:global step 205: loss = 0.0017 (0.038 sec/step)\n"
          ],
          "name": "stdout"
        },
        {
          "output_type": "stream",
          "text": [
            "I1007 10:11:53.696268 140316417697664 learning.py:507] global step 205: loss = 0.0017 (0.038 sec/step)\n"
          ],
          "name": "stderr"
        },
        {
          "output_type": "stream",
          "text": [
            "INFO:tensorflow:global step 206: loss = 0.0020 (0.039 sec/step)\n"
          ],
          "name": "stdout"
        },
        {
          "output_type": "stream",
          "text": [
            "I1007 10:11:53.738231 140316417697664 learning.py:507] global step 206: loss = 0.0020 (0.039 sec/step)\n"
          ],
          "name": "stderr"
        },
        {
          "output_type": "stream",
          "text": [
            "INFO:tensorflow:global step 207: loss = 0.0017 (0.037 sec/step)\n"
          ],
          "name": "stdout"
        },
        {
          "output_type": "stream",
          "text": [
            "I1007 10:11:53.782213 140316417697664 learning.py:507] global step 207: loss = 0.0017 (0.037 sec/step)\n"
          ],
          "name": "stderr"
        },
        {
          "output_type": "stream",
          "text": [
            "INFO:tensorflow:global step 208: loss = 0.0020 (0.034 sec/step)\n"
          ],
          "name": "stdout"
        },
        {
          "output_type": "stream",
          "text": [
            "I1007 10:11:53.820183 140316417697664 learning.py:507] global step 208: loss = 0.0020 (0.034 sec/step)\n"
          ],
          "name": "stderr"
        },
        {
          "output_type": "stream",
          "text": [
            "INFO:tensorflow:global step 209: loss = 0.0018 (0.032 sec/step)\n"
          ],
          "name": "stdout"
        },
        {
          "output_type": "stream",
          "text": [
            "I1007 10:11:53.859051 140316417697664 learning.py:507] global step 209: loss = 0.0018 (0.032 sec/step)\n"
          ],
          "name": "stderr"
        },
        {
          "output_type": "stream",
          "text": [
            "INFO:tensorflow:global step 210: loss = 0.0019 (0.032 sec/step)\n"
          ],
          "name": "stdout"
        },
        {
          "output_type": "stream",
          "text": [
            "I1007 10:11:53.896980 140316417697664 learning.py:507] global step 210: loss = 0.0019 (0.032 sec/step)\n"
          ],
          "name": "stderr"
        },
        {
          "output_type": "stream",
          "text": [
            "INFO:tensorflow:global step 211: loss = 0.0022 (0.032 sec/step)\n"
          ],
          "name": "stdout"
        },
        {
          "output_type": "stream",
          "text": [
            "I1007 10:11:53.936009 140316417697664 learning.py:507] global step 211: loss = 0.0022 (0.032 sec/step)\n"
          ],
          "name": "stderr"
        },
        {
          "output_type": "stream",
          "text": [
            "INFO:tensorflow:global step 212: loss = 0.0019 (0.038 sec/step)\n"
          ],
          "name": "stdout"
        },
        {
          "output_type": "stream",
          "text": [
            "I1007 10:11:53.976346 140316417697664 learning.py:507] global step 212: loss = 0.0019 (0.038 sec/step)\n"
          ],
          "name": "stderr"
        },
        {
          "output_type": "stream",
          "text": [
            "INFO:tensorflow:global step 213: loss = 0.0022 (0.034 sec/step)\n"
          ],
          "name": "stdout"
        },
        {
          "output_type": "stream",
          "text": [
            "I1007 10:11:54.017071 140316417697664 learning.py:507] global step 213: loss = 0.0022 (0.034 sec/step)\n"
          ],
          "name": "stderr"
        },
        {
          "output_type": "stream",
          "text": [
            "INFO:tensorflow:global step 214: loss = 0.0019 (0.034 sec/step)\n"
          ],
          "name": "stdout"
        },
        {
          "output_type": "stream",
          "text": [
            "I1007 10:11:54.055139 140316417697664 learning.py:507] global step 214: loss = 0.0019 (0.034 sec/step)\n"
          ],
          "name": "stderr"
        },
        {
          "output_type": "stream",
          "text": [
            "INFO:tensorflow:global step 215: loss = 0.0016 (0.034 sec/step)\n"
          ],
          "name": "stdout"
        },
        {
          "output_type": "stream",
          "text": [
            "I1007 10:11:54.092143 140316417697664 learning.py:507] global step 215: loss = 0.0016 (0.034 sec/step)\n"
          ],
          "name": "stderr"
        },
        {
          "output_type": "stream",
          "text": [
            "INFO:tensorflow:global step 216: loss = 0.0020 (0.033 sec/step)\n"
          ],
          "name": "stdout"
        },
        {
          "output_type": "stream",
          "text": [
            "I1007 10:11:54.130858 140316417697664 learning.py:507] global step 216: loss = 0.0020 (0.033 sec/step)\n"
          ],
          "name": "stderr"
        },
        {
          "output_type": "stream",
          "text": [
            "INFO:tensorflow:global step 217: loss = 0.0022 (0.036 sec/step)\n"
          ],
          "name": "stdout"
        },
        {
          "output_type": "stream",
          "text": [
            "I1007 10:11:54.171876 140316417697664 learning.py:507] global step 217: loss = 0.0022 (0.036 sec/step)\n"
          ],
          "name": "stderr"
        },
        {
          "output_type": "stream",
          "text": [
            "INFO:tensorflow:global step 218: loss = 0.0016 (0.034 sec/step)\n"
          ],
          "name": "stdout"
        },
        {
          "output_type": "stream",
          "text": [
            "I1007 10:11:54.210716 140316417697664 learning.py:507] global step 218: loss = 0.0016 (0.034 sec/step)\n"
          ],
          "name": "stderr"
        },
        {
          "output_type": "stream",
          "text": [
            "INFO:tensorflow:global step 219: loss = 0.0019 (0.039 sec/step)\n"
          ],
          "name": "stdout"
        },
        {
          "output_type": "stream",
          "text": [
            "I1007 10:11:54.254966 140316417697664 learning.py:507] global step 219: loss = 0.0019 (0.039 sec/step)\n"
          ],
          "name": "stderr"
        },
        {
          "output_type": "stream",
          "text": [
            "INFO:tensorflow:global step 220: loss = 0.0018 (0.040 sec/step)\n"
          ],
          "name": "stdout"
        },
        {
          "output_type": "stream",
          "text": [
            "I1007 10:11:54.303398 140316417697664 learning.py:507] global step 220: loss = 0.0018 (0.040 sec/step)\n"
          ],
          "name": "stderr"
        },
        {
          "output_type": "stream",
          "text": [
            "INFO:tensorflow:global step 221: loss = 0.0021 (0.043 sec/step)\n"
          ],
          "name": "stdout"
        },
        {
          "output_type": "stream",
          "text": [
            "I1007 10:11:54.349527 140316417697664 learning.py:507] global step 221: loss = 0.0021 (0.043 sec/step)\n"
          ],
          "name": "stderr"
        },
        {
          "output_type": "stream",
          "text": [
            "INFO:tensorflow:global step 222: loss = 0.0018 (0.034 sec/step)\n"
          ],
          "name": "stdout"
        },
        {
          "output_type": "stream",
          "text": [
            "I1007 10:11:54.387664 140316417697664 learning.py:507] global step 222: loss = 0.0018 (0.034 sec/step)\n"
          ],
          "name": "stderr"
        },
        {
          "output_type": "stream",
          "text": [
            "INFO:tensorflow:global step 223: loss = 0.0018 (0.038 sec/step)\n"
          ],
          "name": "stdout"
        },
        {
          "output_type": "stream",
          "text": [
            "I1007 10:11:54.428090 140316417697664 learning.py:507] global step 223: loss = 0.0018 (0.038 sec/step)\n"
          ],
          "name": "stderr"
        },
        {
          "output_type": "stream",
          "text": [
            "INFO:tensorflow:global step 224: loss = 0.0019 (0.034 sec/step)\n"
          ],
          "name": "stdout"
        },
        {
          "output_type": "stream",
          "text": [
            "I1007 10:11:54.467655 140316417697664 learning.py:507] global step 224: loss = 0.0019 (0.034 sec/step)\n"
          ],
          "name": "stderr"
        },
        {
          "output_type": "stream",
          "text": [
            "INFO:tensorflow:global step 225: loss = 0.0018 (0.037 sec/step)\n"
          ],
          "name": "stdout"
        },
        {
          "output_type": "stream",
          "text": [
            "I1007 10:11:54.510637 140316417697664 learning.py:507] global step 225: loss = 0.0018 (0.037 sec/step)\n"
          ],
          "name": "stderr"
        },
        {
          "output_type": "stream",
          "text": [
            "INFO:tensorflow:global step 226: loss = 0.0021 (0.034 sec/step)\n"
          ],
          "name": "stdout"
        },
        {
          "output_type": "stream",
          "text": [
            "I1007 10:11:54.550507 140316417697664 learning.py:507] global step 226: loss = 0.0021 (0.034 sec/step)\n"
          ],
          "name": "stderr"
        },
        {
          "output_type": "stream",
          "text": [
            "INFO:tensorflow:global step 227: loss = 0.0018 (0.033 sec/step)\n"
          ],
          "name": "stdout"
        },
        {
          "output_type": "stream",
          "text": [
            "I1007 10:11:54.589354 140316417697664 learning.py:507] global step 227: loss = 0.0018 (0.033 sec/step)\n"
          ],
          "name": "stderr"
        },
        {
          "output_type": "stream",
          "text": [
            "INFO:tensorflow:global step 228: loss = 0.0017 (0.033 sec/step)\n"
          ],
          "name": "stdout"
        },
        {
          "output_type": "stream",
          "text": [
            "I1007 10:11:54.627385 140316417697664 learning.py:507] global step 228: loss = 0.0017 (0.033 sec/step)\n"
          ],
          "name": "stderr"
        },
        {
          "output_type": "stream",
          "text": [
            "INFO:tensorflow:global step 229: loss = 0.0020 (0.033 sec/step)\n"
          ],
          "name": "stdout"
        },
        {
          "output_type": "stream",
          "text": [
            "I1007 10:11:54.666126 140316417697664 learning.py:507] global step 229: loss = 0.0020 (0.033 sec/step)\n"
          ],
          "name": "stderr"
        },
        {
          "output_type": "stream",
          "text": [
            "INFO:tensorflow:global step 230: loss = 0.0018 (0.032 sec/step)\n"
          ],
          "name": "stdout"
        },
        {
          "output_type": "stream",
          "text": [
            "I1007 10:11:54.705933 140316417697664 learning.py:507] global step 230: loss = 0.0018 (0.032 sec/step)\n"
          ],
          "name": "stderr"
        },
        {
          "output_type": "stream",
          "text": [
            "INFO:tensorflow:global step 231: loss = 0.0018 (0.033 sec/step)\n"
          ],
          "name": "stdout"
        },
        {
          "output_type": "stream",
          "text": [
            "I1007 10:11:54.745293 140316417697664 learning.py:507] global step 231: loss = 0.0018 (0.033 sec/step)\n"
          ],
          "name": "stderr"
        },
        {
          "output_type": "stream",
          "text": [
            "INFO:tensorflow:global step 232: loss = 0.0017 (0.041 sec/step)\n"
          ],
          "name": "stdout"
        },
        {
          "output_type": "stream",
          "text": [
            "I1007 10:11:54.790125 140316417697664 learning.py:507] global step 232: loss = 0.0017 (0.041 sec/step)\n"
          ],
          "name": "stderr"
        },
        {
          "output_type": "stream",
          "text": [
            "INFO:tensorflow:global step 233: loss = 0.0016 (0.035 sec/step)\n"
          ],
          "name": "stdout"
        },
        {
          "output_type": "stream",
          "text": [
            "I1007 10:11:54.828296 140316417697664 learning.py:507] global step 233: loss = 0.0016 (0.035 sec/step)\n"
          ],
          "name": "stderr"
        },
        {
          "output_type": "stream",
          "text": [
            "INFO:tensorflow:global step 234: loss = 0.0020 (0.036 sec/step)\n"
          ],
          "name": "stdout"
        },
        {
          "output_type": "stream",
          "text": [
            "I1007 10:11:54.868035 140316417697664 learning.py:507] global step 234: loss = 0.0020 (0.036 sec/step)\n"
          ],
          "name": "stderr"
        },
        {
          "output_type": "stream",
          "text": [
            "INFO:tensorflow:global step 235: loss = 0.0016 (0.035 sec/step)\n"
          ],
          "name": "stdout"
        },
        {
          "output_type": "stream",
          "text": [
            "I1007 10:11:54.906775 140316417697664 learning.py:507] global step 235: loss = 0.0016 (0.035 sec/step)\n"
          ],
          "name": "stderr"
        },
        {
          "output_type": "stream",
          "text": [
            "INFO:tensorflow:global step 236: loss = 0.0017 (0.034 sec/step)\n"
          ],
          "name": "stdout"
        },
        {
          "output_type": "stream",
          "text": [
            "I1007 10:11:54.944351 140316417697664 learning.py:507] global step 236: loss = 0.0017 (0.034 sec/step)\n"
          ],
          "name": "stderr"
        },
        {
          "output_type": "stream",
          "text": [
            "INFO:tensorflow:global step 237: loss = 0.0018 (0.034 sec/step)\n"
          ],
          "name": "stdout"
        },
        {
          "output_type": "stream",
          "text": [
            "I1007 10:11:54.982674 140316417697664 learning.py:507] global step 237: loss = 0.0018 (0.034 sec/step)\n"
          ],
          "name": "stderr"
        },
        {
          "output_type": "stream",
          "text": [
            "INFO:tensorflow:global step 238: loss = 0.0021 (0.036 sec/step)\n"
          ],
          "name": "stdout"
        },
        {
          "output_type": "stream",
          "text": [
            "I1007 10:11:55.024536 140316417697664 learning.py:507] global step 238: loss = 0.0021 (0.036 sec/step)\n"
          ],
          "name": "stderr"
        },
        {
          "output_type": "stream",
          "text": [
            "INFO:tensorflow:global step 239: loss = 0.0018 (0.034 sec/step)\n"
          ],
          "name": "stdout"
        },
        {
          "output_type": "stream",
          "text": [
            "I1007 10:11:55.064436 140316417697664 learning.py:507] global step 239: loss = 0.0018 (0.034 sec/step)\n"
          ],
          "name": "stderr"
        },
        {
          "output_type": "stream",
          "text": [
            "INFO:tensorflow:global step 240: loss = 0.0017 (0.035 sec/step)\n"
          ],
          "name": "stdout"
        },
        {
          "output_type": "stream",
          "text": [
            "I1007 10:11:55.105970 140316417697664 learning.py:507] global step 240: loss = 0.0017 (0.035 sec/step)\n"
          ],
          "name": "stderr"
        },
        {
          "output_type": "stream",
          "text": [
            "INFO:tensorflow:global step 241: loss = 0.0020 (0.037 sec/step)\n"
          ],
          "name": "stdout"
        },
        {
          "output_type": "stream",
          "text": [
            "I1007 10:11:55.145448 140316417697664 learning.py:507] global step 241: loss = 0.0020 (0.037 sec/step)\n"
          ],
          "name": "stderr"
        },
        {
          "output_type": "stream",
          "text": [
            "INFO:tensorflow:global step 242: loss = 0.0018 (0.034 sec/step)\n"
          ],
          "name": "stdout"
        },
        {
          "output_type": "stream",
          "text": [
            "I1007 10:11:55.183433 140316417697664 learning.py:507] global step 242: loss = 0.0018 (0.034 sec/step)\n"
          ],
          "name": "stderr"
        },
        {
          "output_type": "stream",
          "text": [
            "INFO:tensorflow:global step 243: loss = 0.0019 (0.034 sec/step)\n"
          ],
          "name": "stdout"
        },
        {
          "output_type": "stream",
          "text": [
            "I1007 10:11:55.221306 140316417697664 learning.py:507] global step 243: loss = 0.0019 (0.034 sec/step)\n"
          ],
          "name": "stderr"
        },
        {
          "output_type": "stream",
          "text": [
            "INFO:tensorflow:global step 244: loss = 0.0019 (0.035 sec/step)\n"
          ],
          "name": "stdout"
        },
        {
          "output_type": "stream",
          "text": [
            "I1007 10:11:55.260133 140316417697664 learning.py:507] global step 244: loss = 0.0019 (0.035 sec/step)\n"
          ],
          "name": "stderr"
        },
        {
          "output_type": "stream",
          "text": [
            "INFO:tensorflow:global step 245: loss = 0.0020 (0.032 sec/step)\n"
          ],
          "name": "stdout"
        },
        {
          "output_type": "stream",
          "text": [
            "I1007 10:11:55.299150 140316417697664 learning.py:507] global step 245: loss = 0.0020 (0.032 sec/step)\n"
          ],
          "name": "stderr"
        },
        {
          "output_type": "stream",
          "text": [
            "INFO:tensorflow:global step 246: loss = 0.0017 (0.035 sec/step)\n"
          ],
          "name": "stdout"
        },
        {
          "output_type": "stream",
          "text": [
            "I1007 10:11:55.337285 140316417697664 learning.py:507] global step 246: loss = 0.0017 (0.035 sec/step)\n"
          ],
          "name": "stderr"
        },
        {
          "output_type": "stream",
          "text": [
            "INFO:tensorflow:global step 247: loss = 0.0020 (0.036 sec/step)\n"
          ],
          "name": "stdout"
        },
        {
          "output_type": "stream",
          "text": [
            "I1007 10:11:55.375580 140316417697664 learning.py:507] global step 247: loss = 0.0020 (0.036 sec/step)\n"
          ],
          "name": "stderr"
        },
        {
          "output_type": "stream",
          "text": [
            "INFO:tensorflow:global step 248: loss = 0.0023 (0.032 sec/step)\n"
          ],
          "name": "stdout"
        },
        {
          "output_type": "stream",
          "text": [
            "I1007 10:11:55.414503 140316417697664 learning.py:507] global step 248: loss = 0.0023 (0.032 sec/step)\n"
          ],
          "name": "stderr"
        },
        {
          "output_type": "stream",
          "text": [
            "INFO:tensorflow:global step 249: loss = 0.0018 (0.032 sec/step)\n"
          ],
          "name": "stdout"
        },
        {
          "output_type": "stream",
          "text": [
            "I1007 10:11:55.452658 140316417697664 learning.py:507] global step 249: loss = 0.0018 (0.032 sec/step)\n"
          ],
          "name": "stderr"
        },
        {
          "output_type": "stream",
          "text": [
            "INFO:tensorflow:global step 250: loss = 0.0018 (0.043 sec/step)\n"
          ],
          "name": "stdout"
        },
        {
          "output_type": "stream",
          "text": [
            "I1007 10:11:55.502630 140316417697664 learning.py:507] global step 250: loss = 0.0018 (0.043 sec/step)\n"
          ],
          "name": "stderr"
        },
        {
          "output_type": "stream",
          "text": [
            "INFO:tensorflow:global step 251: loss = 0.0020 (0.035 sec/step)\n"
          ],
          "name": "stdout"
        },
        {
          "output_type": "stream",
          "text": [
            "I1007 10:11:55.543753 140316417697664 learning.py:507] global step 251: loss = 0.0020 (0.035 sec/step)\n"
          ],
          "name": "stderr"
        },
        {
          "output_type": "stream",
          "text": [
            "INFO:tensorflow:global step 252: loss = 0.0020 (0.035 sec/step)\n"
          ],
          "name": "stdout"
        },
        {
          "output_type": "stream",
          "text": [
            "I1007 10:11:55.581754 140316417697664 learning.py:507] global step 252: loss = 0.0020 (0.035 sec/step)\n"
          ],
          "name": "stderr"
        },
        {
          "output_type": "stream",
          "text": [
            "INFO:tensorflow:global step 253: loss = 0.0018 (0.038 sec/step)\n"
          ],
          "name": "stdout"
        },
        {
          "output_type": "stream",
          "text": [
            "I1007 10:11:55.622325 140316417697664 learning.py:507] global step 253: loss = 0.0018 (0.038 sec/step)\n"
          ],
          "name": "stderr"
        },
        {
          "output_type": "stream",
          "text": [
            "INFO:tensorflow:global step 254: loss = 0.0017 (0.035 sec/step)\n"
          ],
          "name": "stdout"
        },
        {
          "output_type": "stream",
          "text": [
            "I1007 10:11:55.660268 140316417697664 learning.py:507] global step 254: loss = 0.0017 (0.035 sec/step)\n"
          ],
          "name": "stderr"
        },
        {
          "output_type": "stream",
          "text": [
            "INFO:tensorflow:global step 255: loss = 0.0018 (0.036 sec/step)\n"
          ],
          "name": "stdout"
        },
        {
          "output_type": "stream",
          "text": [
            "I1007 10:11:55.698980 140316417697664 learning.py:507] global step 255: loss = 0.0018 (0.036 sec/step)\n"
          ],
          "name": "stderr"
        },
        {
          "output_type": "stream",
          "text": [
            "INFO:tensorflow:global step 256: loss = 0.0019 (0.036 sec/step)\n"
          ],
          "name": "stdout"
        },
        {
          "output_type": "stream",
          "text": [
            "I1007 10:11:55.740417 140316417697664 learning.py:507] global step 256: loss = 0.0019 (0.036 sec/step)\n"
          ],
          "name": "stderr"
        },
        {
          "output_type": "stream",
          "text": [
            "INFO:tensorflow:global step 257: loss = 0.0022 (0.041 sec/step)\n"
          ],
          "name": "stdout"
        },
        {
          "output_type": "stream",
          "text": [
            "I1007 10:11:55.786556 140316417697664 learning.py:507] global step 257: loss = 0.0022 (0.041 sec/step)\n"
          ],
          "name": "stderr"
        },
        {
          "output_type": "stream",
          "text": [
            "INFO:tensorflow:global step 258: loss = 0.0018 (0.035 sec/step)\n"
          ],
          "name": "stdout"
        },
        {
          "output_type": "stream",
          "text": [
            "I1007 10:11:55.827172 140316417697664 learning.py:507] global step 258: loss = 0.0018 (0.035 sec/step)\n"
          ],
          "name": "stderr"
        },
        {
          "output_type": "stream",
          "text": [
            "INFO:tensorflow:global step 259: loss = 0.0016 (0.039 sec/step)\n"
          ],
          "name": "stdout"
        },
        {
          "output_type": "stream",
          "text": [
            "I1007 10:11:55.870957 140316417697664 learning.py:507] global step 259: loss = 0.0016 (0.039 sec/step)\n"
          ],
          "name": "stderr"
        },
        {
          "output_type": "stream",
          "text": [
            "INFO:tensorflow:global step 260: loss = 0.0022 (0.039 sec/step)\n"
          ],
          "name": "stdout"
        },
        {
          "output_type": "stream",
          "text": [
            "I1007 10:11:55.913947 140316417697664 learning.py:507] global step 260: loss = 0.0022 (0.039 sec/step)\n"
          ],
          "name": "stderr"
        },
        {
          "output_type": "stream",
          "text": [
            "INFO:tensorflow:global step 261: loss = 0.0018 (0.035 sec/step)\n"
          ],
          "name": "stdout"
        },
        {
          "output_type": "stream",
          "text": [
            "I1007 10:11:55.955339 140316417697664 learning.py:507] global step 261: loss = 0.0018 (0.035 sec/step)\n"
          ],
          "name": "stderr"
        },
        {
          "output_type": "stream",
          "text": [
            "INFO:tensorflow:global step 262: loss = 0.0018 (0.034 sec/step)\n"
          ],
          "name": "stdout"
        },
        {
          "output_type": "stream",
          "text": [
            "I1007 10:11:55.992922 140316417697664 learning.py:507] global step 262: loss = 0.0018 (0.034 sec/step)\n"
          ],
          "name": "stderr"
        },
        {
          "output_type": "stream",
          "text": [
            "INFO:tensorflow:global step 263: loss = 0.0022 (0.032 sec/step)\n"
          ],
          "name": "stdout"
        },
        {
          "output_type": "stream",
          "text": [
            "I1007 10:11:56.030998 140316417697664 learning.py:507] global step 263: loss = 0.0022 (0.032 sec/step)\n"
          ],
          "name": "stderr"
        },
        {
          "output_type": "stream",
          "text": [
            "INFO:tensorflow:global step 264: loss = 0.0019 (0.034 sec/step)\n"
          ],
          "name": "stdout"
        },
        {
          "output_type": "stream",
          "text": [
            "I1007 10:11:56.068250 140316417697664 learning.py:507] global step 264: loss = 0.0019 (0.034 sec/step)\n"
          ],
          "name": "stderr"
        },
        {
          "output_type": "stream",
          "text": [
            "INFO:tensorflow:global step 265: loss = 0.0019 (0.031 sec/step)\n"
          ],
          "name": "stdout"
        },
        {
          "output_type": "stream",
          "text": [
            "I1007 10:11:56.105996 140316417697664 learning.py:507] global step 265: loss = 0.0019 (0.031 sec/step)\n"
          ],
          "name": "stderr"
        },
        {
          "output_type": "stream",
          "text": [
            "INFO:tensorflow:global step 266: loss = 0.0016 (0.034 sec/step)\n"
          ],
          "name": "stdout"
        },
        {
          "output_type": "stream",
          "text": [
            "I1007 10:11:56.143736 140316417697664 learning.py:507] global step 266: loss = 0.0016 (0.034 sec/step)\n"
          ],
          "name": "stderr"
        },
        {
          "output_type": "stream",
          "text": [
            "INFO:tensorflow:global step 267: loss = 0.0017 (0.034 sec/step)\n"
          ],
          "name": "stdout"
        },
        {
          "output_type": "stream",
          "text": [
            "I1007 10:11:56.180673 140316417697664 learning.py:507] global step 267: loss = 0.0017 (0.034 sec/step)\n"
          ],
          "name": "stderr"
        },
        {
          "output_type": "stream",
          "text": [
            "INFO:tensorflow:global step 268: loss = 0.0021 (0.034 sec/step)\n"
          ],
          "name": "stdout"
        },
        {
          "output_type": "stream",
          "text": [
            "I1007 10:11:56.217745 140316417697664 learning.py:507] global step 268: loss = 0.0021 (0.034 sec/step)\n"
          ],
          "name": "stderr"
        },
        {
          "output_type": "stream",
          "text": [
            "INFO:tensorflow:global step 269: loss = 0.0019 (0.038 sec/step)\n"
          ],
          "name": "stdout"
        },
        {
          "output_type": "stream",
          "text": [
            "I1007 10:11:56.258674 140316417697664 learning.py:507] global step 269: loss = 0.0019 (0.038 sec/step)\n"
          ],
          "name": "stderr"
        },
        {
          "output_type": "stream",
          "text": [
            "INFO:tensorflow:global step 270: loss = 0.0019 (0.034 sec/step)\n"
          ],
          "name": "stdout"
        },
        {
          "output_type": "stream",
          "text": [
            "I1007 10:11:56.297805 140316417697664 learning.py:507] global step 270: loss = 0.0019 (0.034 sec/step)\n"
          ],
          "name": "stderr"
        },
        {
          "output_type": "stream",
          "text": [
            "INFO:tensorflow:global step 271: loss = 0.0017 (0.036 sec/step)\n"
          ],
          "name": "stdout"
        },
        {
          "output_type": "stream",
          "text": [
            "I1007 10:11:56.336985 140316417697664 learning.py:507] global step 271: loss = 0.0017 (0.036 sec/step)\n"
          ],
          "name": "stderr"
        },
        {
          "output_type": "stream",
          "text": [
            "INFO:tensorflow:global step 272: loss = 0.0021 (0.034 sec/step)\n"
          ],
          "name": "stdout"
        },
        {
          "output_type": "stream",
          "text": [
            "I1007 10:11:56.378036 140316417697664 learning.py:507] global step 272: loss = 0.0021 (0.034 sec/step)\n"
          ],
          "name": "stderr"
        },
        {
          "output_type": "stream",
          "text": [
            "INFO:tensorflow:global step 273: loss = 0.0017 (0.035 sec/step)\n"
          ],
          "name": "stdout"
        },
        {
          "output_type": "stream",
          "text": [
            "I1007 10:11:56.416908 140316417697664 learning.py:507] global step 273: loss = 0.0017 (0.035 sec/step)\n"
          ],
          "name": "stderr"
        },
        {
          "output_type": "stream",
          "text": [
            "INFO:tensorflow:global step 274: loss = 0.0018 (0.037 sec/step)\n"
          ],
          "name": "stdout"
        },
        {
          "output_type": "stream",
          "text": [
            "I1007 10:11:56.456843 140316417697664 learning.py:507] global step 274: loss = 0.0018 (0.037 sec/step)\n"
          ],
          "name": "stderr"
        },
        {
          "output_type": "stream",
          "text": [
            "INFO:tensorflow:global step 275: loss = 0.0018 (0.032 sec/step)\n"
          ],
          "name": "stdout"
        },
        {
          "output_type": "stream",
          "text": [
            "I1007 10:11:56.495638 140316417697664 learning.py:507] global step 275: loss = 0.0018 (0.032 sec/step)\n"
          ],
          "name": "stderr"
        },
        {
          "output_type": "stream",
          "text": [
            "INFO:tensorflow:global step 276: loss = 0.0019 (0.033 sec/step)\n"
          ],
          "name": "stdout"
        },
        {
          "output_type": "stream",
          "text": [
            "I1007 10:11:56.533345 140316417697664 learning.py:507] global step 276: loss = 0.0019 (0.033 sec/step)\n"
          ],
          "name": "stderr"
        },
        {
          "output_type": "stream",
          "text": [
            "INFO:tensorflow:global step 277: loss = 0.0019 (0.031 sec/step)\n"
          ],
          "name": "stdout"
        },
        {
          "output_type": "stream",
          "text": [
            "I1007 10:11:56.571643 140316417697664 learning.py:507] global step 277: loss = 0.0019 (0.031 sec/step)\n"
          ],
          "name": "stderr"
        },
        {
          "output_type": "stream",
          "text": [
            "INFO:tensorflow:global step 278: loss = 0.0019 (0.034 sec/step)\n"
          ],
          "name": "stdout"
        },
        {
          "output_type": "stream",
          "text": [
            "I1007 10:11:56.609349 140316417697664 learning.py:507] global step 278: loss = 0.0019 (0.034 sec/step)\n"
          ],
          "name": "stderr"
        },
        {
          "output_type": "stream",
          "text": [
            "INFO:tensorflow:global step 279: loss = 0.0016 (0.036 sec/step)\n"
          ],
          "name": "stdout"
        },
        {
          "output_type": "stream",
          "text": [
            "I1007 10:11:56.651750 140316417697664 learning.py:507] global step 279: loss = 0.0016 (0.036 sec/step)\n"
          ],
          "name": "stderr"
        },
        {
          "output_type": "stream",
          "text": [
            "INFO:tensorflow:global step 280: loss = 0.0019 (0.032 sec/step)\n"
          ],
          "name": "stdout"
        },
        {
          "output_type": "stream",
          "text": [
            "I1007 10:11:56.690730 140316417697664 learning.py:507] global step 280: loss = 0.0019 (0.032 sec/step)\n"
          ],
          "name": "stderr"
        },
        {
          "output_type": "stream",
          "text": [
            "INFO:tensorflow:global step 281: loss = 0.0019 (0.036 sec/step)\n"
          ],
          "name": "stdout"
        },
        {
          "output_type": "stream",
          "text": [
            "I1007 10:11:56.729643 140316417697664 learning.py:507] global step 281: loss = 0.0019 (0.036 sec/step)\n"
          ],
          "name": "stderr"
        },
        {
          "output_type": "stream",
          "text": [
            "INFO:tensorflow:global step 282: loss = 0.0017 (0.035 sec/step)\n"
          ],
          "name": "stdout"
        },
        {
          "output_type": "stream",
          "text": [
            "I1007 10:11:56.767987 140316417697664 learning.py:507] global step 282: loss = 0.0017 (0.035 sec/step)\n"
          ],
          "name": "stderr"
        },
        {
          "output_type": "stream",
          "text": [
            "INFO:tensorflow:global step 283: loss = 0.0016 (0.042 sec/step)\n"
          ],
          "name": "stdout"
        },
        {
          "output_type": "stream",
          "text": [
            "I1007 10:11:56.815186 140316417697664 learning.py:507] global step 283: loss = 0.0016 (0.042 sec/step)\n"
          ],
          "name": "stderr"
        },
        {
          "output_type": "stream",
          "text": [
            "INFO:tensorflow:global step 284: loss = 0.0016 (0.037 sec/step)\n"
          ],
          "name": "stdout"
        },
        {
          "output_type": "stream",
          "text": [
            "I1007 10:11:56.855950 140316417697664 learning.py:507] global step 284: loss = 0.0016 (0.037 sec/step)\n"
          ],
          "name": "stderr"
        },
        {
          "output_type": "stream",
          "text": [
            "INFO:tensorflow:global step 285: loss = 0.0019 (0.035 sec/step)\n"
          ],
          "name": "stdout"
        },
        {
          "output_type": "stream",
          "text": [
            "I1007 10:11:56.894386 140316417697664 learning.py:507] global step 285: loss = 0.0019 (0.035 sec/step)\n"
          ],
          "name": "stderr"
        },
        {
          "output_type": "stream",
          "text": [
            "INFO:tensorflow:global step 286: loss = 0.0018 (0.038 sec/step)\n"
          ],
          "name": "stdout"
        },
        {
          "output_type": "stream",
          "text": [
            "I1007 10:11:56.937675 140316417697664 learning.py:507] global step 286: loss = 0.0018 (0.038 sec/step)\n"
          ],
          "name": "stderr"
        },
        {
          "output_type": "stream",
          "text": [
            "INFO:tensorflow:global step 287: loss = 0.0015 (0.033 sec/step)\n"
          ],
          "name": "stdout"
        },
        {
          "output_type": "stream",
          "text": [
            "I1007 10:11:56.975668 140316417697664 learning.py:507] global step 287: loss = 0.0015 (0.033 sec/step)\n"
          ],
          "name": "stderr"
        },
        {
          "output_type": "stream",
          "text": [
            "INFO:tensorflow:global step 288: loss = 0.0017 (0.033 sec/step)\n"
          ],
          "name": "stdout"
        },
        {
          "output_type": "stream",
          "text": [
            "I1007 10:11:57.014699 140316417697664 learning.py:507] global step 288: loss = 0.0017 (0.033 sec/step)\n"
          ],
          "name": "stderr"
        },
        {
          "output_type": "stream",
          "text": [
            "INFO:tensorflow:global step 289: loss = 0.0018 (0.032 sec/step)\n"
          ],
          "name": "stdout"
        },
        {
          "output_type": "stream",
          "text": [
            "I1007 10:11:57.053355 140316417697664 learning.py:507] global step 289: loss = 0.0018 (0.032 sec/step)\n"
          ],
          "name": "stderr"
        },
        {
          "output_type": "stream",
          "text": [
            "INFO:tensorflow:global step 290: loss = 0.0019 (0.036 sec/step)\n"
          ],
          "name": "stdout"
        },
        {
          "output_type": "stream",
          "text": [
            "I1007 10:11:57.093187 140316417697664 learning.py:507] global step 290: loss = 0.0019 (0.036 sec/step)\n"
          ],
          "name": "stderr"
        },
        {
          "output_type": "stream",
          "text": [
            "INFO:tensorflow:global step 291: loss = 0.0021 (0.031 sec/step)\n"
          ],
          "name": "stdout"
        },
        {
          "output_type": "stream",
          "text": [
            "I1007 10:11:57.131054 140316417697664 learning.py:507] global step 291: loss = 0.0021 (0.031 sec/step)\n"
          ],
          "name": "stderr"
        },
        {
          "output_type": "stream",
          "text": [
            "INFO:tensorflow:global step 292: loss = 0.0017 (0.035 sec/step)\n"
          ],
          "name": "stdout"
        },
        {
          "output_type": "stream",
          "text": [
            "I1007 10:11:57.170248 140316417697664 learning.py:507] global step 292: loss = 0.0017 (0.035 sec/step)\n"
          ],
          "name": "stderr"
        },
        {
          "output_type": "stream",
          "text": [
            "INFO:tensorflow:global step 293: loss = 0.0019 (0.036 sec/step)\n"
          ],
          "name": "stdout"
        },
        {
          "output_type": "stream",
          "text": [
            "I1007 10:11:57.208881 140316417697664 learning.py:507] global step 293: loss = 0.0019 (0.036 sec/step)\n"
          ],
          "name": "stderr"
        },
        {
          "output_type": "stream",
          "text": [
            "INFO:tensorflow:global step 294: loss = 0.0020 (0.037 sec/step)\n"
          ],
          "name": "stdout"
        },
        {
          "output_type": "stream",
          "text": [
            "I1007 10:11:57.248545 140316417697664 learning.py:507] global step 294: loss = 0.0020 (0.037 sec/step)\n"
          ],
          "name": "stderr"
        },
        {
          "output_type": "stream",
          "text": [
            "INFO:tensorflow:global step 295: loss = 0.0017 (0.036 sec/step)\n"
          ],
          "name": "stdout"
        },
        {
          "output_type": "stream",
          "text": [
            "I1007 10:11:57.287209 140316417697664 learning.py:507] global step 295: loss = 0.0017 (0.036 sec/step)\n"
          ],
          "name": "stderr"
        },
        {
          "output_type": "stream",
          "text": [
            "INFO:tensorflow:global step 296: loss = 0.0021 (0.038 sec/step)\n"
          ],
          "name": "stdout"
        },
        {
          "output_type": "stream",
          "text": [
            "I1007 10:11:57.327632 140316417697664 learning.py:507] global step 296: loss = 0.0021 (0.038 sec/step)\n"
          ],
          "name": "stderr"
        },
        {
          "output_type": "stream",
          "text": [
            "INFO:tensorflow:global step 297: loss = 0.0017 (0.034 sec/step)\n"
          ],
          "name": "stdout"
        },
        {
          "output_type": "stream",
          "text": [
            "I1007 10:11:57.365113 140316417697664 learning.py:507] global step 297: loss = 0.0017 (0.034 sec/step)\n"
          ],
          "name": "stderr"
        },
        {
          "output_type": "stream",
          "text": [
            "INFO:tensorflow:global step 298: loss = 0.0016 (0.033 sec/step)\n"
          ],
          "name": "stdout"
        },
        {
          "output_type": "stream",
          "text": [
            "I1007 10:11:57.404372 140316417697664 learning.py:507] global step 298: loss = 0.0016 (0.033 sec/step)\n"
          ],
          "name": "stderr"
        },
        {
          "output_type": "stream",
          "text": [
            "INFO:tensorflow:global step 299: loss = 0.0018 (0.033 sec/step)\n"
          ],
          "name": "stdout"
        },
        {
          "output_type": "stream",
          "text": [
            "I1007 10:11:57.444053 140316417697664 learning.py:507] global step 299: loss = 0.0018 (0.033 sec/step)\n"
          ],
          "name": "stderr"
        },
        {
          "output_type": "stream",
          "text": [
            "INFO:tensorflow:global step 300: loss = 0.0015 (0.033 sec/step)\n"
          ],
          "name": "stdout"
        },
        {
          "output_type": "stream",
          "text": [
            "I1007 10:11:57.482154 140316417697664 learning.py:507] global step 300: loss = 0.0015 (0.033 sec/step)\n"
          ],
          "name": "stderr"
        },
        {
          "output_type": "stream",
          "text": [
            "INFO:tensorflow:global step 301: loss = 0.0014 (0.034 sec/step)\n"
          ],
          "name": "stdout"
        },
        {
          "output_type": "stream",
          "text": [
            "I1007 10:11:57.520977 140316417697664 learning.py:507] global step 301: loss = 0.0014 (0.034 sec/step)\n"
          ],
          "name": "stderr"
        },
        {
          "output_type": "stream",
          "text": [
            "INFO:tensorflow:global step 302: loss = 0.0020 (0.031 sec/step)\n"
          ],
          "name": "stdout"
        },
        {
          "output_type": "stream",
          "text": [
            "I1007 10:11:57.559338 140316417697664 learning.py:507] global step 302: loss = 0.0020 (0.031 sec/step)\n"
          ],
          "name": "stderr"
        },
        {
          "output_type": "stream",
          "text": [
            "INFO:tensorflow:global step 303: loss = 0.0022 (0.036 sec/step)\n"
          ],
          "name": "stdout"
        },
        {
          "output_type": "stream",
          "text": [
            "I1007 10:11:57.598128 140316417697664 learning.py:507] global step 303: loss = 0.0022 (0.036 sec/step)\n"
          ],
          "name": "stderr"
        },
        {
          "output_type": "stream",
          "text": [
            "INFO:tensorflow:global step 304: loss = 0.0018 (0.033 sec/step)\n"
          ],
          "name": "stdout"
        },
        {
          "output_type": "stream",
          "text": [
            "I1007 10:11:57.637582 140316417697664 learning.py:507] global step 304: loss = 0.0018 (0.033 sec/step)\n"
          ],
          "name": "stderr"
        },
        {
          "output_type": "stream",
          "text": [
            "INFO:tensorflow:global step 305: loss = 0.0020 (0.031 sec/step)\n"
          ],
          "name": "stdout"
        },
        {
          "output_type": "stream",
          "text": [
            "I1007 10:11:57.675284 140316417697664 learning.py:507] global step 305: loss = 0.0020 (0.031 sec/step)\n"
          ],
          "name": "stderr"
        },
        {
          "output_type": "stream",
          "text": [
            "INFO:tensorflow:global step 306: loss = 0.0022 (0.034 sec/step)\n"
          ],
          "name": "stdout"
        },
        {
          "output_type": "stream",
          "text": [
            "I1007 10:11:57.716644 140316417697664 learning.py:507] global step 306: loss = 0.0022 (0.034 sec/step)\n"
          ],
          "name": "stderr"
        },
        {
          "output_type": "stream",
          "text": [
            "INFO:tensorflow:global step 307: loss = 0.0017 (0.035 sec/step)\n"
          ],
          "name": "stdout"
        },
        {
          "output_type": "stream",
          "text": [
            "I1007 10:11:57.754179 140316417697664 learning.py:507] global step 307: loss = 0.0017 (0.035 sec/step)\n"
          ],
          "name": "stderr"
        },
        {
          "output_type": "stream",
          "text": [
            "INFO:tensorflow:global step 308: loss = 0.0019 (0.035 sec/step)\n"
          ],
          "name": "stdout"
        },
        {
          "output_type": "stream",
          "text": [
            "I1007 10:11:57.793099 140316417697664 learning.py:507] global step 308: loss = 0.0019 (0.035 sec/step)\n"
          ],
          "name": "stderr"
        },
        {
          "output_type": "stream",
          "text": [
            "INFO:tensorflow:global step 309: loss = 0.0017 (0.044 sec/step)\n"
          ],
          "name": "stdout"
        },
        {
          "output_type": "stream",
          "text": [
            "I1007 10:11:57.840230 140316417697664 learning.py:507] global step 309: loss = 0.0017 (0.044 sec/step)\n"
          ],
          "name": "stderr"
        },
        {
          "output_type": "stream",
          "text": [
            "INFO:tensorflow:global step 310: loss = 0.0020 (0.035 sec/step)\n"
          ],
          "name": "stdout"
        },
        {
          "output_type": "stream",
          "text": [
            "I1007 10:11:57.879135 140316417697664 learning.py:507] global step 310: loss = 0.0020 (0.035 sec/step)\n"
          ],
          "name": "stderr"
        },
        {
          "output_type": "stream",
          "text": [
            "INFO:tensorflow:global step 311: loss = 0.0016 (0.032 sec/step)\n"
          ],
          "name": "stdout"
        },
        {
          "output_type": "stream",
          "text": [
            "I1007 10:11:57.917301 140316417697664 learning.py:507] global step 311: loss = 0.0016 (0.032 sec/step)\n"
          ],
          "name": "stderr"
        },
        {
          "output_type": "stream",
          "text": [
            "INFO:tensorflow:global step 312: loss = 0.0016 (0.033 sec/step)\n"
          ],
          "name": "stdout"
        },
        {
          "output_type": "stream",
          "text": [
            "I1007 10:11:57.958194 140316417697664 learning.py:507] global step 312: loss = 0.0016 (0.033 sec/step)\n"
          ],
          "name": "stderr"
        },
        {
          "output_type": "stream",
          "text": [
            "INFO:tensorflow:global step 313: loss = 0.0017 (0.031 sec/step)\n"
          ],
          "name": "stdout"
        },
        {
          "output_type": "stream",
          "text": [
            "I1007 10:11:57.996417 140316417697664 learning.py:507] global step 313: loss = 0.0017 (0.031 sec/step)\n"
          ],
          "name": "stderr"
        },
        {
          "output_type": "stream",
          "text": [
            "INFO:tensorflow:global step 314: loss = 0.0019 (0.033 sec/step)\n"
          ],
          "name": "stdout"
        },
        {
          "output_type": "stream",
          "text": [
            "I1007 10:11:58.035162 140316417697664 learning.py:507] global step 314: loss = 0.0019 (0.033 sec/step)\n"
          ],
          "name": "stderr"
        },
        {
          "output_type": "stream",
          "text": [
            "INFO:tensorflow:global step 315: loss = 0.0019 (0.033 sec/step)\n"
          ],
          "name": "stdout"
        },
        {
          "output_type": "stream",
          "text": [
            "I1007 10:11:58.076386 140316417697664 learning.py:507] global step 315: loss = 0.0019 (0.033 sec/step)\n"
          ],
          "name": "stderr"
        },
        {
          "output_type": "stream",
          "text": [
            "INFO:tensorflow:global step 316: loss = 0.0019 (0.039 sec/step)\n"
          ],
          "name": "stdout"
        },
        {
          "output_type": "stream",
          "text": [
            "I1007 10:11:58.118370 140316417697664 learning.py:507] global step 316: loss = 0.0019 (0.039 sec/step)\n"
          ],
          "name": "stderr"
        },
        {
          "output_type": "stream",
          "text": [
            "INFO:tensorflow:global step 317: loss = 0.0019 (0.032 sec/step)\n"
          ],
          "name": "stdout"
        },
        {
          "output_type": "stream",
          "text": [
            "I1007 10:11:58.156940 140316417697664 learning.py:507] global step 317: loss = 0.0019 (0.032 sec/step)\n"
          ],
          "name": "stderr"
        },
        {
          "output_type": "stream",
          "text": [
            "INFO:tensorflow:global step 318: loss = 0.0018 (0.034 sec/step)\n"
          ],
          "name": "stdout"
        },
        {
          "output_type": "stream",
          "text": [
            "I1007 10:11:58.194679 140316417697664 learning.py:507] global step 318: loss = 0.0018 (0.034 sec/step)\n"
          ],
          "name": "stderr"
        },
        {
          "output_type": "stream",
          "text": [
            "INFO:tensorflow:global step 319: loss = 0.0018 (0.032 sec/step)\n"
          ],
          "name": "stdout"
        },
        {
          "output_type": "stream",
          "text": [
            "I1007 10:11:58.233191 140316417697664 learning.py:507] global step 319: loss = 0.0018 (0.032 sec/step)\n"
          ],
          "name": "stderr"
        },
        {
          "output_type": "stream",
          "text": [
            "INFO:tensorflow:global step 320: loss = 0.0017 (0.034 sec/step)\n"
          ],
          "name": "stdout"
        },
        {
          "output_type": "stream",
          "text": [
            "I1007 10:11:58.271245 140316417697664 learning.py:507] global step 320: loss = 0.0017 (0.034 sec/step)\n"
          ],
          "name": "stderr"
        },
        {
          "output_type": "stream",
          "text": [
            "INFO:tensorflow:global step 321: loss = 0.0021 (0.032 sec/step)\n"
          ],
          "name": "stdout"
        },
        {
          "output_type": "stream",
          "text": [
            "I1007 10:11:58.309070 140316417697664 learning.py:507] global step 321: loss = 0.0021 (0.032 sec/step)\n"
          ],
          "name": "stderr"
        },
        {
          "output_type": "stream",
          "text": [
            "INFO:tensorflow:global step 322: loss = 0.0018 (0.034 sec/step)\n"
          ],
          "name": "stdout"
        },
        {
          "output_type": "stream",
          "text": [
            "I1007 10:11:58.348687 140316417697664 learning.py:507] global step 322: loss = 0.0018 (0.034 sec/step)\n"
          ],
          "name": "stderr"
        },
        {
          "output_type": "stream",
          "text": [
            "INFO:tensorflow:global step 323: loss = 0.0017 (0.032 sec/step)\n"
          ],
          "name": "stdout"
        },
        {
          "output_type": "stream",
          "text": [
            "I1007 10:11:58.387562 140316417697664 learning.py:507] global step 323: loss = 0.0017 (0.032 sec/step)\n"
          ],
          "name": "stderr"
        },
        {
          "output_type": "stream",
          "text": [
            "INFO:tensorflow:global step 324: loss = 0.0017 (0.037 sec/step)\n"
          ],
          "name": "stdout"
        },
        {
          "output_type": "stream",
          "text": [
            "I1007 10:11:58.429175 140316417697664 learning.py:507] global step 324: loss = 0.0017 (0.037 sec/step)\n"
          ],
          "name": "stderr"
        },
        {
          "output_type": "stream",
          "text": [
            "INFO:tensorflow:global step 325: loss = 0.0018 (0.035 sec/step)\n"
          ],
          "name": "stdout"
        },
        {
          "output_type": "stream",
          "text": [
            "I1007 10:11:58.466744 140316417697664 learning.py:507] global step 325: loss = 0.0018 (0.035 sec/step)\n"
          ],
          "name": "stderr"
        },
        {
          "output_type": "stream",
          "text": [
            "INFO:tensorflow:global step 326: loss = 0.0018 (0.033 sec/step)\n"
          ],
          "name": "stdout"
        },
        {
          "output_type": "stream",
          "text": [
            "I1007 10:11:58.504554 140316417697664 learning.py:507] global step 326: loss = 0.0018 (0.033 sec/step)\n"
          ],
          "name": "stderr"
        },
        {
          "output_type": "stream",
          "text": [
            "INFO:tensorflow:global step 327: loss = 0.0016 (0.031 sec/step)\n"
          ],
          "name": "stdout"
        },
        {
          "output_type": "stream",
          "text": [
            "I1007 10:11:58.542902 140316417697664 learning.py:507] global step 327: loss = 0.0016 (0.031 sec/step)\n"
          ],
          "name": "stderr"
        },
        {
          "output_type": "stream",
          "text": [
            "INFO:tensorflow:global step 328: loss = 0.0017 (0.037 sec/step)\n"
          ],
          "name": "stdout"
        },
        {
          "output_type": "stream",
          "text": [
            "I1007 10:11:58.582573 140316417697664 learning.py:507] global step 328: loss = 0.0017 (0.037 sec/step)\n"
          ],
          "name": "stderr"
        },
        {
          "output_type": "stream",
          "text": [
            "INFO:tensorflow:global step 329: loss = 0.0017 (0.035 sec/step)\n"
          ],
          "name": "stdout"
        },
        {
          "output_type": "stream",
          "text": [
            "I1007 10:11:58.621292 140316417697664 learning.py:507] global step 329: loss = 0.0017 (0.035 sec/step)\n"
          ],
          "name": "stderr"
        },
        {
          "output_type": "stream",
          "text": [
            "INFO:tensorflow:global step 330: loss = 0.0019 (0.037 sec/step)\n"
          ],
          "name": "stdout"
        },
        {
          "output_type": "stream",
          "text": [
            "I1007 10:11:58.660639 140316417697664 learning.py:507] global step 330: loss = 0.0019 (0.037 sec/step)\n"
          ],
          "name": "stderr"
        },
        {
          "output_type": "stream",
          "text": [
            "INFO:tensorflow:global step 331: loss = 0.0019 (0.033 sec/step)\n"
          ],
          "name": "stdout"
        },
        {
          "output_type": "stream",
          "text": [
            "I1007 10:11:58.700539 140316417697664 learning.py:507] global step 331: loss = 0.0019 (0.033 sec/step)\n"
          ],
          "name": "stderr"
        },
        {
          "output_type": "stream",
          "text": [
            "INFO:tensorflow:global step 332: loss = 0.0015 (0.036 sec/step)\n"
          ],
          "name": "stdout"
        },
        {
          "output_type": "stream",
          "text": [
            "I1007 10:11:58.739147 140316417697664 learning.py:507] global step 332: loss = 0.0015 (0.036 sec/step)\n"
          ],
          "name": "stderr"
        },
        {
          "output_type": "stream",
          "text": [
            "INFO:tensorflow:global step 333: loss = 0.0018 (0.031 sec/step)\n"
          ],
          "name": "stdout"
        },
        {
          "output_type": "stream",
          "text": [
            "I1007 10:11:58.777377 140316417697664 learning.py:507] global step 333: loss = 0.0018 (0.031 sec/step)\n"
          ],
          "name": "stderr"
        },
        {
          "output_type": "stream",
          "text": [
            "INFO:tensorflow:global step 334: loss = 0.0015 (0.048 sec/step)\n"
          ],
          "name": "stdout"
        },
        {
          "output_type": "stream",
          "text": [
            "I1007 10:11:58.830323 140316417697664 learning.py:507] global step 334: loss = 0.0015 (0.048 sec/step)\n"
          ],
          "name": "stderr"
        },
        {
          "output_type": "stream",
          "text": [
            "INFO:tensorflow:global step 335: loss = 0.0018 (0.034 sec/step)\n"
          ],
          "name": "stdout"
        },
        {
          "output_type": "stream",
          "text": [
            "I1007 10:11:58.871338 140316417697664 learning.py:507] global step 335: loss = 0.0018 (0.034 sec/step)\n"
          ],
          "name": "stderr"
        },
        {
          "output_type": "stream",
          "text": [
            "INFO:tensorflow:global step 336: loss = 0.0020 (0.032 sec/step)\n"
          ],
          "name": "stdout"
        },
        {
          "output_type": "stream",
          "text": [
            "I1007 10:11:58.910024 140316417697664 learning.py:507] global step 336: loss = 0.0020 (0.032 sec/step)\n"
          ],
          "name": "stderr"
        },
        {
          "output_type": "stream",
          "text": [
            "INFO:tensorflow:global step 337: loss = 0.0017 (0.033 sec/step)\n"
          ],
          "name": "stdout"
        },
        {
          "output_type": "stream",
          "text": [
            "I1007 10:11:58.947944 140316417697664 learning.py:507] global step 337: loss = 0.0017 (0.033 sec/step)\n"
          ],
          "name": "stderr"
        },
        {
          "output_type": "stream",
          "text": [
            "INFO:tensorflow:global step 338: loss = 0.0019 (0.033 sec/step)\n"
          ],
          "name": "stdout"
        },
        {
          "output_type": "stream",
          "text": [
            "I1007 10:11:58.986009 140316417697664 learning.py:507] global step 338: loss = 0.0019 (0.033 sec/step)\n"
          ],
          "name": "stderr"
        },
        {
          "output_type": "stream",
          "text": [
            "INFO:tensorflow:global step 339: loss = 0.0017 (0.035 sec/step)\n"
          ],
          "name": "stdout"
        },
        {
          "output_type": "stream",
          "text": [
            "I1007 10:11:59.025523 140316417697664 learning.py:507] global step 339: loss = 0.0017 (0.035 sec/step)\n"
          ],
          "name": "stderr"
        },
        {
          "output_type": "stream",
          "text": [
            "INFO:tensorflow:global step 340: loss = 0.0019 (0.034 sec/step)\n"
          ],
          "name": "stdout"
        },
        {
          "output_type": "stream",
          "text": [
            "I1007 10:11:59.063799 140316417697664 learning.py:507] global step 340: loss = 0.0019 (0.034 sec/step)\n"
          ],
          "name": "stderr"
        },
        {
          "output_type": "stream",
          "text": [
            "INFO:tensorflow:global step 341: loss = 0.0020 (0.032 sec/step)\n"
          ],
          "name": "stdout"
        },
        {
          "output_type": "stream",
          "text": [
            "I1007 10:11:59.103034 140316417697664 learning.py:507] global step 341: loss = 0.0020 (0.032 sec/step)\n"
          ],
          "name": "stderr"
        },
        {
          "output_type": "stream",
          "text": [
            "INFO:tensorflow:global step 342: loss = 0.0015 (0.033 sec/step)\n"
          ],
          "name": "stdout"
        },
        {
          "output_type": "stream",
          "text": [
            "I1007 10:11:59.146228 140316417697664 learning.py:507] global step 342: loss = 0.0015 (0.033 sec/step)\n"
          ],
          "name": "stderr"
        },
        {
          "output_type": "stream",
          "text": [
            "INFO:tensorflow:global step 343: loss = 0.0020 (0.038 sec/step)\n"
          ],
          "name": "stdout"
        },
        {
          "output_type": "stream",
          "text": [
            "I1007 10:11:59.187451 140316417697664 learning.py:507] global step 343: loss = 0.0020 (0.038 sec/step)\n"
          ],
          "name": "stderr"
        },
        {
          "output_type": "stream",
          "text": [
            "INFO:tensorflow:global step 344: loss = 0.0018 (0.034 sec/step)\n"
          ],
          "name": "stdout"
        },
        {
          "output_type": "stream",
          "text": [
            "I1007 10:11:59.228839 140316417697664 learning.py:507] global step 344: loss = 0.0018 (0.034 sec/step)\n"
          ],
          "name": "stderr"
        },
        {
          "output_type": "stream",
          "text": [
            "INFO:tensorflow:global step 345: loss = 0.0018 (0.035 sec/step)\n"
          ],
          "name": "stdout"
        },
        {
          "output_type": "stream",
          "text": [
            "I1007 10:11:59.267981 140316417697664 learning.py:507] global step 345: loss = 0.0018 (0.035 sec/step)\n"
          ],
          "name": "stderr"
        },
        {
          "output_type": "stream",
          "text": [
            "INFO:tensorflow:global step 346: loss = 0.0015 (0.033 sec/step)\n"
          ],
          "name": "stdout"
        },
        {
          "output_type": "stream",
          "text": [
            "I1007 10:11:59.307533 140316417697664 learning.py:507] global step 346: loss = 0.0015 (0.033 sec/step)\n"
          ],
          "name": "stderr"
        },
        {
          "output_type": "stream",
          "text": [
            "INFO:tensorflow:global step 347: loss = 0.0023 (0.036 sec/step)\n"
          ],
          "name": "stdout"
        },
        {
          "output_type": "stream",
          "text": [
            "I1007 10:11:59.346874 140316417697664 learning.py:507] global step 347: loss = 0.0023 (0.036 sec/step)\n"
          ],
          "name": "stderr"
        },
        {
          "output_type": "stream",
          "text": [
            "INFO:tensorflow:global step 348: loss = 0.0016 (0.034 sec/step)\n"
          ],
          "name": "stdout"
        },
        {
          "output_type": "stream",
          "text": [
            "I1007 10:11:59.384916 140316417697664 learning.py:507] global step 348: loss = 0.0016 (0.034 sec/step)\n"
          ],
          "name": "stderr"
        },
        {
          "output_type": "stream",
          "text": [
            "INFO:tensorflow:global step 349: loss = 0.0017 (0.032 sec/step)\n"
          ],
          "name": "stdout"
        },
        {
          "output_type": "stream",
          "text": [
            "I1007 10:11:59.424569 140316417697664 learning.py:507] global step 349: loss = 0.0017 (0.032 sec/step)\n"
          ],
          "name": "stderr"
        },
        {
          "output_type": "stream",
          "text": [
            "INFO:tensorflow:global step 350: loss = 0.0018 (0.033 sec/step)\n"
          ],
          "name": "stdout"
        },
        {
          "output_type": "stream",
          "text": [
            "I1007 10:11:59.462242 140316417697664 learning.py:507] global step 350: loss = 0.0018 (0.033 sec/step)\n"
          ],
          "name": "stderr"
        },
        {
          "output_type": "stream",
          "text": [
            "INFO:tensorflow:global step 351: loss = 0.0020 (0.032 sec/step)\n"
          ],
          "name": "stdout"
        },
        {
          "output_type": "stream",
          "text": [
            "I1007 10:11:59.501376 140316417697664 learning.py:507] global step 351: loss = 0.0020 (0.032 sec/step)\n"
          ],
          "name": "stderr"
        },
        {
          "output_type": "stream",
          "text": [
            "INFO:tensorflow:global step 352: loss = 0.0018 (0.032 sec/step)\n"
          ],
          "name": "stdout"
        },
        {
          "output_type": "stream",
          "text": [
            "I1007 10:11:59.540218 140316417697664 learning.py:507] global step 352: loss = 0.0018 (0.032 sec/step)\n"
          ],
          "name": "stderr"
        },
        {
          "output_type": "stream",
          "text": [
            "INFO:tensorflow:global step 353: loss = 0.0015 (0.035 sec/step)\n"
          ],
          "name": "stdout"
        },
        {
          "output_type": "stream",
          "text": [
            "I1007 10:11:59.577770 140316417697664 learning.py:507] global step 353: loss = 0.0015 (0.035 sec/step)\n"
          ],
          "name": "stderr"
        },
        {
          "output_type": "stream",
          "text": [
            "INFO:tensorflow:global step 354: loss = 0.0017 (0.036 sec/step)\n"
          ],
          "name": "stdout"
        },
        {
          "output_type": "stream",
          "text": [
            "I1007 10:11:59.616061 140316417697664 learning.py:507] global step 354: loss = 0.0017 (0.036 sec/step)\n"
          ],
          "name": "stderr"
        },
        {
          "output_type": "stream",
          "text": [
            "INFO:tensorflow:global step 355: loss = 0.0019 (0.034 sec/step)\n"
          ],
          "name": "stdout"
        },
        {
          "output_type": "stream",
          "text": [
            "I1007 10:11:59.654079 140316417697664 learning.py:507] global step 355: loss = 0.0019 (0.034 sec/step)\n"
          ],
          "name": "stderr"
        },
        {
          "output_type": "stream",
          "text": [
            "INFO:tensorflow:global step 356: loss = 0.0016 (0.031 sec/step)\n"
          ],
          "name": "stdout"
        },
        {
          "output_type": "stream",
          "text": [
            "I1007 10:11:59.692353 140316417697664 learning.py:507] global step 356: loss = 0.0016 (0.031 sec/step)\n"
          ],
          "name": "stderr"
        },
        {
          "output_type": "stream",
          "text": [
            "INFO:tensorflow:global step 357: loss = 0.0016 (0.035 sec/step)\n"
          ],
          "name": "stdout"
        },
        {
          "output_type": "stream",
          "text": [
            "I1007 10:11:59.731704 140316417697664 learning.py:507] global step 357: loss = 0.0016 (0.035 sec/step)\n"
          ],
          "name": "stderr"
        },
        {
          "output_type": "stream",
          "text": [
            "INFO:tensorflow:global step 358: loss = 0.0016 (0.034 sec/step)\n"
          ],
          "name": "stdout"
        },
        {
          "output_type": "stream",
          "text": [
            "I1007 10:11:59.769303 140316417697664 learning.py:507] global step 358: loss = 0.0016 (0.034 sec/step)\n"
          ],
          "name": "stderr"
        },
        {
          "output_type": "stream",
          "text": [
            "INFO:tensorflow:global step 359: loss = 0.0020 (0.044 sec/step)\n"
          ],
          "name": "stdout"
        },
        {
          "output_type": "stream",
          "text": [
            "I1007 10:11:59.816508 140316417697664 learning.py:507] global step 359: loss = 0.0020 (0.044 sec/step)\n"
          ],
          "name": "stderr"
        },
        {
          "output_type": "stream",
          "text": [
            "INFO:tensorflow:global step 360: loss = 0.0022 (0.043 sec/step)\n"
          ],
          "name": "stdout"
        },
        {
          "output_type": "stream",
          "text": [
            "I1007 10:11:59.863061 140316417697664 learning.py:507] global step 360: loss = 0.0022 (0.043 sec/step)\n"
          ],
          "name": "stderr"
        },
        {
          "output_type": "stream",
          "text": [
            "INFO:tensorflow:global step 361: loss = 0.0016 (0.035 sec/step)\n"
          ],
          "name": "stdout"
        },
        {
          "output_type": "stream",
          "text": [
            "I1007 10:11:59.901995 140316417697664 learning.py:507] global step 361: loss = 0.0016 (0.035 sec/step)\n"
          ],
          "name": "stderr"
        },
        {
          "output_type": "stream",
          "text": [
            "INFO:tensorflow:global step 362: loss = 0.0020 (0.033 sec/step)\n"
          ],
          "name": "stdout"
        },
        {
          "output_type": "stream",
          "text": [
            "I1007 10:11:59.942670 140316417697664 learning.py:507] global step 362: loss = 0.0020 (0.033 sec/step)\n"
          ],
          "name": "stderr"
        },
        {
          "output_type": "stream",
          "text": [
            "INFO:tensorflow:global step 363: loss = 0.0022 (0.035 sec/step)\n"
          ],
          "name": "stdout"
        },
        {
          "output_type": "stream",
          "text": [
            "I1007 10:11:59.979795 140316417697664 learning.py:507] global step 363: loss = 0.0022 (0.035 sec/step)\n"
          ],
          "name": "stderr"
        },
        {
          "output_type": "stream",
          "text": [
            "INFO:tensorflow:global step 364: loss = 0.0017 (0.034 sec/step)\n"
          ],
          "name": "stdout"
        },
        {
          "output_type": "stream",
          "text": [
            "I1007 10:12:00.017608 140316417697664 learning.py:507] global step 364: loss = 0.0017 (0.034 sec/step)\n"
          ],
          "name": "stderr"
        },
        {
          "output_type": "stream",
          "text": [
            "INFO:tensorflow:global step 365: loss = 0.0017 (0.034 sec/step)\n"
          ],
          "name": "stdout"
        },
        {
          "output_type": "stream",
          "text": [
            "I1007 10:12:00.054547 140316417697664 learning.py:507] global step 365: loss = 0.0017 (0.034 sec/step)\n"
          ],
          "name": "stderr"
        },
        {
          "output_type": "stream",
          "text": [
            "INFO:tensorflow:global step 366: loss = 0.0017 (0.034 sec/step)\n"
          ],
          "name": "stdout"
        },
        {
          "output_type": "stream",
          "text": [
            "I1007 10:12:00.091791 140316417697664 learning.py:507] global step 366: loss = 0.0017 (0.034 sec/step)\n"
          ],
          "name": "stderr"
        },
        {
          "output_type": "stream",
          "text": [
            "INFO:tensorflow:global step 367: loss = 0.0016 (0.032 sec/step)\n"
          ],
          "name": "stdout"
        },
        {
          "output_type": "stream",
          "text": [
            "I1007 10:12:00.131287 140316417697664 learning.py:507] global step 367: loss = 0.0016 (0.032 sec/step)\n"
          ],
          "name": "stderr"
        },
        {
          "output_type": "stream",
          "text": [
            "INFO:tensorflow:global step 368: loss = 0.0022 (0.034 sec/step)\n"
          ],
          "name": "stdout"
        },
        {
          "output_type": "stream",
          "text": [
            "I1007 10:12:00.168609 140316417697664 learning.py:507] global step 368: loss = 0.0022 (0.034 sec/step)\n"
          ],
          "name": "stderr"
        },
        {
          "output_type": "stream",
          "text": [
            "INFO:tensorflow:global step 369: loss = 0.0018 (0.039 sec/step)\n"
          ],
          "name": "stdout"
        },
        {
          "output_type": "stream",
          "text": [
            "I1007 10:12:00.211196 140316417697664 learning.py:507] global step 369: loss = 0.0018 (0.039 sec/step)\n"
          ],
          "name": "stderr"
        },
        {
          "output_type": "stream",
          "text": [
            "INFO:tensorflow:global step 370: loss = 0.0017 (0.032 sec/step)\n"
          ],
          "name": "stdout"
        },
        {
          "output_type": "stream",
          "text": [
            "I1007 10:12:00.250575 140316417697664 learning.py:507] global step 370: loss = 0.0017 (0.032 sec/step)\n"
          ],
          "name": "stderr"
        },
        {
          "output_type": "stream",
          "text": [
            "INFO:tensorflow:global step 371: loss = 0.0017 (0.034 sec/step)\n"
          ],
          "name": "stdout"
        },
        {
          "output_type": "stream",
          "text": [
            "I1007 10:12:00.288786 140316417697664 learning.py:507] global step 371: loss = 0.0017 (0.034 sec/step)\n"
          ],
          "name": "stderr"
        },
        {
          "output_type": "stream",
          "text": [
            "INFO:tensorflow:global step 372: loss = 0.0017 (0.034 sec/step)\n"
          ],
          "name": "stdout"
        },
        {
          "output_type": "stream",
          "text": [
            "I1007 10:12:00.327663 140316417697664 learning.py:507] global step 372: loss = 0.0017 (0.034 sec/step)\n"
          ],
          "name": "stderr"
        },
        {
          "output_type": "stream",
          "text": [
            "INFO:tensorflow:global step 373: loss = 0.0016 (0.036 sec/step)\n"
          ],
          "name": "stdout"
        },
        {
          "output_type": "stream",
          "text": [
            "I1007 10:12:00.367266 140316417697664 learning.py:507] global step 373: loss = 0.0016 (0.036 sec/step)\n"
          ],
          "name": "stderr"
        },
        {
          "output_type": "stream",
          "text": [
            "INFO:tensorflow:global step 374: loss = 0.0017 (0.037 sec/step)\n"
          ],
          "name": "stdout"
        },
        {
          "output_type": "stream",
          "text": [
            "I1007 10:12:00.406671 140316417697664 learning.py:507] global step 374: loss = 0.0017 (0.037 sec/step)\n"
          ],
          "name": "stderr"
        },
        {
          "output_type": "stream",
          "text": [
            "INFO:tensorflow:global step 375: loss = 0.0015 (0.033 sec/step)\n"
          ],
          "name": "stdout"
        },
        {
          "output_type": "stream",
          "text": [
            "I1007 10:12:00.444468 140316417697664 learning.py:507] global step 375: loss = 0.0015 (0.033 sec/step)\n"
          ],
          "name": "stderr"
        },
        {
          "output_type": "stream",
          "text": [
            "INFO:tensorflow:global step 376: loss = 0.0017 (0.031 sec/step)\n"
          ],
          "name": "stdout"
        },
        {
          "output_type": "stream",
          "text": [
            "I1007 10:12:00.482946 140316417697664 learning.py:507] global step 376: loss = 0.0017 (0.031 sec/step)\n"
          ],
          "name": "stderr"
        },
        {
          "output_type": "stream",
          "text": [
            "INFO:tensorflow:global step 377: loss = 0.0017 (0.035 sec/step)\n"
          ],
          "name": "stdout"
        },
        {
          "output_type": "stream",
          "text": [
            "I1007 10:12:00.522719 140316417697664 learning.py:507] global step 377: loss = 0.0017 (0.035 sec/step)\n"
          ],
          "name": "stderr"
        },
        {
          "output_type": "stream",
          "text": [
            "INFO:tensorflow:global step 378: loss = 0.0021 (0.034 sec/step)\n"
          ],
          "name": "stdout"
        },
        {
          "output_type": "stream",
          "text": [
            "I1007 10:12:00.560435 140316417697664 learning.py:507] global step 378: loss = 0.0021 (0.034 sec/step)\n"
          ],
          "name": "stderr"
        },
        {
          "output_type": "stream",
          "text": [
            "INFO:tensorflow:global step 379: loss = 0.0016 (0.035 sec/step)\n"
          ],
          "name": "stdout"
        },
        {
          "output_type": "stream",
          "text": [
            "I1007 10:12:00.600454 140316417697664 learning.py:507] global step 379: loss = 0.0016 (0.035 sec/step)\n"
          ],
          "name": "stderr"
        },
        {
          "output_type": "stream",
          "text": [
            "INFO:tensorflow:global step 380: loss = 0.0017 (0.032 sec/step)\n"
          ],
          "name": "stdout"
        },
        {
          "output_type": "stream",
          "text": [
            "I1007 10:12:00.639384 140316417697664 learning.py:507] global step 380: loss = 0.0017 (0.032 sec/step)\n"
          ],
          "name": "stderr"
        },
        {
          "output_type": "stream",
          "text": [
            "INFO:tensorflow:global step 381: loss = 0.0016 (0.032 sec/step)\n"
          ],
          "name": "stdout"
        },
        {
          "output_type": "stream",
          "text": [
            "I1007 10:12:00.677440 140316417697664 learning.py:507] global step 381: loss = 0.0016 (0.032 sec/step)\n"
          ],
          "name": "stderr"
        },
        {
          "output_type": "stream",
          "text": [
            "INFO:tensorflow:global step 382: loss = 0.0014 (0.036 sec/step)\n"
          ],
          "name": "stdout"
        },
        {
          "output_type": "stream",
          "text": [
            "I1007 10:12:00.717185 140316417697664 learning.py:507] global step 382: loss = 0.0014 (0.036 sec/step)\n"
          ],
          "name": "stderr"
        },
        {
          "output_type": "stream",
          "text": [
            "INFO:tensorflow:global step 383: loss = 0.0023 (0.034 sec/step)\n"
          ],
          "name": "stdout"
        },
        {
          "output_type": "stream",
          "text": [
            "I1007 10:12:00.754338 140316417697664 learning.py:507] global step 383: loss = 0.0023 (0.034 sec/step)\n"
          ],
          "name": "stderr"
        },
        {
          "output_type": "stream",
          "text": [
            "INFO:tensorflow:global step 384: loss = 0.0017 (0.034 sec/step)\n"
          ],
          "name": "stdout"
        },
        {
          "output_type": "stream",
          "text": [
            "I1007 10:12:00.793222 140316417697664 learning.py:507] global step 384: loss = 0.0017 (0.034 sec/step)\n"
          ],
          "name": "stderr"
        },
        {
          "output_type": "stream",
          "text": [
            "INFO:tensorflow:global step 385: loss = 0.0022 (0.033 sec/step)\n"
          ],
          "name": "stdout"
        },
        {
          "output_type": "stream",
          "text": [
            "I1007 10:12:00.833104 140316417697664 learning.py:507] global step 385: loss = 0.0022 (0.033 sec/step)\n"
          ],
          "name": "stderr"
        },
        {
          "output_type": "stream",
          "text": [
            "INFO:tensorflow:global step 386: loss = 0.0019 (0.039 sec/step)\n"
          ],
          "name": "stdout"
        },
        {
          "output_type": "stream",
          "text": [
            "I1007 10:12:00.881080 140316417697664 learning.py:507] global step 386: loss = 0.0019 (0.039 sec/step)\n"
          ],
          "name": "stderr"
        },
        {
          "output_type": "stream",
          "text": [
            "INFO:tensorflow:global step 387: loss = 0.0019 (0.033 sec/step)\n"
          ],
          "name": "stdout"
        },
        {
          "output_type": "stream",
          "text": [
            "I1007 10:12:00.921281 140316417697664 learning.py:507] global step 387: loss = 0.0019 (0.033 sec/step)\n"
          ],
          "name": "stderr"
        },
        {
          "output_type": "stream",
          "text": [
            "INFO:tensorflow:global step 388: loss = 0.0015 (0.032 sec/step)\n"
          ],
          "name": "stdout"
        },
        {
          "output_type": "stream",
          "text": [
            "I1007 10:12:00.960604 140316417697664 learning.py:507] global step 388: loss = 0.0015 (0.032 sec/step)\n"
          ],
          "name": "stderr"
        },
        {
          "output_type": "stream",
          "text": [
            "INFO:tensorflow:global step 389: loss = 0.0020 (0.036 sec/step)\n"
          ],
          "name": "stdout"
        },
        {
          "output_type": "stream",
          "text": [
            "I1007 10:12:01.000565 140316417697664 learning.py:507] global step 389: loss = 0.0020 (0.036 sec/step)\n"
          ],
          "name": "stderr"
        },
        {
          "output_type": "stream",
          "text": [
            "INFO:tensorflow:global step 390: loss = 0.0016 (0.035 sec/step)\n"
          ],
          "name": "stdout"
        },
        {
          "output_type": "stream",
          "text": [
            "I1007 10:12:01.039533 140316417697664 learning.py:507] global step 390: loss = 0.0016 (0.035 sec/step)\n"
          ],
          "name": "stderr"
        },
        {
          "output_type": "stream",
          "text": [
            "INFO:tensorflow:global step 391: loss = 0.0017 (0.035 sec/step)\n"
          ],
          "name": "stdout"
        },
        {
          "output_type": "stream",
          "text": [
            "I1007 10:12:01.078525 140316417697664 learning.py:507] global step 391: loss = 0.0017 (0.035 sec/step)\n"
          ],
          "name": "stderr"
        },
        {
          "output_type": "stream",
          "text": [
            "INFO:tensorflow:global step 392: loss = 0.0020 (0.036 sec/step)\n"
          ],
          "name": "stdout"
        },
        {
          "output_type": "stream",
          "text": [
            "I1007 10:12:01.118942 140316417697664 learning.py:507] global step 392: loss = 0.0020 (0.036 sec/step)\n"
          ],
          "name": "stderr"
        },
        {
          "output_type": "stream",
          "text": [
            "INFO:tensorflow:global step 393: loss = 0.0016 (0.035 sec/step)\n"
          ],
          "name": "stdout"
        },
        {
          "output_type": "stream",
          "text": [
            "I1007 10:12:01.157733 140316417697664 learning.py:507] global step 393: loss = 0.0016 (0.035 sec/step)\n"
          ],
          "name": "stderr"
        },
        {
          "output_type": "stream",
          "text": [
            "INFO:tensorflow:global step 394: loss = 0.0019 (0.031 sec/step)\n"
          ],
          "name": "stdout"
        },
        {
          "output_type": "stream",
          "text": [
            "I1007 10:12:01.195584 140316417697664 learning.py:507] global step 394: loss = 0.0019 (0.031 sec/step)\n"
          ],
          "name": "stderr"
        },
        {
          "output_type": "stream",
          "text": [
            "INFO:tensorflow:global step 395: loss = 0.0018 (0.036 sec/step)\n"
          ],
          "name": "stdout"
        },
        {
          "output_type": "stream",
          "text": [
            "I1007 10:12:01.237229 140316417697664 learning.py:507] global step 395: loss = 0.0018 (0.036 sec/step)\n"
          ],
          "name": "stderr"
        },
        {
          "output_type": "stream",
          "text": [
            "INFO:tensorflow:global step 396: loss = 0.0017 (0.031 sec/step)\n"
          ],
          "name": "stdout"
        },
        {
          "output_type": "stream",
          "text": [
            "I1007 10:12:01.275660 140316417697664 learning.py:507] global step 396: loss = 0.0017 (0.031 sec/step)\n"
          ],
          "name": "stderr"
        },
        {
          "output_type": "stream",
          "text": [
            "INFO:tensorflow:global step 397: loss = 0.0017 (0.031 sec/step)\n"
          ],
          "name": "stdout"
        },
        {
          "output_type": "stream",
          "text": [
            "I1007 10:12:01.314536 140316417697664 learning.py:507] global step 397: loss = 0.0017 (0.031 sec/step)\n"
          ],
          "name": "stderr"
        },
        {
          "output_type": "stream",
          "text": [
            "INFO:tensorflow:global step 398: loss = 0.0020 (0.031 sec/step)\n"
          ],
          "name": "stdout"
        },
        {
          "output_type": "stream",
          "text": [
            "I1007 10:12:01.352800 140316417697664 learning.py:507] global step 398: loss = 0.0020 (0.031 sec/step)\n"
          ],
          "name": "stderr"
        },
        {
          "output_type": "stream",
          "text": [
            "INFO:tensorflow:global step 399: loss = 0.0017 (0.036 sec/step)\n"
          ],
          "name": "stdout"
        },
        {
          "output_type": "stream",
          "text": [
            "I1007 10:12:01.392711 140316417697664 learning.py:507] global step 399: loss = 0.0017 (0.036 sec/step)\n"
          ],
          "name": "stderr"
        },
        {
          "output_type": "stream",
          "text": [
            "INFO:tensorflow:global step 400: loss = 0.0015 (0.032 sec/step)\n"
          ],
          "name": "stdout"
        },
        {
          "output_type": "stream",
          "text": [
            "I1007 10:12:01.431808 140316417697664 learning.py:507] global step 400: loss = 0.0015 (0.032 sec/step)\n"
          ],
          "name": "stderr"
        },
        {
          "output_type": "stream",
          "text": [
            "INFO:tensorflow:global step 401: loss = 0.0019 (0.034 sec/step)\n"
          ],
          "name": "stdout"
        },
        {
          "output_type": "stream",
          "text": [
            "I1007 10:12:01.469995 140316417697664 learning.py:507] global step 401: loss = 0.0019 (0.034 sec/step)\n"
          ],
          "name": "stderr"
        },
        {
          "output_type": "stream",
          "text": [
            "INFO:tensorflow:global step 402: loss = 0.0022 (0.031 sec/step)\n"
          ],
          "name": "stdout"
        },
        {
          "output_type": "stream",
          "text": [
            "I1007 10:12:01.508701 140316417697664 learning.py:507] global step 402: loss = 0.0022 (0.031 sec/step)\n"
          ],
          "name": "stderr"
        },
        {
          "output_type": "stream",
          "text": [
            "INFO:tensorflow:global step 403: loss = 0.0016 (0.033 sec/step)\n"
          ],
          "name": "stdout"
        },
        {
          "output_type": "stream",
          "text": [
            "I1007 10:12:01.549338 140316417697664 learning.py:507] global step 403: loss = 0.0016 (0.033 sec/step)\n"
          ],
          "name": "stderr"
        },
        {
          "output_type": "stream",
          "text": [
            "INFO:tensorflow:global step 404: loss = 0.0016 (0.031 sec/step)\n"
          ],
          "name": "stdout"
        },
        {
          "output_type": "stream",
          "text": [
            "I1007 10:12:01.587114 140316417697664 learning.py:507] global step 404: loss = 0.0016 (0.031 sec/step)\n"
          ],
          "name": "stderr"
        },
        {
          "output_type": "stream",
          "text": [
            "INFO:tensorflow:global step 405: loss = 0.0015 (0.036 sec/step)\n"
          ],
          "name": "stdout"
        },
        {
          "output_type": "stream",
          "text": [
            "I1007 10:12:01.630412 140316417697664 learning.py:507] global step 405: loss = 0.0015 (0.036 sec/step)\n"
          ],
          "name": "stderr"
        },
        {
          "output_type": "stream",
          "text": [
            "INFO:tensorflow:global step 406: loss = 0.0020 (0.032 sec/step)\n"
          ],
          "name": "stdout"
        },
        {
          "output_type": "stream",
          "text": [
            "I1007 10:12:01.668985 140316417697664 learning.py:507] global step 406: loss = 0.0020 (0.032 sec/step)\n"
          ],
          "name": "stderr"
        },
        {
          "output_type": "stream",
          "text": [
            "INFO:tensorflow:global step 407: loss = 0.0020 (0.035 sec/step)\n"
          ],
          "name": "stdout"
        },
        {
          "output_type": "stream",
          "text": [
            "I1007 10:12:01.707637 140316417697664 learning.py:507] global step 407: loss = 0.0020 (0.035 sec/step)\n"
          ],
          "name": "stderr"
        },
        {
          "output_type": "stream",
          "text": [
            "INFO:tensorflow:global step 408: loss = 0.0021 (0.035 sec/step)\n"
          ],
          "name": "stdout"
        },
        {
          "output_type": "stream",
          "text": [
            "I1007 10:12:01.750067 140316417697664 learning.py:507] global step 408: loss = 0.0021 (0.035 sec/step)\n"
          ],
          "name": "stderr"
        },
        {
          "output_type": "stream",
          "text": [
            "INFO:tensorflow:global step 409: loss = 0.0015 (0.037 sec/step)\n"
          ],
          "name": "stdout"
        },
        {
          "output_type": "stream",
          "text": [
            "I1007 10:12:01.789741 140316417697664 learning.py:507] global step 409: loss = 0.0015 (0.037 sec/step)\n"
          ],
          "name": "stderr"
        },
        {
          "output_type": "stream",
          "text": [
            "INFO:tensorflow:global step 410: loss = 0.0016 (0.036 sec/step)\n"
          ],
          "name": "stdout"
        },
        {
          "output_type": "stream",
          "text": [
            "I1007 10:12:01.829514 140316417697664 learning.py:507] global step 410: loss = 0.0016 (0.036 sec/step)\n"
          ],
          "name": "stderr"
        },
        {
          "output_type": "stream",
          "text": [
            "INFO:tensorflow:global step 411: loss = 0.0018 (0.037 sec/step)\n"
          ],
          "name": "stdout"
        },
        {
          "output_type": "stream",
          "text": [
            "I1007 10:12:01.873784 140316417697664 learning.py:507] global step 411: loss = 0.0018 (0.037 sec/step)\n"
          ],
          "name": "stderr"
        },
        {
          "output_type": "stream",
          "text": [
            "INFO:tensorflow:global step 412: loss = 0.0020 (0.037 sec/step)\n"
          ],
          "name": "stdout"
        },
        {
          "output_type": "stream",
          "text": [
            "I1007 10:12:01.913993 140316417697664 learning.py:507] global step 412: loss = 0.0020 (0.037 sec/step)\n"
          ],
          "name": "stderr"
        },
        {
          "output_type": "stream",
          "text": [
            "INFO:tensorflow:global step 413: loss = 0.0015 (0.033 sec/step)\n"
          ],
          "name": "stdout"
        },
        {
          "output_type": "stream",
          "text": [
            "I1007 10:12:01.953613 140316417697664 learning.py:507] global step 413: loss = 0.0015 (0.033 sec/step)\n"
          ],
          "name": "stderr"
        },
        {
          "output_type": "stream",
          "text": [
            "INFO:tensorflow:global step 414: loss = 0.0017 (0.033 sec/step)\n"
          ],
          "name": "stdout"
        },
        {
          "output_type": "stream",
          "text": [
            "I1007 10:12:01.992070 140316417697664 learning.py:507] global step 414: loss = 0.0017 (0.033 sec/step)\n"
          ],
          "name": "stderr"
        },
        {
          "output_type": "stream",
          "text": [
            "INFO:tensorflow:global step 415: loss = 0.0018 (0.034 sec/step)\n"
          ],
          "name": "stdout"
        },
        {
          "output_type": "stream",
          "text": [
            "I1007 10:12:02.033711 140316417697664 learning.py:507] global step 415: loss = 0.0018 (0.034 sec/step)\n"
          ],
          "name": "stderr"
        },
        {
          "output_type": "stream",
          "text": [
            "INFO:tensorflow:global step 416: loss = 0.0018 (0.031 sec/step)\n"
          ],
          "name": "stdout"
        },
        {
          "output_type": "stream",
          "text": [
            "I1007 10:12:02.071950 140316417697664 learning.py:507] global step 416: loss = 0.0018 (0.031 sec/step)\n"
          ],
          "name": "stderr"
        },
        {
          "output_type": "stream",
          "text": [
            "INFO:tensorflow:global step 417: loss = 0.0016 (0.034 sec/step)\n"
          ],
          "name": "stdout"
        },
        {
          "output_type": "stream",
          "text": [
            "I1007 10:12:02.110198 140316417697664 learning.py:507] global step 417: loss = 0.0016 (0.034 sec/step)\n"
          ],
          "name": "stderr"
        },
        {
          "output_type": "stream",
          "text": [
            "INFO:tensorflow:global step 418: loss = 0.0019 (0.031 sec/step)\n"
          ],
          "name": "stdout"
        },
        {
          "output_type": "stream",
          "text": [
            "I1007 10:12:02.148226 140316417697664 learning.py:507] global step 418: loss = 0.0019 (0.031 sec/step)\n"
          ],
          "name": "stderr"
        },
        {
          "output_type": "stream",
          "text": [
            "INFO:tensorflow:global step 419: loss = 0.0018 (0.034 sec/step)\n"
          ],
          "name": "stdout"
        },
        {
          "output_type": "stream",
          "text": [
            "I1007 10:12:02.187219 140316417697664 learning.py:507] global step 419: loss = 0.0018 (0.034 sec/step)\n"
          ],
          "name": "stderr"
        },
        {
          "output_type": "stream",
          "text": [
            "INFO:tensorflow:global step 420: loss = 0.0017 (0.037 sec/step)\n"
          ],
          "name": "stdout"
        },
        {
          "output_type": "stream",
          "text": [
            "I1007 10:12:02.226491 140316417697664 learning.py:507] global step 420: loss = 0.0017 (0.037 sec/step)\n"
          ],
          "name": "stderr"
        },
        {
          "output_type": "stream",
          "text": [
            "INFO:tensorflow:global step 421: loss = 0.0020 (0.031 sec/step)\n"
          ],
          "name": "stdout"
        },
        {
          "output_type": "stream",
          "text": [
            "I1007 10:12:02.264937 140316417697664 learning.py:507] global step 421: loss = 0.0020 (0.031 sec/step)\n"
          ],
          "name": "stderr"
        },
        {
          "output_type": "stream",
          "text": [
            "INFO:tensorflow:global step 422: loss = 0.0015 (0.031 sec/step)\n"
          ],
          "name": "stdout"
        },
        {
          "output_type": "stream",
          "text": [
            "I1007 10:12:02.303408 140316417697664 learning.py:507] global step 422: loss = 0.0015 (0.031 sec/step)\n"
          ],
          "name": "stderr"
        },
        {
          "output_type": "stream",
          "text": [
            "INFO:tensorflow:global step 423: loss = 0.0017 (0.032 sec/step)\n"
          ],
          "name": "stdout"
        },
        {
          "output_type": "stream",
          "text": [
            "I1007 10:12:02.343180 140316417697664 learning.py:507] global step 423: loss = 0.0017 (0.032 sec/step)\n"
          ],
          "name": "stderr"
        },
        {
          "output_type": "stream",
          "text": [
            "INFO:tensorflow:global step 424: loss = 0.0018 (0.032 sec/step)\n"
          ],
          "name": "stdout"
        },
        {
          "output_type": "stream",
          "text": [
            "I1007 10:12:02.383380 140316417697664 learning.py:507] global step 424: loss = 0.0018 (0.032 sec/step)\n"
          ],
          "name": "stderr"
        },
        {
          "output_type": "stream",
          "text": [
            "INFO:tensorflow:global step 425: loss = 0.0017 (0.035 sec/step)\n"
          ],
          "name": "stdout"
        },
        {
          "output_type": "stream",
          "text": [
            "I1007 10:12:02.423418 140316417697664 learning.py:507] global step 425: loss = 0.0017 (0.035 sec/step)\n"
          ],
          "name": "stderr"
        },
        {
          "output_type": "stream",
          "text": [
            "INFO:tensorflow:global step 426: loss = 0.0017 (0.034 sec/step)\n"
          ],
          "name": "stdout"
        },
        {
          "output_type": "stream",
          "text": [
            "I1007 10:12:02.462577 140316417697664 learning.py:507] global step 426: loss = 0.0017 (0.034 sec/step)\n"
          ],
          "name": "stderr"
        },
        {
          "output_type": "stream",
          "text": [
            "INFO:tensorflow:global step 427: loss = 0.0018 (0.033 sec/step)\n"
          ],
          "name": "stdout"
        },
        {
          "output_type": "stream",
          "text": [
            "I1007 10:12:02.501919 140316417697664 learning.py:507] global step 427: loss = 0.0018 (0.033 sec/step)\n"
          ],
          "name": "stderr"
        },
        {
          "output_type": "stream",
          "text": [
            "INFO:tensorflow:global step 428: loss = 0.0016 (0.033 sec/step)\n"
          ],
          "name": "stdout"
        },
        {
          "output_type": "stream",
          "text": [
            "I1007 10:12:02.541573 140316417697664 learning.py:507] global step 428: loss = 0.0016 (0.033 sec/step)\n"
          ],
          "name": "stderr"
        },
        {
          "output_type": "stream",
          "text": [
            "INFO:tensorflow:global step 429: loss = 0.0020 (0.034 sec/step)\n"
          ],
          "name": "stdout"
        },
        {
          "output_type": "stream",
          "text": [
            "I1007 10:12:02.582056 140316417697664 learning.py:507] global step 429: loss = 0.0020 (0.034 sec/step)\n"
          ],
          "name": "stderr"
        },
        {
          "output_type": "stream",
          "text": [
            "INFO:tensorflow:global step 430: loss = 0.0016 (0.031 sec/step)\n"
          ],
          "name": "stdout"
        },
        {
          "output_type": "stream",
          "text": [
            "I1007 10:12:02.620331 140316417697664 learning.py:507] global step 430: loss = 0.0016 (0.031 sec/step)\n"
          ],
          "name": "stderr"
        },
        {
          "output_type": "stream",
          "text": [
            "INFO:tensorflow:global step 431: loss = 0.0016 (0.031 sec/step)\n"
          ],
          "name": "stdout"
        },
        {
          "output_type": "stream",
          "text": [
            "I1007 10:12:02.657907 140316417697664 learning.py:507] global step 431: loss = 0.0016 (0.031 sec/step)\n"
          ],
          "name": "stderr"
        },
        {
          "output_type": "stream",
          "text": [
            "INFO:tensorflow:global step 432: loss = 0.0016 (0.033 sec/step)\n"
          ],
          "name": "stdout"
        },
        {
          "output_type": "stream",
          "text": [
            "I1007 10:12:02.695211 140316417697664 learning.py:507] global step 432: loss = 0.0016 (0.033 sec/step)\n"
          ],
          "name": "stderr"
        },
        {
          "output_type": "stream",
          "text": [
            "INFO:tensorflow:global step 433: loss = 0.0019 (0.035 sec/step)\n"
          ],
          "name": "stdout"
        },
        {
          "output_type": "stream",
          "text": [
            "I1007 10:12:02.733339 140316417697664 learning.py:507] global step 433: loss = 0.0019 (0.035 sec/step)\n"
          ],
          "name": "stderr"
        },
        {
          "output_type": "stream",
          "text": [
            "INFO:tensorflow:global step 434: loss = 0.0014 (0.036 sec/step)\n"
          ],
          "name": "stdout"
        },
        {
          "output_type": "stream",
          "text": [
            "I1007 10:12:02.772996 140316417697664 learning.py:507] global step 434: loss = 0.0014 (0.036 sec/step)\n"
          ],
          "name": "stderr"
        },
        {
          "output_type": "stream",
          "text": [
            "INFO:tensorflow:global step 435: loss = 0.0021 (0.034 sec/step)\n"
          ],
          "name": "stdout"
        },
        {
          "output_type": "stream",
          "text": [
            "I1007 10:12:02.810714 140316417697664 learning.py:507] global step 435: loss = 0.0021 (0.034 sec/step)\n"
          ],
          "name": "stderr"
        },
        {
          "output_type": "stream",
          "text": [
            "INFO:tensorflow:global step 436: loss = 0.0018 (0.036 sec/step)\n"
          ],
          "name": "stdout"
        },
        {
          "output_type": "stream",
          "text": [
            "I1007 10:12:02.850624 140316417697664 learning.py:507] global step 436: loss = 0.0018 (0.036 sec/step)\n"
          ],
          "name": "stderr"
        },
        {
          "output_type": "stream",
          "text": [
            "INFO:tensorflow:global step 437: loss = 0.0024 (0.039 sec/step)\n"
          ],
          "name": "stdout"
        },
        {
          "output_type": "stream",
          "text": [
            "I1007 10:12:02.892697 140316417697664 learning.py:507] global step 437: loss = 0.0024 (0.039 sec/step)\n"
          ],
          "name": "stderr"
        },
        {
          "output_type": "stream",
          "text": [
            "INFO:tensorflow:global step 438: loss = 0.0018 (0.034 sec/step)\n"
          ],
          "name": "stdout"
        },
        {
          "output_type": "stream",
          "text": [
            "I1007 10:12:02.930132 140316417697664 learning.py:507] global step 438: loss = 0.0018 (0.034 sec/step)\n"
          ],
          "name": "stderr"
        },
        {
          "output_type": "stream",
          "text": [
            "INFO:tensorflow:global step 439: loss = 0.0019 (0.034 sec/step)\n"
          ],
          "name": "stdout"
        },
        {
          "output_type": "stream",
          "text": [
            "I1007 10:12:02.967716 140316417697664 learning.py:507] global step 439: loss = 0.0019 (0.034 sec/step)\n"
          ],
          "name": "stderr"
        },
        {
          "output_type": "stream",
          "text": [
            "INFO:tensorflow:global step 440: loss = 0.0021 (0.032 sec/step)\n"
          ],
          "name": "stdout"
        },
        {
          "output_type": "stream",
          "text": [
            "I1007 10:12:03.007252 140316417697664 learning.py:507] global step 440: loss = 0.0021 (0.032 sec/step)\n"
          ],
          "name": "stderr"
        },
        {
          "output_type": "stream",
          "text": [
            "INFO:tensorflow:global step 441: loss = 0.0017 (0.035 sec/step)\n"
          ],
          "name": "stdout"
        },
        {
          "output_type": "stream",
          "text": [
            "I1007 10:12:03.045073 140316417697664 learning.py:507] global step 441: loss = 0.0017 (0.035 sec/step)\n"
          ],
          "name": "stderr"
        },
        {
          "output_type": "stream",
          "text": [
            "INFO:tensorflow:global step 442: loss = 0.0021 (0.032 sec/step)\n"
          ],
          "name": "stdout"
        },
        {
          "output_type": "stream",
          "text": [
            "I1007 10:12:03.084073 140316417697664 learning.py:507] global step 442: loss = 0.0021 (0.032 sec/step)\n"
          ],
          "name": "stderr"
        },
        {
          "output_type": "stream",
          "text": [
            "INFO:tensorflow:global step 443: loss = 0.0015 (0.032 sec/step)\n"
          ],
          "name": "stdout"
        },
        {
          "output_type": "stream",
          "text": [
            "I1007 10:12:03.122385 140316417697664 learning.py:507] global step 443: loss = 0.0015 (0.032 sec/step)\n"
          ],
          "name": "stderr"
        },
        {
          "output_type": "stream",
          "text": [
            "INFO:tensorflow:global step 444: loss = 0.0024 (0.035 sec/step)\n"
          ],
          "name": "stdout"
        },
        {
          "output_type": "stream",
          "text": [
            "I1007 10:12:03.161916 140316417697664 learning.py:507] global step 444: loss = 0.0024 (0.035 sec/step)\n"
          ],
          "name": "stderr"
        },
        {
          "output_type": "stream",
          "text": [
            "INFO:tensorflow:global step 445: loss = 0.0018 (0.035 sec/step)\n"
          ],
          "name": "stdout"
        },
        {
          "output_type": "stream",
          "text": [
            "I1007 10:12:03.200545 140316417697664 learning.py:507] global step 445: loss = 0.0018 (0.035 sec/step)\n"
          ],
          "name": "stderr"
        },
        {
          "output_type": "stream",
          "text": [
            "INFO:tensorflow:global step 446: loss = 0.0018 (0.035 sec/step)\n"
          ],
          "name": "stdout"
        },
        {
          "output_type": "stream",
          "text": [
            "I1007 10:12:03.238752 140316417697664 learning.py:507] global step 446: loss = 0.0018 (0.035 sec/step)\n"
          ],
          "name": "stderr"
        },
        {
          "output_type": "stream",
          "text": [
            "INFO:tensorflow:global step 447: loss = 0.0016 (0.036 sec/step)\n"
          ],
          "name": "stdout"
        },
        {
          "output_type": "stream",
          "text": [
            "I1007 10:12:03.278689 140316417697664 learning.py:507] global step 447: loss = 0.0016 (0.036 sec/step)\n"
          ],
          "name": "stderr"
        },
        {
          "output_type": "stream",
          "text": [
            "INFO:tensorflow:global step 448: loss = 0.0017 (0.036 sec/step)\n"
          ],
          "name": "stdout"
        },
        {
          "output_type": "stream",
          "text": [
            "I1007 10:12:03.318024 140316417697664 learning.py:507] global step 448: loss = 0.0017 (0.036 sec/step)\n"
          ],
          "name": "stderr"
        },
        {
          "output_type": "stream",
          "text": [
            "INFO:tensorflow:global step 449: loss = 0.0019 (0.032 sec/step)\n"
          ],
          "name": "stdout"
        },
        {
          "output_type": "stream",
          "text": [
            "I1007 10:12:03.357338 140316417697664 learning.py:507] global step 449: loss = 0.0019 (0.032 sec/step)\n"
          ],
          "name": "stderr"
        },
        {
          "output_type": "stream",
          "text": [
            "INFO:tensorflow:global step 450: loss = 0.0017 (0.033 sec/step)\n"
          ],
          "name": "stdout"
        },
        {
          "output_type": "stream",
          "text": [
            "I1007 10:12:03.395636 140316417697664 learning.py:507] global step 450: loss = 0.0017 (0.033 sec/step)\n"
          ],
          "name": "stderr"
        },
        {
          "output_type": "stream",
          "text": [
            "INFO:tensorflow:global step 451: loss = 0.0018 (0.031 sec/step)\n"
          ],
          "name": "stdout"
        },
        {
          "output_type": "stream",
          "text": [
            "I1007 10:12:03.432941 140316417697664 learning.py:507] global step 451: loss = 0.0018 (0.031 sec/step)\n"
          ],
          "name": "stderr"
        },
        {
          "output_type": "stream",
          "text": [
            "INFO:tensorflow:global step 452: loss = 0.0016 (0.031 sec/step)\n"
          ],
          "name": "stdout"
        },
        {
          "output_type": "stream",
          "text": [
            "I1007 10:12:03.470411 140316417697664 learning.py:507] global step 452: loss = 0.0016 (0.031 sec/step)\n"
          ],
          "name": "stderr"
        },
        {
          "output_type": "stream",
          "text": [
            "INFO:tensorflow:global step 453: loss = 0.0017 (0.033 sec/step)\n"
          ],
          "name": "stdout"
        },
        {
          "output_type": "stream",
          "text": [
            "I1007 10:12:03.507501 140316417697664 learning.py:507] global step 453: loss = 0.0017 (0.033 sec/step)\n"
          ],
          "name": "stderr"
        },
        {
          "output_type": "stream",
          "text": [
            "INFO:tensorflow:global step 454: loss = 0.0020 (0.034 sec/step)\n"
          ],
          "name": "stdout"
        },
        {
          "output_type": "stream",
          "text": [
            "I1007 10:12:03.544368 140316417697664 learning.py:507] global step 454: loss = 0.0020 (0.034 sec/step)\n"
          ],
          "name": "stderr"
        },
        {
          "output_type": "stream",
          "text": [
            "INFO:tensorflow:global step 455: loss = 0.0016 (0.034 sec/step)\n"
          ],
          "name": "stdout"
        },
        {
          "output_type": "stream",
          "text": [
            "I1007 10:12:03.581839 140316417697664 learning.py:507] global step 455: loss = 0.0016 (0.034 sec/step)\n"
          ],
          "name": "stderr"
        },
        {
          "output_type": "stream",
          "text": [
            "INFO:tensorflow:global step 456: loss = 0.0019 (0.031 sec/step)\n"
          ],
          "name": "stdout"
        },
        {
          "output_type": "stream",
          "text": [
            "I1007 10:12:03.620059 140316417697664 learning.py:507] global step 456: loss = 0.0019 (0.031 sec/step)\n"
          ],
          "name": "stderr"
        },
        {
          "output_type": "stream",
          "text": [
            "INFO:tensorflow:global step 457: loss = 0.0016 (0.031 sec/step)\n"
          ],
          "name": "stdout"
        },
        {
          "output_type": "stream",
          "text": [
            "I1007 10:12:03.659272 140316417697664 learning.py:507] global step 457: loss = 0.0016 (0.031 sec/step)\n"
          ],
          "name": "stderr"
        },
        {
          "output_type": "stream",
          "text": [
            "INFO:tensorflow:global step 458: loss = 0.0016 (0.032 sec/step)\n"
          ],
          "name": "stdout"
        },
        {
          "output_type": "stream",
          "text": [
            "I1007 10:12:03.698240 140316417697664 learning.py:507] global step 458: loss = 0.0016 (0.032 sec/step)\n"
          ],
          "name": "stderr"
        },
        {
          "output_type": "stream",
          "text": [
            "INFO:tensorflow:global step 459: loss = 0.0017 (0.037 sec/step)\n"
          ],
          "name": "stdout"
        },
        {
          "output_type": "stream",
          "text": [
            "I1007 10:12:03.738021 140316417697664 learning.py:507] global step 459: loss = 0.0017 (0.037 sec/step)\n"
          ],
          "name": "stderr"
        },
        {
          "output_type": "stream",
          "text": [
            "INFO:tensorflow:global step 460: loss = 0.0017 (0.035 sec/step)\n"
          ],
          "name": "stdout"
        },
        {
          "output_type": "stream",
          "text": [
            "I1007 10:12:03.775778 140316417697664 learning.py:507] global step 460: loss = 0.0017 (0.035 sec/step)\n"
          ],
          "name": "stderr"
        },
        {
          "output_type": "stream",
          "text": [
            "INFO:tensorflow:global step 461: loss = 0.0021 (0.036 sec/step)\n"
          ],
          "name": "stdout"
        },
        {
          "output_type": "stream",
          "text": [
            "I1007 10:12:03.815383 140316417697664 learning.py:507] global step 461: loss = 0.0021 (0.036 sec/step)\n"
          ],
          "name": "stderr"
        },
        {
          "output_type": "stream",
          "text": [
            "INFO:tensorflow:global step 462: loss = 0.0018 (0.034 sec/step)\n"
          ],
          "name": "stdout"
        },
        {
          "output_type": "stream",
          "text": [
            "I1007 10:12:03.853632 140316417697664 learning.py:507] global step 462: loss = 0.0018 (0.034 sec/step)\n"
          ],
          "name": "stderr"
        },
        {
          "output_type": "stream",
          "text": [
            "INFO:tensorflow:global step 463: loss = 0.0017 (0.038 sec/step)\n"
          ],
          "name": "stdout"
        },
        {
          "output_type": "stream",
          "text": [
            "I1007 10:12:03.896844 140316417697664 learning.py:507] global step 463: loss = 0.0017 (0.038 sec/step)\n"
          ],
          "name": "stderr"
        },
        {
          "output_type": "stream",
          "text": [
            "INFO:tensorflow:global step 464: loss = 0.0019 (0.034 sec/step)\n"
          ],
          "name": "stdout"
        },
        {
          "output_type": "stream",
          "text": [
            "I1007 10:12:03.935662 140316417697664 learning.py:507] global step 464: loss = 0.0019 (0.034 sec/step)\n"
          ],
          "name": "stderr"
        },
        {
          "output_type": "stream",
          "text": [
            "INFO:tensorflow:global step 465: loss = 0.0017 (0.037 sec/step)\n"
          ],
          "name": "stdout"
        },
        {
          "output_type": "stream",
          "text": [
            "I1007 10:12:03.975658 140316417697664 learning.py:507] global step 465: loss = 0.0017 (0.037 sec/step)\n"
          ],
          "name": "stderr"
        },
        {
          "output_type": "stream",
          "text": [
            "INFO:tensorflow:global step 466: loss = 0.0019 (0.041 sec/step)\n"
          ],
          "name": "stdout"
        },
        {
          "output_type": "stream",
          "text": [
            "I1007 10:12:04.019892 140316417697664 learning.py:507] global step 466: loss = 0.0019 (0.041 sec/step)\n"
          ],
          "name": "stderr"
        },
        {
          "output_type": "stream",
          "text": [
            "INFO:tensorflow:global step 467: loss = 0.0016 (0.036 sec/step)\n"
          ],
          "name": "stdout"
        },
        {
          "output_type": "stream",
          "text": [
            "I1007 10:12:04.057960 140316417697664 learning.py:507] global step 467: loss = 0.0016 (0.036 sec/step)\n"
          ],
          "name": "stderr"
        },
        {
          "output_type": "stream",
          "text": [
            "INFO:tensorflow:global step 468: loss = 0.0017 (0.035 sec/step)\n"
          ],
          "name": "stdout"
        },
        {
          "output_type": "stream",
          "text": [
            "I1007 10:12:04.096679 140316417697664 learning.py:507] global step 468: loss = 0.0017 (0.035 sec/step)\n"
          ],
          "name": "stderr"
        },
        {
          "output_type": "stream",
          "text": [
            "INFO:tensorflow:global step 469: loss = 0.0015 (0.033 sec/step)\n"
          ],
          "name": "stdout"
        },
        {
          "output_type": "stream",
          "text": [
            "I1007 10:12:04.134006 140316417697664 learning.py:507] global step 469: loss = 0.0015 (0.033 sec/step)\n"
          ],
          "name": "stderr"
        },
        {
          "output_type": "stream",
          "text": [
            "INFO:tensorflow:global step 470: loss = 0.0015 (0.035 sec/step)\n"
          ],
          "name": "stdout"
        },
        {
          "output_type": "stream",
          "text": [
            "I1007 10:12:04.171509 140316417697664 learning.py:507] global step 470: loss = 0.0015 (0.035 sec/step)\n"
          ],
          "name": "stderr"
        },
        {
          "output_type": "stream",
          "text": [
            "INFO:tensorflow:global step 471: loss = 0.0020 (0.031 sec/step)\n"
          ],
          "name": "stdout"
        },
        {
          "output_type": "stream",
          "text": [
            "I1007 10:12:04.209809 140316417697664 learning.py:507] global step 471: loss = 0.0020 (0.031 sec/step)\n"
          ],
          "name": "stderr"
        },
        {
          "output_type": "stream",
          "text": [
            "INFO:tensorflow:global step 472: loss = 0.0018 (0.034 sec/step)\n"
          ],
          "name": "stdout"
        },
        {
          "output_type": "stream",
          "text": [
            "I1007 10:12:04.247273 140316417697664 learning.py:507] global step 472: loss = 0.0018 (0.034 sec/step)\n"
          ],
          "name": "stderr"
        },
        {
          "output_type": "stream",
          "text": [
            "INFO:tensorflow:global step 473: loss = 0.0014 (0.033 sec/step)\n"
          ],
          "name": "stdout"
        },
        {
          "output_type": "stream",
          "text": [
            "I1007 10:12:04.285007 140316417697664 learning.py:507] global step 473: loss = 0.0014 (0.033 sec/step)\n"
          ],
          "name": "stderr"
        },
        {
          "output_type": "stream",
          "text": [
            "INFO:tensorflow:global step 474: loss = 0.0019 (0.036 sec/step)\n"
          ],
          "name": "stdout"
        },
        {
          "output_type": "stream",
          "text": [
            "I1007 10:12:04.324359 140316417697664 learning.py:507] global step 474: loss = 0.0019 (0.036 sec/step)\n"
          ],
          "name": "stderr"
        },
        {
          "output_type": "stream",
          "text": [
            "INFO:tensorflow:global step 475: loss = 0.0022 (0.036 sec/step)\n"
          ],
          "name": "stdout"
        },
        {
          "output_type": "stream",
          "text": [
            "I1007 10:12:04.364458 140316417697664 learning.py:507] global step 475: loss = 0.0022 (0.036 sec/step)\n"
          ],
          "name": "stderr"
        },
        {
          "output_type": "stream",
          "text": [
            "INFO:tensorflow:global step 476: loss = 0.0016 (0.034 sec/step)\n"
          ],
          "name": "stdout"
        },
        {
          "output_type": "stream",
          "text": [
            "I1007 10:12:04.404377 140316417697664 learning.py:507] global step 476: loss = 0.0016 (0.034 sec/step)\n"
          ],
          "name": "stderr"
        },
        {
          "output_type": "stream",
          "text": [
            "INFO:tensorflow:global step 477: loss = 0.0016 (0.038 sec/step)\n"
          ],
          "name": "stdout"
        },
        {
          "output_type": "stream",
          "text": [
            "I1007 10:12:04.448605 140316417697664 learning.py:507] global step 477: loss = 0.0016 (0.038 sec/step)\n"
          ],
          "name": "stderr"
        },
        {
          "output_type": "stream",
          "text": [
            "INFO:tensorflow:global step 478: loss = 0.0017 (0.032 sec/step)\n"
          ],
          "name": "stdout"
        },
        {
          "output_type": "stream",
          "text": [
            "I1007 10:12:04.486939 140316417697664 learning.py:507] global step 478: loss = 0.0017 (0.032 sec/step)\n"
          ],
          "name": "stderr"
        },
        {
          "output_type": "stream",
          "text": [
            "INFO:tensorflow:global step 479: loss = 0.0019 (0.032 sec/step)\n"
          ],
          "name": "stdout"
        },
        {
          "output_type": "stream",
          "text": [
            "I1007 10:12:04.524823 140316417697664 learning.py:507] global step 479: loss = 0.0019 (0.032 sec/step)\n"
          ],
          "name": "stderr"
        },
        {
          "output_type": "stream",
          "text": [
            "INFO:tensorflow:global step 480: loss = 0.0017 (0.031 sec/step)\n"
          ],
          "name": "stdout"
        },
        {
          "output_type": "stream",
          "text": [
            "I1007 10:12:04.563350 140316417697664 learning.py:507] global step 480: loss = 0.0017 (0.031 sec/step)\n"
          ],
          "name": "stderr"
        },
        {
          "output_type": "stream",
          "text": [
            "INFO:tensorflow:global step 481: loss = 0.0018 (0.033 sec/step)\n"
          ],
          "name": "stdout"
        },
        {
          "output_type": "stream",
          "text": [
            "I1007 10:12:04.600898 140316417697664 learning.py:507] global step 481: loss = 0.0018 (0.033 sec/step)\n"
          ],
          "name": "stderr"
        },
        {
          "output_type": "stream",
          "text": [
            "INFO:tensorflow:global step 482: loss = 0.0017 (0.033 sec/step)\n"
          ],
          "name": "stdout"
        },
        {
          "output_type": "stream",
          "text": [
            "I1007 10:12:04.639640 140316417697664 learning.py:507] global step 482: loss = 0.0017 (0.033 sec/step)\n"
          ],
          "name": "stderr"
        },
        {
          "output_type": "stream",
          "text": [
            "INFO:tensorflow:global step 483: loss = 0.0015 (0.033 sec/step)\n"
          ],
          "name": "stdout"
        },
        {
          "output_type": "stream",
          "text": [
            "I1007 10:12:04.678422 140316417697664 learning.py:507] global step 483: loss = 0.0015 (0.033 sec/step)\n"
          ],
          "name": "stderr"
        },
        {
          "output_type": "stream",
          "text": [
            "INFO:tensorflow:global step 484: loss = 0.0020 (0.040 sec/step)\n"
          ],
          "name": "stdout"
        },
        {
          "output_type": "stream",
          "text": [
            "I1007 10:12:04.721731 140316417697664 learning.py:507] global step 484: loss = 0.0020 (0.040 sec/step)\n"
          ],
          "name": "stderr"
        },
        {
          "output_type": "stream",
          "text": [
            "INFO:tensorflow:global step 485: loss = 0.0025 (0.042 sec/step)\n"
          ],
          "name": "stdout"
        },
        {
          "output_type": "stream",
          "text": [
            "I1007 10:12:04.767720 140316417697664 learning.py:507] global step 485: loss = 0.0025 (0.042 sec/step)\n"
          ],
          "name": "stderr"
        },
        {
          "output_type": "stream",
          "text": [
            "INFO:tensorflow:global step 486: loss = 0.0019 (0.036 sec/step)\n"
          ],
          "name": "stdout"
        },
        {
          "output_type": "stream",
          "text": [
            "I1007 10:12:04.807124 140316417697664 learning.py:507] global step 486: loss = 0.0019 (0.036 sec/step)\n"
          ],
          "name": "stderr"
        },
        {
          "output_type": "stream",
          "text": [
            "INFO:tensorflow:global step 487: loss = 0.0019 (0.036 sec/step)\n"
          ],
          "name": "stdout"
        },
        {
          "output_type": "stream",
          "text": [
            "I1007 10:12:04.850622 140316417697664 learning.py:507] global step 487: loss = 0.0019 (0.036 sec/step)\n"
          ],
          "name": "stderr"
        },
        {
          "output_type": "stream",
          "text": [
            "INFO:tensorflow:global step 488: loss = 0.0020 (0.034 sec/step)\n"
          ],
          "name": "stdout"
        },
        {
          "output_type": "stream",
          "text": [
            "I1007 10:12:04.888958 140316417697664 learning.py:507] global step 488: loss = 0.0020 (0.034 sec/step)\n"
          ],
          "name": "stderr"
        },
        {
          "output_type": "stream",
          "text": [
            "INFO:tensorflow:global step 489: loss = 0.0016 (0.043 sec/step)\n"
          ],
          "name": "stdout"
        },
        {
          "output_type": "stream",
          "text": [
            "I1007 10:12:04.937268 140316417697664 learning.py:507] global step 489: loss = 0.0016 (0.043 sec/step)\n"
          ],
          "name": "stderr"
        },
        {
          "output_type": "stream",
          "text": [
            "INFO:tensorflow:global step 490: loss = 0.0014 (0.035 sec/step)\n"
          ],
          "name": "stdout"
        },
        {
          "output_type": "stream",
          "text": [
            "I1007 10:12:04.976137 140316417697664 learning.py:507] global step 490: loss = 0.0014 (0.035 sec/step)\n"
          ],
          "name": "stderr"
        },
        {
          "output_type": "stream",
          "text": [
            "INFO:tensorflow:global step 491: loss = 0.0014 (0.033 sec/step)\n"
          ],
          "name": "stdout"
        },
        {
          "output_type": "stream",
          "text": [
            "I1007 10:12:05.014947 140316417697664 learning.py:507] global step 491: loss = 0.0014 (0.033 sec/step)\n"
          ],
          "name": "stderr"
        },
        {
          "output_type": "stream",
          "text": [
            "INFO:tensorflow:global step 492: loss = 0.0019 (0.035 sec/step)\n"
          ],
          "name": "stdout"
        },
        {
          "output_type": "stream",
          "text": [
            "I1007 10:12:05.054038 140316417697664 learning.py:507] global step 492: loss = 0.0019 (0.035 sec/step)\n"
          ],
          "name": "stderr"
        },
        {
          "output_type": "stream",
          "text": [
            "INFO:tensorflow:global step 493: loss = 0.0024 (0.032 sec/step)\n"
          ],
          "name": "stdout"
        },
        {
          "output_type": "stream",
          "text": [
            "I1007 10:12:05.091976 140316417697664 learning.py:507] global step 493: loss = 0.0024 (0.032 sec/step)\n"
          ],
          "name": "stderr"
        },
        {
          "output_type": "stream",
          "text": [
            "INFO:tensorflow:global step 494: loss = 0.0017 (0.033 sec/step)\n"
          ],
          "name": "stdout"
        },
        {
          "output_type": "stream",
          "text": [
            "I1007 10:12:05.128961 140316417697664 learning.py:507] global step 494: loss = 0.0017 (0.033 sec/step)\n"
          ],
          "name": "stderr"
        },
        {
          "output_type": "stream",
          "text": [
            "INFO:tensorflow:global step 495: loss = 0.0022 (0.031 sec/step)\n"
          ],
          "name": "stdout"
        },
        {
          "output_type": "stream",
          "text": [
            "I1007 10:12:05.166972 140316417697664 learning.py:507] global step 495: loss = 0.0022 (0.031 sec/step)\n"
          ],
          "name": "stderr"
        },
        {
          "output_type": "stream",
          "text": [
            "INFO:tensorflow:global step 496: loss = 0.0019 (0.034 sec/step)\n"
          ],
          "name": "stdout"
        },
        {
          "output_type": "stream",
          "text": [
            "I1007 10:12:05.205231 140316417697664 learning.py:507] global step 496: loss = 0.0019 (0.034 sec/step)\n"
          ],
          "name": "stderr"
        },
        {
          "output_type": "stream",
          "text": [
            "INFO:tensorflow:global step 497: loss = 0.0014 (0.032 sec/step)\n"
          ],
          "name": "stdout"
        },
        {
          "output_type": "stream",
          "text": [
            "I1007 10:12:05.244781 140316417697664 learning.py:507] global step 497: loss = 0.0014 (0.032 sec/step)\n"
          ],
          "name": "stderr"
        },
        {
          "output_type": "stream",
          "text": [
            "INFO:tensorflow:global step 498: loss = 0.0020 (0.037 sec/step)\n"
          ],
          "name": "stdout"
        },
        {
          "output_type": "stream",
          "text": [
            "I1007 10:12:05.285689 140316417697664 learning.py:507] global step 498: loss = 0.0020 (0.037 sec/step)\n"
          ],
          "name": "stderr"
        },
        {
          "output_type": "stream",
          "text": [
            "INFO:tensorflow:global step 499: loss = 0.0016 (0.035 sec/step)\n"
          ],
          "name": "stdout"
        },
        {
          "output_type": "stream",
          "text": [
            "I1007 10:12:05.323462 140316417697664 learning.py:507] global step 499: loss = 0.0016 (0.035 sec/step)\n"
          ],
          "name": "stderr"
        },
        {
          "output_type": "stream",
          "text": [
            "INFO:tensorflow:global step 500: loss = 0.0019 (0.030 sec/step)\n"
          ],
          "name": "stdout"
        },
        {
          "output_type": "stream",
          "text": [
            "I1007 10:12:05.360602 140316417697664 learning.py:507] global step 500: loss = 0.0019 (0.030 sec/step)\n"
          ],
          "name": "stderr"
        },
        {
          "output_type": "stream",
          "text": [
            "INFO:tensorflow:Stopping Training.\n"
          ],
          "name": "stdout"
        },
        {
          "output_type": "stream",
          "text": [
            "I1007 10:12:05.363642 140316417697664 learning.py:777] Stopping Training.\n"
          ],
          "name": "stderr"
        },
        {
          "output_type": "stream",
          "text": [
            "INFO:tensorflow:Finished training! Saving model to disk.\n"
          ],
          "name": "stdout"
        },
        {
          "output_type": "stream",
          "text": [
            "I1007 10:12:05.366161 140316417697664 learning.py:785] Finished training! Saving model to disk.\n"
          ],
          "name": "stderr"
        },
        {
          "output_type": "stream",
          "text": [
            "WARNING:tensorflow:From /usr/local/lib/python3.6/dist-packages/tensorflow_core/python/training/saver.py:963: remove_checkpoint (from tensorflow.python.training.checkpoint_management) is deprecated and will be removed in a future version.\n",
            "Instructions for updating:\n",
            "Use standard file APIs to delete files with this prefix.\n"
          ],
          "name": "stdout"
        },
        {
          "output_type": "stream",
          "text": [
            "W1007 10:12:05.375056 140316417697664 deprecation.py:323] From /usr/local/lib/python3.6/dist-packages/tensorflow_core/python/training/saver.py:963: remove_checkpoint (from tensorflow.python.training.checkpoint_management) is deprecated and will be removed in a future version.\n",
            "Instructions for updating:\n",
            "Use standard file APIs to delete files with this prefix.\n",
            "/usr/local/lib/python3.6/dist-packages/tensorflow_core/python/summary/writer/writer.py:386: UserWarning: Attempting to use a closed FileWriter. The operation will be a noop unless the FileWriter is explicitly reopened.\n",
            "  warnings.warn(\"Attempting to use a closed FileWriter. \"\n"
          ],
          "name": "stderr"
        },
        {
          "output_type": "error",
          "ename": "SystemExit",
          "evalue": "ignored",
          "traceback": [
            "An exception has occurred, use %tb to see the full traceback.\n",
            "\u001b[0;31mSystemExit\u001b[0m\n"
          ]
        },
        {
          "output_type": "stream",
          "text": [
            "/usr/local/lib/python3.6/dist-packages/IPython/core/interactiveshell.py:2890: UserWarning: To exit: use 'exit', 'quit', or Ctrl-D.\n",
            "  warn(\"To exit: use 'exit', 'quit', or Ctrl-D.\", stacklevel=1)\n"
          ],
          "name": "stderr"
        }
      ]
    },
    {
      "cell_type": "markdown",
      "metadata": {
        "id": "BDJ4RX_kgEY6"
      },
      "source": [
        "# sorting_eval.py"
      ]
    },
    {
      "cell_type": "code",
      "metadata": {
        "id": "AKsLkk9RgEn-",
        "outputId": "fbf23ffc-4120-494d-85e1-3ff2c87e6642",
        "colab": {
          "base_uri": "https://localhost:8080/",
          "height": 504
        }
      },
      "source": [
        "# Copyright 2017 Google Inc.\n",
        "#\n",
        "# Licensed under the Apache License, Version 2.0 (the \"License\");\n",
        "# you may not use this file except in compliance with the License.\n",
        "# You may obtain a copy of the License at\n",
        "#\n",
        "#     https://www.apache.org/licenses/LICENSE-2.0\n",
        "#\n",
        "# Unless required by applicable law or agreed to in writing, software\n",
        "# distributed under the License is distributed on an \"AS IS\" BASIS,\n",
        "# WITHOUT WARRANTIES OR CONDITIONS OF ANY KIND, either express or implied.\n",
        "# See the License for the specific language governing permissions and\n",
        "# limitations under the License.\n",
        "\n",
        "\"\"\"Evaluates a sorting model, adding scalar summaries to tensorboard.\n",
        "\n",
        "It also outputs evaluation metrics as numpy scalars.\n",
        "The flag hparam has to be passed as a string of comma separated statements of\n",
        "the form hparam=value, where the hparam's are any of the listed in the\n",
        "dictionary DEFAULT_HPARAMS.\n",
        "See the README.md file for further compilation and running instructions.\n",
        "\n",
        "\"\"\"\n",
        "\n",
        "from __future__ import absolute_import\n",
        "from __future__ import division\n",
        "from __future__ import print_function\n",
        "\n",
        "\n",
        "import os\n",
        "import time\n",
        "\n",
        "import tensorflow as tf\n",
        "\n",
        "\n",
        "DEFAULT_HPARAMS = tf.contrib.training.HParams(hparams='',\n",
        "                                              batch_transform_type=None,\n",
        "                                              evaluate_all=True,\n",
        "                                              exp_log_dir='./tmp_sorting/',\n",
        "                                              eval_once=True,\n",
        "                                              sec_sleep=30,\n",
        "                                              secs_run_for=10000,\n",
        "                                              #\n",
        "                                              n_numbers=50,\n",
        "                                              lr=0.1,\n",
        "                                              temperature=1.0,\n",
        "                                              batch_size=50,\n",
        "                                              prob_inc=1.0,\n",
        "                                              samples_per_num=5,\n",
        "                                              n_iter_sinkhorn=10,\n",
        "                                              n_units=32,\n",
        "                                              noise_factor=0.0,\n",
        "                                              optimizer=\"adam\",\n",
        "                                              keep_prob=1.)\n",
        "\n",
        "\n",
        "def log(s):\n",
        "  tf.logging.info(s)\n",
        "  print(s)\n",
        "\n",
        "\n",
        "def wait_for_new_checkpoint(saver, sess, logdir, global_step,\n",
        "                            last_step_evaluated, sleep_secs):\n",
        "  while True:\n",
        "    if restore_checkpoint_if_exists(saver, sess, logdir):\n",
        "      step = sess.run(global_step)\n",
        "      if step <= last_step_evaluated:\n",
        "        log(\"Found old checkpoint, sleeping %ds\" % sleep_secs)\n",
        "        time.sleep(sleep_secs)\n",
        "      else:\n",
        "        return step\n",
        "    else:\n",
        "      log(\"Checkpoint not found in %s,\"\n",
        "          \"sleeping for %ds\" % (logdir, sleep_secs))\n",
        "      time.sleep(sleep_secs)\n",
        "\n",
        "\n",
        "def restore_checkpoint_if_exists(saver, sess, logdir):\n",
        "  ckpt = tf.train.get_checkpoint_state(logdir)\n",
        "  if ckpt:\n",
        "    log(\"Restoring checking point from %s\" % ckpt.model_checkpoint_path)\n",
        "    ckpt_name = os.path.basename(ckpt.model_checkpoint_path)\n",
        "    full_checkpoint_path = os.path.join(logdir, ckpt_name)\n",
        "    saver.restore(sess, full_checkpoint_path)\n",
        "    return True\n",
        "  return False\n",
        "\n",
        "\n",
        "# Copyright 2017 Google Inc.\n",
        "#\n",
        "# Licensed under the Apache License, Version 2.0 (the \"License\");\n",
        "# you may not use this file except in compliance with the License.\n",
        "# You may obtain a copy of the License at\n",
        "#\n",
        "#     https://www.apache.org/licenses/LICENSE-2.0\n",
        "#\n",
        "# Unless required by applicable law or agreed to in writing, software\n",
        "# distributed under the License is distributed on an \"AS IS\" BASIS,\n",
        "# WITHOUT WARRANTIES OR CONDITIONS OF ANY KIND, either express or implied.\n",
        "# See the License for the specific language governing permissions and\n",
        "# limitations under the License.\n",
        "\n",
        "def main(_):\n",
        "  time_start = time.time()\n",
        "  hparams = DEFAULT_HPARAMS\n",
        "\n",
        "  if not gfile.Exists(hparams.exp_log_dir):\n",
        "    gfile.MakeDirs(hparams.exp_log_dir)\n",
        "\n",
        "  g = tf.Graph()\n",
        "  model = SortingModel(g, hparams)\n",
        "\n",
        "  with model.graph.as_default():\n",
        "    model.set_input()\n",
        "    model.build_network()\n",
        "    model.build_hard_losses()\n",
        "    model.add_summaries_eval()\n",
        "    summaries_eval = tf.summary.merge_all()\n",
        "    saver = tf.train.Saver()\n",
        "    writer = tf.summary.FileWriter(hparams.exp_log_dir, model.graph)\n",
        "    last_step_evaluated = -1\n",
        "    with tf.Session() as session:\n",
        "      while time.time() - time_start < hparams.secs_run_for:\n",
        "        wait_for_new_checkpoint(saver, session, hparams.exp_log_dir, model.global_step, last_step_evaluated, hparams.sec_sleep)\n",
        "        (summaries, step, eval_measures) = session.run([summaries_eval, model.global_step, model.get_eval_measures()])\n",
        "        (l1_diff, l2sh_diff, kendall_tau, prop_wrong, prop_any_wrong) = eval_measures\n",
        "        log(f\"Frequency of mistakes was {prop_wrong:.4f}\")\n",
        "        log(f\"Frequency of series with at least an error was {prop_any_wrong:.4f}\")\n",
        "        log(f\"Kendall's tau was %s\" % kendall_tau)\n",
        "        log(f\"Mean L2 squared difference between true and inferred series was {l2sh_diff:.4f}\")\n",
        "        log(f\"Mean L1 difference between true and inferred series was {l1_diff:.4f}\")\n",
        "        writer.add_summary(summaries, global_step=step)\n",
        "        last_step_evaluated = step\n",
        "        if hparams.eval_once is True:\n",
        "          break\n",
        "\n",
        "if __name__ == \"__main__\":\n",
        "  tf.app.run()\n"
      ],
      "execution_count": 24,
      "outputs": [
        {
          "output_type": "stream",
          "text": [
            "INFO:tensorflow:Summary name Kendall's_tau is illegal; using Kendall_s_tau instead.\n"
          ],
          "name": "stdout"
        },
        {
          "output_type": "stream",
          "text": [
            "I1007 10:20:43.798891 140316417697664 summary_op_util.py:66] Summary name Kendall's_tau is illegal; using Kendall_s_tau instead.\n"
          ],
          "name": "stderr"
        },
        {
          "output_type": "stream",
          "text": [
            "INFO:tensorflow:Restoring checking point from ./tmp_sorting/model.ckpt-500\n"
          ],
          "name": "stdout"
        },
        {
          "output_type": "stream",
          "text": [
            "I1007 10:20:43.881588 140316417697664 <ipython-input-24-8ac1663a03f6>:58] Restoring checking point from ./tmp_sorting/model.ckpt-500\n"
          ],
          "name": "stderr"
        },
        {
          "output_type": "stream",
          "text": [
            "Restoring checking point from ./tmp_sorting/model.ckpt-500\n",
            "INFO:tensorflow:Restoring parameters from ./tmp_sorting/model.ckpt-500\n"
          ],
          "name": "stdout"
        },
        {
          "output_type": "stream",
          "text": [
            "I1007 10:20:43.888823 140316417697664 saver.py:1284] Restoring parameters from ./tmp_sorting/model.ckpt-500\n"
          ],
          "name": "stderr"
        },
        {
          "output_type": "stream",
          "text": [
            "INFO:tensorflow:Frequency of mistakes was 0.0160\n"
          ],
          "name": "stdout"
        },
        {
          "output_type": "stream",
          "text": [
            "I1007 10:20:44.083817 140316417697664 <ipython-input-24-8ac1663a03f6>:58] Frequency of mistakes was 0.0160\n"
          ],
          "name": "stderr"
        },
        {
          "output_type": "stream",
          "text": [
            "Frequency of mistakes was 0.0160\n",
            "INFO:tensorflow:Frequency of series with at least an error was 0.2400\n"
          ],
          "name": "stdout"
        },
        {
          "output_type": "stream",
          "text": [
            "I1007 10:20:44.088132 140316417697664 <ipython-input-24-8ac1663a03f6>:58] Frequency of series with at least an error was 0.2400\n"
          ],
          "name": "stderr"
        },
        {
          "output_type": "stream",
          "text": [
            "Frequency of series with at least an error was 0.2400\n",
            "INFO:tensorflow:Kendall's tau was 0.979298\n"
          ],
          "name": "stdout"
        },
        {
          "output_type": "stream",
          "text": [
            "I1007 10:20:44.091242 140316417697664 <ipython-input-24-8ac1663a03f6>:58] Kendall's tau was 0.979298\n"
          ],
          "name": "stderr"
        },
        {
          "output_type": "stream",
          "text": [
            "Kendall's tau was 0.979298\n",
            "INFO:tensorflow:Mean L2 squared difference between true and inferred series was 0.0000\n"
          ],
          "name": "stdout"
        },
        {
          "output_type": "stream",
          "text": [
            "I1007 10:20:44.094034 140316417697664 <ipython-input-24-8ac1663a03f6>:58] Mean L2 squared difference between true and inferred series was 0.0000\n"
          ],
          "name": "stderr"
        },
        {
          "output_type": "stream",
          "text": [
            "Mean L2 squared difference between true and inferred series was 0.0000\n",
            "INFO:tensorflow:Mean L1 difference between true and inferred series was 0.0005\n"
          ],
          "name": "stdout"
        },
        {
          "output_type": "stream",
          "text": [
            "I1007 10:20:44.096320 140316417697664 <ipython-input-24-8ac1663a03f6>:58] Mean L1 difference between true and inferred series was 0.0005\n"
          ],
          "name": "stderr"
        },
        {
          "output_type": "stream",
          "text": [
            "Mean L1 difference between true and inferred series was 0.0005\n"
          ],
          "name": "stdout"
        },
        {
          "output_type": "error",
          "ename": "SystemExit",
          "evalue": "ignored",
          "traceback": [
            "An exception has occurred, use %tb to see the full traceback.\n",
            "\u001b[0;31mSystemExit\u001b[0m\n"
          ]
        },
        {
          "output_type": "stream",
          "text": [
            "/usr/local/lib/python3.6/dist-packages/IPython/core/interactiveshell.py:2890: UserWarning: To exit: use 'exit', 'quit', or Ctrl-D.\n",
            "  warn(\"To exit: use 'exit', 'quit', or Ctrl-D.\", stacklevel=1)\n"
          ],
          "name": "stderr"
        }
      ]
    },
    {
      "cell_type": "markdown",
      "metadata": {
        "id": "QyizUkQOgPBV"
      },
      "source": [
        "# main"
      ]
    },
    {
      "cell_type": "code",
      "metadata": {
        "id": "BEEsmOpxlXLl",
        "outputId": "f1bc20a0-2abc-4614-ee12-9f4d35e614cb",
        "colab": {
          "base_uri": "https://localhost:8080/",
          "height": 280
        }
      },
      "source": [
        "from __future__ import absolute_import\n",
        "from __future__ import division\n",
        "from __future__ import print_function\n",
        "\n",
        "\n",
        "import os\n",
        "import time\n",
        "\n",
        "import tensorflow as tf\n",
        "\n",
        "\n",
        "DEFAULT_HPARAMS = tf.contrib.training.HParams(hparams='',\n",
        "                                              batch_transform_type=None,\n",
        "                                              evaluate_all=True,\n",
        "                                              exp_log_dir='./tmp_sorting/',\n",
        "                                              eval_once=True,\n",
        "                                              sec_sleep=30,\n",
        "                                              secs_run_for=10000,\n",
        "                                              #\n",
        "                                              n_numbers=50,\n",
        "                                              lr=0.1,\n",
        "                                              temperature=1.0,\n",
        "                                              batch_size=50,\n",
        "                                              prob_inc=1.0,\n",
        "                                              samples_per_num=5,\n",
        "                                              n_iter_sinkhorn=10,\n",
        "                                              n_units=32,\n",
        "                                              noise_factor=0.0,\n",
        "                                              optimizer=\"adam\",\n",
        "                                              keep_prob=1.)\n",
        "\n",
        "\n",
        "def main():\n",
        "  time_start = time.time()\n",
        "  hparams = DEFAULT_HPARAMS\n",
        "  \n",
        "  if not gfile.Exists(hparams.exp_log_dir):\n",
        "    gfile.MakeDirs(hparams.exp_log_dir)\n",
        "\n",
        "  g = tf.Graph()\n",
        "  model = SortingModel(g, hparams)\n",
        "\n",
        "  with model.graph.as_default():\n",
        "    model.set_input()\n",
        "    model.build_network()\n",
        "    model.build_hard_losses()\n",
        "\n",
        "\n",
        "    log_alpha_w_noise = tf.transpose(model._log_alpha_w_noise, [1, 0, 2, 3])\n",
        "    log_alpha_w_noise_flat = tf.reshape(log_alpha_w_noise, [-1, model.n_numbers, model.n_numbers])\n",
        "    hard_perms_inf = matching(log_alpha_w_noise_flat)\n",
        "    inverse_hard_perms_inf = invert_listperm(hard_perms_inf)\n",
        "    # hard_perms_inf = tf.reshape(hard_perms_inf, [model.samples_per_num, model.batch_size, model.n_numbers])\n",
        "    # hard_perms_inf = tf.transpose(hard_perms_inf, [1, 0, 2])\n",
        "\n",
        "\n",
        "    hard_perms_tiled = tf.tile(model._hard_perms, [model.samples_per_num, 1])\n",
        "    diff_perms = tf.cast(tf.abs(hard_perms_tiled - inverse_hard_perms_inf), tf.float32)\n",
        "\n",
        "\n",
        "    saver = tf.train.Saver()\n",
        "    writer = tf.summary.FileWriter(hparams.exp_log_dir, model.graph)\n",
        "    last_step_evaluated = -1\n",
        "    with tf.Session() as session:\n",
        "        wait_for_new_checkpoint(saver, session, hparams.exp_log_dir, model.global_step, last_step_evaluated, hparams.sec_sleep)\n",
        "\n",
        "        ops = {\n",
        "            'model._ordered': model._ordered,\n",
        "            'model._random': model._random,\n",
        "            'model._hard_perms': model._hard_perms,\n",
        "\n",
        "            'model._ordered_tiled': model._ordered_tiled,\n",
        "            'model._random_tiled': model._random_tiled,\n",
        "            'model._hard_perms_tiled': hard_perms_tiled,\n",
        "\n",
        "            'model._hard_perms_inf': hard_perms_inf,\n",
        "            'model._inverse_hard_perms_inf': inverse_hard_perms_inf,\n",
        "            \n",
        "            'model._diff_perms': diff_perms,\n",
        "\n",
        "            'model._soft_perms_inf': model._soft_perms_inf,\n",
        "            'model._log_alpha_w_noise': model._log_alpha_w_noise\n",
        "        }\n",
        "        results = session.run(ops)\n",
        "\n",
        "        for op, result in results.items():\n",
        "            print(op, result.shape)\n",
        "\n",
        "    return results\n",
        "\n",
        "\n",
        "results = main()"
      ],
      "execution_count": 85,
      "outputs": [
        {
          "output_type": "stream",
          "text": [
            "INFO:tensorflow:Restoring checking point from ./tmp_sorting/model.ckpt-500\n"
          ],
          "name": "stdout"
        },
        {
          "output_type": "stream",
          "text": [
            "I1007 11:18:31.964698 140316417697664 <ipython-input-24-8ac1663a03f6>:58] Restoring checking point from ./tmp_sorting/model.ckpt-500\n"
          ],
          "name": "stderr"
        },
        {
          "output_type": "stream",
          "text": [
            "Restoring checking point from ./tmp_sorting/model.ckpt-500\n",
            "INFO:tensorflow:Restoring parameters from ./tmp_sorting/model.ckpt-500\n"
          ],
          "name": "stdout"
        },
        {
          "output_type": "stream",
          "text": [
            "I1007 11:18:31.967840 140316417697664 saver.py:1284] Restoring parameters from ./tmp_sorting/model.ckpt-500\n"
          ],
          "name": "stderr"
        },
        {
          "output_type": "stream",
          "text": [
            "model._ordered (50, 50)\n",
            "model._random (50, 50)\n",
            "model._hard_perms (50, 50)\n",
            "model._ordered_tiled (250, 50)\n",
            "model._random_tiled (250, 50)\n",
            "model._hard_perms_tiled (250, 50)\n",
            "model._hard_perms_inf (250, 50)\n",
            "model._inverse_hard_perms_inf (250, 50)\n",
            "model._diff_perms (250, 50)\n",
            "model._soft_perms_inf (50, 5, 50, 50)\n",
            "model._log_alpha_w_noise (50, 5, 50, 50)\n"
          ],
          "name": "stdout"
        }
      ]
    },
    {
      "cell_type": "code",
      "metadata": {
        "id": "FGh4yZFmpPZ1",
        "outputId": "0811d6be-6f1a-456e-9bb2-81d021d6228d",
        "colab": {
          "base_uri": "https://localhost:8080/",
          "height": 197
        }
      },
      "source": [
        "results['model._random'][0]"
      ],
      "execution_count": 105,
      "outputs": [
        {
          "output_type": "execute_result",
          "data": {
            "text/plain": [
              "array([0.09693146, 0.93467736, 0.8104842 , 0.8827152 , 0.26225126,\n",
              "       0.97478354, 0.75638855, 0.06581938, 0.33848166, 0.16084397,\n",
              "       0.5362569 , 0.2828995 , 0.800158  , 0.5055257 , 0.5884433 ,\n",
              "       0.5605475 , 0.5194547 , 0.8333657 , 0.7619628 , 0.26023293,\n",
              "       0.23527515, 0.38149345, 0.53956866, 0.9372901 , 0.98261154,\n",
              "       0.04836261, 0.17472851, 0.20129049, 0.86930656, 0.05879653,\n",
              "       0.12261772, 0.03646851, 0.2853694 , 0.34873128, 0.24351108,\n",
              "       0.16725624, 0.49957192, 0.96747124, 0.20655656, 0.28190684,\n",
              "       0.11749411, 0.51000047, 0.808496  , 0.45947385, 0.81732714,\n",
              "       0.32300103, 0.27582836, 0.70436287, 0.02080083, 0.1342628 ],\n",
              "      dtype=float32)"
            ]
          },
          "metadata": {
            "tags": []
          },
          "execution_count": 105
        }
      ]
    },
    {
      "cell_type": "code",
      "metadata": {
        "id": "hcLkpoFVpXKf",
        "outputId": "4fc8ae86-e3a3-4ab6-e69f-cb3b04d4cb9d",
        "colab": {
          "base_uri": "https://localhost:8080/",
          "height": 197
        }
      },
      "source": [
        "results['model._ordered'][0]"
      ],
      "execution_count": 106,
      "outputs": [
        {
          "output_type": "execute_result",
          "data": {
            "text/plain": [
              "array([0.02080083, 0.03646851, 0.04836261, 0.05879653, 0.06581938,\n",
              "       0.09693146, 0.11749411, 0.12261772, 0.1342628 , 0.16084397,\n",
              "       0.16725624, 0.17472851, 0.20129049, 0.20655656, 0.23527515,\n",
              "       0.24351108, 0.26023293, 0.26225126, 0.27582836, 0.28190684,\n",
              "       0.2828995 , 0.2853694 , 0.32300103, 0.33848166, 0.34873128,\n",
              "       0.38149345, 0.45947385, 0.49957192, 0.5055257 , 0.51000047,\n",
              "       0.5194547 , 0.5362569 , 0.53956866, 0.5605475 , 0.5884433 ,\n",
              "       0.70436287, 0.75638855, 0.7619628 , 0.800158  , 0.808496  ,\n",
              "       0.8104842 , 0.81732714, 0.8333657 , 0.86930656, 0.8827152 ,\n",
              "       0.93467736, 0.9372901 , 0.96747124, 0.97478354, 0.98261154],\n",
              "      dtype=float32)"
            ]
          },
          "metadata": {
            "tags": []
          },
          "execution_count": 106
        }
      ]
    },
    {
      "cell_type": "code",
      "metadata": {
        "id": "fOH5s-mZpbLJ",
        "outputId": "46350ae0-2549-4ce1-a15c-f49f62799213",
        "colab": {
          "base_uri": "https://localhost:8080/",
          "height": 82
        }
      },
      "source": [
        "results['model._hard_perms'][0]"
      ],
      "execution_count": 107,
      "outputs": [
        {
          "output_type": "execute_result",
          "data": {
            "text/plain": [
              "array([48, 31, 25, 29,  7,  0, 40, 30, 49,  9, 35, 26, 27, 38, 20, 34, 19,\n",
              "        4, 46, 39, 11, 32, 45,  8, 33, 21, 43, 36, 13, 41, 16, 10, 22, 15,\n",
              "       14, 47,  6, 18, 12, 42,  2, 44, 17, 28,  3,  1, 23, 37,  5, 24],\n",
              "      dtype=int32)"
            ]
          },
          "metadata": {
            "tags": []
          },
          "execution_count": 107
        }
      ]
    },
    {
      "cell_type": "code",
      "metadata": {
        "id": "u_xA7Vv3pbSh",
        "outputId": "9ae19c7c-005c-4a01-92f3-e08ecaae6e2b",
        "colab": {
          "base_uri": "https://localhost:8080/",
          "height": 115
        }
      },
      "source": [
        "# check random[perms] = ordered\n",
        "results['model._random'][0][results['model._hard_perms'][0]] == results['model._ordered'][0]"
      ],
      "execution_count": 108,
      "outputs": [
        {
          "output_type": "execute_result",
          "data": {
            "text/plain": [
              "array([ True,  True,  True,  True,  True,  True,  True,  True,  True,\n",
              "        True,  True,  True,  True,  True,  True,  True,  True,  True,\n",
              "        True,  True,  True,  True,  True,  True,  True,  True,  True,\n",
              "        True,  True,  True,  True,  True,  True,  True,  True,  True,\n",
              "        True,  True,  True,  True,  True,  True,  True,  True,  True,\n",
              "        True,  True,  True,  True,  True])"
            ]
          },
          "metadata": {
            "tags": []
          },
          "execution_count": 108
        }
      ]
    },
    {
      "cell_type": "code",
      "metadata": {
        "id": "oAbNnVj33r0T",
        "outputId": "73ca4bd9-5bc4-496f-c994-b06a48cafdbf",
        "colab": {
          "base_uri": "https://localhost:8080/",
          "height": 115
        }
      },
      "source": [
        "results['model._hard_perms'][0] == results['model._hard_perms_tiled'][0]"
      ],
      "execution_count": 113,
      "outputs": [
        {
          "output_type": "execute_result",
          "data": {
            "text/plain": [
              "array([ True,  True,  True,  True,  True,  True,  True,  True,  True,\n",
              "        True,  True,  True,  True,  True,  True,  True,  True,  True,\n",
              "        True,  True,  True,  True,  True,  True,  True,  True,  True,\n",
              "        True,  True,  True,  True,  True,  True,  True,  True,  True,\n",
              "        True,  True,  True,  True,  True,  True,  True,  True,  True,\n",
              "        True,  True,  True,  True,  True])"
            ]
          },
          "metadata": {
            "tags": []
          },
          "execution_count": 113
        }
      ]
    },
    {
      "cell_type": "code",
      "metadata": {
        "id": "jNp-Z5v-3r6w",
        "outputId": "ef0df739-3225-4cc6-e576-2c45633a944c",
        "colab": {
          "base_uri": "https://localhost:8080/",
          "height": 115
        }
      },
      "source": [
        "# check random[perms] = ordered\n",
        "results['model._random'][0][results['model._hard_perms_tiled'][0]] == results['model._ordered'][0]"
      ],
      "execution_count": 114,
      "outputs": [
        {
          "output_type": "execute_result",
          "data": {
            "text/plain": [
              "array([ True,  True,  True,  True,  True,  True,  True,  True,  True,\n",
              "        True,  True,  True,  True,  True,  True,  True,  True,  True,\n",
              "        True,  True,  True,  True,  True,  True,  True,  True,  True,\n",
              "        True,  True,  True,  True,  True,  True,  True,  True,  True,\n",
              "        True,  True,  True,  True,  True,  True,  True,  True,  True,\n",
              "        True,  True,  True,  True,  True])"
            ]
          },
          "metadata": {
            "tags": []
          },
          "execution_count": 114
        }
      ]
    },
    {
      "cell_type": "code",
      "metadata": {
        "id": "CeICTQYx31zQ",
        "outputId": "d03cf10d-e713-4100-ae6d-89bc1251a81d",
        "colab": {
          "base_uri": "https://localhost:8080/",
          "height": 115
        }
      },
      "source": [
        "results['model._inverse_hard_perms_inf'][0] == results['model._hard_perms_tiled'][0]"
      ],
      "execution_count": 115,
      "outputs": [
        {
          "output_type": "execute_result",
          "data": {
            "text/plain": [
              "array([ True,  True,  True,  True,  True,  True,  True,  True,  True,\n",
              "        True,  True,  True,  True,  True,  True,  True,  True,  True,\n",
              "        True,  True,  True,  True,  True,  True,  True,  True,  True,\n",
              "        True,  True,  True,  True, False, False,  True,  True,  True,\n",
              "        True,  True,  True,  True,  True,  True,  True,  True,  True,\n",
              "        True,  True,  True,  True,  True])"
            ]
          },
          "metadata": {
            "tags": []
          },
          "execution_count": 115
        }
      ]
    },
    {
      "cell_type": "code",
      "metadata": {
        "id": "7Ky8DBGL315y",
        "outputId": "5be79245-8010-411f-f6b1-85b9df32a33d",
        "colab": {
          "base_uri": "https://localhost:8080/",
          "height": 115
        }
      },
      "source": [
        "# check random[perms] = ordered\n",
        "results['model._random'][0][results['model._inverse_hard_perms_inf'][0]] == results['model._ordered'][0]"
      ],
      "execution_count": 116,
      "outputs": [
        {
          "output_type": "execute_result",
          "data": {
            "text/plain": [
              "array([ True,  True,  True,  True,  True,  True,  True,  True,  True,\n",
              "        True,  True,  True,  True,  True,  True,  True,  True,  True,\n",
              "        True,  True,  True,  True,  True,  True,  True,  True,  True,\n",
              "        True,  True,  True,  True, False, False,  True,  True,  True,\n",
              "        True,  True,  True,  True,  True,  True,  True,  True,  True,\n",
              "        True,  True,  True,  True,  True])"
            ]
          },
          "metadata": {
            "tags": []
          },
          "execution_count": 116
        }
      ]
    },
    {
      "cell_type": "code",
      "metadata": {
        "id": "-ZGIXmNP3csS"
      },
      "source": [
        ""
      ],
      "execution_count": null,
      "outputs": []
    }
  ]
}