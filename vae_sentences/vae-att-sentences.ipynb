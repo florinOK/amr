{
  "nbformat": 4,
  "nbformat_minor": 0,
  "metadata": {
    "colab": {
      "name": "vae-sentences.ipynb",
      "provenance": [],
      "collapsed_sections": [],
      "authorship_tag": "ABX9TyMiMoBMCRHghuM75Hq0yZ/O",
      "include_colab_link": true
    },
    "kernelspec": {
      "name": "python3",
      "display_name": "Python 3"
    },
    "accelerator": "GPU"
  },
  "cells": [
    {
      "cell_type": "markdown",
      "metadata": {
        "id": "view-in-github",
        "colab_type": "text"
      },
      "source": [
        "<a href=\"https://colab.research.google.com/github/florinOK/amr/blob/colab/vae_sentences/vae-att-sentences.ipynb\" target=\"_parent\"><img src=\"https://colab.research.google.com/assets/colab-badge.svg\" alt=\"Open In Colab\"/></a>"
      ]
    },
    {
      "cell_type": "markdown",
      "metadata": {
        "id": "k9HXsDtEe5eR",
        "colab_type": "text"
      },
      "source": [
        "\n",
        "[Generating Sentences from a Continuous Space](https://arxiv.org/pdf/1511.06349.pdf)  \n",
        "[Reasoning about Entailment with Neural Attention](https://arxiv.org/pdf/1509.06664.pdf)  \n",
        "[Deconvolutional Latent-Variable Model for Text Sequence Matching](https://arxiv.org/pdf/1709.07109.pdf)  \n",
        "\n",
        "---\n",
        "https://github.com/baaesh/DeConv-VAE-pytorch  \n",
        "https://github.com/Toni-Antonova/VAE-Text-Generation  \n",
        "https://github.com/alexeyev/Keras-Generating-Sentences-from-a-Continuous-Space  \n"
      ]
    },
    {
      "cell_type": "code",
      "metadata": {
        "id": "XNswjt0W_Ih0",
        "colab_type": "code",
        "colab": {
          "base_uri": "https://localhost:8080/",
          "height": 357
        },
        "outputId": "b802b753-1d12-46b8-c844-3afd63e00629"
      },
      "source": [
        "! nvidia-smi"
      ],
      "execution_count": 1,
      "outputs": [
        {
          "output_type": "stream",
          "text": [
            "Thu Aug 27 08:16:52 2020       \n",
            "+-----------------------------------------------------------------------------+\n",
            "| NVIDIA-SMI 450.57       Driver Version: 418.67       CUDA Version: 10.1     |\n",
            "|-------------------------------+----------------------+----------------------+\n",
            "| GPU  Name        Persistence-M| Bus-Id        Disp.A | Volatile Uncorr. ECC |\n",
            "| Fan  Temp  Perf  Pwr:Usage/Cap|         Memory-Usage | GPU-Util  Compute M. |\n",
            "|                               |                      |               MIG M. |\n",
            "|===============================+======================+======================|\n",
            "|   0  Tesla T4            Off  | 00000000:00:04.0 Off |                    0 |\n",
            "| N/A   39C    P8    10W /  70W |      0MiB / 15079MiB |      0%      Default |\n",
            "|                               |                      |                 ERR! |\n",
            "+-------------------------------+----------------------+----------------------+\n",
            "                                                                               \n",
            "+-----------------------------------------------------------------------------+\n",
            "| Processes:                                                                  |\n",
            "|  GPU   GI   CI        PID   Type   Process name                  GPU Memory |\n",
            "|        ID   ID                                                   Usage      |\n",
            "|=============================================================================|\n",
            "|  No running processes found                                                 |\n",
            "+-----------------------------------------------------------------------------+\n"
          ],
          "name": "stdout"
        }
      ]
    },
    {
      "cell_type": "markdown",
      "metadata": {
        "id": "2C8_KGBGmY0Y",
        "colab_type": "text"
      },
      "source": [
        "# Data"
      ]
    },
    {
      "cell_type": "code",
      "metadata": {
        "id": "sLuXxOddakxp",
        "colab_type": "code",
        "colab": {
          "base_uri": "https://localhost:8080/",
          "height": 357
        },
        "outputId": "887d0521-9503-44f2-a4bd-50bdcff549bc"
      },
      "source": [
        "# SNLI\n",
        "! curl https://nlp.stanford.edu/projects/snli/snli_1.0.zip -o snli_1.0.zip\n",
        "! unzip snli_1.0.zip -d data"
      ],
      "execution_count": 2,
      "outputs": [
        {
          "output_type": "stream",
          "text": [
            "  % Total    % Received % Xferd  Average Speed   Time    Time     Time  Current\n",
            "                                 Dload  Upload   Total   Spent    Left  Speed\n",
            "100 90.1M  100 90.1M    0     0  8672k      0  0:00:10  0:00:10 --:--:-- 7096k\n",
            "Archive:  snli_1.0.zip\n",
            "   creating: data/snli_1.0/\n",
            "  inflating: data/snli_1.0/.DS_Store  \n",
            "   creating: data/__MACOSX/\n",
            "   creating: data/__MACOSX/snli_1.0/\n",
            "  inflating: data/__MACOSX/snli_1.0/._.DS_Store  \n",
            " extracting: data/snli_1.0/Icon      \n",
            "  inflating: data/__MACOSX/snli_1.0/._Icon  \n",
            "  inflating: data/snli_1.0/README.txt  \n",
            "  inflating: data/__MACOSX/snli_1.0/._README.txt  \n",
            "  inflating: data/snli_1.0/snli_1.0_dev.jsonl  \n",
            "  inflating: data/snli_1.0/snli_1.0_dev.txt  \n",
            "  inflating: data/snli_1.0/snli_1.0_test.jsonl  \n",
            "  inflating: data/snli_1.0/snli_1.0_test.txt  \n",
            "  inflating: data/snli_1.0/snli_1.0_train.jsonl  \n",
            "  inflating: data/snli_1.0/snli_1.0_train.txt  \n",
            "  inflating: data/__MACOSX/._snli_1.0  \n"
          ],
          "name": "stdout"
        }
      ]
    },
    {
      "cell_type": "code",
      "metadata": {
        "id": "HuBXuRH2mcUI",
        "colab_type": "code",
        "colab": {}
      },
      "source": [
        "# QQP"
      ],
      "execution_count": null,
      "outputs": []
    },
    {
      "cell_type": "code",
      "metadata": {
        "id": "Srx_oLw2mcXq",
        "colab_type": "code",
        "colab": {}
      },
      "source": [
        "# PTB"
      ],
      "execution_count": null,
      "outputs": []
    },
    {
      "cell_type": "code",
      "metadata": {
        "id": "xWcBeyPM3QIx",
        "colab_type": "code",
        "colab": {
          "base_uri": "https://localhost:8080/",
          "height": 391
        },
        "outputId": "31bf3738-ce61-43d9-dd40-8286703acc3c"
      },
      "source": [
        "# Glove\n",
        "! wget http://nlp.stanford.edu/data/glove.840B.300d.zip\n",
        "! unzip glove.840B.300d.zip -d data/glove"
      ],
      "execution_count": null,
      "outputs": [
        {
          "output_type": "stream",
          "text": [
            "--2020-08-26 08:23:33--  http://nlp.stanford.edu/data/glove.840B.300d.zip\n",
            "Resolving nlp.stanford.edu (nlp.stanford.edu)... 171.64.67.140\n",
            "Connecting to nlp.stanford.edu (nlp.stanford.edu)|171.64.67.140|:80... connected.\n",
            "HTTP request sent, awaiting response... 302 Found\n",
            "Location: https://nlp.stanford.edu/data/glove.840B.300d.zip [following]\n",
            "--2020-08-26 08:23:34--  https://nlp.stanford.edu/data/glove.840B.300d.zip\n",
            "Connecting to nlp.stanford.edu (nlp.stanford.edu)|171.64.67.140|:443... connected.\n",
            "HTTP request sent, awaiting response... 301 Moved Permanently\n",
            "Location: http://downloads.cs.stanford.edu/nlp/data/glove.840B.300d.zip [following]\n",
            "--2020-08-26 08:23:34--  http://downloads.cs.stanford.edu/nlp/data/glove.840B.300d.zip\n",
            "Resolving downloads.cs.stanford.edu (downloads.cs.stanford.edu)... 171.64.64.22\n",
            "Connecting to downloads.cs.stanford.edu (downloads.cs.stanford.edu)|171.64.64.22|:80... connected.\n",
            "HTTP request sent, awaiting response... 200 OK\n",
            "Length: 2176768927 (2.0G) [application/zip]\n",
            "Saving to: ‘glove.840B.300d.zip’\n",
            "\n",
            "glove.840B.300d.zip 100%[===================>]   2.03G  2.05MB/s    in 16m 57s \n",
            "\n",
            "2020-08-26 08:40:32 (2.04 MB/s) - ‘glove.840B.300d.zip’ saved [2176768927/2176768927]\n",
            "\n",
            "Archive:  glove.840B.300d.zip\n",
            "  inflating: data/glove/glove.840B.300d.txt  \n"
          ],
          "name": "stdout"
        }
      ]
    },
    {
      "cell_type": "markdown",
      "metadata": {
        "id": "WoNiKL4EmhYY",
        "colab_type": "text"
      },
      "source": [
        "# Code"
      ]
    },
    {
      "cell_type": "code",
      "metadata": {
        "id": "qVln8r5YlpFG",
        "colab_type": "code",
        "colab": {}
      },
      "source": [
        "import re\n",
        "import json\n",
        "import time\n",
        "import logging\n",
        "import collections\n",
        "\n",
        "import numpy as np\n",
        "import pandas as pd\n",
        "import seaborn as sns\n",
        "import tensorflow as tf\n",
        "# import tensorflow_probability as tfp\n",
        "\n",
        "import matplotlib.pyplot as plt\n",
        "\n",
        "from IPython import display"
      ],
      "execution_count": null,
      "outputs": []
    },
    {
      "cell_type": "code",
      "metadata": {
        "id": "Qql8tqYKm5xT",
        "colab_type": "code",
        "colab": {}
      },
      "source": [
        "p = sns.color_palette()\n",
        "\n",
        "pd.set_option('display.max_rows', 64)\n",
        "pd.set_option('display.max_columns', 64)\n",
        "pd.set_option('display.max_colwidth', 1024)\n",
        "\n",
        "logging.basicConfig(level='INFO', format=\"%(asctime)s [%(levelname)-5.5s] [%(funcName)-32s]  %(message)s\")"
      ],
      "execution_count": null,
      "outputs": []
    },
    {
      "cell_type": "code",
      "metadata": {
        "id": "4E1DEaifsh2T",
        "colab_type": "code",
        "colab": {}
      },
      "source": [
        "# config\n",
        "\n",
        "EMBS = 'data/glove/glove.840B.300d.txt'\n",
        "TRAIN_DATASET = 'data/snli_1.0/snli_1.0_test.jsonl'\n"
      ],
      "execution_count": null,
      "outputs": []
    },
    {
      "cell_type": "code",
      "metadata": {
        "id": "j5OGEJDKak6M",
        "colab_type": "code",
        "colab": {}
      },
      "source": [
        "def load_dataset(path):\n",
        "    dataset = []\n",
        "    with open(path) as fp:\n",
        "        for line in fp.readlines():\n",
        "            dataset.append(json.loads(line))\n",
        "    return pd.DataFrame(dataset)\n",
        "\n",
        "\n",
        "train_dataset = load_dataset(TRAIN_DATASET)"
      ],
      "execution_count": 306,
      "outputs": []
    },
    {
      "cell_type": "code",
      "metadata": {
        "id": "HiFy6M6jsOWG",
        "colab_type": "code",
        "colab": {
          "base_uri": "https://localhost:8080/",
          "height": 34
        },
        "outputId": "d60ed174-bb00-4d37-a54a-95966af12436"
      },
      "source": [
        "train_dataset.shape  # (550152, 10)"
      ],
      "execution_count": 307,
      "outputs": [
        {
          "output_type": "execute_result",
          "data": {
            "text/plain": [
              "(10000, 10)"
            ]
          },
          "metadata": {
            "tags": []
          },
          "execution_count": 307
        }
      ]
    },
    {
      "cell_type": "code",
      "metadata": {
        "id": "bw0vWxujklAv",
        "colab_type": "code",
        "colab": {
          "base_uri": "https://localhost:8080/",
          "height": 697
        },
        "outputId": "7fb92345-95f3-45dc-a54b-d30ca0dedc75"
      },
      "source": [
        "train_dataset.head()"
      ],
      "execution_count": 308,
      "outputs": [
        {
          "output_type": "execute_result",
          "data": {
            "text/html": [
              "<div>\n",
              "<style scoped>\n",
              "    .dataframe tbody tr th:only-of-type {\n",
              "        vertical-align: middle;\n",
              "    }\n",
              "\n",
              "    .dataframe tbody tr th {\n",
              "        vertical-align: top;\n",
              "    }\n",
              "\n",
              "    .dataframe thead th {\n",
              "        text-align: right;\n",
              "    }\n",
              "</style>\n",
              "<table border=\"1\" class=\"dataframe\">\n",
              "  <thead>\n",
              "    <tr style=\"text-align: right;\">\n",
              "      <th></th>\n",
              "      <th>annotator_labels</th>\n",
              "      <th>captionID</th>\n",
              "      <th>gold_label</th>\n",
              "      <th>pairID</th>\n",
              "      <th>sentence1</th>\n",
              "      <th>sentence1_binary_parse</th>\n",
              "      <th>sentence1_parse</th>\n",
              "      <th>sentence2</th>\n",
              "      <th>sentence2_binary_parse</th>\n",
              "      <th>sentence2_parse</th>\n",
              "    </tr>\n",
              "  </thead>\n",
              "  <tbody>\n",
              "    <tr>\n",
              "      <th>0</th>\n",
              "      <td>[neutral, contradiction, contradiction, neutral, neutral]</td>\n",
              "      <td>2677109430.jpg#1</td>\n",
              "      <td>neutral</td>\n",
              "      <td>2677109430.jpg#1r1n</td>\n",
              "      <td>This church choir sings to the masses as they sing joyous songs from the book at a church.</td>\n",
              "      <td>( ( This ( church choir ) ) ( ( ( sings ( to ( the masses ) ) ) ( as ( they ( ( sing ( joyous songs ) ) ( from ( ( the book ) ( at ( a church ) ) ) ) ) ) ) ) . ) )</td>\n",
              "      <td>(ROOT (S (NP (DT This) (NN church) (NN choir)) (VP (VBZ sings) (PP (TO to) (NP (DT the) (NNS masses))) (SBAR (IN as) (S (NP (PRP they)) (VP (VBP sing) (NP (JJ joyous) (NNS songs)) (PP (IN from) (NP (NP (DT the) (NN book)) (PP (IN at) (NP (DT a) (NN church))))))))) (. .)))</td>\n",
              "      <td>The church has cracks in the ceiling.</td>\n",
              "      <td>( ( The church ) ( ( has ( cracks ( in ( the ceiling ) ) ) ) . ) )</td>\n",
              "      <td>(ROOT (S (NP (DT The) (NN church)) (VP (VBZ has) (NP (NP (NNS cracks)) (PP (IN in) (NP (DT the) (NN ceiling))))) (. .)))</td>\n",
              "    </tr>\n",
              "    <tr>\n",
              "      <th>1</th>\n",
              "      <td>[entailment, entailment, entailment, neutral, entailment]</td>\n",
              "      <td>2677109430.jpg#1</td>\n",
              "      <td>entailment</td>\n",
              "      <td>2677109430.jpg#1r1e</td>\n",
              "      <td>This church choir sings to the masses as they sing joyous songs from the book at a church.</td>\n",
              "      <td>( ( This ( church choir ) ) ( ( ( sings ( to ( the masses ) ) ) ( as ( they ( ( sing ( joyous songs ) ) ( from ( ( the book ) ( at ( a church ) ) ) ) ) ) ) ) . ) )</td>\n",
              "      <td>(ROOT (S (NP (DT This) (NN church) (NN choir)) (VP (VBZ sings) (PP (TO to) (NP (DT the) (NNS masses))) (SBAR (IN as) (S (NP (PRP they)) (VP (VBP sing) (NP (JJ joyous) (NNS songs)) (PP (IN from) (NP (NP (DT the) (NN book)) (PP (IN at) (NP (DT a) (NN church))))))))) (. .)))</td>\n",
              "      <td>The church is filled with song.</td>\n",
              "      <td>( ( The church ) ( ( is ( filled ( with song ) ) ) . ) )</td>\n",
              "      <td>(ROOT (S (NP (DT The) (NN church)) (VP (VBZ is) (VP (VBN filled) (PP (IN with) (NP (NN song))))) (. .)))</td>\n",
              "    </tr>\n",
              "    <tr>\n",
              "      <th>2</th>\n",
              "      <td>[contradiction, contradiction, contradiction, contradiction, contradiction]</td>\n",
              "      <td>2677109430.jpg#1</td>\n",
              "      <td>contradiction</td>\n",
              "      <td>2677109430.jpg#1r1c</td>\n",
              "      <td>This church choir sings to the masses as they sing joyous songs from the book at a church.</td>\n",
              "      <td>( ( This ( church choir ) ) ( ( ( sings ( to ( the masses ) ) ) ( as ( they ( ( sing ( joyous songs ) ) ( from ( ( the book ) ( at ( a church ) ) ) ) ) ) ) ) . ) )</td>\n",
              "      <td>(ROOT (S (NP (DT This) (NN church) (NN choir)) (VP (VBZ sings) (PP (TO to) (NP (DT the) (NNS masses))) (SBAR (IN as) (S (NP (PRP they)) (VP (VBP sing) (NP (JJ joyous) (NNS songs)) (PP (IN from) (NP (NP (DT the) (NN book)) (PP (IN at) (NP (DT a) (NN church))))))))) (. .)))</td>\n",
              "      <td>A choir singing at a baseball game.</td>\n",
              "      <td>( ( ( A choir ) ( singing ( at ( a ( baseball game ) ) ) ) ) . )</td>\n",
              "      <td>(ROOT (NP (NP (DT A) (NN choir)) (VP (VBG singing) (PP (IN at) (NP (DT a) (NN baseball) (NN game)))) (. .)))</td>\n",
              "    </tr>\n",
              "    <tr>\n",
              "      <th>3</th>\n",
              "      <td>[neutral, neutral, neutral, neutral, neutral]</td>\n",
              "      <td>6160193920.jpg#4</td>\n",
              "      <td>neutral</td>\n",
              "      <td>6160193920.jpg#4r1n</td>\n",
              "      <td>A woman with a green headscarf, blue shirt and a very big grin.</td>\n",
              "      <td>( ( ( A woman ) ( with ( ( ( ( ( a ( green headscarf ) ) , ) ( blue shirt ) ) and ) ( a ( ( very big ) grin ) ) ) ) ) . )</td>\n",
              "      <td>(ROOT (NP (NP (DT A) (NN woman)) (PP (IN with) (NP (NP (DT a) (JJ green) (NN headscarf)) (, ,) (NP (JJ blue) (NN shirt)) (CC and) (NP (DT a) (ADJP (RB very) (JJ big)) (NN grin)))) (. .)))</td>\n",
              "      <td>The woman is young.</td>\n",
              "      <td>( ( The woman ) ( ( is young ) . ) )</td>\n",
              "      <td>(ROOT (S (NP (DT The) (NN woman)) (VP (VBZ is) (ADJP (JJ young))) (. .)))</td>\n",
              "    </tr>\n",
              "    <tr>\n",
              "      <th>4</th>\n",
              "      <td>[entailment, entailment, contradiction, entailment, neutral]</td>\n",
              "      <td>6160193920.jpg#4</td>\n",
              "      <td>entailment</td>\n",
              "      <td>6160193920.jpg#4r1e</td>\n",
              "      <td>A woman with a green headscarf, blue shirt and a very big grin.</td>\n",
              "      <td>( ( ( A woman ) ( with ( ( ( ( ( a ( green headscarf ) ) , ) ( blue shirt ) ) and ) ( a ( ( very big ) grin ) ) ) ) ) . )</td>\n",
              "      <td>(ROOT (NP (NP (DT A) (NN woman)) (PP (IN with) (NP (NP (DT a) (JJ green) (NN headscarf)) (, ,) (NP (JJ blue) (NN shirt)) (CC and) (NP (DT a) (ADJP (RB very) (JJ big)) (NN grin)))) (. .)))</td>\n",
              "      <td>The woman is very happy.</td>\n",
              "      <td>( ( The woman ) ( ( is ( very happy ) ) . ) )</td>\n",
              "      <td>(ROOT (S (NP (DT The) (NN woman)) (VP (VBZ is) (ADJP (RB very) (JJ happy))) (. .)))</td>\n",
              "    </tr>\n",
              "  </tbody>\n",
              "</table>\n",
              "</div>"
            ],
            "text/plain": [
              "                                                              annotator_labels  \\\n",
              "0                    [neutral, contradiction, contradiction, neutral, neutral]   \n",
              "1                    [entailment, entailment, entailment, neutral, entailment]   \n",
              "2  [contradiction, contradiction, contradiction, contradiction, contradiction]   \n",
              "3                                [neutral, neutral, neutral, neutral, neutral]   \n",
              "4                 [entailment, entailment, contradiction, entailment, neutral]   \n",
              "\n",
              "          captionID     gold_label               pairID  \\\n",
              "0  2677109430.jpg#1        neutral  2677109430.jpg#1r1n   \n",
              "1  2677109430.jpg#1     entailment  2677109430.jpg#1r1e   \n",
              "2  2677109430.jpg#1  contradiction  2677109430.jpg#1r1c   \n",
              "3  6160193920.jpg#4        neutral  6160193920.jpg#4r1n   \n",
              "4  6160193920.jpg#4     entailment  6160193920.jpg#4r1e   \n",
              "\n",
              "                                                                                    sentence1  \\\n",
              "0  This church choir sings to the masses as they sing joyous songs from the book at a church.   \n",
              "1  This church choir sings to the masses as they sing joyous songs from the book at a church.   \n",
              "2  This church choir sings to the masses as they sing joyous songs from the book at a church.   \n",
              "3                             A woman with a green headscarf, blue shirt and a very big grin.   \n",
              "4                             A woman with a green headscarf, blue shirt and a very big grin.   \n",
              "\n",
              "                                                                                                                                                sentence1_binary_parse  \\\n",
              "0  ( ( This ( church choir ) ) ( ( ( sings ( to ( the masses ) ) ) ( as ( they ( ( sing ( joyous songs ) ) ( from ( ( the book ) ( at ( a church ) ) ) ) ) ) ) ) . ) )   \n",
              "1  ( ( This ( church choir ) ) ( ( ( sings ( to ( the masses ) ) ) ( as ( they ( ( sing ( joyous songs ) ) ( from ( ( the book ) ( at ( a church ) ) ) ) ) ) ) ) . ) )   \n",
              "2  ( ( This ( church choir ) ) ( ( ( sings ( to ( the masses ) ) ) ( as ( they ( ( sing ( joyous songs ) ) ( from ( ( the book ) ( at ( a church ) ) ) ) ) ) ) ) . ) )   \n",
              "3                                            ( ( ( A woman ) ( with ( ( ( ( ( a ( green headscarf ) ) , ) ( blue shirt ) ) and ) ( a ( ( very big ) grin ) ) ) ) ) . )   \n",
              "4                                            ( ( ( A woman ) ( with ( ( ( ( ( a ( green headscarf ) ) , ) ( blue shirt ) ) and ) ( a ( ( very big ) grin ) ) ) ) ) . )   \n",
              "\n",
              "                                                                                                                                                                                                                                                                    sentence1_parse  \\\n",
              "0  (ROOT (S (NP (DT This) (NN church) (NN choir)) (VP (VBZ sings) (PP (TO to) (NP (DT the) (NNS masses))) (SBAR (IN as) (S (NP (PRP they)) (VP (VBP sing) (NP (JJ joyous) (NNS songs)) (PP (IN from) (NP (NP (DT the) (NN book)) (PP (IN at) (NP (DT a) (NN church))))))))) (. .)))   \n",
              "1  (ROOT (S (NP (DT This) (NN church) (NN choir)) (VP (VBZ sings) (PP (TO to) (NP (DT the) (NNS masses))) (SBAR (IN as) (S (NP (PRP they)) (VP (VBP sing) (NP (JJ joyous) (NNS songs)) (PP (IN from) (NP (NP (DT the) (NN book)) (PP (IN at) (NP (DT a) (NN church))))))))) (. .)))   \n",
              "2  (ROOT (S (NP (DT This) (NN church) (NN choir)) (VP (VBZ sings) (PP (TO to) (NP (DT the) (NNS masses))) (SBAR (IN as) (S (NP (PRP they)) (VP (VBP sing) (NP (JJ joyous) (NNS songs)) (PP (IN from) (NP (NP (DT the) (NN book)) (PP (IN at) (NP (DT a) (NN church))))))))) (. .)))   \n",
              "3                                                                                       (ROOT (NP (NP (DT A) (NN woman)) (PP (IN with) (NP (NP (DT a) (JJ green) (NN headscarf)) (, ,) (NP (JJ blue) (NN shirt)) (CC and) (NP (DT a) (ADJP (RB very) (JJ big)) (NN grin)))) (. .)))   \n",
              "4                                                                                       (ROOT (NP (NP (DT A) (NN woman)) (PP (IN with) (NP (NP (DT a) (JJ green) (NN headscarf)) (, ,) (NP (JJ blue) (NN shirt)) (CC and) (NP (DT a) (ADJP (RB very) (JJ big)) (NN grin)))) (. .)))   \n",
              "\n",
              "                               sentence2  \\\n",
              "0  The church has cracks in the ceiling.   \n",
              "1        The church is filled with song.   \n",
              "2    A choir singing at a baseball game.   \n",
              "3                    The woman is young.   \n",
              "4               The woman is very happy.   \n",
              "\n",
              "                                               sentence2_binary_parse  \\\n",
              "0  ( ( The church ) ( ( has ( cracks ( in ( the ceiling ) ) ) ) . ) )   \n",
              "1            ( ( The church ) ( ( is ( filled ( with song ) ) ) . ) )   \n",
              "2    ( ( ( A choir ) ( singing ( at ( a ( baseball game ) ) ) ) ) . )   \n",
              "3                                ( ( The woman ) ( ( is young ) . ) )   \n",
              "4                       ( ( The woman ) ( ( is ( very happy ) ) . ) )   \n",
              "\n",
              "                                                                                                            sentence2_parse  \n",
              "0  (ROOT (S (NP (DT The) (NN church)) (VP (VBZ has) (NP (NP (NNS cracks)) (PP (IN in) (NP (DT the) (NN ceiling))))) (. .)))  \n",
              "1                  (ROOT (S (NP (DT The) (NN church)) (VP (VBZ is) (VP (VBN filled) (PP (IN with) (NP (NN song))))) (. .)))  \n",
              "2              (ROOT (NP (NP (DT A) (NN choir)) (VP (VBG singing) (PP (IN at) (NP (DT a) (NN baseball) (NN game)))) (. .)))  \n",
              "3                                                 (ROOT (S (NP (DT The) (NN woman)) (VP (VBZ is) (ADJP (JJ young))) (. .)))  \n",
              "4                                       (ROOT (S (NP (DT The) (NN woman)) (VP (VBZ is) (ADJP (RB very) (JJ happy))) (. .)))  "
            ]
          },
          "metadata": {
            "tags": []
          },
          "execution_count": 308
        }
      ]
    },
    {
      "cell_type": "markdown",
      "metadata": {
        "id": "PvemEBEE2TB_",
        "colab_type": "text"
      },
      "source": [
        "# Vocab"
      ]
    },
    {
      "cell_type": "code",
      "metadata": {
        "id": "PM9jygHDklMw",
        "colab_type": "code",
        "colab": {}
      },
      "source": [
        "class WordModel:\n",
        "    \n",
        "    def __init__(self, word_regex=r'([A-Za-z]+|[\\s]|[^A-Za-z\\s])'):\n",
        "        self.word_regex = re.compile(word_regex)\n",
        "\n",
        "    def preprocess_sentence(self, sentence):\n",
        "        sentence = sentence.lower()\n",
        "        return sentence\n",
        "\n",
        "    def parse_sentence(self, sentence):\n",
        "        sentence = self.preprocess_sentence(sentence)\n",
        "        words = self.word_regex.findall(sentence)\n",
        "        words = [word for word in words if word != ' ']  # hack short length: words = [word for word in words[:8] if word != ' ']\n",
        "        return words\n",
        "    \n",
        "    def parse_corpus(self, sentences):\n",
        "        words = []\n",
        "        for sentence in sentences:\n",
        "            words += self.parse_sentence(sentence)\n",
        "        return words\n"
      ],
      "execution_count": 319,
      "outputs": []
    },
    {
      "cell_type": "code",
      "metadata": {
        "id": "tjHekcnxtqsd",
        "colab_type": "code",
        "colab": {}
      },
      "source": [
        "word_model = WordModel()\n",
        "\n",
        "train_words = word_model.parse_corpus(train_dataset['sentence1'])\n",
        "train_words += word_model.parse_corpus(train_dataset['sentence2'])"
      ],
      "execution_count": 320,
      "outputs": []
    },
    {
      "cell_type": "code",
      "metadata": {
        "id": "MlAV-sg4lySI",
        "colab_type": "code",
        "colab": {}
      },
      "source": [
        "class WordVocab:\n",
        "\n",
        "    def __init__(self, max_size_vocab=100000):\n",
        "        self.max_size_vocab = max_size_vocab\n",
        "        self.vocab = None\n",
        "        self.vocab_reversed = None\n",
        "        self.util_vocab = {'[PAD]': 0, '[UNK]': 1}\n",
        "        self.util_vocab_reversed = {v: k for k, v in self.util_vocab.items()}\n",
        "    \n",
        "    @property\n",
        "    def vocab_size(self):\n",
        "        return len(self.vocab)\n",
        "    \n",
        "    def create_vocab(self, words):\n",
        "        word_counts = collections.Counter(words)\n",
        "        word_counts = word_counts.most_common(self.max_size_vocab)\n",
        "\n",
        "        initial_index = len(self.util_vocab)\n",
        "        self.vocab = {\n",
        "            **self.util_vocab,\n",
        "            **{word: i for i, (word, _) in enumerate(word_counts, initial_index)}\n",
        "        }\n",
        "        self.vocab_reversed = {v: k for k, v in self.vocab.items()}\n",
        "    \n",
        "    def pad_words(self, words, max_length):\n",
        "        words = words + ['[PAD]'] * (max_length - len(words))\n",
        "        return words[:max_length]\n",
        "\n",
        "    def encode_words(self, words):\n",
        "        unk_code = self.vocab['[UNK]']\n",
        "        return [self.vocab.get(word, unk_code) for word in words]\n",
        "    \n",
        "    def decode_words(self, words):\n",
        "        unk_word = '[UNK]'\n",
        "        return [self.vocab_reversed.get(word, unk_word) for word in words]\n"
      ],
      "execution_count": 321,
      "outputs": []
    },
    {
      "cell_type": "code",
      "metadata": {
        "id": "ze8bT2Zjwev9",
        "colab_type": "code",
        "colab": {}
      },
      "source": [
        "max_size_vocab = 2000\n",
        "\n",
        "\n",
        "word_vocab = WordVocab(max_size_vocab)\n",
        "word_vocab.create_vocab(train_words)"
      ],
      "execution_count": 322,
      "outputs": []
    },
    {
      "cell_type": "code",
      "metadata": {
        "id": "RPqO82YmeKMe",
        "colab_type": "code",
        "colab": {
          "base_uri": "https://localhost:8080/",
          "height": 34
        },
        "outputId": "d0b49d78-7422-4821-b41a-a1a13266bfdd"
      },
      "source": [
        "word_vocab.vocab_size"
      ],
      "execution_count": 323,
      "outputs": [
        {
          "output_type": "execute_result",
          "data": {
            "text/plain": [
              "2002"
            ]
          },
          "metadata": {
            "tags": []
          },
          "execution_count": 323
        }
      ]
    },
    {
      "cell_type": "code",
      "metadata": {
        "id": "pQk8sFYwdwUC",
        "colab_type": "code",
        "colab": {
          "base_uri": "https://localhost:8080/",
          "height": 34
        },
        "outputId": "abe66cd4-11c0-4548-bb6f-cf1d30ec7c3c"
      },
      "source": [
        "len([word for word in train_words if word in word_vocab.vocab]) / len(train_words)"
      ],
      "execution_count": 324,
      "outputs": [
        {
          "output_type": "execute_result",
          "data": {
            "text/plain": [
              "0.9490448274119371"
            ]
          },
          "metadata": {
            "tags": []
          },
          "execution_count": 324
        }
      ]
    },
    {
      "cell_type": "markdown",
      "metadata": {
        "id": "ZAIaw7lB2jtY",
        "colab_type": "text"
      },
      "source": [
        "# embs"
      ]
    },
    {
      "cell_type": "code",
      "metadata": {
        "id": "htlVmG9uMiyT",
        "colab_type": "code",
        "colab": {}
      },
      "source": [
        "emb_size = 300"
      ],
      "execution_count": null,
      "outputs": []
    },
    {
      "cell_type": "code",
      "metadata": {
        "id": "hwtiyhRer8aV",
        "colab_type": "code",
        "colab": {}
      },
      "source": [
        "word_embeddings = {}\n",
        "\n",
        "with open(EMBS, 'r', encoding='utf-8') as fp:\n",
        "    for line in fp:\n",
        "        values = line.strip().split()\n",
        "        word = ' '.join(values[:-300])\n",
        "        word_embeddings[word] = np.asarray(values[-300:], 'float32')\n"
      ],
      "execution_count": null,
      "outputs": []
    },
    {
      "cell_type": "code",
      "metadata": {
        "id": "8FJEavffI9_c",
        "colab_type": "code",
        "colab": {
          "base_uri": "https://localhost:8080/",
          "height": 34
        },
        "outputId": "42cde6c7-d25e-4bfb-c135-9bac45f79872"
      },
      "source": [
        "len(word_embeddings)"
      ],
      "execution_count": null,
      "outputs": [
        {
          "output_type": "execute_result",
          "data": {
            "text/plain": [
              "2195895"
            ]
          },
          "metadata": {
            "tags": []
          },
          "execution_count": 18
        }
      ]
    },
    {
      "cell_type": "code",
      "metadata": {
        "id": "OEoUcdWjLb1F",
        "colab_type": "code",
        "colab": {}
      },
      "source": [
        "# space is part of word\n",
        "# [word for word in word_embeddings if ' ' in word]"
      ],
      "execution_count": null,
      "outputs": []
    },
    {
      "cell_type": "markdown",
      "metadata": {
        "id": "rrPSMhZ4M7MB",
        "colab_type": "text"
      },
      "source": [
        "##### check words without embeddings"
      ]
    },
    {
      "cell_type": "code",
      "metadata": {
        "id": "sRirEffFLmos",
        "colab_type": "code",
        "colab": {
          "base_uri": "https://localhost:8080/",
          "height": 34
        },
        "outputId": "ec3909bc-c9fa-4657-c155-f1f7676177cf"
      },
      "source": [
        "# check word embeddings\n",
        "len([word for word in word_vocab.vocab if word in word_embeddings]) / word_vocab.vocab_size"
      ],
      "execution_count": 269,
      "outputs": [
        {
          "output_type": "execute_result",
          "data": {
            "text/plain": [
              "0.999000999000999"
            ]
          },
          "metadata": {
            "tags": []
          },
          "execution_count": 269
        }
      ]
    },
    {
      "cell_type": "code",
      "metadata": {
        "id": "UHL-KjmIL5s2",
        "colab_type": "code",
        "colab": {
          "base_uri": "https://localhost:8080/",
          "height": 34
        },
        "outputId": "4e017ead-6106-455c-bbc1-d9c6ba8ab0e9"
      },
      "source": [
        "[word for word in word_vocab.vocab if word not in word_embeddings]"
      ],
      "execution_count": 270,
      "outputs": [
        {
          "output_type": "execute_result",
          "data": {
            "text/plain": [
              "['[PAD]', '[UNK]']"
            ]
          },
          "metadata": {
            "tags": []
          },
          "execution_count": 270
        }
      ]
    },
    {
      "cell_type": "markdown",
      "metadata": {
        "id": "zDZiHJ4QNLZ1",
        "colab_type": "text"
      },
      "source": [
        "##### emb matrix"
      ]
    },
    {
      "cell_type": "code",
      "metadata": {
        "id": "WnUV99_7NKyu",
        "colab_type": "code",
        "colab": {}
      },
      "source": [
        "embeddings = [\n",
        "    word_embeddings[word] if word in word_embeddings else np.random.uniform(-0.05, 0.05, 300)\n",
        "    for word, _ in sorted(word_vocab.vocab.items(), key=lambda x: x[1])\n",
        "]\n",
        "embeddings = np.array(embeddings)"
      ],
      "execution_count": 325,
      "outputs": []
    },
    {
      "cell_type": "code",
      "metadata": {
        "id": "-cQ8-hpyMUQb",
        "colab_type": "code",
        "colab": {
          "base_uri": "https://localhost:8080/",
          "height": 34
        },
        "outputId": "3ce38e0f-af2a-4a4a-bd37-74ffb27f9699"
      },
      "source": [
        "embeddings.shape"
      ],
      "execution_count": 326,
      "outputs": [
        {
          "output_type": "execute_result",
          "data": {
            "text/plain": [
              "(2002, 300)"
            ]
          },
          "metadata": {
            "tags": []
          },
          "execution_count": 326
        }
      ]
    },
    {
      "cell_type": "markdown",
      "metadata": {
        "id": "LW1TGzbW2YRp",
        "colab_type": "text"
      },
      "source": [
        "# Dataset"
      ]
    },
    {
      "cell_type": "code",
      "metadata": {
        "id": "s_-UEIrMxHoB",
        "colab_type": "code",
        "colab": {}
      },
      "source": [
        "# check max_length\n",
        "# lengths = [len(word_model.parse_sentence(sentence)) for sentence in train_dataset['sentence1']]\n",
        "# np.min(lengths), np.max(lengths), np.mean(lengths), len([length for length in lengths if length < 32]) / len(lengths)"
      ],
      "execution_count": 280,
      "outputs": []
    },
    {
      "cell_type": "code",
      "metadata": {
        "id": "68-zjch24k6_",
        "colab_type": "code",
        "colab": {}
      },
      "source": [
        "max_length = 32\n",
        "batch_size = 128\n",
        "\n",
        "test_size = 10000\n",
        "train_size = 10000\n",
        "\n",
        "\n",
        "def process_sentence(sentence):\n",
        "    words = word_model.parse_sentence(sentence)\n",
        "    words = word_vocab.pad_words(words, max_length)\n",
        "    words = word_vocab.encode_words(words)\n",
        "    return words\n",
        "\n",
        "\n",
        "test_sentences = [process_sentence(s) for s in train_dataset['sentence1']]\n",
        "test_sentences += [process_sentence(s) for s in train_dataset['sentence2']]\n",
        "test_sentences = np.array(test_sentences)\n",
        "\n",
        "train_sentences = [process_sentence(s) for s in train_dataset['sentence1']]\n",
        "train_sentences += [process_sentence(s) for s in train_dataset['sentence2']]\n",
        "train_sentences = np.array(train_sentences)\n",
        "\n",
        "test_sentences = (\n",
        "    tf.data.Dataset.from_tensor_slices(test_sentences)\n",
        "    .shuffle(test_size)\n",
        "    .batch(batch_size)\n",
        ")\n",
        "train_sentences = (\n",
        "    tf.data.Dataset.from_tensor_slices(train_sentences)\n",
        "    .shuffle(train_size)\n",
        "    .batch(batch_size)\n",
        ")"
      ],
      "execution_count": 392,
      "outputs": []
    },
    {
      "cell_type": "markdown",
      "metadata": {
        "id": "2FC0d-Ky2p1b",
        "colab_type": "text"
      },
      "source": [
        "# Model"
      ]
    },
    {
      "cell_type": "markdown",
      "metadata": {
        "id": "U5WNCDM3dLpg",
        "colab_type": "text"
      },
      "source": [
        "### positional encoding"
      ]
    },
    {
      "cell_type": "code",
      "metadata": {
        "id": "UIClAG77U11d",
        "colab_type": "code",
        "colab": {}
      },
      "source": [
        "def get_angles(pos, i, d_model):\n",
        "    angle_rates = 1 / np.power(10000, (2 * (i//2)) / np.float32(d_model))\n",
        "    return pos * angle_rates\n"
      ],
      "execution_count": 393,
      "outputs": []
    },
    {
      "cell_type": "code",
      "metadata": {
        "id": "sIB99JdoU2AC",
        "colab_type": "code",
        "colab": {}
      },
      "source": [
        "def positional_encoding(position, d_model):\n",
        "    angle_rads = get_angles(\n",
        "        np.arange(position)[:, np.newaxis],\n",
        "        np.arange(d_model)[np.newaxis, :],\n",
        "        d_model\n",
        "    )\n",
        "  \n",
        "    # apply sin to even indices in the array; 2i\n",
        "    angle_rads[:, 0::2] = np.sin(angle_rads[:, 0::2])\n",
        "\n",
        "    # apply cos to odd indices in the array; 2i+1\n",
        "    angle_rads[:, 1::2] = np.cos(angle_rads[:, 1::2])\n",
        "\n",
        "    pos_encoding = angle_rads[np.newaxis, ...]\n",
        "\n",
        "    return tf.cast(pos_encoding, dtype=tf.float32)\n"
      ],
      "execution_count": 394,
      "outputs": []
    },
    {
      "cell_type": "markdown",
      "metadata": {
        "id": "QQ0drsJ-dQ7-",
        "colab_type": "text"
      },
      "source": [
        "##### *how it works*"
      ]
    },
    {
      "cell_type": "code",
      "metadata": {
        "id": "ekS40pxsVehZ",
        "colab_type": "code",
        "colab": {
          "base_uri": "https://localhost:8080/",
          "height": 300
        },
        "outputId": "4a8904b6-a948-4e35-e1f8-e3a332560f33"
      },
      "source": [
        "pos_encoding = positional_encoding(50, 512)\n",
        "print(pos_encoding.shape)\n",
        "\n",
        "plt.xlim((0, 512))\n",
        "plt.xlabel('Depth')\n",
        "plt.ylabel('Position')\n",
        "plt.pcolormesh(pos_encoding[0], cmap='RdBu')\n",
        "plt.colorbar()\n",
        "plt.show()"
      ],
      "execution_count": 284,
      "outputs": [
        {
          "output_type": "stream",
          "text": [
            "(1, 50, 512)\n"
          ],
          "name": "stdout"
        },
        {
          "output_type": "display_data",
          "data": {
            "image/png": "[encoded data removed]",
            "text/plain": [
              "<Figure size 432x288 with 2 Axes>"
            ]
          },
          "metadata": {
            "tags": [],
            "needs_background": "light"
          }
        }
      ]
    },
    {
      "cell_type": "markdown",
      "metadata": {
        "id": "CMNqkNYEdViB",
        "colab_type": "text"
      },
      "source": [
        "### attention function"
      ]
    },
    {
      "cell_type": "code",
      "metadata": {
        "id": "hThQOuYCsqZx",
        "colab_type": "code",
        "colab": {}
      },
      "source": [
        "def create_padding_mask(seq):\n",
        "    seq = tf.cast(tf.math.equal(seq, 0), tf.float32)\n",
        "\n",
        "    # add extra dimensions to add the padding\n",
        "    # to the attention logits.\n",
        "    return seq[:, tf.newaxis, tf.newaxis, :]  # (batch_size, 1, 1, seq_len)\n"
      ],
      "execution_count": 231,
      "outputs": []
    },
    {
      "cell_type": "code",
      "metadata": {
        "id": "clTsCcnEdEvS",
        "colab_type": "code",
        "colab": {}
      },
      "source": [
        "def scaled_dot_product_attention(q, k, v, mask):\n",
        "    \"\"\"Calculate the attention weights.\n",
        "    q, k, v must have matching leading dimensions.\n",
        "    k, v must have matching penultimate dimension, i.e.: seq_len_k = seq_len_v.\n",
        "    The mask has different shapes depending on its type(padding or look ahead) \n",
        "    but it must be broadcastable for addition.\n",
        "\n",
        "    Args:\n",
        "        q: query shape == (..., seq_len_q, depth)\n",
        "        k: key shape == (..., seq_len_k, depth)\n",
        "        v: value shape == (..., seq_len_v, depth_v)\n",
        "        mask: Float tensor with shape broadcastable \n",
        "                to (..., seq_len_q, seq_len_k). Defaults to None.\n",
        "\n",
        "    Returns:\n",
        "        output, attention_weights\n",
        "    \"\"\"\n",
        "\n",
        "    matmul_qk = tf.matmul(q, k, transpose_b=True)  # (..., seq_len_q, seq_len_k)\n",
        "  \n",
        "    # scale matmul_qk\n",
        "    dk = tf.cast(tf.shape(k)[-1], tf.float32)\n",
        "    scaled_attention_logits = matmul_qk / tf.math.sqrt(dk)\n",
        "\n",
        "    # add the mask to the scaled tensor.\n",
        "    if mask is not None:\n",
        "        scaled_attention_logits += (mask * -1e9)  \n",
        "\n",
        "    # softmax is normalized on the last axis (seq_len_k) so that the scores\n",
        "    # add up to 1.\n",
        "    attention_weights = tf.nn.softmax(scaled_attention_logits, axis=-1)  # (..., seq_len_q, seq_len_k)\n",
        "\n",
        "    output = tf.matmul(attention_weights, v)  # (..., seq_len_q, depth_v)\n",
        "    return output, attention_weights\n"
      ],
      "execution_count": 232,
      "outputs": []
    },
    {
      "cell_type": "markdown",
      "metadata": {
        "id": "xCJqBpejdaBP",
        "colab_type": "text"
      },
      "source": [
        "##### *how it works*"
      ]
    },
    {
      "cell_type": "code",
      "metadata": {
        "id": "MjhWFKe3Ux0a",
        "colab_type": "code",
        "colab": {}
      },
      "source": [
        "def print_out(q, k, v):\n",
        "    temp_out, temp_attn = scaled_dot_product_attention(q, k, v, None)\n",
        "    print('Attention weights are:')\n",
        "    print(temp_attn)\n",
        "    print('Output is:')\n",
        "    print(temp_out)\n"
      ],
      "execution_count": null,
      "outputs": []
    },
    {
      "cell_type": "code",
      "metadata": {
        "id": "j0acUlSGbu9e",
        "colab_type": "code",
        "colab": {
          "base_uri": "https://localhost:8080/",
          "height": 85
        },
        "outputId": "cad052ff-b341-4e86-e0f0-def2685a2048"
      },
      "source": [
        "# np.set_printoptions(suppress=True)\n",
        "\n",
        "temp_k = tf.constant([[10,0,0],\n",
        "                      [0,10,0],\n",
        "                      [0,0,10],\n",
        "                      [0,0,10]], dtype=tf.float32)  # (4, 3)\n",
        "\n",
        "temp_v = tf.constant([[   1,0],\n",
        "                      [  10,0],\n",
        "                      [ 100,5],\n",
        "                      [1000,6]], dtype=tf.float32)  # (4, 2)\n",
        "\n",
        "# This `query` aligns with the second `key`,\n",
        "# so the second `value` is returned.\n",
        "temp_q = tf.constant([[0, 10, 0]], dtype=tf.float32)  # (1, 3)\n",
        "\n",
        "print_out(temp_q, temp_k, temp_v)"
      ],
      "execution_count": null,
      "outputs": [
        {
          "output_type": "stream",
          "text": [
            "Attention weights are:\n",
            "tf.Tensor([[8.433274e-26 1.000000e+00 8.433274e-26 8.433274e-26]], shape=(1, 4), dtype=float32)\n",
            "Output is:\n",
            "tf.Tensor([[1.000000e+01 9.276601e-25]], shape=(1, 2), dtype=float32)\n"
          ],
          "name": "stdout"
        }
      ]
    },
    {
      "cell_type": "markdown",
      "metadata": {
        "id": "aQHE9qzUdiyg",
        "colab_type": "text"
      },
      "source": [
        "### Attention"
      ]
    },
    {
      "cell_type": "code",
      "metadata": {
        "id": "fDCg66vdbvIl",
        "colab_type": "code",
        "colab": {}
      },
      "source": [
        "class MultiHeadAttention(tf.keras.layers.Layer):\n",
        "    def __init__(self, d_model, num_heads):\n",
        "        super(MultiHeadAttention, self).__init__()\n",
        "        self.num_heads = num_heads\n",
        "        self.d_model = d_model\n",
        "\n",
        "        assert d_model % self.num_heads == 0\n",
        "\n",
        "        self.depth = d_model // self.num_heads\n",
        "\n",
        "        self.wq = tf.keras.layers.Dense(d_model)\n",
        "        self.wk = tf.keras.layers.Dense(d_model)\n",
        "        self.wv = tf.keras.layers.Dense(d_model)\n",
        "\n",
        "        self.dense = tf.keras.layers.Dense(d_model)\n",
        "        \n",
        "    def split_heads(self, x, batch_size):\n",
        "        \"\"\"Split the last dimension into (num_heads, depth).\n",
        "        Transpose the result such that the shape is (batch_size, num_heads, seq_len, depth)\n",
        "        \"\"\"\n",
        "        x = tf.reshape(x, (batch_size, -1, self.num_heads, self.depth))\n",
        "        return tf.transpose(x, perm=[0, 2, 1, 3])\n",
        "    \n",
        "    def call(self, v, k, q, mask):\n",
        "        batch_size = tf.shape(q)[0]\n",
        "\n",
        "        q = self.wq(q)  # (batch_size, seq_len, d_model)\n",
        "        k = self.wk(k)  # (batch_size, seq_len, d_model)\n",
        "        v = self.wv(v)  # (batch_size, seq_len, d_model)\n",
        "\n",
        "        q = self.split_heads(q, batch_size)  # (batch_size, num_heads, seq_len_q, depth)\n",
        "        k = self.split_heads(k, batch_size)  # (batch_size, num_heads, seq_len_k, depth)\n",
        "        v = self.split_heads(v, batch_size)  # (batch_size, num_heads, seq_len_v, depth)\n",
        "\n",
        "        # scaled_attention.shape == (batch_size, num_heads, seq_len_q, depth)\n",
        "        # attention_weights.shape == (batch_size, num_heads, seq_len_q, seq_len_k)\n",
        "        scaled_attention, attention_weights = scaled_dot_product_attention(q, k, v, mask)\n",
        "\n",
        "        scaled_attention = tf.transpose(scaled_attention, perm=[0, 2, 1, 3])  # (batch_size, seq_len_q, num_heads, depth)\n",
        "        concat_attention = tf.reshape(scaled_attention, (batch_size, -1, self.d_model))  # (batch_size, seq_len_q, d_model)\n",
        "\n",
        "        output = self.dense(concat_attention)  # (batch_size, seq_len_q, d_model)\n",
        "        return output, attention_weights\n"
      ],
      "execution_count": 395,
      "outputs": []
    },
    {
      "cell_type": "markdown",
      "metadata": {
        "id": "z5U-Ktq1dvs_",
        "colab_type": "text"
      },
      "source": [
        "### VAE"
      ]
    },
    {
      "cell_type": "code",
      "metadata": {
        "id": "QIJpXx7WfSKy",
        "colab_type": "code",
        "colab": {}
      },
      "source": [
        "latent_dim = 2048"
      ],
      "execution_count": 449,
      "outputs": []
    },
    {
      "cell_type": "code",
      "metadata": {
        "id": "D2WAZHbnnpBv",
        "colab_type": "code",
        "colab": {}
      },
      "source": [
        "class Encoder(tf.keras.layers.Layer):\n",
        "    def __init__(self):\n",
        "        super(Encoder, self).__init__()\n",
        "\n",
        "        self.inp = tf.keras.layers.InputLayer(input_shape=(max_length))\n",
        "        self.emb = tf.keras.layers.Embedding(\n",
        "            word_vocab.vocab_size, emb_size,\n",
        "            embeddings_initializer=tf.keras.initializers.Constant(embeddings),\n",
        "            trainable=True\n",
        "        )\n",
        "\n",
        "        self.mha_1 = MultiHeadAttention(d_model=256, num_heads=32)\n",
        "        self.mha_2 = MultiHeadAttention(d_model=128, num_heads=32)\n",
        "        self.mha_3 = MultiHeadAttention(d_model=64, num_heads=32)\n",
        "\n",
        "        self.flatten = tf.keras.layers.Flatten()\n",
        "        self.latent = tf.keras.layers.Dense(latent_dim + latent_dim)\n",
        "\n",
        "    def call(self, x, training=None):\n",
        "        seq = self.inp(x)\n",
        "        emb = self.emb(seq)\n",
        "        mask = create_padding_mask(seq)\n",
        "\n",
        "        att_1, _ = self.mha_1(emb, emb, emb, mask)\n",
        "        att_2, _ = self.mha_2(att_1, att_1, att_1, mask)\n",
        "        att_3, _ = self.mha_3(att_2, att_2, att_2, mask)  # (128, 32, 64)\n",
        "\n",
        "        flatten = self.flatten(att_3)  # (128, 2048)\n",
        "        latent = self.latent(flatten)\n",
        "        return latent\n"
      ],
      "execution_count": 474,
      "outputs": []
    },
    {
      "cell_type": "code",
      "metadata": {
        "id": "uaEiw8Rjp9Rc",
        "colab_type": "code",
        "colab": {
          "base_uri": "https://localhost:8080/",
          "height": 34
        },
        "outputId": "ff936220-4cb2-4cfb-ce6a-8610f317ba49"
      },
      "source": [
        "2048 == 32 * 64"
      ],
      "execution_count": 475,
      "outputs": [
        {
          "output_type": "execute_result",
          "data": {
            "text/plain": [
              "True"
            ]
          },
          "metadata": {
            "tags": []
          },
          "execution_count": 475
        }
      ]
    },
    {
      "cell_type": "code",
      "metadata": {
        "id": "MAN2GcErlXV6",
        "colab_type": "code",
        "colab": {}
      },
      "source": [
        "class Decoder(tf.keras.layers.Layer):\n",
        "    def __init__(self):\n",
        "        super(Decoder, self).__init__()\n",
        "\n",
        "        self.inp = tf.keras.layers.InputLayer(input_shape=(latent_dim,))\n",
        "        self.reshape = tf.keras.layers.Reshape(target_shape=(32, 64))\n",
        "\n",
        "        self.mha = MultiHeadAttention(d_model=64, num_heads=1)\n",
        "\n",
        "        # No activation\n",
        "        self.logits = tf.keras.layers.Conv1D(\n",
        "            filters=word_vocab.vocab_size, kernel_size=1, strides=1, padding='same'\n",
        "        )\n",
        "\n",
        "    def call(self, x, training=None):\n",
        "        seq = self.inp(x)\n",
        "        seq = self.reshape(seq)\n",
        "\n",
        "        att, _ = self.mha(seq, seq, seq, mask=None)  # (128, 32, 64) \n",
        "        logits = self.logits(att)  # (128, 32, 2002)\n",
        "        return logits\n"
      ],
      "execution_count": 476,
      "outputs": []
    },
    {
      "cell_type": "code",
      "metadata": {
        "id": "F6Ke0eDozIm0",
        "colab_type": "code",
        "colab": {}
      },
      "source": [
        "class CVAE(tf.keras.Model):\n",
        "    \"\"\"Convolutional variational autoencoder.\"\"\"\n",
        "\n",
        "    def __init__(self, latent_dim):\n",
        "        super(CVAE, self).__init__()\n",
        "        self.latent_dim = latent_dim\n",
        "\n",
        "        self.encoder = Encoder()\n",
        "        self.decoder = Decoder()\n",
        "\n",
        "    @tf.function\n",
        "    def sample(self, eps=None):\n",
        "        if eps is None:\n",
        "            eps = tf.random.normal(shape=(100, self.latent_dim))\n",
        "        return self.decode(eps, apply_sigmoid=True)\n",
        "\n",
        "    def encode(self, x):\n",
        "        mean, log_variance = tf.split(self.encoder(x), num_or_size_splits=2, axis=1)\n",
        "        return mean, log_variance\n",
        "\n",
        "    def reparameterize(self, mean, log_variance):\n",
        "        eps = tf.random.normal(shape=mean.shape)\n",
        "        return eps * tf.exp(log_variance * .5) + mean\n",
        "\n",
        "    def decode(self, z, apply_sigmoid=False):\n",
        "        logits = self.decoder(z)\n",
        "        if apply_sigmoid:\n",
        "            probs = tf.sigmoid(logits)\n",
        "            return probs\n",
        "        return logits\n"
      ],
      "execution_count": 477,
      "outputs": []
    },
    {
      "cell_type": "code",
      "metadata": {
        "id": "9GziiiDv7VfM",
        "colab_type": "code",
        "colab": {}
      },
      "source": [
        "optimizer = tf.keras.optimizers.Adam(1e-4)\n",
        "\n",
        "\n",
        "def log_normal_pdf(sample, mean, log_variance, raxis=1):\n",
        "    log_2pi = tf.math.log(2. * np.pi)\n",
        "    return tf.reduce_sum(-0.5 * ((sample - mean) ** 2. * tf.exp(-log_variance) + log_variance + log_2pi), axis=raxis)\n",
        "\n",
        "\n",
        "def compute_loss(model, x):\n",
        "    mean, log_variance = model.encode(x)\n",
        "    z = model.reparameterize(mean, log_variance)\n",
        "\n",
        "    x_logits = model.decode(z)\n",
        "    x_labels = tf.one_hot(x, depth=word_vocab.vocab_size, dtype='float32')\n",
        "    cross_entropy = tf.nn.sigmoid_cross_entropy_with_logits(logits=x_logits, labels=x_labels)\n",
        "\n",
        "    log_px_z = -tf.reduce_sum(cross_entropy, axis=[1, 2])\n",
        "    log_pz = log_normal_pdf(z, 0., 0.)\n",
        "    log_qz_x = log_normal_pdf(z, mean, log_variance)\n",
        "    return -tf.reduce_mean(log_px_z + log_pz - log_qz_x)\n",
        "\n",
        "\n",
        "@tf.function\n",
        "def train_step(model, x, optimizer):\n",
        "    \"\"\"Executes one training step and returns the loss.\n",
        "\n",
        "    This function computes the loss and gradients, and uses the latter to\n",
        "    update the model's parameters.\n",
        "    \"\"\"\n",
        "    with tf.GradientTape() as tape:\n",
        "        loss = compute_loss(model, x)\n",
        "    gradients = tape.gradient(loss, model.trainable_variables)\n",
        "    optimizer.apply_gradients(zip(gradients, model.trainable_variables))\n"
      ],
      "execution_count": 478,
      "outputs": []
    },
    {
      "cell_type": "code",
      "metadata": {
        "id": "iGklDTzDiC9v",
        "colab_type": "code",
        "colab": {}
      },
      "source": [
        "def decode_sentences(sentences):\n",
        "    sentences = [word_vocab.decode_words(sentence) for sentence in sentences]\n",
        "    sentences = [' '.join(sentence) for sentence in sentences]\n",
        "    return sentences\n",
        "\n",
        "\n",
        "def generate_sentences(model, sentences):\n",
        "    mean, log_variance = model.encode(sentences)\n",
        "    z = model.reparameterize(mean, log_variance)\n",
        "\n",
        "    predictions = model.sample(z)\n",
        "    predictions = np.argmax(predictions, axis=-1)\n",
        "    return decode_sentences(predictions)\n"
      ],
      "execution_count": 479,
      "outputs": []
    },
    {
      "cell_type": "markdown",
      "metadata": {
        "id": "m94SzX1T2tc2",
        "colab_type": "text"
      },
      "source": [
        "# Training"
      ]
    },
    {
      "cell_type": "code",
      "metadata": {
        "id": "C1CCus_0m0EN",
        "colab_type": "code",
        "colab": {}
      },
      "source": [
        "tf.keras.backend.clear_session()"
      ],
      "execution_count": 480,
      "outputs": []
    },
    {
      "cell_type": "code",
      "metadata": {
        "id": "4w0tFpLU1xEF",
        "colab_type": "code",
        "colab": {}
      },
      "source": [
        "epochs = 200\n",
        "num_examples_to_generate = 8\n",
        "\n",
        "model = CVAE(latent_dim)"
      ],
      "execution_count": 481,
      "outputs": []
    },
    {
      "cell_type": "code",
      "metadata": {
        "id": "8AZhjr7sgS6j",
        "colab_type": "code",
        "colab": {}
      },
      "source": [
        "assert batch_size >= num_examples_to_generate\n",
        "\n",
        "for test_batch in test_sentences.take(1):\n",
        "    test_sample = test_batch[0:num_examples_to_generate, :]\n"
      ],
      "execution_count": 482,
      "outputs": []
    },
    {
      "cell_type": "code",
      "metadata": {
        "id": "hSFgfuRmkCAl",
        "colab_type": "code",
        "colab": {
          "base_uri": "https://localhost:8080/",
          "height": 173
        },
        "outputId": "015a98b5-7244-4a61-c7a1-5dc748903e5b"
      },
      "source": [
        "decode_sentences(test_sample.numpy())"
      ],
      "execution_count": 483,
      "outputs": [
        {
          "output_type": "execute_result",
          "data": {
            "text/plain": [
              "['a group of three people are digging a large trench in a yard while another person walks close by . [PAD] [PAD] [PAD] [PAD] [PAD] [PAD] [PAD] [PAD] [PAD] [PAD] [PAD] [PAD]',\n",
              " 'a little boy with an orange backpack walks under a tree through the woods . [PAD] [PAD] [PAD] [PAD] [PAD] [PAD] [PAD] [PAD] [PAD] [PAD] [PAD] [PAD] [PAD] [PAD] [PAD] [PAD] [PAD]',\n",
              " 'young asian male child either smoking something or its an instrument . [PAD] [PAD] [PAD] [PAD] [PAD] [PAD] [PAD] [PAD] [PAD] [PAD] [PAD] [PAD] [PAD] [PAD] [PAD] [PAD] [PAD] [PAD] [PAD] [PAD]',\n",
              " 'a woman in a scarf , laughing , being [UNK] by a dog . [PAD] [PAD] [PAD] [PAD] [PAD] [PAD] [PAD] [PAD] [PAD] [PAD] [PAD] [PAD] [PAD] [PAD] [PAD] [PAD] [PAD] [PAD]',\n",
              " 'a father and son are in a field of yellow flowers . [PAD] [PAD] [PAD] [PAD] [PAD] [PAD] [PAD] [PAD] [PAD] [PAD] [PAD] [PAD] [PAD] [PAD] [PAD] [PAD] [PAD] [PAD] [PAD] [PAD]',\n",
              " 'female in a military uniform with her hair tied back . [PAD] [PAD] [PAD] [PAD] [PAD] [PAD] [PAD] [PAD] [PAD] [PAD] [PAD] [PAD] [PAD] [PAD] [PAD] [PAD] [PAD] [PAD] [PAD] [PAD] [PAD]',\n",
              " 'women wearing a black top and glasses speaking into a blue [UNK] microphone with another woman beside her writing . [PAD] [PAD] [PAD] [PAD] [PAD] [PAD] [PAD] [PAD] [PAD] [PAD] [PAD] [PAD]',\n",
              " 'older men sitting in front of a cafe looking out at the street . [PAD] [PAD] [PAD] [PAD] [PAD] [PAD] [PAD] [PAD] [PAD] [PAD] [PAD] [PAD] [PAD] [PAD] [PAD] [PAD] [PAD] [PAD]']"
            ]
          },
          "metadata": {
            "tags": []
          },
          "execution_count": 483
        }
      ]
    },
    {
      "cell_type": "code",
      "metadata": {
        "id": "Fk7Fcsn615bt",
        "colab_type": "code",
        "colab": {
          "base_uri": "https://localhost:8080/",
          "height": 190
        },
        "outputId": "a7970acb-fe5c-4019-e6d3-190332e6f4cc"
      },
      "source": [
        "for epoch in range(1, epochs + 1):\n",
        "    start_time = time.time()\n",
        "    for train_x in train_sentences:\n",
        "        train_step(model, train_x, optimizer)\n",
        "    end_time = time.time()\n",
        "\n",
        "    loss = tf.keras.metrics.Mean()\n",
        "    for test_x in test_sentences:\n",
        "        loss(compute_loss(model, test_x))\n",
        "    \n",
        "    elbo = -loss.result()\n",
        "    display.clear_output(wait=False)\n",
        "\n",
        "    print(f'Epoch: {epoch}, Test set ELBO: {elbo}, time elapse for current epoch: {end_time - start_time}')\n",
        "    for sentence in generate_sentences(model, test_sample):\n",
        "        print(sentence)\n"
      ],
      "execution_count": null,
      "outputs": [
        {
          "output_type": "stream",
          "text": [
            "Epoch: 121, Test set ELBO: -105.37326049804688, time elapse for current epoch: 10.848875999450684\n",
            "[PAD] [PAD] [PAD] [PAD] [PAD] [PAD] [PAD] [PAD] [PAD] [PAD] [PAD] [PAD] [PAD] [PAD] [PAD] [PAD] [PAD] [PAD] [PAD] [PAD] [PAD] [PAD] [PAD] [PAD] [PAD] [PAD] [PAD] [PAD] [PAD] [PAD] [PAD] [PAD]\n",
            "[PAD] [PAD] [PAD] [PAD] [PAD] [PAD] [PAD] [PAD] [PAD] [PAD] [PAD] [PAD] [PAD] [PAD] [PAD] [PAD] [PAD] [PAD] [PAD] [PAD] [PAD] [PAD] [PAD] [PAD] [PAD] [PAD] [PAD] [PAD] [PAD] [PAD] [PAD] [PAD]\n",
            "[PAD] [PAD] [PAD] [PAD] [PAD] [PAD] [PAD] [PAD] [PAD] [PAD] [PAD] [PAD] [PAD] [PAD] [PAD] [PAD] [PAD] [PAD] [PAD] [PAD] [PAD] [PAD] [PAD] [PAD] [PAD] [PAD] [PAD] [PAD] [PAD] [PAD] [PAD] [PAD]\n",
            "[PAD] [PAD] [PAD] [PAD] [PAD] [PAD] [PAD] [PAD] [PAD] [PAD] [PAD] [PAD] [PAD] [PAD] [PAD] [PAD] [PAD] [PAD] [PAD] [PAD] [PAD] [PAD] [PAD] [PAD] [PAD] [PAD] [PAD] [PAD] [PAD] [PAD] [PAD] [PAD]\n",
            "[PAD] [PAD] [PAD] [PAD] [PAD] [PAD] [PAD] [PAD] [PAD] [PAD] [PAD] [PAD] [PAD] [PAD] [PAD] [PAD] [PAD] [PAD] [PAD] [PAD] [PAD] [PAD] [PAD] [PAD] [PAD] [PAD] [PAD] [PAD] [PAD] [PAD] [PAD] [PAD]\n",
            "[PAD] [PAD] [PAD] [PAD] [PAD] [PAD] [PAD] [PAD] [PAD] [PAD] [PAD] [PAD] [PAD] [PAD] [PAD] [PAD] [PAD] [PAD] [PAD] [PAD] [PAD] [PAD] [PAD] [PAD] [PAD] [PAD] [PAD] [PAD] [PAD] [PAD] [PAD] [PAD]\n",
            "[PAD] [PAD] [PAD] [PAD] [PAD] [PAD] [PAD] [PAD] [PAD] [PAD] [PAD] [PAD] [PAD] [PAD] [PAD] [PAD] [PAD] [PAD] [PAD] [PAD] [PAD] [PAD] [PAD] [PAD] [PAD] [PAD] [PAD] [PAD] [PAD] [PAD] [PAD] [PAD]\n",
            "[PAD] [PAD] [PAD] [PAD] [PAD] [PAD] [PAD] [PAD] [PAD] [PAD] [PAD] [PAD] [PAD] [PAD] [PAD] [PAD] [PAD] [PAD] [PAD] [PAD] [PAD] [PAD] [PAD] [PAD] [PAD] [PAD] [PAD] [PAD] [PAD] [PAD] [PAD] [PAD]\n"
          ],
          "name": "stdout"
        }
      ]
    },
    {
      "cell_type": "markdown",
      "metadata": {
        "id": "3-oPesi5_YH4",
        "colab_type": "text"
      },
      "source": [
        "# Test"
      ]
    },
    {
      "cell_type": "code",
      "metadata": {
        "id": "-3guXr5P_XAA",
        "colab_type": "code",
        "colab": {}
      },
      "source": [
        "# 100 epochs - no embs pretrained\n",
        "# workers wearing orange vests stand near rail tracks . [PAD] [PAD] [PAD] [PAD] [PAD] [PAD] [PAD] [PAD] [PAD] [PAD] [PAD] [PAD] [PAD] [PAD] [PAD] [PAD] [PAD] [PAD] [PAD] [PAD] [PAD] [PAD] [PAD]\n",
        "# rider in ceremonial garb rides white arabian horse , also wearing ceremonial blankets and tassels . [PAD] [PAD] [PAD] [PAD] [PAD] [PAD] [PAD] [PAD] [PAD] [PAD] [PAD] [PAD] [PAD] [PAD] [PAD] [PAD]\n",
        "# four young female gymnasts dressed in black and blue leotards are preparing for their next routine . [PAD] [PAD] [PAD] [PAD] [PAD] [PAD] [PAD] [PAD] [PAD] [PAD] [PAD] [PAD] [PAD] [PAD] [PAD]\n",
        "# three men are standing on stage performing . [PAD] [PAD] [PAD] [PAD] [PAD] [PAD] [PAD] [PAD] [PAD] [PAD] [PAD] [PAD] [PAD] [PAD] [PAD] [PAD] [PAD] [PAD] [PAD] [PAD] [PAD] [PAD] [PAD] [PAD]\n",
        "\n",
        "# Epoch: 23, Test set ELBO: -82.9482650756836, time elapse for current epoch: 10.455499410629272\n",
        "# a man is a a a a a a a a a a . . [PAD] [PAD] [PAD] [PAD] [PAD] [PAD] [PAD] [PAD] [PAD] [PAD] [PAD] [PAD] [PAD] [PAD] [PAD] [PAD] [PAD]\n",
        "# a man is a a a a a a a . [PAD] [PAD] [PAD] [PAD] [PAD] [PAD] [PAD] [PAD] [PAD] [PAD] [PAD] [PAD] [PAD] [PAD] [PAD] [PAD] [PAD] [PAD] [PAD] [PAD] [PAD]\n",
        "# a man is a a a a a a a a a a . . [PAD] [PAD] [PAD] [PAD] [PAD] [PAD] [PAD] [PAD] [PAD] [PAD] [PAD] [PAD] [PAD] [PAD] [PAD] [PAD] [PAD]\n",
        "# a man is a a a a a a a a a a a a a a a a [PAD] [PAD] [PAD] [PAD] [PAD] [PAD] [PAD] [PAD] [PAD] [PAD] [PAD] [PAD] [PAD]\n",
        "\n",
        "# Epoch: 67, Test set ELBO: -60.924598693847656, time elapse for current epoch: 20.23077392578125\n",
        "# the is are are a a a a . [PAD] [PAD] [PAD] [PAD] [PAD] [PAD] [PAD] [PAD] [PAD] [PAD] [PAD] [PAD] [PAD] [PAD] [PAD] [PAD] [PAD] [PAD] [PAD] [PAD] [PAD] [PAD] [PAD]\n",
        "# rider young ceremonial garb a a arabian horse , also is ceremonial blankets the tassels . [PAD] [PAD] [PAD] [PAD] [PAD] [PAD] [PAD] [PAD] [PAD] [PAD] [PAD] [PAD] [PAD] [PAD] [PAD] [PAD]\n",
        "# an young in in a a a and , a a a a a a . . [PAD] [PAD] [PAD] [PAD] [PAD] [PAD] [PAD] [PAD] [PAD] [PAD] [PAD] [PAD] [PAD] [PAD] [PAD]\n",
        "# two people are in in the . . [PAD] [PAD] [PAD] [PAD] [PAD] [PAD] [PAD] [PAD] [PAD] [PAD] [PAD] [PAD] [PAD] [PAD] [PAD] [PAD] [PAD] [PAD] [PAD] [PAD] [PAD] [PAD] [PAD] [PAD]\n",
        "\n",
        "# Epoch: 100, Test set ELBO: -48.98137283325195, time elapse for current epoch: 20.519086360931396\n",
        "# there are men are cruising in the field . [PAD] [PAD] [PAD] [PAD] [PAD] [PAD] [PAD] [PAD] [PAD] [PAD] [PAD] [PAD] [PAD] [PAD] [PAD] [PAD] [PAD] [PAD] [PAD] [PAD] [PAD] [PAD] [PAD]\n",
        "# rider in ceremonial garb rides white arabian horse , also wearing ceremonial blankets and tassels . [PAD] [PAD] [PAD] [PAD] [PAD] [PAD] [PAD] [PAD] [PAD] [PAD] [PAD] [PAD] [PAD] [PAD] [PAD] [PAD]\n",
        "# two beautiful in little coat and - hair - and jeans hair making forming cheeks . . [PAD] [PAD] [PAD] [PAD] [PAD] [PAD] [PAD] [PAD] [PAD] [PAD] [PAD] [PAD] [PAD] [PAD] [PAD]\n",
        "# the people are playing a a . . [PAD] [PAD] [PAD] [PAD] [PAD] [PAD] [PAD] [PAD] [PAD] [PAD] [PAD] [PAD] [PAD] [PAD] [PAD] [PAD] [PAD] [PAD] [PAD] [PAD] [PAD] [PAD] [PAD] [PAD]"
      ],
      "execution_count": null,
      "outputs": []
    },
    {
      "cell_type": "code",
      "metadata": {
        "id": "b28j7B7tXhdP",
        "colab_type": "code",
        "colab": {}
      },
      "source": [
        "# 100 epochs - embs glove.840B.300d trainable=False\n",
        "# batter hits a baseball [PAD] [PAD] [PAD] [PAD] [PAD] [PAD] [PAD] [PAD] [PAD] [PAD] [PAD] [PAD] [PAD] [PAD] [PAD] [PAD] [PAD] [PAD] [PAD] [PAD] [PAD] [PAD] [PAD] [PAD] [PAD] [PAD] [PAD] [PAD]\n",
        "# a younger couple is walking across a crosswalk outside with a very busy bus stop behind them . [PAD] [PAD] [PAD] [PAD] [PAD] [PAD] [PAD] [PAD] [PAD] [PAD] [PAD] [PAD] [PAD] [PAD]\n",
        "# women in blue dress singing on stage . [PAD] [PAD] [PAD] [PAD] [PAD] [PAD] [PAD] [PAD] [PAD] [PAD] [PAD] [PAD] [PAD] [PAD] [PAD] [PAD] [PAD] [PAD] [PAD] [PAD] [PAD] [PAD] [PAD] [PAD]\n",
        "# a windsurfer catching air with water streaming off of the board . [PAD] [PAD] [PAD] [PAD] [PAD] [PAD] [PAD] [PAD] [PAD] [PAD] [PAD] [PAD] [PAD] [PAD] [PAD] [PAD] [PAD] [PAD] [PAD] [PAD]\n",
        "# workers are scattered among the scaffolding on an older building . [PAD] [PAD] [PAD] [PAD] [PAD] [PAD] [PAD] [PAD] [PAD] [PAD] [PAD] [PAD] [PAD] [PAD] [PAD] [PAD] [PAD] [PAD] [PAD] [PAD] [PAD]\n",
        "# two small boys in blue soccer uniforms use a wooden set of steps to wash their hands in an adult - sized bathroom . [PAD] [PAD] [PAD] [PAD] [PAD] [PAD] [PAD] [PAD]\n",
        "# a mother holds her newborn baby . [PAD] [PAD] [PAD] [PAD] [PAD] [PAD] [PAD] [PAD] [PAD] [PAD] [PAD] [PAD] [PAD] [PAD] [PAD] [PAD] [PAD] [PAD] [PAD] [PAD] [PAD] [PAD] [PAD] [PAD] [PAD]\n",
        "# six males , four with shirts and two without , have taken a break from their construction work on a building . [PAD] [PAD] [PAD] [PAD] [PAD] [PAD] [PAD] [PAD] [PAD] [PAD]\n",
        "\n",
        "# Epoch: 27, Test set ELBO: -73.20726013183594, time elapse for current epoch: 38.25634050369263\n",
        "# a man is a a . [PAD] [PAD] [PAD] [PAD] [PAD] [PAD] [PAD] [PAD] [PAD] [PAD] [PAD] [PAD] [PAD] [PAD] [PAD] [PAD] [PAD] [PAD] [PAD] [PAD] [PAD] [PAD] [PAD] [PAD] [PAD] [PAD]\n",
        "# a man in a a a a a a a a a a a [PAD] [PAD] [PAD] [PAD] [PAD] [PAD] [PAD] [PAD] [PAD] [PAD] [PAD] [PAD] [PAD] [PAD] [PAD] [PAD] [PAD] [PAD]\n",
        "# a man is in a the . [PAD] [PAD] [PAD] [PAD] [PAD] [PAD] [PAD] [PAD] [PAD] [PAD] [PAD] [PAD] [PAD] [PAD] [PAD] [PAD] [PAD] [PAD] [PAD] [PAD] [PAD] [PAD] [PAD] [PAD] [PAD]\n",
        "# a man is a a a a a a a . . [PAD] [PAD] [PAD] [PAD] [PAD] [PAD] [PAD] [PAD] [PAD] [PAD] [PAD] [PAD] [PAD] [PAD] [PAD] [PAD] [PAD] [PAD] [PAD] [PAD]\n",
        "# a man is a a a a a . . [PAD] [PAD] [PAD] [PAD] [PAD] [PAD] [PAD] [PAD] [PAD] [PAD] [PAD] [PAD] [PAD] [PAD] [PAD] [PAD] [PAD] [PAD] [PAD] [PAD] [PAD] [PAD]\n",
        "# a man in a a shirt and a a a a a a a a a a a a a [PAD] [PAD] [PAD] [PAD] [PAD] [PAD] [PAD] [PAD] [PAD] [PAD] [PAD] [PAD]\n",
        "# a man is in a a . [PAD] [PAD] [PAD] [PAD] [PAD] [PAD] [PAD] [PAD] [PAD] [PAD] [PAD] [PAD] [PAD] [PAD] [PAD] [PAD] [PAD] [PAD] [PAD] [PAD] [PAD] [PAD] [PAD] [PAD] [PAD]\n",
        "# a man in a a shirt and a shirt a a a a a a a a a a a . [PAD] [PAD] [PAD] [PAD] [PAD] [PAD] [PAD] [PAD] [PAD] [PAD] [PAD]\n",
        "\n",
        "# Epoch: 70, Test set ELBO: -62.30364227294922, time elapse for current epoch: 37.70615196228027\n",
        "# the are are [PAD] [PAD] [PAD] [PAD] [PAD] [PAD] [PAD] [PAD] [PAD] [PAD] [PAD] [PAD] [PAD] [PAD] [PAD] [PAD] [PAD] [PAD] [PAD] [PAD] [PAD] [PAD] [PAD] [PAD] [PAD] [PAD] [PAD] [PAD] [PAD]\n",
        "# a group of people a a a a a a a of a in in the them . [PAD] [PAD] [PAD] [PAD] [PAD] [PAD] [PAD] [PAD] [PAD] [PAD] [PAD] [PAD] [PAD] [PAD]\n",
        "# a man is is in a street . [PAD] [PAD] [PAD] [PAD] [PAD] [PAD] [PAD] [PAD] [PAD] [PAD] [PAD] [PAD] [PAD] [PAD] [PAD] [PAD] [PAD] [PAD] [PAD] [PAD] [PAD] [PAD] [PAD] [PAD]\n",
        "# a man is is a a a a a the water . [PAD] [PAD] [PAD] [PAD] [PAD] [PAD] [PAD] [PAD] [PAD] [PAD] [PAD] [PAD] [PAD] [PAD] [PAD] [PAD] [PAD] [PAD] [PAD] [PAD]\n",
        "# a man is in a a in a a . . [PAD] [PAD] [PAD] [PAD] [PAD] [PAD] [PAD] [PAD] [PAD] [PAD] [PAD] [PAD] [PAD] [PAD] [PAD] [PAD] [PAD] [PAD] [PAD] [PAD] [PAD]\n",
        "# a group of in a a a , , and and , , christmas a a a , residential pouring in the background . [PAD] [PAD] [PAD] [PAD] [PAD] [PAD] [PAD] [PAD]\n",
        "# a are is a a . . [PAD] [PAD] [PAD] [PAD] [PAD] [PAD] [PAD] [PAD] [PAD] [PAD] [PAD] [PAD] [PAD] [PAD] [PAD] [PAD] [PAD] [PAD] [PAD] [PAD] [PAD] [PAD] [PAD] [PAD] [PAD]\n",
        "# two men are one in a a a a , with a a , the with a in in the . . [PAD] [PAD] [PAD] [PAD] [PAD] [PAD] [PAD] [PAD] [PAD] [PAD]\n",
        "\n",
        "# Epoch: 100, Test set ELBO: -58.14429473876953, time elapse for current epoch: 37.622807025909424\n",
        "# people are [PAD] . [PAD] [PAD] [PAD] [PAD] [PAD] [PAD] [PAD] [PAD] [PAD] [PAD] [PAD] [PAD] [PAD] [PAD] [PAD] [PAD] [PAD] [PAD] [PAD] [PAD] [PAD] [PAD] [PAD] [PAD] [PAD] [PAD] [PAD] [PAD]\n",
        "# a group of people are a a a of a front of the building with the them . [PAD] [PAD] [PAD] [PAD] [PAD] [PAD] [PAD] [PAD] [PAD] [PAD] [PAD] [PAD] [PAD] [PAD]\n",
        "# two men are walking in the street . [PAD] [PAD] [PAD] [PAD] [PAD] [PAD] [PAD] [PAD] [PAD] [PAD] [PAD] [PAD] [PAD] [PAD] [PAD] [PAD] [PAD] [PAD] [PAD] [PAD] [PAD] [PAD] [PAD] [PAD]\n",
        "# a man is a a in a in a a pool . [PAD] [PAD] [PAD] [PAD] [PAD] [PAD] [PAD] [PAD] [PAD] [PAD] [PAD] [PAD] [PAD] [PAD] [PAD] [PAD] [PAD] [PAD] [PAD] [PAD]\n",
        "# two people are on a a on a a . . [PAD] [PAD] [PAD] [PAD] [PAD] [PAD] [PAD] [PAD] [PAD] [PAD] [PAD] [PAD] [PAD] [PAD] [PAD] [PAD] [PAD] [PAD] [PAD] [PAD] [PAD]\n",
        "# a dramatic of are a a a row , \" angry with steps , chokes the a her material sticks in the tongue . [PAD] [PAD] [PAD] [PAD] [PAD] [PAD] [PAD] [PAD]\n",
        "# a man is a a outside . [PAD] [PAD] [PAD] [PAD] [PAD] [PAD] [PAD] [PAD] [PAD] [PAD] [PAD] [PAD] [PAD] [PAD] [PAD] [PAD] [PAD] [PAD] [PAD] [PAD] [PAD] [PAD] [PAD] [PAD] [PAD]\n",
        "# two men , one couch a one , and , and other a and a the construction cones gun of it . [PAD] [PAD] [PAD] [PAD] [PAD] [PAD] [PAD] [PAD] [PAD] [PAD]\n"
      ],
      "execution_count": null,
      "outputs": []
    },
    {
      "cell_type": "code",
      "metadata": {
        "id": "igjCzAtI5gik",
        "colab_type": "code",
        "colab": {}
      },
      "source": [
        "def get_exact_match_score(sample, prediction):\n",
        "    sample = [word for word in sample if word != '[PAD]']\n",
        "\n",
        "    head = [1 for s_word, p_word in zip(sample, prediction) if s_word == p_word]\n",
        "    tail = [1 for word in prediction[len(sample):] if word != '[PAD]']\n",
        "\n",
        "    score = (sum(head) - sum(tail)) / len(sample)\n",
        "    return score\n"
      ],
      "execution_count": 207,
      "outputs": []
    },
    {
      "cell_type": "code",
      "metadata": {
        "id": "cEbpJUyN88-w",
        "colab_type": "code",
        "colab": {
          "base_uri": "https://localhost:8080/",
          "height": 34
        },
        "outputId": "7fd46016-ad3c-4f81-e7ef-aa46788ab449"
      },
      "source": [
        "scores = []\n",
        "\n",
        "for sample in test_sentences:\n",
        "    sentences = decode_sentences(sample.numpy())\n",
        "    predictions = generate_sentences(model, sample)\n",
        "\n",
        "    scores += [\n",
        "        get_exact_match_score(sentence, prediction)\n",
        "        for sentence, prediction in zip(sentences, predictions)\n",
        "    ]\n",
        "      \n",
        "\n",
        "np.min(scores), np.max(scores), np.mean(scores)"
      ],
      "execution_count": 208,
      "outputs": [
        {
          "output_type": "execute_result",
          "data": {
            "text/plain": [
              "(-0.3142857142857143, 1.0, 0.175789705664124)"
            ]
          },
          "metadata": {
            "tags": []
          },
          "execution_count": 208
        }
      ]
    },
    {
      "cell_type": "code",
      "metadata": {
        "id": "Q0dfRROs9eCm",
        "colab_type": "code",
        "colab": {
          "base_uri": "https://localhost:8080/",
          "height": 265
        },
        "outputId": "5d48d28a-ad3d-48f0-da7f-80dc6585433a"
      },
      "source": [
        "plt.hist(scores, bins='auto')\n",
        "plt.show()"
      ],
      "execution_count": 209,
      "outputs": [
        {
          "output_type": "display_data",
          "data": {
            "image/png": "[encoded data removed]",
            "text/plain": [
              "<Figure size 432x288 with 1 Axes>"
            ]
          },
          "metadata": {
            "tags": [],
            "needs_background": "light"
          }
        }
      ]
    },
    {
      "cell_type": "code",
      "metadata": {
        "id": "j7JsYPbr_5gl",
        "colab_type": "code",
        "colab": {
          "base_uri": "https://localhost:8080/",
          "height": 34
        },
        "outputId": "a9a465e9-6a8b-4127-f48e-e26b0eee83c2"
      },
      "source": [
        "scores = []\n",
        "\n",
        "for sample in test_sentences:\n",
        "    sentences = decode_sentences(sample.numpy())\n",
        "    predictions = generate_sentences(model, sample)\n",
        "\n",
        "    scores += [\n",
        "        get_exact_match_score(sentence, prediction)\n",
        "        for sentence, prediction in zip(sentences, predictions)\n",
        "    ]\n",
        "      \n",
        "\n",
        "np.min(scores), np.max(scores), np.mean(scores)"
      ],
      "execution_count": null,
      "outputs": [
        {
          "output_type": "execute_result",
          "data": {
            "text/plain": [
              "(-0.18055555555555555, 1.0, 0.1321324926561673)"
            ]
          },
          "metadata": {
            "tags": []
          },
          "execution_count": 35
        }
      ]
    },
    {
      "cell_type": "code",
      "metadata": {
        "id": "TTnvKoA0Sxo3",
        "colab_type": "code",
        "colab": {
          "base_uri": "https://localhost:8080/",
          "height": 265
        },
        "outputId": "1e1df938-8eef-4a63-ac41-e548d3487b45"
      },
      "source": [
        "plt.hist(scores, bins='auto')\n",
        "plt.show()"
      ],
      "execution_count": null,
      "outputs": [
        {
          "output_type": "display_data",
          "data": {
            "image/png": "[encoded data removed]",
            "text/plain": [
              "<Figure size 432x288 with 1 Axes>"
            ]
          },
          "metadata": {
            "tags": [],
            "needs_background": "light"
          }
        }
      ]
    },
    {
      "cell_type": "code",
      "metadata": {
        "id": "tVyq-xwiSzDz",
        "colab_type": "code",
        "colab": {}
      },
      "source": [
        ""
      ],
      "execution_count": null,
      "outputs": []
    }
  ]
}