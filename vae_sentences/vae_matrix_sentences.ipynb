{
  "nbformat": 4,
  "nbformat_minor": 0,
  "metadata": {
    "colab": {
      "name": "vae-sentences.ipynb",
      "provenance": [],
      "collapsed_sections": [],
      "authorship_tag": "ABX9TyPNsGTa4eZ/My97qy2e7fw1",
      "include_colab_link": true
    },
    "kernelspec": {
      "name": "python3",
      "display_name": "Python 3"
    },
    "accelerator": "GPU"
  },
  "cells": [
    {
      "cell_type": "markdown",
      "metadata": {
        "id": "view-in-github",
        "colab_type": "text"
      },
      "source": [
        "<a href=\"https://colab.research.google.com/github/florinOK/amr/blob/colab/vae_sentences/vae_matrix_sentences.ipynb\" target=\"_parent\"><img src=\"https://colab.research.google.com/assets/colab-badge.svg\" alt=\"Open In Colab\"/></a>"
      ]
    },
    {
      "cell_type": "markdown",
      "metadata": {
        "id": "k9HXsDtEe5eR",
        "colab_type": "text"
      },
      "source": [
        "\n",
        "[Generating Sentences from a Continuous Space](https://arxiv.org/pdf/1511.06349.pdf)  \n",
        "[Reasoning about Entailment with Neural Attention](https://arxiv.org/pdf/1509.06664.pdf)  \n",
        "[Deconvolutional Latent-Variable Model for Text Sequence Matching](https://arxiv.org/pdf/1709.07109.pdf)  \n",
        "\n",
        "---\n",
        "https://github.com/baaesh/DeConv-VAE-pytorch  \n",
        "https://github.com/Toni-Antonova/VAE-Text-Generation  \n",
        "https://github.com/alexeyev/Keras-Generating-Sentences-from-a-Continuous-Space  \n"
      ]
    },
    {
      "cell_type": "code",
      "metadata": {
        "id": "XNswjt0W_Ih0",
        "colab_type": "code",
        "colab": {
          "base_uri": "https://localhost:8080/",
          "height": 357
        },
        "outputId": "06e1962d-f8e0-4f55-9466-9e2411262617"
      },
      "source": [
        "! nvidia-smi"
      ],
      "execution_count": 1,
      "outputs": [
        {
          "output_type": "stream",
          "text": [
            "Sun Aug 30 12:06:16 2020       \n",
            "+-----------------------------------------------------------------------------+\n",
            "| NVIDIA-SMI 450.66       Driver Version: 418.67       CUDA Version: 10.1     |\n",
            "|-------------------------------+----------------------+----------------------+\n",
            "| GPU  Name        Persistence-M| Bus-Id        Disp.A | Volatile Uncorr. ECC |\n",
            "| Fan  Temp  Perf  Pwr:Usage/Cap|         Memory-Usage | GPU-Util  Compute M. |\n",
            "|                               |                      |               MIG M. |\n",
            "|===============================+======================+======================|\n",
            "|   0  Tesla K80           Off  | 00000000:00:04.0 Off |                    0 |\n",
            "| N/A   34C    P8    27W / 149W |      0MiB / 11441MiB |      0%      Default |\n",
            "|                               |                      |                 ERR! |\n",
            "+-------------------------------+----------------------+----------------------+\n",
            "                                                                               \n",
            "+-----------------------------------------------------------------------------+\n",
            "| Processes:                                                                  |\n",
            "|  GPU   GI   CI        PID   Type   Process name                  GPU Memory |\n",
            "|        ID   ID                                                   Usage      |\n",
            "|=============================================================================|\n",
            "|  No running processes found                                                 |\n",
            "+-----------------------------------------------------------------------------+\n"
          ],
          "name": "stdout"
        }
      ]
    },
    {
      "cell_type": "markdown",
      "metadata": {
        "id": "2C8_KGBGmY0Y",
        "colab_type": "text"
      },
      "source": [
        "# Data"
      ]
    },
    {
      "cell_type": "code",
      "metadata": {
        "id": "sLuXxOddakxp",
        "colab_type": "code",
        "colab": {
          "base_uri": "https://localhost:8080/",
          "height": 102
        },
        "outputId": "97cf9fa8-9904-4706-aed8-5be2f3ff7d3f"
      },
      "source": [
        "# SNLI\n",
        "! curl https://nlp.stanford.edu/projects/snli/snli_1.0.zip -o snli_1.0.zip\n",
        "! unzip snli_1.0.zip -d data"
      ],
      "execution_count": 3,
      "outputs": [
        {
          "output_type": "stream",
          "text": [
            "  % Total    % Received % Xferd  Average Speed   Time    Time     Time  Current\n",
            "                                 Dload  Upload   Total   Spent    Left  Speed\n",
            "100 90.1M  100 90.1M    0     0  3640k      0  0:00:25  0:00:25 --:--:-- 8636k\n",
            "Archive:  snli_1.0.zip\n",
            "replace data/snli_1.0/.DS_Store? [y]es, [n]o, [A]ll, [N]one, [r]ename: "
          ],
          "name": "stdout"
        }
      ]
    },
    {
      "cell_type": "code",
      "metadata": {
        "id": "HuBXuRH2mcUI",
        "colab_type": "code",
        "colab": {}
      },
      "source": [
        "# QQP"
      ],
      "execution_count": 4,
      "outputs": []
    },
    {
      "cell_type": "code",
      "metadata": {
        "id": "Srx_oLw2mcXq",
        "colab_type": "code",
        "colab": {}
      },
      "source": [
        "# PTB"
      ],
      "execution_count": 5,
      "outputs": []
    },
    {
      "cell_type": "code",
      "metadata": {
        "id": "xWcBeyPM3QIx",
        "colab_type": "code",
        "colab": {
          "base_uri": "https://localhost:8080/",
          "height": 391
        },
        "outputId": "ea792448-fcdd-4766-8789-accb874ae88f"
      },
      "source": [
        "# Glove\n",
        "! wget http://nlp.stanford.edu/data/glove.840B.300d.zip\n",
        "! unzip glove.840B.300d.zip -d data/glove"
      ],
      "execution_count": 11,
      "outputs": [
        {
          "output_type": "stream",
          "text": [
            "--2020-08-30 12:12:42--  http://nlp.stanford.edu/data/glove.840B.300d.zip\n",
            "Resolving nlp.stanford.edu (nlp.stanford.edu)... 171.64.67.140\n",
            "Connecting to nlp.stanford.edu (nlp.stanford.edu)|171.64.67.140|:80... connected.\n",
            "HTTP request sent, awaiting response... 302 Found\n",
            "Location: https://nlp.stanford.edu/data/glove.840B.300d.zip [following]\n",
            "--2020-08-30 12:12:42--  https://nlp.stanford.edu/data/glove.840B.300d.zip\n",
            "Connecting to nlp.stanford.edu (nlp.stanford.edu)|171.64.67.140|:443... connected.\n",
            "HTTP request sent, awaiting response... 301 Moved Permanently\n",
            "Location: http://downloads.cs.stanford.edu/nlp/data/glove.840B.300d.zip [following]\n",
            "--2020-08-30 12:12:43--  http://downloads.cs.stanford.edu/nlp/data/glove.840B.300d.zip\n",
            "Resolving downloads.cs.stanford.edu (downloads.cs.stanford.edu)... 171.64.64.22\n",
            "Connecting to downloads.cs.stanford.edu (downloads.cs.stanford.edu)|171.64.64.22|:80... connected.\n",
            "HTTP request sent, awaiting response... 200 OK\n",
            "Length: 2176768927 (2.0G) [application/zip]\n",
            "Saving to: ‘glove.840B.300d.zip’\n",
            "\n",
            "glove.840B.300d.zip 100%[===================>]   2.03G  2.27MB/s    in 16m 56s \n",
            "\n",
            "2020-08-30 12:29:40 (2.04 MB/s) - ‘glove.840B.300d.zip’ saved [2176768927/2176768927]\n",
            "\n",
            "Archive:  glove.840B.300d.zip\n",
            "  inflating: data/glove/glove.840B.300d.txt  \n"
          ],
          "name": "stdout"
        }
      ]
    },
    {
      "cell_type": "markdown",
      "metadata": {
        "id": "WoNiKL4EmhYY",
        "colab_type": "text"
      },
      "source": [
        "# Code"
      ]
    },
    {
      "cell_type": "code",
      "metadata": {
        "id": "qVln8r5YlpFG",
        "colab_type": "code",
        "colab": {
          "base_uri": "https://localhost:8080/",
          "height": 51
        },
        "outputId": "2917bc77-a729-450b-e076-38c699f42ae5"
      },
      "source": [
        "import re\n",
        "import json\n",
        "import time\n",
        "import logging\n",
        "import collections\n",
        "\n",
        "import numpy as np\n",
        "import pandas as pd\n",
        "import seaborn as sns\n",
        "import tensorflow as tf\n",
        "# import tensorflow_probability as tfp\n",
        "\n",
        "import matplotlib.pyplot as plt\n",
        "\n",
        "from IPython import display"
      ],
      "execution_count": 12,
      "outputs": [
        {
          "output_type": "stream",
          "text": [
            "/usr/local/lib/python3.6/dist-packages/statsmodels/tools/_testing.py:19: FutureWarning: pandas.util.testing is deprecated. Use the functions in the public API at pandas.testing instead.\n",
            "  import pandas.util.testing as tm\n"
          ],
          "name": "stderr"
        }
      ]
    },
    {
      "cell_type": "code",
      "metadata": {
        "id": "Qql8tqYKm5xT",
        "colab_type": "code",
        "colab": {}
      },
      "source": [
        "p = sns.color_palette()\n",
        "\n",
        "pd.set_option('display.max_rows', 64)\n",
        "pd.set_option('display.max_columns', 64)\n",
        "pd.set_option('display.max_colwidth', 1024)\n",
        "\n",
        "logging.basicConfig(level='INFO', format=\"%(asctime)s [%(levelname)-5.5s] [%(funcName)-32s]  %(message)s\")"
      ],
      "execution_count": 13,
      "outputs": []
    },
    {
      "cell_type": "code",
      "metadata": {
        "id": "4E1DEaifsh2T",
        "colab_type": "code",
        "colab": {}
      },
      "source": [
        "# config\n",
        "\n",
        "EMBS = 'data/glove/glove.840B.300d.txt'\n",
        "TEST_DATASET = 'data/snli_1.0/snli_1.0_test.jsonl'\n",
        "TRAIN_DATASET = 'data/snli_1.0/snli_1.0_train.jsonl'\n"
      ],
      "execution_count": 14,
      "outputs": []
    },
    {
      "cell_type": "code",
      "metadata": {
        "id": "j5OGEJDKak6M",
        "colab_type": "code",
        "colab": {}
      },
      "source": [
        "def load_dataset(path):\n",
        "    dataset = []\n",
        "    with open(path) as fp:\n",
        "        for line in fp.readlines():\n",
        "            dataset.append(json.loads(line))\n",
        "    return pd.DataFrame(dataset)\n",
        "\n",
        "\n",
        "test_dataset = load_dataset(TEST_DATASET)\n",
        "train_dataset = load_dataset(TRAIN_DATASET)"
      ],
      "execution_count": 15,
      "outputs": []
    },
    {
      "cell_type": "code",
      "metadata": {
        "id": "HiFy6M6jsOWG",
        "colab_type": "code",
        "colab": {
          "base_uri": "https://localhost:8080/",
          "height": 34
        },
        "outputId": "754fd9bb-2a0a-481a-902e-2f58f3c2ae46"
      },
      "source": [
        "train_dataset.shape  # (550152, 10)"
      ],
      "execution_count": 16,
      "outputs": [
        {
          "output_type": "execute_result",
          "data": {
            "text/plain": [
              "(550152, 10)"
            ]
          },
          "metadata": {
            "tags": []
          },
          "execution_count": 16
        }
      ]
    },
    {
      "cell_type": "code",
      "metadata": {
        "id": "bw0vWxujklAv",
        "colab_type": "code",
        "colab": {
          "base_uri": "https://localhost:8080/",
          "height": 680
        },
        "outputId": "53559381-56f8-4206-8f6b-583acd0c76e3"
      },
      "source": [
        "train_dataset.head()"
      ],
      "execution_count": 17,
      "outputs": [
        {
          "output_type": "execute_result",
          "data": {
            "text/html": [
              "<div>\n",
              "<style scoped>\n",
              "    .dataframe tbody tr th:only-of-type {\n",
              "        vertical-align: middle;\n",
              "    }\n",
              "\n",
              "    .dataframe tbody tr th {\n",
              "        vertical-align: top;\n",
              "    }\n",
              "\n",
              "    .dataframe thead th {\n",
              "        text-align: right;\n",
              "    }\n",
              "</style>\n",
              "<table border=\"1\" class=\"dataframe\">\n",
              "  <thead>\n",
              "    <tr style=\"text-align: right;\">\n",
              "      <th></th>\n",
              "      <th>annotator_labels</th>\n",
              "      <th>captionID</th>\n",
              "      <th>gold_label</th>\n",
              "      <th>pairID</th>\n",
              "      <th>sentence1</th>\n",
              "      <th>sentence1_binary_parse</th>\n",
              "      <th>sentence1_parse</th>\n",
              "      <th>sentence2</th>\n",
              "      <th>sentence2_binary_parse</th>\n",
              "      <th>sentence2_parse</th>\n",
              "    </tr>\n",
              "  </thead>\n",
              "  <tbody>\n",
              "    <tr>\n",
              "      <th>0</th>\n",
              "      <td>[neutral]</td>\n",
              "      <td>3416050480.jpg#4</td>\n",
              "      <td>neutral</td>\n",
              "      <td>3416050480.jpg#4r1n</td>\n",
              "      <td>A person on a horse jumps over a broken down airplane.</td>\n",
              "      <td>( ( ( A person ) ( on ( a horse ) ) ) ( ( jumps ( over ( a ( broken ( down airplane ) ) ) ) ) . ) )</td>\n",
              "      <td>(ROOT (S (NP (NP (DT A) (NN person)) (PP (IN on) (NP (DT a) (NN horse)))) (VP (VBZ jumps) (PP (IN over) (NP (DT a) (JJ broken) (JJ down) (NN airplane)))) (. .)))</td>\n",
              "      <td>A person is training his horse for a competition.</td>\n",
              "      <td>( ( A person ) ( ( is ( ( training ( his horse ) ) ( for ( a competition ) ) ) ) . ) )</td>\n",
              "      <td>(ROOT (S (NP (DT A) (NN person)) (VP (VBZ is) (VP (VBG training) (NP (PRP$ his) (NN horse)) (PP (IN for) (NP (DT a) (NN competition))))) (. .)))</td>\n",
              "    </tr>\n",
              "    <tr>\n",
              "      <th>1</th>\n",
              "      <td>[contradiction]</td>\n",
              "      <td>3416050480.jpg#4</td>\n",
              "      <td>contradiction</td>\n",
              "      <td>3416050480.jpg#4r1c</td>\n",
              "      <td>A person on a horse jumps over a broken down airplane.</td>\n",
              "      <td>( ( ( A person ) ( on ( a horse ) ) ) ( ( jumps ( over ( a ( broken ( down airplane ) ) ) ) ) . ) )</td>\n",
              "      <td>(ROOT (S (NP (NP (DT A) (NN person)) (PP (IN on) (NP (DT a) (NN horse)))) (VP (VBZ jumps) (PP (IN over) (NP (DT a) (JJ broken) (JJ down) (NN airplane)))) (. .)))</td>\n",
              "      <td>A person is at a diner, ordering an omelette.</td>\n",
              "      <td>( ( A person ) ( ( ( ( is ( at ( a diner ) ) ) , ) ( ordering ( an omelette ) ) ) . ) )</td>\n",
              "      <td>(ROOT (S (NP (DT A) (NN person)) (VP (VBZ is) (PP (IN at) (NP (DT a) (NN diner))) (, ,) (S (VP (VBG ordering) (NP (DT an) (NN omelette))))) (. .)))</td>\n",
              "    </tr>\n",
              "    <tr>\n",
              "      <th>2</th>\n",
              "      <td>[entailment]</td>\n",
              "      <td>3416050480.jpg#4</td>\n",
              "      <td>entailment</td>\n",
              "      <td>3416050480.jpg#4r1e</td>\n",
              "      <td>A person on a horse jumps over a broken down airplane.</td>\n",
              "      <td>( ( ( A person ) ( on ( a horse ) ) ) ( ( jumps ( over ( a ( broken ( down airplane ) ) ) ) ) . ) )</td>\n",
              "      <td>(ROOT (S (NP (NP (DT A) (NN person)) (PP (IN on) (NP (DT a) (NN horse)))) (VP (VBZ jumps) (PP (IN over) (NP (DT a) (JJ broken) (JJ down) (NN airplane)))) (. .)))</td>\n",
              "      <td>A person is outdoors, on a horse.</td>\n",
              "      <td>( ( A person ) ( ( ( ( is outdoors ) , ) ( on ( a horse ) ) ) . ) )</td>\n",
              "      <td>(ROOT (S (NP (DT A) (NN person)) (VP (VBZ is) (ADVP (RB outdoors)) (, ,) (PP (IN on) (NP (DT a) (NN horse)))) (. .)))</td>\n",
              "    </tr>\n",
              "    <tr>\n",
              "      <th>3</th>\n",
              "      <td>[neutral]</td>\n",
              "      <td>2267923837.jpg#2</td>\n",
              "      <td>neutral</td>\n",
              "      <td>2267923837.jpg#2r1n</td>\n",
              "      <td>Children smiling and waving at camera</td>\n",
              "      <td>( Children ( ( ( smiling and ) waving ) ( at camera ) ) )</td>\n",
              "      <td>(ROOT (NP (S (NP (NNP Children)) (VP (VBG smiling) (CC and) (VBG waving) (PP (IN at) (NP (NN camera)))))))</td>\n",
              "      <td>They are smiling at their parents</td>\n",
              "      <td>( They ( are ( smiling ( at ( their parents ) ) ) ) )</td>\n",
              "      <td>(ROOT (S (NP (PRP They)) (VP (VBP are) (VP (VBG smiling) (PP (IN at) (NP (PRP$ their) (NNS parents)))))))</td>\n",
              "    </tr>\n",
              "    <tr>\n",
              "      <th>4</th>\n",
              "      <td>[entailment]</td>\n",
              "      <td>2267923837.jpg#2</td>\n",
              "      <td>entailment</td>\n",
              "      <td>2267923837.jpg#2r1e</td>\n",
              "      <td>Children smiling and waving at camera</td>\n",
              "      <td>( Children ( ( ( smiling and ) waving ) ( at camera ) ) )</td>\n",
              "      <td>(ROOT (NP (S (NP (NNP Children)) (VP (VBG smiling) (CC and) (VBG waving) (PP (IN at) (NP (NN camera)))))))</td>\n",
              "      <td>There are children present</td>\n",
              "      <td>( There ( ( are children ) present ) )</td>\n",
              "      <td>(ROOT (S (NP (EX There)) (VP (VBP are) (NP (NNS children)) (ADVP (RB present)))))</td>\n",
              "    </tr>\n",
              "  </tbody>\n",
              "</table>\n",
              "</div>"
            ],
            "text/plain": [
              "  annotator_labels         captionID     gold_label               pairID  \\\n",
              "0        [neutral]  3416050480.jpg#4        neutral  3416050480.jpg#4r1n   \n",
              "1  [contradiction]  3416050480.jpg#4  contradiction  3416050480.jpg#4r1c   \n",
              "2     [entailment]  3416050480.jpg#4     entailment  3416050480.jpg#4r1e   \n",
              "3        [neutral]  2267923837.jpg#2        neutral  2267923837.jpg#2r1n   \n",
              "4     [entailment]  2267923837.jpg#2     entailment  2267923837.jpg#2r1e   \n",
              "\n",
              "                                                sentence1  \\\n",
              "0  A person on a horse jumps over a broken down airplane.   \n",
              "1  A person on a horse jumps over a broken down airplane.   \n",
              "2  A person on a horse jumps over a broken down airplane.   \n",
              "3                   Children smiling and waving at camera   \n",
              "4                   Children smiling and waving at camera   \n",
              "\n",
              "                                                                                sentence1_binary_parse  \\\n",
              "0  ( ( ( A person ) ( on ( a horse ) ) ) ( ( jumps ( over ( a ( broken ( down airplane ) ) ) ) ) . ) )   \n",
              "1  ( ( ( A person ) ( on ( a horse ) ) ) ( ( jumps ( over ( a ( broken ( down airplane ) ) ) ) ) . ) )   \n",
              "2  ( ( ( A person ) ( on ( a horse ) ) ) ( ( jumps ( over ( a ( broken ( down airplane ) ) ) ) ) . ) )   \n",
              "3                                            ( Children ( ( ( smiling and ) waving ) ( at camera ) ) )   \n",
              "4                                            ( Children ( ( ( smiling and ) waving ) ( at camera ) ) )   \n",
              "\n",
              "                                                                                                                                                     sentence1_parse  \\\n",
              "0  (ROOT (S (NP (NP (DT A) (NN person)) (PP (IN on) (NP (DT a) (NN horse)))) (VP (VBZ jumps) (PP (IN over) (NP (DT a) (JJ broken) (JJ down) (NN airplane)))) (. .)))   \n",
              "1  (ROOT (S (NP (NP (DT A) (NN person)) (PP (IN on) (NP (DT a) (NN horse)))) (VP (VBZ jumps) (PP (IN over) (NP (DT a) (JJ broken) (JJ down) (NN airplane)))) (. .)))   \n",
              "2  (ROOT (S (NP (NP (DT A) (NN person)) (PP (IN on) (NP (DT a) (NN horse)))) (VP (VBZ jumps) (PP (IN over) (NP (DT a) (JJ broken) (JJ down) (NN airplane)))) (. .)))   \n",
              "3                                                         (ROOT (NP (S (NP (NNP Children)) (VP (VBG smiling) (CC and) (VBG waving) (PP (IN at) (NP (NN camera)))))))   \n",
              "4                                                         (ROOT (NP (S (NP (NNP Children)) (VP (VBG smiling) (CC and) (VBG waving) (PP (IN at) (NP (NN camera)))))))   \n",
              "\n",
              "                                           sentence2  \\\n",
              "0  A person is training his horse for a competition.   \n",
              "1      A person is at a diner, ordering an omelette.   \n",
              "2                  A person is outdoors, on a horse.   \n",
              "3                  They are smiling at their parents   \n",
              "4                         There are children present   \n",
              "\n",
              "                                                                    sentence2_binary_parse  \\\n",
              "0   ( ( A person ) ( ( is ( ( training ( his horse ) ) ( for ( a competition ) ) ) ) . ) )   \n",
              "1  ( ( A person ) ( ( ( ( is ( at ( a diner ) ) ) , ) ( ordering ( an omelette ) ) ) . ) )   \n",
              "2                      ( ( A person ) ( ( ( ( is outdoors ) , ) ( on ( a horse ) ) ) . ) )   \n",
              "3                                    ( They ( are ( smiling ( at ( their parents ) ) ) ) )   \n",
              "4                                                   ( There ( ( are children ) present ) )   \n",
              "\n",
              "                                                                                                                                       sentence2_parse  \n",
              "0     (ROOT (S (NP (DT A) (NN person)) (VP (VBZ is) (VP (VBG training) (NP (PRP$ his) (NN horse)) (PP (IN for) (NP (DT a) (NN competition))))) (. .)))  \n",
              "1  (ROOT (S (NP (DT A) (NN person)) (VP (VBZ is) (PP (IN at) (NP (DT a) (NN diner))) (, ,) (S (VP (VBG ordering) (NP (DT an) (NN omelette))))) (. .)))  \n",
              "2                                (ROOT (S (NP (DT A) (NN person)) (VP (VBZ is) (ADVP (RB outdoors)) (, ,) (PP (IN on) (NP (DT a) (NN horse)))) (. .)))  \n",
              "3                                            (ROOT (S (NP (PRP They)) (VP (VBP are) (VP (VBG smiling) (PP (IN at) (NP (PRP$ their) (NNS parents)))))))  \n",
              "4                                                                    (ROOT (S (NP (EX There)) (VP (VBP are) (NP (NNS children)) (ADVP (RB present)))))  "
            ]
          },
          "metadata": {
            "tags": []
          },
          "execution_count": 17
        }
      ]
    },
    {
      "cell_type": "markdown",
      "metadata": {
        "id": "PvemEBEE2TB_",
        "colab_type": "text"
      },
      "source": [
        "# Vocab"
      ]
    },
    {
      "cell_type": "code",
      "metadata": {
        "id": "PM9jygHDklMw",
        "colab_type": "code",
        "colab": {}
      },
      "source": [
        "class WordModel:\n",
        "    \n",
        "    def __init__(self, word_regex=r'([A-Za-z]+|[\\s]|[^A-Za-z\\s])'):\n",
        "        self.word_regex = re.compile(word_regex)\n",
        "\n",
        "    def preprocess_sentence(self, sentence):\n",
        "        sentence = sentence.lower()\n",
        "        return sentence\n",
        "\n",
        "    def parse_sentence(self, sentence):\n",
        "        sentence = self.preprocess_sentence(sentence)\n",
        "        words = self.word_regex.findall(sentence)\n",
        "        words = [word for word in words if word != ' ']  # hack short length: words = [word for word in words[:8] if word != ' ']\n",
        "        return words\n",
        "    \n",
        "    def parse_corpus(self, sentences):\n",
        "        words = []\n",
        "        for sentence in sentences:\n",
        "            words += self.parse_sentence(sentence)\n",
        "        return words\n"
      ],
      "execution_count": 18,
      "outputs": []
    },
    {
      "cell_type": "code",
      "metadata": {
        "id": "tjHekcnxtqsd",
        "colab_type": "code",
        "colab": {}
      },
      "source": [
        "word_model = WordModel()\n",
        "\n",
        "train_words = word_model.parse_corpus(train_dataset['sentence1'])\n",
        "train_words += word_model.parse_corpus(train_dataset['sentence2'])"
      ],
      "execution_count": 19,
      "outputs": []
    },
    {
      "cell_type": "code",
      "metadata": {
        "id": "MlAV-sg4lySI",
        "colab_type": "code",
        "colab": {}
      },
      "source": [
        "class WordVocab:\n",
        "\n",
        "    def __init__(self, max_size_vocab=100000):\n",
        "        self.max_size_vocab = max_size_vocab\n",
        "        self.vocab = None\n",
        "        self.vocab_reversed = None\n",
        "        self.util_vocab = {'[PAD]': 0, '[UNK]': 1}\n",
        "        self.util_vocab_reversed = {v: k for k, v in self.util_vocab.items()}\n",
        "    \n",
        "    @property\n",
        "    def vocab_size(self):\n",
        "        return len(self.vocab)\n",
        "    \n",
        "    def create_vocab(self, words):\n",
        "        word_counts = collections.Counter(words)\n",
        "        word_counts = word_counts.most_common(self.max_size_vocab)\n",
        "\n",
        "        initial_index = len(self.util_vocab)\n",
        "        self.vocab = {\n",
        "            **self.util_vocab,\n",
        "            **{word: i for i, (word, _) in enumerate(word_counts, initial_index)}\n",
        "        }\n",
        "        self.vocab_reversed = {v: k for k, v in self.vocab.items()}\n",
        "    \n",
        "    def pad_words(self, words, max_length):\n",
        "        words = words + ['[PAD]'] * (max_length - len(words))\n",
        "        return words[:max_length]\n",
        "\n",
        "    def encode_words(self, words):\n",
        "        unk_code = self.vocab['[UNK]']\n",
        "        return [self.vocab.get(word, unk_code) for word in words]\n",
        "    \n",
        "    def decode_words(self, words):\n",
        "        unk_word = '[UNK]'\n",
        "        return [self.vocab_reversed.get(word, unk_word) for word in words]\n"
      ],
      "execution_count": 20,
      "outputs": []
    },
    {
      "cell_type": "code",
      "metadata": {
        "id": "ze8bT2Zjwev9",
        "colab_type": "code",
        "colab": {}
      },
      "source": [
        "max_size_vocab = 8000\n",
        "\n",
        "\n",
        "word_vocab = WordVocab(max_size_vocab)\n",
        "word_vocab.create_vocab(train_words)"
      ],
      "execution_count": 21,
      "outputs": []
    },
    {
      "cell_type": "code",
      "metadata": {
        "id": "RPqO82YmeKMe",
        "colab_type": "code",
        "colab": {
          "base_uri": "https://localhost:8080/",
          "height": 34
        },
        "outputId": "76cca9bd-8878-40f1-89e2-95bff35ba7c9"
      },
      "source": [
        "word_vocab.vocab_size"
      ],
      "execution_count": 22,
      "outputs": [
        {
          "output_type": "execute_result",
          "data": {
            "text/plain": [
              "8002"
            ]
          },
          "metadata": {
            "tags": []
          },
          "execution_count": 22
        }
      ]
    },
    {
      "cell_type": "code",
      "metadata": {
        "id": "pQk8sFYwdwUC",
        "colab_type": "code",
        "colab": {
          "base_uri": "https://localhost:8080/",
          "height": 34
        },
        "outputId": "1ff4c2f2-c77a-47d5-c1d2-483c213b9297"
      },
      "source": [
        "len([word for word in train_words if word in word_vocab.vocab]) / len(train_words)"
      ],
      "execution_count": 23,
      "outputs": [
        {
          "output_type": "execute_result",
          "data": {
            "text/plain": [
              "0.9900431405924083"
            ]
          },
          "metadata": {
            "tags": []
          },
          "execution_count": 23
        }
      ]
    },
    {
      "cell_type": "markdown",
      "metadata": {
        "id": "ZAIaw7lB2jtY",
        "colab_type": "text"
      },
      "source": [
        "# embs"
      ]
    },
    {
      "cell_type": "code",
      "metadata": {
        "id": "htlVmG9uMiyT",
        "colab_type": "code",
        "colab": {}
      },
      "source": [
        "emb_size = 300"
      ],
      "execution_count": 24,
      "outputs": []
    },
    {
      "cell_type": "code",
      "metadata": {
        "id": "hwtiyhRer8aV",
        "colab_type": "code",
        "colab": {}
      },
      "source": [
        "word_embeddings = {}\n",
        "\n",
        "with open(EMBS, 'r', encoding='utf-8') as fp:\n",
        "    for line in fp:\n",
        "        values = line.strip().split()\n",
        "        word = ' '.join(values[:-300])\n",
        "        word_embeddings[word] = np.asarray(values[-300:], 'float32')\n"
      ],
      "execution_count": null,
      "outputs": []
    },
    {
      "cell_type": "code",
      "metadata": {
        "id": "8FJEavffI9_c",
        "colab_type": "code",
        "colab": {
          "base_uri": "https://localhost:8080/",
          "height": 34
        },
        "outputId": "8b0fc042-c018-45d8-fd59-7085cd1cc3d4"
      },
      "source": [
        "len(word_embeddings)"
      ],
      "execution_count": null,
      "outputs": [
        {
          "output_type": "execute_result",
          "data": {
            "text/plain": [
              "2195895"
            ]
          },
          "metadata": {
            "tags": []
          },
          "execution_count": 25
        }
      ]
    },
    {
      "cell_type": "code",
      "metadata": {
        "id": "OEoUcdWjLb1F",
        "colab_type": "code",
        "colab": {}
      },
      "source": [
        "# space is part of word\n",
        "# [word for word in word_embeddings if ' ' in word]"
      ],
      "execution_count": null,
      "outputs": []
    },
    {
      "cell_type": "markdown",
      "metadata": {
        "id": "rrPSMhZ4M7MB",
        "colab_type": "text"
      },
      "source": [
        "##### check words without embeddings"
      ]
    },
    {
      "cell_type": "code",
      "metadata": {
        "id": "sRirEffFLmos",
        "colab_type": "code",
        "colab": {
          "base_uri": "https://localhost:8080/",
          "height": 34
        },
        "outputId": "80e33fba-be7b-4c3f-f9ab-ead71d50fa2a"
      },
      "source": [
        "# check word embeddings\n",
        "len([word for word in word_vocab.vocab if word in word_embeddings]) / word_vocab.vocab_size"
      ],
      "execution_count": null,
      "outputs": [
        {
          "output_type": "execute_result",
          "data": {
            "text/plain": [
              "0.9991252186953262"
            ]
          },
          "metadata": {
            "tags": []
          },
          "execution_count": 66
        }
      ]
    },
    {
      "cell_type": "code",
      "metadata": {
        "id": "UHL-KjmIL5s2",
        "colab_type": "code",
        "colab": {
          "base_uri": "https://localhost:8080/",
          "height": 136
        },
        "outputId": "b8b59a58-da0e-48d8-f96c-f42f41341c8a"
      },
      "source": [
        "[word for word in word_vocab.vocab if word not in word_embeddings]"
      ],
      "execution_count": null,
      "outputs": [
        {
          "output_type": "execute_result",
          "data": {
            "text/plain": [
              "['[PAD]',\n",
              " '[UNK]',\n",
              " 'rollerskaters',\n",
              " 'surfboarder',\n",
              " 'graffited',\n",
              " 'parasailer',\n",
              " 'boogieboard']"
            ]
          },
          "metadata": {
            "tags": []
          },
          "execution_count": 67
        }
      ]
    },
    {
      "cell_type": "markdown",
      "metadata": {
        "id": "zDZiHJ4QNLZ1",
        "colab_type": "text"
      },
      "source": [
        "##### init emb matrix"
      ]
    },
    {
      "cell_type": "code",
      "metadata": {
        "id": "WnUV99_7NKyu",
        "colab_type": "code",
        "colab": {}
      },
      "source": [
        "embeddings = [\n",
        "    word_embeddings[word] if word in word_embeddings else np.random.uniform(-0.05, 0.05, 300)\n",
        "    for word, _ in sorted(word_vocab.vocab.items(), key=lambda x: x[1])\n",
        "]\n",
        "embeddings = np.array(embeddings)"
      ],
      "execution_count": null,
      "outputs": []
    },
    {
      "cell_type": "code",
      "metadata": {
        "id": "-cQ8-hpyMUQb",
        "colab_type": "code",
        "colab": {
          "base_uri": "https://localhost:8080/",
          "height": 34
        },
        "outputId": "c33300ed-0596-4bff-9339-e7b640ab9eec"
      },
      "source": [
        "embeddings.shape"
      ],
      "execution_count": null,
      "outputs": [
        {
          "output_type": "execute_result",
          "data": {
            "text/plain": [
              "(8002, 300)"
            ]
          },
          "metadata": {
            "tags": []
          },
          "execution_count": 65
        }
      ]
    },
    {
      "cell_type": "markdown",
      "metadata": {
        "id": "n8FpRRfJXTY-",
        "colab_type": "text"
      },
      "source": [
        "# phrase structure"
      ]
    },
    {
      "cell_type": "code",
      "metadata": {
        "id": "INeCmoISXTlm",
        "colab_type": "code",
        "colab": {}
      },
      "source": [
        "def parse_phrase_structure(string):\n",
        "    items = string.split()\n",
        "    \n",
        "    nodes = [{'index': 0, 'childs': [], 'words': []}]\n",
        "    words = []\n",
        "    parents = [0]\n",
        "    for item in items:\n",
        "        if item == '(':\n",
        "            # link child to parent\n",
        "            nodes[parents[-1]]['childs'].append(len(nodes))\n",
        "            # add node\n",
        "            node = {\n",
        "                'index': len(nodes),\n",
        "                'childs': [],\n",
        "                'words': []\n",
        "            }\n",
        "            nodes.append(node)\n",
        "            # add new parent\n",
        "            parents.append(len(nodes) - 1)\n",
        "        \n",
        "        elif item == ')':\n",
        "            # update last parent\n",
        "            parents = parents[:-1]\n",
        "        \n",
        "        else:\n",
        "            # add word to last node\n",
        "            words.append(item)\n",
        "            nodes[parents[-1]]['words'].append({'word': item, 'index': len(words) - 1})\n",
        "\n",
        "    return nodes\n"
      ],
      "execution_count": 38,
      "outputs": []
    },
    {
      "cell_type": "code",
      "metadata": {
        "id": "SXt7ojSAXkTP",
        "colab_type": "code",
        "colab": {}
      },
      "source": [
        "def get_words(nodes):\n",
        "    words = [word for node in nodes for word in node['words']]\n",
        "    words = [word['word'] for word in sorted(words, key=lambda x: x['index'])]\n",
        "    return words\n",
        "\n",
        "\n",
        "def get_matrix_words_nodes(nodes):\n",
        "    words = get_words(nodes)\n",
        "    \n",
        "    matrix = np.zeros((len(nodes), len(words)))\n",
        "    for node in nodes:\n",
        "        word_indexes = [word['index'] for word in node['words']]\n",
        "        matrix[node['index'], word_indexes] = 1\n",
        "    return matrix\n",
        "\n",
        "\n",
        "def get_matrix_words_childs(nodes):\n",
        "    words = get_words(nodes)\n",
        "    \n",
        "    matrix = np.zeros((len(nodes), len(words)))\n",
        "    for node in nodes:\n",
        "        childs = [node['index']]\n",
        "        while childs:\n",
        "            child_node_index, *childs = childs\n",
        "            word_indexes = [word['index'] for word in node['words']]\n",
        "            matrix[child_node_index, word_indexes] = 1\n",
        "            childs += nodes[child_node_index]['childs']\n",
        "    \n",
        "    matrix = matrix[1:, :]  # rm root\n",
        "    return matrix\n",
        "\n",
        "\n",
        "def get_matrix_words_parents(nodes):\n",
        "    words = get_words(nodes)\n",
        "    \n",
        "    matrix = np.zeros((len(nodes), len(words)))\n",
        "    for node in nodes:\n",
        "        childs = [node['index']]\n",
        "        while childs:\n",
        "            child_node_index, *childs = childs\n",
        "            word_indexes = [word['index'] for word in nodes[child_node_index]['words']]\n",
        "            matrix[node['index'], word_indexes] = 1\n",
        "            childs += nodes[child_node_index]['childs']\n",
        "    \n",
        "    matrix = matrix[1:, :]  # rm root\n",
        "    return matrix\n"
      ],
      "execution_count": 39,
      "outputs": []
    },
    {
      "cell_type": "markdown",
      "metadata": {
        "id": "lRYkAIu4X-mP",
        "colab_type": "text"
      },
      "source": [
        "##### *how it works*"
      ]
    },
    {
      "cell_type": "code",
      "metadata": {
        "id": "AmmaLDMjXkeO",
        "colab_type": "code",
        "colab": {
          "base_uri": "https://localhost:8080/",
          "height": 37
        },
        "outputId": "9d8aa3b7-c29e-43dd-c86d-e9d36a4c8d55"
      },
      "source": [
        "string = train_dataset['sentence1_binary_parse'][0]\n",
        "string"
      ],
      "execution_count": 47,
      "outputs": [
        {
          "output_type": "execute_result",
          "data": {
            "application/vnd.google.colaboratory.intrinsic+json": {
              "type": "string"
            },
            "text/plain": [
              "'( ( ( A person ) ( on ( a horse ) ) ) ( ( jumps ( over ( a ( broken ( down airplane ) ) ) ) ) . ) )'"
            ]
          },
          "metadata": {
            "tags": []
          },
          "execution_count": 47
        }
      ]
    },
    {
      "cell_type": "code",
      "metadata": {
        "id": "BpkFmxUjXquc",
        "colab_type": "code",
        "colab": {}
      },
      "source": [
        "nodes = parse_phrase_structure(string)\n",
        "nodes"
      ],
      "execution_count": null,
      "outputs": []
    },
    {
      "cell_type": "code",
      "metadata": {
        "id": "TVEcndPqXq56",
        "colab_type": "code",
        "colab": {}
      },
      "source": [
        "words = get_words(nodes)\n",
        "words"
      ],
      "execution_count": null,
      "outputs": []
    },
    {
      "cell_type": "code",
      "metadata": {
        "id": "ElXiwIYXZHCk",
        "colab_type": "code",
        "colab": {}
      },
      "source": [
        "matrix_words_childs = get_matrix_words_childs(nodes)\n",
        "matrix_words_childs"
      ],
      "execution_count": null,
      "outputs": []
    },
    {
      "cell_type": "code",
      "metadata": {
        "id": "7Nijd-5oZHRE",
        "colab_type": "code",
        "colab": {}
      },
      "source": [
        "matrix_words_childs = get_matrix_words_childs(nodes)\n",
        "matrix_words_childs /= matrix_words_childs.sum(axis=0)\n",
        "matrix_words_childs = np.dot(matrix_words_childs.transpose(), matrix_words_childs)\n",
        "matrix_words_childs"
      ],
      "execution_count": null,
      "outputs": []
    },
    {
      "cell_type": "code",
      "metadata": {
        "id": "m6buA07iZKGN",
        "colab_type": "code",
        "colab": {
          "base_uri": "https://localhost:8080/",
          "height": 269
        },
        "outputId": "50bd0c51-b36f-44ba-8730-fb898eac7d74"
      },
      "source": [
        "plt.imshow(matrix_words_childs)\n",
        "plt.colorbar()\n",
        "plt.show()"
      ],
      "execution_count": 55,
      "outputs": [
        {
          "output_type": "display_data",
          "data": {
            "image/png": "[encoded data removed]",
            "text/plain": [
              "<Figure size 432x288 with 2 Axes>"
            ]
          },
          "metadata": {
            "tags": [],
            "needs_background": "light"
          }
        }
      ]
    },
    {
      "cell_type": "code",
      "metadata": {
        "id": "MNwlFo2iXko-",
        "colab_type": "code",
        "colab": {}
      },
      "source": [
        "matrix_words_parents = get_matrix_words_parents(nodes)\n",
        "matrix_words_parents"
      ],
      "execution_count": null,
      "outputs": []
    },
    {
      "cell_type": "code",
      "metadata": {
        "id": "CT54zDssYt7C",
        "colab_type": "code",
        "colab": {}
      },
      "source": [
        "matrix_words_parents = get_matrix_words_parents(nodes)\n",
        "matrix_words_parents /= matrix_words_parents.sum(axis=0)\n",
        "matrix_words_parents = np.dot(matrix_words_parents.transpose(), matrix_words_parents)\n",
        "matrix_words_parents"
      ],
      "execution_count": null,
      "outputs": []
    },
    {
      "cell_type": "code",
      "metadata": {
        "id": "je_R8u0sYuIV",
        "colab_type": "code",
        "colab": {
          "base_uri": "https://localhost:8080/",
          "height": 269
        },
        "outputId": "8cbc4c5d-a89d-4ed9-88b2-d9eebaa3bd90"
      },
      "source": [
        "plt.imshow(matrix_words_parents)\n",
        "plt.colorbar()\n",
        "plt.show()"
      ],
      "execution_count": 52,
      "outputs": [
        {
          "output_type": "display_data",
          "data": {
            "image/png": "[encoded data removed]",
            "text/plain": [
              "<Figure size 432x288 with 2 Axes>"
            ]
          },
          "metadata": {
            "tags": [],
            "needs_background": "light"
          }
        }
      ]
    },
    {
      "cell_type": "markdown",
      "metadata": {
        "id": "LW1TGzbW2YRp",
        "colab_type": "text"
      },
      "source": [
        "# Dataset"
      ]
    },
    {
      "cell_type": "code",
      "metadata": {
        "id": "s_-UEIrMxHoB",
        "colab_type": "code",
        "colab": {}
      },
      "source": [
        "# check max_length\n",
        "# lengths = [len(word_model.parse_sentence(sentence)) for sentence in train_dataset['sentence1']]\n",
        "# np.min(lengths), np.max(lengths), np.mean(lengths), len([length for length in lengths if length < 32]) / len(lengths)"
      ],
      "execution_count": null,
      "outputs": []
    },
    {
      "cell_type": "code",
      "metadata": {
        "id": "68-zjch24k6_",
        "colab_type": "code",
        "colab": {}
      },
      "source": [
        "max_length = 32\n",
        "batch_size = 32\n",
        "\n",
        "test_size = 10000\n",
        "train_size = 100000\n",
        "\n",
        "\n",
        "def process_sentence(sentence):\n",
        "    words = word_model.parse_sentence(sentence)\n",
        "    words = word_vocab.pad_words(words, max_length)\n",
        "    words = word_vocab.encode_words(words)\n",
        "    return words\n",
        "\n",
        "\n",
        "def process_sentence_structure(string):\n",
        "    nodes = parse_phrase_structure(string)\n",
        "\n",
        "    matrix_words_parents = get_matrix_words_parents(nodes)\n",
        "    matrix_words_parents /= matrix_words_parents.sum(axis=0)\n",
        "    matrix_words_parents = np.dot(matrix_words_parents.transpose(), matrix_words_parents)\n",
        "\n",
        "    matrix = np.zeros((max_length, max_length))\n",
        "    shape_0 = min(max_length, matrix_words_parents.shape[0])\n",
        "    shape_1 = min(max_length, matrix_words_parents.shape[1])\n",
        "    matrix[:shape_0, :shape_1] += matrix_words_parents[:shape_0, :shape_1]\n",
        "    return matrix\n",
        "\n",
        "\n",
        "test_sentences = [process_sentence(s) for s in test_dataset['sentence1']]\n",
        "test_sentences += [process_sentence(s) for s in test_dataset['sentence2']]\n",
        "test_sentences = np.array(test_sentences)\n",
        "\n",
        "test_sentence_structures = [process_sentence_structure(s) for s in test_dataset['sentence1_binary_parse']]\n",
        "test_sentence_structures += [process_sentence_structure(s) for s in test_dataset['sentence2_binary_parse']]\n",
        "test_sentence_structures = np.array(test_sentence_structures)\n",
        "\n",
        "\n",
        "# train_sentences = [process_sentence(s) for s in train_dataset['sentence1']]\n",
        "# train_sentences += [process_sentence(s) for s in train_dataset['sentence2']]\n",
        "# train_sentences = np.array(train_sentences)\n",
        "train_sentences = [process_sentence(s) for s in test_dataset['sentence1']]\n",
        "train_sentences += [process_sentence(s) for s in test_dataset['sentence2']]\n",
        "train_sentences = np.array(train_sentences)\n",
        "\n",
        "# train_sentence_structures = [process_sentence_structure(s) for s in train_dataset['sentence1_binary_parse']]\n",
        "# train_sentence_structures += [process_sentence_structure(s) for s in train_dataset['sentence2_binary_parse']]\n",
        "# train_sentence_structures = np.array(train_sentence_structures)\n",
        "train_sentence_structures = [process_sentence_structure(s) for s in test_dataset['sentence1_binary_parse']]\n",
        "train_sentence_structures += [process_sentence_structure(s) for s in test_dataset['sentence2_binary_parse']]\n",
        "train_sentence_structures = np.array(train_sentence_structures)\n",
        "\n",
        "\n",
        "test_sentences = {\n",
        "    'sentence': test_sentences,\n",
        "    'sentence_structure': test_sentence_structures\n",
        "}\n",
        "\n",
        "test_sentences = (\n",
        "    tf.data.Dataset.from_tensor_slices(test_sentences)\n",
        "    .shuffle(test_size)\n",
        "    .batch(batch_size)\n",
        ")\n",
        "\n",
        "train_sentences = {\n",
        "    'sentence': train_sentences,\n",
        "    'sentence_structure': train_sentence_structures\n",
        "}\n",
        "train_sentences = (\n",
        "    tf.data.Dataset.from_tensor_slices(train_sentences)\n",
        "    .shuffle(train_size)\n",
        "    .batch(batch_size)\n",
        ")\n",
        "# list(test_sentences.as_numpy_iterator())[0]"
      ],
      "execution_count": 77,
      "outputs": []
    },
    {
      "cell_type": "markdown",
      "metadata": {
        "id": "2FC0d-Ky2p1b",
        "colab_type": "text"
      },
      "source": [
        "# Model"
      ]
    },
    {
      "cell_type": "markdown",
      "metadata": {
        "id": "U5WNCDM3dLpg",
        "colab_type": "text"
      },
      "source": [
        "### positional encoding"
      ]
    },
    {
      "cell_type": "code",
      "metadata": {
        "id": "UIClAG77U11d",
        "colab_type": "code",
        "colab": {}
      },
      "source": [
        "def get_angles(pos, i, d_model):\n",
        "    angle_rates = 1 / np.power(10000, (2 * (i//2)) / np.float32(d_model))\n",
        "    return pos * angle_rates\n"
      ],
      "execution_count": null,
      "outputs": []
    },
    {
      "cell_type": "code",
      "metadata": {
        "id": "sIB99JdoU2AC",
        "colab_type": "code",
        "colab": {}
      },
      "source": [
        "def positional_encoding(position, d_model):\n",
        "    angle_rads = get_angles(\n",
        "        np.arange(position)[:, np.newaxis],\n",
        "        np.arange(d_model)[np.newaxis, :],\n",
        "        d_model\n",
        "    )\n",
        "  \n",
        "    # apply sin to even indices in the array; 2i\n",
        "    angle_rads[:, 0::2] = np.sin(angle_rads[:, 0::2])\n",
        "\n",
        "    # apply cos to odd indices in the array; 2i+1\n",
        "    angle_rads[:, 1::2] = np.cos(angle_rads[:, 1::2])\n",
        "\n",
        "    pos_encoding = angle_rads[np.newaxis, ...]\n",
        "\n",
        "    return tf.cast(pos_encoding, dtype=tf.float32)\n"
      ],
      "execution_count": null,
      "outputs": []
    },
    {
      "cell_type": "markdown",
      "metadata": {
        "id": "QQ0drsJ-dQ7-",
        "colab_type": "text"
      },
      "source": [
        "##### *how it works*"
      ]
    },
    {
      "cell_type": "code",
      "metadata": {
        "id": "ekS40pxsVehZ",
        "colab_type": "code",
        "colab": {
          "base_uri": "https://localhost:8080/",
          "height": 300
        },
        "outputId": "4a8904b6-a948-4e35-e1f8-e3a332560f33"
      },
      "source": [
        "pos_encoding = positional_encoding(50, 512)\n",
        "print(pos_encoding.shape)\n",
        "\n",
        "plt.xlim((0, 512))\n",
        "plt.xlabel('Depth')\n",
        "plt.ylabel('Position')\n",
        "plt.pcolormesh(pos_encoding[0], cmap='RdBu')\n",
        "plt.colorbar()\n",
        "plt.show()"
      ],
      "execution_count": null,
      "outputs": [
        {
          "output_type": "stream",
          "text": [
            "(1, 50, 512)\n"
          ],
          "name": "stdout"
        },
        {
          "output_type": "display_data",
          "data": {
            "image/png": "[encoded data removed]",
            "text/plain": [
              "<Figure size 432x288 with 2 Axes>"
            ]
          },
          "metadata": {
            "tags": [],
            "needs_background": "light"
          }
        }
      ]
    },
    {
      "cell_type": "markdown",
      "metadata": {
        "id": "CMNqkNYEdViB",
        "colab_type": "text"
      },
      "source": [
        "### attention function"
      ]
    },
    {
      "cell_type": "code",
      "metadata": {
        "id": "hThQOuYCsqZx",
        "colab_type": "code",
        "colab": {}
      },
      "source": [
        "def create_padding_mask(seq):\n",
        "    seq = tf.cast(tf.math.equal(seq, 0), tf.float32)\n",
        "\n",
        "    # add extra dimensions to add the padding\n",
        "    # to the attention logits.\n",
        "    return seq[:, tf.newaxis, tf.newaxis, :]  # (batch_size, 1, 1, seq_len)\n"
      ],
      "execution_count": 189,
      "outputs": []
    },
    {
      "cell_type": "code",
      "metadata": {
        "id": "clTsCcnEdEvS",
        "colab_type": "code",
        "colab": {}
      },
      "source": [
        "def scaled_dot_product_attention(q, k, v, mask):\n",
        "    \"\"\"Calculate the attention weights.\n",
        "    q, k, v must have matching leading dimensions.\n",
        "    k, v must have matching penultimate dimension, i.e.: seq_len_k = seq_len_v.\n",
        "    The mask has different shapes depending on its type(padding or look ahead) \n",
        "    but it must be broadcastable for addition.\n",
        "\n",
        "    Args:\n",
        "        q: query shape == (..., seq_len_q, depth)\n",
        "        k: key shape == (..., seq_len_k, depth)\n",
        "        v: value shape == (..., seq_len_v, depth_v)\n",
        "        mask: Float tensor with shape broadcastable \n",
        "                to (..., seq_len_q, seq_len_k). Defaults to None.\n",
        "\n",
        "    Returns:\n",
        "        output, attention_weights\n",
        "    \"\"\"\n",
        "\n",
        "    matmul_qk = tf.matmul(q, k, transpose_b=True)  # (..., seq_len_q, seq_len_k)\n",
        "  \n",
        "    # scale matmul_qk\n",
        "    dk = tf.cast(tf.shape(k)[-1], tf.float32)\n",
        "    scaled_attention_logits = matmul_qk / tf.math.sqrt(dk)\n",
        "\n",
        "    # add the mask to the scaled tensor.\n",
        "    if mask is not None:\n",
        "        scaled_attention_logits += (mask * -1e9)  \n",
        "\n",
        "    # softmax is normalized on the last axis (seq_len_k) so that the scores\n",
        "    # add up to 1.\n",
        "    attention_weights = tf.nn.softmax(scaled_attention_logits, axis=-1)  # (..., seq_len_q, seq_len_k)\n",
        "\n",
        "    output = tf.matmul(attention_weights, v)  # (..., seq_len_q, depth_v)\n",
        "    return output, attention_weights\n"
      ],
      "execution_count": null,
      "outputs": []
    },
    {
      "cell_type": "markdown",
      "metadata": {
        "id": "xCJqBpejdaBP",
        "colab_type": "text"
      },
      "source": [
        "##### *how it works*"
      ]
    },
    {
      "cell_type": "code",
      "metadata": {
        "id": "MjhWFKe3Ux0a",
        "colab_type": "code",
        "colab": {}
      },
      "source": [
        "def print_out(q, k, v):\n",
        "    temp_out, temp_attn = scaled_dot_product_attention(q, k, v, None)\n",
        "    print('Attention weights are:')\n",
        "    print(temp_attn)\n",
        "    print('Output is:')\n",
        "    print(temp_out)\n"
      ],
      "execution_count": null,
      "outputs": []
    },
    {
      "cell_type": "code",
      "metadata": {
        "id": "j0acUlSGbu9e",
        "colab_type": "code",
        "colab": {
          "base_uri": "https://localhost:8080/",
          "height": 85
        },
        "outputId": "cad052ff-b341-4e86-e0f0-def2685a2048"
      },
      "source": [
        "# np.set_printoptions(suppress=True)\n",
        "\n",
        "temp_k = tf.constant([[10,0,0],\n",
        "                      [0,10,0],\n",
        "                      [0,0,10],\n",
        "                      [0,0,10]], dtype=tf.float32)  # (4, 3)\n",
        "\n",
        "temp_v = tf.constant([[   1,0],\n",
        "                      [  10,0],\n",
        "                      [ 100,5],\n",
        "                      [1000,6]], dtype=tf.float32)  # (4, 2)\n",
        "\n",
        "# This `query` aligns with the second `key`,\n",
        "# so the second `value` is returned.\n",
        "temp_q = tf.constant([[0, 10, 0]], dtype=tf.float32)  # (1, 3)\n",
        "\n",
        "print_out(temp_q, temp_k, temp_v)"
      ],
      "execution_count": null,
      "outputs": [
        {
          "output_type": "stream",
          "text": [
            "Attention weights are:\n",
            "tf.Tensor([[8.433274e-26 1.000000e+00 8.433274e-26 8.433274e-26]], shape=(1, 4), dtype=float32)\n",
            "Output is:\n",
            "tf.Tensor([[1.000000e+01 9.276601e-25]], shape=(1, 2), dtype=float32)\n"
          ],
          "name": "stdout"
        }
      ]
    },
    {
      "cell_type": "markdown",
      "metadata": {
        "id": "aQHE9qzUdiyg",
        "colab_type": "text"
      },
      "source": [
        "### Attention"
      ]
    },
    {
      "cell_type": "code",
      "metadata": {
        "id": "fDCg66vdbvIl",
        "colab_type": "code",
        "colab": {}
      },
      "source": [
        "class MultiHeadAttention(tf.keras.layers.Layer):\n",
        "    def __init__(self, d_model, num_heads):\n",
        "        super(MultiHeadAttention, self).__init__()\n",
        "        self.num_heads = num_heads\n",
        "        self.d_model = d_model\n",
        "\n",
        "        assert d_model % self.num_heads == 0\n",
        "\n",
        "        self.depth = d_model // self.num_heads\n",
        "\n",
        "        self.wq = tf.keras.layers.Dense(d_model)\n",
        "        self.wk = tf.keras.layers.Dense(d_model)\n",
        "        self.wv = tf.keras.layers.Dense(d_model)\n",
        "\n",
        "        self.dense = tf.keras.layers.Dense(d_model)\n",
        "        \n",
        "    def split_heads(self, x, batch_size):\n",
        "        \"\"\"Split the last dimension into (num_heads, depth).\n",
        "        Transpose the result such that the shape is (batch_size, num_heads, seq_len, depth)\n",
        "        \"\"\"\n",
        "        x = tf.reshape(x, (batch_size, -1, self.num_heads, self.depth))\n",
        "        return tf.transpose(x, perm=[0, 2, 1, 3])\n",
        "    \n",
        "    def call(self, v, k, q, mask):\n",
        "        batch_size = tf.shape(q)[0]\n",
        "\n",
        "        q = self.wq(q)  # (batch_size, seq_len, d_model)\n",
        "        k = self.wk(k)  # (batch_size, seq_len, d_model)\n",
        "        v = self.wv(v)  # (batch_size, seq_len, d_model)\n",
        "\n",
        "        q = self.split_heads(q, batch_size)  # (batch_size, num_heads, seq_len_q, depth)\n",
        "        k = self.split_heads(k, batch_size)  # (batch_size, num_heads, seq_len_k, depth)\n",
        "        v = self.split_heads(v, batch_size)  # (batch_size, num_heads, seq_len_v, depth)\n",
        "\n",
        "        # scaled_attention.shape == (batch_size, num_heads, seq_len_q, depth)\n",
        "        # attention_weights.shape == (batch_size, num_heads, seq_len_q, seq_len_k)\n",
        "        scaled_attention, attention_weights = scaled_dot_product_attention(q, k, v, mask)\n",
        "\n",
        "        scaled_attention = tf.transpose(scaled_attention, perm=[0, 2, 1, 3])  # (batch_size, seq_len_q, num_heads, depth)\n",
        "        concat_attention = tf.reshape(scaled_attention, (batch_size, -1, self.d_model))  # (batch_size, seq_len_q, d_model)\n",
        "\n",
        "        output = self.dense(concat_attention)  # (batch_size, seq_len_q, d_model)\n",
        "        return output, attention_weights\n"
      ],
      "execution_count": null,
      "outputs": []
    },
    {
      "cell_type": "markdown",
      "metadata": {
        "id": "z5U-Ktq1dvs_",
        "colab_type": "text"
      },
      "source": [
        "### VAE"
      ]
    },
    {
      "cell_type": "code",
      "metadata": {
        "id": "QIJpXx7WfSKy",
        "colab_type": "code",
        "colab": {}
      },
      "source": [
        "latent_dim = 512"
      ],
      "execution_count": 247,
      "outputs": []
    },
    {
      "cell_type": "code",
      "metadata": {
        "id": "D2WAZHbnnpBv",
        "colab_type": "code",
        "colab": {}
      },
      "source": [
        "class Encoder(tf.keras.layers.Layer):\n",
        "    def __init__(self):\n",
        "        super(Encoder, self).__init__()\n",
        "\n",
        "        self.seq = tf.keras.layers.InputLayer(input_shape=(max_length))\n",
        "        self.emb = tf.keras.layers.Embedding(\n",
        "            word_vocab.vocab_size, emb_size,\n",
        "            # embeddings_initializer=tf.keras.initializers.Constant(embeddings),\n",
        "            # trainable=False\n",
        "        )\n",
        "\n",
        "        self.conv_1 = tf.keras.layers.Conv1D(\n",
        "            filters=300, kernel_size=3, strides=2, activation='relu'\n",
        "        )\n",
        "        self.conv_2 = tf.keras.layers.Conv1D(\n",
        "            filters=512, kernel_size=3, strides=2, activation='relu'\n",
        "        )\n",
        "        self.conv_3 = tf.keras.layers.Conv1D(\n",
        "            filters=512, kernel_size=3, strides=2, activation='relu'\n",
        "        )\n",
        "\n",
        "        self.flatten = tf.keras.layers.Flatten()\n",
        "        self.latent = tf.keras.layers.Dense(latent_dim + latent_dim)\n",
        "\n",
        "    def call(self, x, training=None):\n",
        "        seq = self.seq(x)  # (32, 32)\n",
        "        emb = self.emb(seq)  # (32, 32, 300)\n",
        "\n",
        "        conv_1 = self.conv_1(emb)  # (32, 15, 300)\n",
        "        conv_2 = self.conv_2(conv_1)  # (32, 7, 512)\n",
        "        conv_3 = self.conv_3(conv_2)  # (32, 3, 512)\n",
        "\n",
        "        flatten = self.flatten(conv_3)  # (32, 1536)\n",
        "        latent = self.latent(flatten)  # (32, 1024)\n",
        "        return latent\n"
      ],
      "execution_count": 248,
      "outputs": []
    },
    {
      "cell_type": "code",
      "metadata": {
        "id": "MAN2GcErlXV6",
        "colab_type": "code",
        "colab": {}
      },
      "source": [
        "class Decoder(tf.keras.layers.Layer):\n",
        "    def __init__(self):\n",
        "        super(Decoder, self).__init__()\n",
        "\n",
        "        self.seq = tf.keras.layers.InputLayer(input_shape=(latent_dim,))\n",
        "        self.dense = tf.keras.layers.Dense(units=4 * 512, activation=tf.nn.relu)\n",
        "        self.reshape = tf.keras.layers.Reshape(target_shape=(4, 512))\n",
        "\n",
        "        self.conv_1 = tf.keras.layers.Conv1DTranspose(\n",
        "            filters=512, kernel_size=3, strides=2, padding='same', activation='relu'\n",
        "        )\n",
        "        self.conv_2 = tf.keras.layers.Conv1DTranspose(\n",
        "            filters=512, kernel_size=3, strides=2, padding='same', activation='relu'\n",
        "        )\n",
        "        self.conv_3 = tf.keras.layers.Conv1DTranspose(\n",
        "            filters=300, kernel_size=3, strides=2, padding='same', activation='relu'\n",
        "        )\n",
        "        # No activation\n",
        "        self.embeddings = tf.keras.layers.Conv1D(\n",
        "            filters=300, kernel_size=1, strides=1, activation='relu'\n",
        "        )\n",
        "        self.logits = tf.keras.layers.Conv1DTranspose(\n",
        "            filters=word_vocab.vocab_size, kernel_size=3, strides=1, padding='same'\n",
        "        )\n",
        "\n",
        "    def call(self, x, training=None):\n",
        "        seq = self.seq(x)  # (32, 512)\n",
        "        seq = self.dense(seq)  # (32, 2048)\n",
        "        seq = self.reshape(seq)  # (32, 4, 512)\n",
        "\n",
        "        conv_1 = self.conv_1(seq)  # (32, 8, 512)\n",
        "        conv_2 = self.conv_2(conv_1)  # (32, 16, 512)\n",
        "        conv_3 = self.conv_3(conv_2)  # (32, 32, 300)\n",
        "\n",
        "        embeddings = self.embeddings(conv_3)  # (32, 32, 300)\n",
        "        logits = self.logits(conv_3)  # (32, 32, 6002)\n",
        "        return embeddings, logits\n"
      ],
      "execution_count": 270,
      "outputs": []
    },
    {
      "cell_type": "code",
      "metadata": {
        "id": "F6Ke0eDozIm0",
        "colab_type": "code",
        "colab": {}
      },
      "source": [
        "class CVAE(tf.keras.Model):\n",
        "    \"\"\"Convolutional variational autoencoder.\"\"\"\n",
        "\n",
        "    def __init__(self, latent_dim):\n",
        "        super(CVAE, self).__init__()\n",
        "        self.latent_dim = latent_dim\n",
        "\n",
        "        self.encoder = Encoder()\n",
        "        self.decoder = Decoder()\n",
        "\n",
        "    @tf.function\n",
        "    def sample(self, eps=None):\n",
        "        if eps is None:\n",
        "            eps = tf.random.normal(shape=(100, self.latent_dim))\n",
        "        return self.decode(eps, apply_sigmoid=True)\n",
        "\n",
        "    def encode(self, x):\n",
        "        mean, log_variance = tf.split(self.encoder(x), num_or_size_splits=2, axis=1)\n",
        "        return mean, log_variance\n",
        "\n",
        "    def reparameterize(self, mean, log_variance):\n",
        "        eps = tf.random.normal(shape=mean.shape)\n",
        "        return eps * tf.exp(log_variance * .5) + mean\n",
        "\n",
        "    def decode(self, z, apply_sigmoid=False):\n",
        "        embeddings, logits = self.decoder(z)\n",
        "        if apply_sigmoid:\n",
        "            logits = tf.sigmoid(logits)\n",
        "        return embeddings, logits\n"
      ],
      "execution_count": 271,
      "outputs": []
    },
    {
      "cell_type": "code",
      "metadata": {
        "id": "iPIo5j8msqlt",
        "colab_type": "code",
        "colab": {}
      },
      "source": [
        "def create_padding_matrix_mask(sequence):\n",
        "    sequence_mask = tf.cast(tf.math.not_equal(sequence, 0), tf.float32)\n",
        "    sequence_mask = sequence_mask[:, :, tf.newaxis]\n",
        "    matrix_mask = tf.matmul(sequence_mask, sequence_mask, transpose_b=True)\n",
        "    return matrix_mask\n"
      ],
      "execution_count": 272,
      "outputs": []
    },
    {
      "cell_type": "code",
      "metadata": {
        "id": "pmo3pXomoBGz",
        "colab_type": "code",
        "colab": {}
      },
      "source": [
        "optimizer = tf.keras.optimizers.Adam(1e-4)\n",
        "\n",
        "\n",
        "def log_normal_pdf(sample, mean, log_variance, raxis=1):\n",
        "    log_2pi = tf.math.log(2. * np.pi)\n",
        "    return tf.reduce_sum(-0.5 * ((sample - mean) ** 2. * tf.exp(-log_variance) + log_variance + log_2pi), axis=raxis)\n",
        "\n",
        "\n",
        "def compute_loss(model, x):\n",
        "    mean, log_variance = model.encode(x['sentence'])\n",
        "    z = model.reparameterize(mean, log_variance)\n",
        "\n",
        "    x_embeddings, x_logits = model.decode(z)\n",
        "\n",
        "    x_labels = tf.one_hot(x['sentence'], depth=word_vocab.vocab_size, dtype='float32')\n",
        "    cross_entropy = tf.nn.sigmoid_cross_entropy_with_logits(logits=x_logits, labels=x_labels)\n",
        "    loss_0 = -tf.reduce_sum(cross_entropy, axis=[1, 2])\n",
        "\n",
        "    x_structure = tf.cast(x['sentence_structure'], dtype='float32')\n",
        "    x_adj_matrix = tf.matmul(x_embeddings, x_embeddings, transpose_b=True)\n",
        "    mse_structure = tf.square(x_structure - x_adj_matrix)\n",
        "    mse_structure *= create_padding_matrix_mask(x['sentence'])\n",
        "    loss_1 = -tf.reduce_sum(mse_structure, axis=[1, 2])\n",
        "\n",
        "    log_px_z = loss_0 + 0.0001 * loss_1\n",
        "    log_pz = log_normal_pdf(z, 0., 0.)\n",
        "    log_qz_x = log_normal_pdf(z, mean, log_variance)\n",
        "    return -tf.reduce_mean(log_px_z + log_pz - log_qz_x)\n",
        "\n",
        "\n",
        "@tf.function\n",
        "def train_step(model, sample, optimizer):\n",
        "    \"\"\"Executes one training step and returns the loss.\n",
        "\n",
        "    This function computes the loss and gradients, and uses the latter to\n",
        "    update the model's parameters.\n",
        "    \"\"\"\n",
        "    with tf.GradientTape() as tape:\n",
        "        loss = compute_loss(model, sample)\n",
        "    gradients = tape.gradient(loss, model.trainable_variables)\n",
        "    optimizer.apply_gradients(zip(gradients, model.trainable_variables))\n"
      ],
      "execution_count": 273,
      "outputs": []
    },
    {
      "cell_type": "code",
      "metadata": {
        "id": "iGklDTzDiC9v",
        "colab_type": "code",
        "colab": {}
      },
      "source": [
        "def decode_sentences(sentences):\n",
        "    sentences = [word_vocab.decode_words(sentence) for sentence in sentences]\n",
        "    sentences = [' '.join(sentence) for sentence in sentences]\n",
        "    return sentences\n",
        "\n",
        "\n",
        "def generate_sentences(model, sample):\n",
        "    mean, log_variance = model.encode(sample['sentence'])\n",
        "    z = model.reparameterize(mean, log_variance)\n",
        "\n",
        "    embeddings, predictions = model.sample(z)\n",
        "    predictions = np.argmax(predictions, axis=-1)\n",
        "    return decode_sentences(predictions)\n"
      ],
      "execution_count": 274,
      "outputs": []
    },
    {
      "cell_type": "markdown",
      "metadata": {
        "id": "m94SzX1T2tc2",
        "colab_type": "text"
      },
      "source": [
        "# Training"
      ]
    },
    {
      "cell_type": "code",
      "metadata": {
        "id": "C1CCus_0m0EN",
        "colab_type": "code",
        "colab": {}
      },
      "source": [
        "tf.keras.backend.clear_session()"
      ],
      "execution_count": 275,
      "outputs": []
    },
    {
      "cell_type": "code",
      "metadata": {
        "id": "s_nNw1KZnmoc",
        "colab_type": "code",
        "colab": {}
      },
      "source": [
        "epochs = 200\n",
        "num_examples_to_generate = 8\n",
        "\n",
        "model = CVAE(latent_dim)"
      ],
      "execution_count": 276,
      "outputs": []
    },
    {
      "cell_type": "code",
      "metadata": {
        "id": "8AZhjr7sgS6j",
        "colab_type": "code",
        "colab": {}
      },
      "source": [
        "for sample in test_sentences.take(1):\n",
        "    test_sample = sample\n"
      ],
      "execution_count": 277,
      "outputs": []
    },
    {
      "cell_type": "code",
      "metadata": {
        "id": "hSFgfuRmkCAl",
        "colab_type": "code",
        "colab": {
          "base_uri": "https://localhost:8080/",
          "height": 173
        },
        "outputId": "fc123d5e-cc14-401f-a8c8-20aeb82c8f92"
      },
      "source": [
        "for sentence in decode_sentences(test_sample['sentence'].numpy()[:num_examples_to_generate]):\n",
        "    print(sentence)\n"
      ],
      "execution_count": 278,
      "outputs": [
        {
          "output_type": "stream",
          "text": [
            "a little girl on a piece of playground equipment [PAD] [PAD] [PAD] [PAD] [PAD] [PAD] [PAD] [PAD] [PAD] [PAD] [PAD] [PAD] [PAD] [PAD] [PAD] [PAD] [PAD] [PAD] [PAD] [PAD] [PAD] [PAD] [PAD]\n",
            "an elderly women is sitting in a chair on one side of a room with a group of musicians , including a cellist and guitar player , and on the other side\n",
            "a man in a green shirt and a red kilt is juggling three clubs . [PAD] [PAD] [PAD] [PAD] [PAD] [PAD] [PAD] [PAD] [PAD] [PAD] [PAD] [PAD] [PAD] [PAD] [PAD] [PAD] [PAD]\n",
            "a man holding girl at top of a slide [PAD] [PAD] [PAD] [PAD] [PAD] [PAD] [PAD] [PAD] [PAD] [PAD] [PAD] [PAD] [PAD] [PAD] [PAD] [PAD] [PAD] [PAD] [PAD] [PAD] [PAD] [PAD] [PAD]\n",
            "an asian woman is standing on a path with a basket on her head looking into a mirror she is holding in her hand . [PAD] [PAD] [PAD] [PAD] [PAD] [PAD] [PAD]\n",
            "a man painting a sign onto his food cart . [PAD] [PAD] [PAD] [PAD] [PAD] [PAD] [PAD] [PAD] [PAD] [PAD] [PAD] [PAD] [PAD] [PAD] [PAD] [PAD] [PAD] [PAD] [PAD] [PAD] [PAD] [PAD]\n",
            "a dark - haired lady with a big smile is wearing a bright red scarf . [PAD] [PAD] [PAD] [PAD] [PAD] [PAD] [PAD] [PAD] [PAD] [PAD] [PAD] [PAD] [PAD] [PAD] [PAD] [PAD]\n",
            "a man sitting and a woman laying in his lap kissing each other . [PAD] [PAD] [PAD] [PAD] [PAD] [PAD] [PAD] [PAD] [PAD] [PAD] [PAD] [PAD] [PAD] [PAD] [PAD] [PAD] [PAD] [PAD]\n"
          ],
          "name": "stdout"
        }
      ]
    },
    {
      "cell_type": "code",
      "metadata": {
        "id": "Fk7Fcsn615bt",
        "colab_type": "code",
        "colab": {
          "base_uri": "https://localhost:8080/",
          "height": 187
        },
        "outputId": "d6b3ee63-893f-44da-bcf8-6bd26048e1b1"
      },
      "source": [
        "for epoch in range(1, epochs + 1):\n",
        "    start_time = time.time()\n",
        "    for sample in train_sentences:\n",
        "        train_step(model, sample, optimizer)\n",
        "    end_time = time.time()\n",
        "\n",
        "    loss = tf.keras.metrics.Mean()\n",
        "    for sample in test_sentences:\n",
        "        loss(compute_loss(model, sample))\n",
        "    \n",
        "    elbo = -loss.result()\n",
        "    display.clear_output(wait=False)\n",
        "\n",
        "    print(f'Epoch: {epoch}, Test set ELBO: {elbo}, time elapse for current epoch: {end_time - start_time}')\n",
        "    for sentence in generate_sentences(model, test_sample)[:num_examples_to_generate]:\n",
        "        print(sentence)\n",
        "    print()\n",
        "\n",
        "\n",
        "# Epoch: 1, Test set ELBO: -115.2772, time elapse for current epoch: 57.4233  # loss_0\n",
        "# Epoch: 1, Test set ELBO: -575.9433, time elapse for current epoch: 59.3671  # loss_0 + 0.0001 * loss_1"
      ],
      "execution_count": null,
      "outputs": [
        {
          "output_type": "stream",
          "text": [
            "Epoch: 54, Test set ELBO: -63.927154541015625, time elapse for current epoch: 57.03461575508118\n",
            "a man is is a a a a [UNK] . [PAD] [PAD] [PAD] [PAD] [PAD] [PAD] [PAD] [PAD] [PAD] [PAD] [PAD] [PAD] [PAD] [PAD] [PAD] [PAD] [PAD] [PAD] [PAD] [PAD] [PAD] [PAD]\n",
            "a man in in a a a , , a , a a and a a a a a a , the , a a a a in the in . [PAD]\n",
            "a man in a red shirt is a a a a a a the . [PAD] [PAD] [PAD] [PAD] [PAD] [PAD] [PAD] [PAD] [PAD] [PAD] [PAD] [PAD] [PAD] [PAD] [PAD] [PAD] [PAD]\n",
            "a people are is a a a the [UNK] . [PAD] [PAD] [PAD] [PAD] [PAD] [PAD] [PAD] [PAD] [PAD] [PAD] [PAD] [PAD] [PAD] [PAD] [PAD] [PAD] [PAD] [PAD] [PAD] [PAD] [PAD] [PAD]\n",
            "a men are in a a a , , a a a a a a a a in a in a in the . . . [PAD] [PAD] [PAD] [PAD] [PAD] [PAD]\n",
            "a man is a a a a a . . [PAD] [PAD] [PAD] [PAD] [PAD] [PAD] [PAD] [PAD] [PAD] [PAD] [PAD] [PAD] [PAD] [PAD] [PAD] [PAD] [PAD] [PAD] [PAD] [PAD] [PAD] [PAD]\n",
            "a man is in a a a a a a a a a the the . [PAD] [PAD] [PAD] [PAD] [PAD] [PAD] [PAD] [PAD] [PAD] [PAD] [PAD] [PAD] [PAD] [PAD] [PAD] [PAD]\n",
            "a men are in a a a a a a in the street . [PAD] [PAD] [PAD] [PAD] [PAD] [PAD] [PAD] [PAD] [PAD] [PAD] [PAD] [PAD] [PAD] [PAD] [PAD] [PAD] [PAD] [PAD]\n",
            "\n"
          ],
          "name": "stdout"
        }
      ]
    },
    {
      "cell_type": "code",
      "metadata": {
        "id": "Uf2B4aWzTZec",
        "colab_type": "code",
        "colab": {}
      },
      "source": [
        ""
      ],
      "execution_count": null,
      "outputs": []
    },
    {
      "cell_type": "markdown",
      "metadata": {
        "id": "3-oPesi5_YH4",
        "colab_type": "text"
      },
      "source": [
        "# Test"
      ]
    },
    {
      "cell_type": "code",
      "metadata": {
        "id": "-3guXr5P_XAA",
        "colab_type": "code",
        "colab": {}
      },
      "source": [
        "# 200 epochs - train = valid 10000 samples - 200 epochs - no embs pretrained\n",
        "# five young indian girls dress in colorful dresses are holding hands and smiling forming a circle [PAD] [PAD] [PAD] [PAD] [PAD] [PAD] [PAD] [PAD] [PAD] [PAD] [PAD] [PAD] [PAD] [PAD] [PAD] [PAD]\n",
        "# a man in a black suit with a cat on a leash is looking in a shop while the cat stands beside him staring the opposite direction of the man , as\n",
        "# these are young adults who seem to be working together to protect the plants surrounding the white pole . [PAD] [PAD] [PAD] [PAD] [PAD] [PAD] [PAD] [PAD] [PAD] [PAD] [PAD] [PAD] [PAD]\n",
        "# an older man wearing a suit has his arms folded behind his back and looking in a store window . [PAD] [PAD] [PAD] [PAD] [PAD] [PAD] [PAD] [PAD] [PAD] [PAD] [PAD] [PAD]\n",
        "# a man in a suit with gold buttons and a name tag gestures with his hands as he speaks to another man in a dress shirt who is holding a beverage in\n",
        "# a teen is standing in a field and is in the upswing position after hitting a golf ball . [PAD] [PAD] [PAD] [PAD] [PAD] [PAD] [PAD] [PAD] [PAD] [PAD] [PAD] [PAD] [PAD]\n",
        "# a skateboarder getting ready to perform on a half - tube rink where there are trees in the background . [PAD] [PAD] [PAD] [PAD] [PAD] [PAD] [PAD] [PAD] [PAD] [PAD] [PAD] [PAD]\n",
        "# a man is smiling at a woman in a white dress . [PAD] [PAD] [PAD] [PAD] [PAD] [PAD] [PAD] [PAD] [PAD] [PAD] [PAD] [PAD] [PAD] [PAD] [PAD] [PAD] [PAD] [PAD] [PAD] [PAD]\n",
        "\n",
        "# Epoch: 200, Test set ELBO: -31.7231, time elapse for current epoch: 20.1175\n",
        "# five young indian girls dress a colorful dresses are holding hands and smiling forming in circle [PAD] [PAD] [PAD] [PAD] [PAD] [PAD] [PAD] [PAD] [PAD] [PAD] [PAD] [PAD] [PAD] [PAD] [PAD] [PAD]\n",
        "# a woman in a black suit with a cat on a leash is looking in a shop while the cat stands beside him staring while a direction of the background , as\n",
        "# these are young adults who seem to be working together to protect the plants surrounding the white pole . [PAD] [PAD] [PAD] [PAD] [PAD] [PAD] [PAD] [PAD] [PAD] [PAD] [PAD] [PAD] [PAD]\n",
        "# an older man wearing a suit has makes arms folded behind his back and looking in a store window . [PAD] [PAD] [PAD] [PAD] [PAD] [PAD] [PAD] [PAD] [PAD] [PAD] [PAD] [PAD]\n",
        "# a woman in a suit with gold buttons and a name tag gestures with his hands as he speaks to another man in a dress shirt who is holding a beverage khaki\n",
        "# a teen boy standing in black field and is in the upswing position after hitting in golf ball . [PAD] [PAD] [PAD] [PAD] [PAD] [PAD] [PAD] [PAD] [PAD] [PAD] [PAD] [PAD] [PAD]\n",
        "# a skateboarder getting ready to perform on a half - tube rink where there are trees in the background . [PAD] [PAD] [PAD] [PAD] [PAD] [PAD] [PAD] [PAD] [PAD] [PAD] [PAD] [PAD]\n",
        "# a man is smiling in a escalator in a white dress . [PAD] [PAD] [PAD] [PAD] [PAD] [PAD] [PAD] [PAD] [PAD] [PAD] [PAD] [PAD] [PAD] [PAD] [PAD] [PAD] [PAD] [PAD] [PAD] [PAD]\n"
      ],
      "execution_count": null,
      "outputs": []
    },
    {
      "cell_type": "code",
      "metadata": {
        "id": "igjCzAtI5gik",
        "colab_type": "code",
        "colab": {}
      },
      "source": [
        "def get_exact_match_score(sample, prediction):\n",
        "    sample = [word for word in sample if word != '[PAD]']\n",
        "\n",
        "    head = [1 for s_word, p_word in zip(sample, prediction) if s_word == p_word]\n",
        "    tail = [1 for word in prediction[len(sample):] if word != '[PAD]']\n",
        "\n",
        "    score = (sum(head) - sum(tail)) / len(sample)\n",
        "    return score\n"
      ],
      "execution_count": null,
      "outputs": []
    },
    {
      "cell_type": "code",
      "metadata": {
        "id": "cEbpJUyN88-w",
        "colab_type": "code",
        "colab": {
          "base_uri": "https://localhost:8080/",
          "height": 34
        },
        "outputId": "254465cd-cbc2-40d5-f7d1-3d2afb879f7e"
      },
      "source": [
        "scores = []\n",
        "\n",
        "for sample in test_sentences:\n",
        "    sentences = decode_sentences(sample.numpy())\n",
        "    predictions = generate_sentences(model, sample)\n",
        "\n",
        "    scores += [\n",
        "        get_exact_match_score(sentence, prediction)\n",
        "        for sentence, prediction in zip(sentences, predictions)\n",
        "    ]\n",
        "      \n",
        "\n",
        "np.min(scores), np.max(scores), np.mean(scores)"
      ],
      "execution_count": null,
      "outputs": [
        {
          "output_type": "execute_result",
          "data": {
            "text/plain": [
              "(-0.1286549707602339, 1.0, 0.28382985152632745)"
            ]
          },
          "metadata": {
            "tags": []
          },
          "execution_count": 91
        }
      ]
    },
    {
      "cell_type": "code",
      "metadata": {
        "id": "Q0dfRROs9eCm",
        "colab_type": "code",
        "colab": {
          "base_uri": "https://localhost:8080/",
          "height": 265
        },
        "outputId": "5df3168c-3a05-4860-c3ed-ecc8b6deaff2"
      },
      "source": [
        "plt.hist(scores, bins='auto')\n",
        "plt.show()"
      ],
      "execution_count": null,
      "outputs": [
        {
          "output_type": "display_data",
          "data": {
            "image/png": "[encoded data removed]",
            "text/plain": [
              "<Figure size 432x288 with 1 Axes>"
            ]
          },
          "metadata": {
            "tags": [],
            "needs_background": "light"
          }
        }
      ]
    },
    {
      "cell_type": "code",
      "metadata": {
        "id": "tVyq-xwiSzDz",
        "colab_type": "code",
        "colab": {}
      },
      "source": [
        ""
      ],
      "execution_count": null,
      "outputs": []
    }
  ]
}