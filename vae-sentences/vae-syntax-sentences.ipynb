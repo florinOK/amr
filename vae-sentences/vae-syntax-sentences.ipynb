{
  "nbformat": 4,
  "nbformat_minor": 0,
  "metadata": {
    "colab": {
      "name": "Copy of vae-sentences.ipynb",
      "provenance": [],
      "collapsed_sections": [],
      "authorship_tag": "ABX9TyO1C4AMmmEQ/+yFIuYd0DBN",
      "include_colab_link": true
    },
    "kernelspec": {
      "name": "python3",
      "display_name": "Python 3"
    },
    "accelerator": "GPU"
  },
  "cells": [
    {
      "cell_type": "markdown",
      "metadata": {
        "id": "view-in-github",
        "colab_type": "text"
      },
      "source": [
        "<a href=\"https://colab.research.google.com/github/florinOK/amr/blob/colab/vae-sentences/vae-syntax-sentences.ipynb\" target=\"_parent\"><img src=\"https://colab.research.google.com/assets/colab-badge.svg\" alt=\"Open In Colab\"/></a>"
      ]
    },
    {
      "cell_type": "markdown",
      "metadata": {
        "id": "k9HXsDtEe5eR"
      },
      "source": [
        "\n",
        "[Generating Sentences from a Continuous Space](https://arxiv.org/pdf/1511.06349.pdf)  \n",
        "[Reasoning about Entailment with Neural Attention](https://arxiv.org/pdf/1509.06664.pdf)  \n",
        "[Deconvolutional Latent-Variable Model for Text Sequence Matching](https://arxiv.org/pdf/1709.07109.pdf)  \n",
        "\n",
        "---\n",
        "https://github.com/baaesh/DeConv-VAE-pytorch  \n",
        "https://github.com/Toni-Antonova/VAE-Text-Generation  \n",
        "https://github.com/alexeyev/Keras-Generating-Sentences-from-a-Continuous-Space  \n"
      ]
    },
    {
      "cell_type": "markdown",
      "metadata": {
        "id": "4sHX87WK8Emh"
      },
      "source": [
        "Идея в том, чтобы отсортировать семантические элементы предложения  \n",
        "(лицо, признаки лица, действие, обстоятельства действия, прочее).\n",
        "\n",
        "Канонический порядок должен обеспечить возможность сравнивать два предложения.  \n",
        "Сортировка должна зависеть как от скрытого представления элемента, так и от его соседей.\n",
        "\n"
      ]
    },
    {
      "cell_type": "code",
      "metadata": {
        "id": "XNswjt0W_Ih0",
        "outputId": "12a3d940-101b-451f-85e7-a6c1cd211f78",
        "colab": {
          "base_uri": "https://localhost:8080/"
        }
      },
      "source": [
        "! nvidia-smi"
      ],
      "execution_count": 1,
      "outputs": [
        {
          "output_type": "stream",
          "text": [
            "Sun Oct 18 15:37:36 2020       \n",
            "+-----------------------------------------------------------------------------+\n",
            "| NVIDIA-SMI 455.23.05    Driver Version: 418.67       CUDA Version: 10.1     |\n",
            "|-------------------------------+----------------------+----------------------+\n",
            "| GPU  Name        Persistence-M| Bus-Id        Disp.A | Volatile Uncorr. ECC |\n",
            "| Fan  Temp  Perf  Pwr:Usage/Cap|         Memory-Usage | GPU-Util  Compute M. |\n",
            "|                               |                      |               MIG M. |\n",
            "|===============================+======================+======================|\n",
            "|   0  Tesla T4            Off  | 00000000:00:04.0 Off |                    0 |\n",
            "| N/A   74C    P8    12W /  70W |      0MiB / 15079MiB |      0%      Default |\n",
            "|                               |                      |                 ERR! |\n",
            "+-------------------------------+----------------------+----------------------+\n",
            "                                                                               \n",
            "+-----------------------------------------------------------------------------+\n",
            "| Processes:                                                                  |\n",
            "|  GPU   GI   CI        PID   Type   Process name                  GPU Memory |\n",
            "|        ID   ID                                                   Usage      |\n",
            "|=============================================================================|\n",
            "|  No running processes found                                                 |\n",
            "+-----------------------------------------------------------------------------+\n"
          ],
          "name": "stdout"
        }
      ]
    },
    {
      "cell_type": "markdown",
      "metadata": {
        "id": "2C8_KGBGmY0Y"
      },
      "source": [
        "# Data"
      ]
    },
    {
      "cell_type": "code",
      "metadata": {
        "id": "sLuXxOddakxp",
        "outputId": "6d4c0204-9392-4518-d08e-9f66e7f3552b",
        "colab": {
          "base_uri": "https://localhost:8080/"
        }
      },
      "source": [
        "# SNLI\n",
        "! curl https://nlp.stanford.edu/projects/snli/snli_1.0.zip -o snli_1.0.zip\n",
        "! unzip -o snli_1.0.zip -d data"
      ],
      "execution_count": 1,
      "outputs": [
        {
          "output_type": "stream",
          "text": [
            "  % Total    % Received % Xferd  Average Speed   Time    Time     Time  Current\n",
            "                                 Dload  Upload   Total   Spent    Left  Speed\n",
            "100 90.1M  100 90.1M    0     0  59.0M      0  0:00:01  0:00:01 --:--:-- 59.0M\n",
            "Archive:  snli_1.0.zip\n",
            "  inflating: data/snli_1.0/.DS_Store  \n",
            "  inflating: data/__MACOSX/snli_1.0/._.DS_Store  \n",
            " extracting: data/snli_1.0/Icon      \n",
            "  inflating: data/__MACOSX/snli_1.0/._Icon  \n",
            "  inflating: data/snli_1.0/README.txt  \n",
            "  inflating: data/__MACOSX/snli_1.0/._README.txt  \n",
            "  inflating: data/snli_1.0/snli_1.0_dev.jsonl  \n",
            "  inflating: data/snli_1.0/snli_1.0_dev.txt  \n",
            "  inflating: data/snli_1.0/snli_1.0_test.jsonl  \n",
            "  inflating: data/snli_1.0/snli_1.0_test.txt  \n",
            "  inflating: data/snli_1.0/snli_1.0_train.jsonl  \n",
            "  inflating: data/snli_1.0/snli_1.0_train.txt  \n",
            "  inflating: data/__MACOSX/._snli_1.0  \n"
          ],
          "name": "stdout"
        }
      ]
    },
    {
      "cell_type": "code",
      "metadata": {
        "id": "HuBXuRH2mcUI"
      },
      "source": [
        "# QQP"
      ],
      "execution_count": 3,
      "outputs": []
    },
    {
      "cell_type": "code",
      "metadata": {
        "id": "Srx_oLw2mcXq"
      },
      "source": [
        "# PTB"
      ],
      "execution_count": 4,
      "outputs": []
    },
    {
      "cell_type": "code",
      "metadata": {
        "id": "xWcBeyPM3QIx",
        "outputId": "ea792448-fcdd-4766-8789-accb874ae88f",
        "colab": {
          "base_uri": "https://localhost:8080/",
          "height": 391
        }
      },
      "source": [
        "# Glove\n",
        "! wget http://nlp.stanford.edu/data/glove.840B.300d.zip\n",
        "! unzip glove.840B.300d.zip -d data/glove"
      ],
      "execution_count": null,
      "outputs": [
        {
          "output_type": "stream",
          "text": [
            "--2020-08-30 12:12:42--  http://nlp.stanford.edu/data/glove.840B.300d.zip\n",
            "Resolving nlp.stanford.edu (nlp.stanford.edu)... 171.64.67.140\n",
            "Connecting to nlp.stanford.edu (nlp.stanford.edu)|171.64.67.140|:80... connected.\n",
            "HTTP request sent, awaiting response... 302 Found\n",
            "Location: https://nlp.stanford.edu/data/glove.840B.300d.zip [following]\n",
            "--2020-08-30 12:12:42--  https://nlp.stanford.edu/data/glove.840B.300d.zip\n",
            "Connecting to nlp.stanford.edu (nlp.stanford.edu)|171.64.67.140|:443... connected.\n",
            "HTTP request sent, awaiting response... 301 Moved Permanently\n",
            "Location: http://downloads.cs.stanford.edu/nlp/data/glove.840B.300d.zip [following]\n",
            "--2020-08-30 12:12:43--  http://downloads.cs.stanford.edu/nlp/data/glove.840B.300d.zip\n",
            "Resolving downloads.cs.stanford.edu (downloads.cs.stanford.edu)... 171.64.64.22\n",
            "Connecting to downloads.cs.stanford.edu (downloads.cs.stanford.edu)|171.64.64.22|:80... connected.\n",
            "HTTP request sent, awaiting response... 200 OK\n",
            "Length: 2176768927 (2.0G) [application/zip]\n",
            "Saving to: ‘glove.840B.300d.zip’\n",
            "\n",
            "glove.840B.300d.zip 100%[===================>]   2.03G  2.27MB/s    in 16m 56s \n",
            "\n",
            "2020-08-30 12:29:40 (2.04 MB/s) - ‘glove.840B.300d.zip’ saved [2176768927/2176768927]\n",
            "\n",
            "Archive:  glove.840B.300d.zip\n",
            "  inflating: data/glove/glove.840B.300d.txt  \n"
          ],
          "name": "stdout"
        }
      ]
    },
    {
      "cell_type": "markdown",
      "metadata": {
        "id": "WoNiKL4EmhYY"
      },
      "source": [
        "# Code"
      ]
    },
    {
      "cell_type": "code",
      "metadata": {
        "id": "qVln8r5YlpFG"
      },
      "source": [
        "import re\n",
        "import copy\n",
        "import json\n",
        "import time\n",
        "import tqdm\n",
        "import logging\n",
        "import collections\n",
        "\n",
        "import numpy as np\n",
        "import pandas as pd\n",
        "import seaborn as sns\n",
        "import tensorflow as tf\n",
        "import matplotlib.pyplot as plt\n",
        "\n",
        "\n",
        "from IPython import display"
      ],
      "execution_count": 2,
      "outputs": []
    },
    {
      "cell_type": "code",
      "metadata": {
        "id": "Qql8tqYKm5xT"
      },
      "source": [
        "p = sns.color_palette()\n",
        "\n",
        "pd.set_option('display.max_rows', 64)\n",
        "pd.set_option('display.max_columns', 64)\n",
        "pd.set_option('display.max_colwidth', 1024)\n",
        "\n",
        "logging.basicConfig(level='INFO', format=\"%(asctime)s [%(levelname)-5.5s] [%(funcName)-32s]  %(message)s\")"
      ],
      "execution_count": 3,
      "outputs": []
    },
    {
      "cell_type": "code",
      "metadata": {
        "id": "4E1DEaifsh2T"
      },
      "source": [
        "# config\n",
        "\n",
        "EMBS = 'data/glove/glove.840B.300d.txt'\n",
        "TEST_DATASET = 'data/snli_1.0/snli_1.0_test.jsonl'\n",
        "TRAIN_DATASET = 'data/snli_1.0/snli_1.0_train.jsonl'\n"
      ],
      "execution_count": 4,
      "outputs": []
    },
    {
      "cell_type": "code",
      "metadata": {
        "id": "j5OGEJDKak6M"
      },
      "source": [
        "def load_dataset(path):\n",
        "    dataset = []\n",
        "    with open(path) as fp:\n",
        "        for line in fp.readlines():\n",
        "            dataset.append(json.loads(line))\n",
        "    return pd.DataFrame(dataset)\n",
        "\n",
        "\n",
        "test_dataset = load_dataset(TEST_DATASET)\n",
        "train_dataset = load_dataset(TRAIN_DATASET)"
      ],
      "execution_count": 5,
      "outputs": []
    },
    {
      "cell_type": "code",
      "metadata": {
        "id": "HiFy6M6jsOWG",
        "outputId": "ae002090-6ad5-4778-eda7-42ca2ff39409",
        "colab": {
          "base_uri": "https://localhost:8080/"
        }
      },
      "source": [
        "train_dataset.shape, test_dataset.shape  # (550152, 10)"
      ],
      "execution_count": 6,
      "outputs": [
        {
          "output_type": "execute_result",
          "data": {
            "text/plain": [
              "((550152, 10), (10000, 10))"
            ]
          },
          "metadata": {
            "tags": []
          },
          "execution_count": 6
        }
      ]
    },
    {
      "cell_type": "code",
      "metadata": {
        "id": "bw0vWxujklAv",
        "outputId": "67080539-bf0f-4dea-ba48-e83a94bc525f",
        "colab": {
          "base_uri": "https://localhost:8080/",
          "height": 415
        }
      },
      "source": [
        "train_dataset.head()"
      ],
      "execution_count": 7,
      "outputs": [
        {
          "output_type": "execute_result",
          "data": {
            "text/html": [
              "<div>\n",
              "<style scoped>\n",
              "    .dataframe tbody tr th:only-of-type {\n",
              "        vertical-align: middle;\n",
              "    }\n",
              "\n",
              "    .dataframe tbody tr th {\n",
              "        vertical-align: top;\n",
              "    }\n",
              "\n",
              "    .dataframe thead th {\n",
              "        text-align: right;\n",
              "    }\n",
              "</style>\n",
              "<table border=\"1\" class=\"dataframe\">\n",
              "  <thead>\n",
              "    <tr style=\"text-align: right;\">\n",
              "      <th></th>\n",
              "      <th>annotator_labels</th>\n",
              "      <th>captionID</th>\n",
              "      <th>gold_label</th>\n",
              "      <th>pairID</th>\n",
              "      <th>sentence1</th>\n",
              "      <th>sentence1_binary_parse</th>\n",
              "      <th>sentence1_parse</th>\n",
              "      <th>sentence2</th>\n",
              "      <th>sentence2_binary_parse</th>\n",
              "      <th>sentence2_parse</th>\n",
              "    </tr>\n",
              "  </thead>\n",
              "  <tbody>\n",
              "    <tr>\n",
              "      <th>0</th>\n",
              "      <td>[neutral]</td>\n",
              "      <td>3416050480.jpg#4</td>\n",
              "      <td>neutral</td>\n",
              "      <td>3416050480.jpg#4r1n</td>\n",
              "      <td>A person on a horse jumps over a broken down airplane.</td>\n",
              "      <td>( ( ( A person ) ( on ( a horse ) ) ) ( ( jumps ( over ( a ( broken ( down airplane ) ) ) ) ) . ) )</td>\n",
              "      <td>(ROOT (S (NP (NP (DT A) (NN person)) (PP (IN on) (NP (DT a) (NN horse)))) (VP (VBZ jumps) (PP (IN over) (NP (DT a) (JJ broken) (JJ down) (NN airplane)))) (. .)))</td>\n",
              "      <td>A person is training his horse for a competition.</td>\n",
              "      <td>( ( A person ) ( ( is ( ( training ( his horse ) ) ( for ( a competition ) ) ) ) . ) )</td>\n",
              "      <td>(ROOT (S (NP (DT A) (NN person)) (VP (VBZ is) (VP (VBG training) (NP (PRP$ his) (NN horse)) (PP (IN for) (NP (DT a) (NN competition))))) (. .)))</td>\n",
              "    </tr>\n",
              "    <tr>\n",
              "      <th>1</th>\n",
              "      <td>[contradiction]</td>\n",
              "      <td>3416050480.jpg#4</td>\n",
              "      <td>contradiction</td>\n",
              "      <td>3416050480.jpg#4r1c</td>\n",
              "      <td>A person on a horse jumps over a broken down airplane.</td>\n",
              "      <td>( ( ( A person ) ( on ( a horse ) ) ) ( ( jumps ( over ( a ( broken ( down airplane ) ) ) ) ) . ) )</td>\n",
              "      <td>(ROOT (S (NP (NP (DT A) (NN person)) (PP (IN on) (NP (DT a) (NN horse)))) (VP (VBZ jumps) (PP (IN over) (NP (DT a) (JJ broken) (JJ down) (NN airplane)))) (. .)))</td>\n",
              "      <td>A person is at a diner, ordering an omelette.</td>\n",
              "      <td>( ( A person ) ( ( ( ( is ( at ( a diner ) ) ) , ) ( ordering ( an omelette ) ) ) . ) )</td>\n",
              "      <td>(ROOT (S (NP (DT A) (NN person)) (VP (VBZ is) (PP (IN at) (NP (DT a) (NN diner))) (, ,) (S (VP (VBG ordering) (NP (DT an) (NN omelette))))) (. .)))</td>\n",
              "    </tr>\n",
              "    <tr>\n",
              "      <th>2</th>\n",
              "      <td>[entailment]</td>\n",
              "      <td>3416050480.jpg#4</td>\n",
              "      <td>entailment</td>\n",
              "      <td>3416050480.jpg#4r1e</td>\n",
              "      <td>A person on a horse jumps over a broken down airplane.</td>\n",
              "      <td>( ( ( A person ) ( on ( a horse ) ) ) ( ( jumps ( over ( a ( broken ( down airplane ) ) ) ) ) . ) )</td>\n",
              "      <td>(ROOT (S (NP (NP (DT A) (NN person)) (PP (IN on) (NP (DT a) (NN horse)))) (VP (VBZ jumps) (PP (IN over) (NP (DT a) (JJ broken) (JJ down) (NN airplane)))) (. .)))</td>\n",
              "      <td>A person is outdoors, on a horse.</td>\n",
              "      <td>( ( A person ) ( ( ( ( is outdoors ) , ) ( on ( a horse ) ) ) . ) )</td>\n",
              "      <td>(ROOT (S (NP (DT A) (NN person)) (VP (VBZ is) (ADVP (RB outdoors)) (, ,) (PP (IN on) (NP (DT a) (NN horse)))) (. .)))</td>\n",
              "    </tr>\n",
              "    <tr>\n",
              "      <th>3</th>\n",
              "      <td>[neutral]</td>\n",
              "      <td>2267923837.jpg#2</td>\n",
              "      <td>neutral</td>\n",
              "      <td>2267923837.jpg#2r1n</td>\n",
              "      <td>Children smiling and waving at camera</td>\n",
              "      <td>( Children ( ( ( smiling and ) waving ) ( at camera ) ) )</td>\n",
              "      <td>(ROOT (NP (S (NP (NNP Children)) (VP (VBG smiling) (CC and) (VBG waving) (PP (IN at) (NP (NN camera)))))))</td>\n",
              "      <td>They are smiling at their parents</td>\n",
              "      <td>( They ( are ( smiling ( at ( their parents ) ) ) ) )</td>\n",
              "      <td>(ROOT (S (NP (PRP They)) (VP (VBP are) (VP (VBG smiling) (PP (IN at) (NP (PRP$ their) (NNS parents)))))))</td>\n",
              "    </tr>\n",
              "    <tr>\n",
              "      <th>4</th>\n",
              "      <td>[entailment]</td>\n",
              "      <td>2267923837.jpg#2</td>\n",
              "      <td>entailment</td>\n",
              "      <td>2267923837.jpg#2r1e</td>\n",
              "      <td>Children smiling and waving at camera</td>\n",
              "      <td>( Children ( ( ( smiling and ) waving ) ( at camera ) ) )</td>\n",
              "      <td>(ROOT (NP (S (NP (NNP Children)) (VP (VBG smiling) (CC and) (VBG waving) (PP (IN at) (NP (NN camera)))))))</td>\n",
              "      <td>There are children present</td>\n",
              "      <td>( There ( ( are children ) present ) )</td>\n",
              "      <td>(ROOT (S (NP (EX There)) (VP (VBP are) (NP (NNS children)) (ADVP (RB present)))))</td>\n",
              "    </tr>\n",
              "  </tbody>\n",
              "</table>\n",
              "</div>"
            ],
            "text/plain": [
              "  annotator_labels         captionID     gold_label               pairID  \\\n",
              "0        [neutral]  3416050480.jpg#4        neutral  3416050480.jpg#4r1n   \n",
              "1  [contradiction]  3416050480.jpg#4  contradiction  3416050480.jpg#4r1c   \n",
              "2     [entailment]  3416050480.jpg#4     entailment  3416050480.jpg#4r1e   \n",
              "3        [neutral]  2267923837.jpg#2        neutral  2267923837.jpg#2r1n   \n",
              "4     [entailment]  2267923837.jpg#2     entailment  2267923837.jpg#2r1e   \n",
              "\n",
              "                                                sentence1  \\\n",
              "0  A person on a horse jumps over a broken down airplane.   \n",
              "1  A person on a horse jumps over a broken down airplane.   \n",
              "2  A person on a horse jumps over a broken down airplane.   \n",
              "3                   Children smiling and waving at camera   \n",
              "4                   Children smiling and waving at camera   \n",
              "\n",
              "                                                                                sentence1_binary_parse  \\\n",
              "0  ( ( ( A person ) ( on ( a horse ) ) ) ( ( jumps ( over ( a ( broken ( down airplane ) ) ) ) ) . ) )   \n",
              "1  ( ( ( A person ) ( on ( a horse ) ) ) ( ( jumps ( over ( a ( broken ( down airplane ) ) ) ) ) . ) )   \n",
              "2  ( ( ( A person ) ( on ( a horse ) ) ) ( ( jumps ( over ( a ( broken ( down airplane ) ) ) ) ) . ) )   \n",
              "3                                            ( Children ( ( ( smiling and ) waving ) ( at camera ) ) )   \n",
              "4                                            ( Children ( ( ( smiling and ) waving ) ( at camera ) ) )   \n",
              "\n",
              "                                                                                                                                                     sentence1_parse  \\\n",
              "0  (ROOT (S (NP (NP (DT A) (NN person)) (PP (IN on) (NP (DT a) (NN horse)))) (VP (VBZ jumps) (PP (IN over) (NP (DT a) (JJ broken) (JJ down) (NN airplane)))) (. .)))   \n",
              "1  (ROOT (S (NP (NP (DT A) (NN person)) (PP (IN on) (NP (DT a) (NN horse)))) (VP (VBZ jumps) (PP (IN over) (NP (DT a) (JJ broken) (JJ down) (NN airplane)))) (. .)))   \n",
              "2  (ROOT (S (NP (NP (DT A) (NN person)) (PP (IN on) (NP (DT a) (NN horse)))) (VP (VBZ jumps) (PP (IN over) (NP (DT a) (JJ broken) (JJ down) (NN airplane)))) (. .)))   \n",
              "3                                                         (ROOT (NP (S (NP (NNP Children)) (VP (VBG smiling) (CC and) (VBG waving) (PP (IN at) (NP (NN camera)))))))   \n",
              "4                                                         (ROOT (NP (S (NP (NNP Children)) (VP (VBG smiling) (CC and) (VBG waving) (PP (IN at) (NP (NN camera)))))))   \n",
              "\n",
              "                                           sentence2  \\\n",
              "0  A person is training his horse for a competition.   \n",
              "1      A person is at a diner, ordering an omelette.   \n",
              "2                  A person is outdoors, on a horse.   \n",
              "3                  They are smiling at their parents   \n",
              "4                         There are children present   \n",
              "\n",
              "                                                                    sentence2_binary_parse  \\\n",
              "0   ( ( A person ) ( ( is ( ( training ( his horse ) ) ( for ( a competition ) ) ) ) . ) )   \n",
              "1  ( ( A person ) ( ( ( ( is ( at ( a diner ) ) ) , ) ( ordering ( an omelette ) ) ) . ) )   \n",
              "2                      ( ( A person ) ( ( ( ( is outdoors ) , ) ( on ( a horse ) ) ) . ) )   \n",
              "3                                    ( They ( are ( smiling ( at ( their parents ) ) ) ) )   \n",
              "4                                                   ( There ( ( are children ) present ) )   \n",
              "\n",
              "                                                                                                                                       sentence2_parse  \n",
              "0     (ROOT (S (NP (DT A) (NN person)) (VP (VBZ is) (VP (VBG training) (NP (PRP$ his) (NN horse)) (PP (IN for) (NP (DT a) (NN competition))))) (. .)))  \n",
              "1  (ROOT (S (NP (DT A) (NN person)) (VP (VBZ is) (PP (IN at) (NP (DT a) (NN diner))) (, ,) (S (VP (VBG ordering) (NP (DT an) (NN omelette))))) (. .)))  \n",
              "2                                (ROOT (S (NP (DT A) (NN person)) (VP (VBZ is) (ADVP (RB outdoors)) (, ,) (PP (IN on) (NP (DT a) (NN horse)))) (. .)))  \n",
              "3                                            (ROOT (S (NP (PRP They)) (VP (VBP are) (VP (VBG smiling) (PP (IN at) (NP (PRP$ their) (NNS parents)))))))  \n",
              "4                                                                    (ROOT (S (NP (EX There)) (VP (VBP are) (NP (NNS children)) (ADVP (RB present)))))  "
            ]
          },
          "metadata": {
            "tags": []
          },
          "execution_count": 7
        }
      ]
    },
    {
      "cell_type": "code",
      "metadata": {
        "id": "_e9GP6ZZJ6Lz",
        "outputId": "6008f357-e63f-435e-bd99-303016b3d9d0",
        "colab": {
          "base_uri": "https://localhost:8080/"
        }
      },
      "source": [
        "# # DEBUG mode 0\n",
        "# train_dataset = test_dataset = test_dataset[:1024]\n",
        "# train_dataset.shape, test_dataset.shape\n",
        "\n",
        "# DEBUG mode 1\n",
        "test_dataset = train_dataset[:1024]\n",
        "train_dataset = train_dataset[:100000]\n",
        "train_dataset.shape, test_dataset.shape"
      ],
      "execution_count": 8,
      "outputs": [
        {
          "output_type": "execute_result",
          "data": {
            "text/plain": [
              "((100000, 10), (1024, 10))"
            ]
          },
          "metadata": {
            "tags": []
          },
          "execution_count": 8
        }
      ]
    },
    {
      "cell_type": "markdown",
      "metadata": {
        "id": "Zgl4tXoaXtHH"
      },
      "source": [
        "# Phrase Structure"
      ]
    },
    {
      "cell_type": "code",
      "metadata": {
        "id": "RfwVynogXtX3"
      },
      "source": [
        "def parse_brackets(string):\n",
        "    regex = r'([^\\(\\)\\s]+|[\\(\\)\\s])'\n",
        "    items = re.findall(regex, string)\n",
        "    items = [i for i in items if i != ' ']\n",
        "    string = ' '.join(items)\n",
        "    string = string.replace(f'( ', '(')\n",
        "    return string\n",
        "\n",
        "\n",
        "def parse_phrase_structure(string):\n",
        "    items = string.split()\n",
        "    \n",
        "    nodes = [{'index': 0, 'label': 'ROOT', 'words': [], 'childs': []}]\n",
        "    words = []\n",
        "    parents = [0]\n",
        "    for item in items:\n",
        "        if item.startswith('('):\n",
        "            # link child to parent\n",
        "            nodes[parents[-1]]['childs'].append(len(nodes))\n",
        "            # add node\n",
        "            node = {\n",
        "                'index': len(nodes),\n",
        "                'label': item[1:],\n",
        "                'words': [],\n",
        "                'childs': []\n",
        "            }\n",
        "            nodes.append(node)\n",
        "            # add new parent\n",
        "            parents.append(len(nodes) - 1)\n",
        "        \n",
        "        elif item == ')':\n",
        "            # update last parent\n",
        "            parents = parents[:-1]\n",
        "        \n",
        "        else:\n",
        "            # add word to last node\n",
        "            words.append(item)\n",
        "            nodes[parents[-1]]['words'].append({'word': item, 'index': len(words) - 1})\n",
        "\n",
        "    return nodes\n"
      ],
      "execution_count": 9,
      "outputs": []
    },
    {
      "cell_type": "code",
      "metadata": {
        "id": "5o4qp1oQDjrT"
      },
      "source": [
        "def get_branches(nodes, index, branch):\n",
        "    branch += [nodes[index]]\n",
        "    childs = nodes[index]['childs']\n",
        "    if childs:\n",
        "        for child_index in childs:\n",
        "            yield from get_branches(nodes, child_index, copy.deepcopy(branch))\n",
        "    else:\n",
        "        yield branch\n",
        "\n",
        "\n",
        "def get_node_branch(branch):\n",
        "    branch_word = branch[-1]['words'][0]\n",
        "    branch_word['label'] = '-'.join([node['label'] for node in branch if node['label'] not in ['ROOT', 'S']])\n",
        "    return branch_word\n"
      ],
      "execution_count": 10,
      "outputs": []
    },
    {
      "cell_type": "code",
      "metadata": {
        "id": "eaa_SlpseW_g"
      },
      "source": [
        "def process_word(word):\n",
        "    return word.lower()\n",
        "\n",
        "def process_sentence_structure(dataset, column):\n",
        "    sentence_words = []\n",
        "    sentence_labels = []\n",
        "\n",
        "    for string in dataset[column]:\n",
        "        string = parse_brackets(string)\n",
        "\n",
        "        nodes = parse_phrase_structure(string)\n",
        "        nodes = [get_node_branch(branch) for branch in get_branches(nodes, 0, [])]\n",
        "\n",
        "        words = [process_word(node['word']) for node in sorted(nodes, key=lambda x: x['index'])]\n",
        "        labels = [node['label'] for node in sorted(nodes, key=lambda x: x['index'])]\n",
        "\n",
        "        sentence_words.append(words)\n",
        "        sentence_labels.append(labels)\n",
        "    \n",
        "    dataset[f'{column}_words'] = sentence_words\n",
        "    dataset[f'{column}_labels'] = sentence_labels\n",
        "    return dataset\n"
      ],
      "execution_count": 11,
      "outputs": []
    },
    {
      "cell_type": "code",
      "metadata": {
        "id": "zF-khdyOpwdS"
      },
      "source": [
        "# ROOT-ROOT-S-.          # конец предложения\n",
        "# ROOT-ROOT-NP-.         # конец предложения\n",
        "# \n",
        "# ROOT-ROOT-S-NP-DT      # артикль простого подлежащего \"a man\"\n",
        "# ROOT-ROOT-S-NP-NN      # существительное простого подлежащего \"a man\"\n",
        "# \n",
        "# ROOT-ROOT-S-NP-NP-DT   # артикль сложного подлежащего \"a few people in a restaurant\"\n",
        "# ROOT-ROOT-S-NP-NP-NN   # существительное сложного подлежащего \"a few people in a restaurant\"\n",
        "# ROOT-ROOT-S-NP-PP-IN   # предлог сложного подлежащего \"a few people in a restaurant\"\n",
        "# \n",
        "# ROOT-ROOT-S-VP-VBZ     # to be простого сказуемого \"a man is drinking\"\n",
        "# ROOT-ROOT-S-VP-VP-VBG  # глагол простого сказуемого \"a man is drinking\"\n",
        "# ROOT-ROOT-S-VP-PP-IN   # предлог сложного сказуемого \"a man is drinking in a bar\""
      ],
      "execution_count": 12,
      "outputs": []
    },
    {
      "cell_type": "markdown",
      "metadata": {
        "id": "PvemEBEE2TB_"
      },
      "source": [
        "# Vocab"
      ]
    },
    {
      "cell_type": "code",
      "metadata": {
        "id": "PM9jygHDklMw"
      },
      "source": [
        "class WordModel:\n",
        "\n",
        "    def preprocess_word(self, word):\n",
        "        word = word.lower()\n",
        "        return word\n",
        "\n",
        "    def preprocess_words(self, words):\n",
        "        words = [word for word in words if word != ' ']  # hack short length: words = [word for word in words[:8] if word != ' ']\n",
        "        return words\n",
        "    \n",
        "    def parse_corpus(self, sentences):\n",
        "        words = []\n",
        "        for sentence in sentences:\n",
        "            words += self.preprocess_words(sentence)\n",
        "        return words\n"
      ],
      "execution_count": 13,
      "outputs": []
    },
    {
      "cell_type": "code",
      "metadata": {
        "id": "MlAV-sg4lySI"
      },
      "source": [
        "class WordVocab:\n",
        "\n",
        "    def __init__(self, max_size_vocab=100000):\n",
        "        self.max_size_vocab = max_size_vocab\n",
        "        self.vocab = None\n",
        "        self.vocab_reversed = None\n",
        "        self.util_vocab = {'[PAD]': 0, '[UNK]': 1}\n",
        "        self.util_vocab_reversed = {v: k for k, v in self.util_vocab.items()}\n",
        "    \n",
        "    @property\n",
        "    def vocab_size(self):\n",
        "        return len(self.vocab)\n",
        "    \n",
        "    def create_vocab(self, words):\n",
        "        word_counts = collections.Counter(words)\n",
        "        word_counts = word_counts.most_common(self.max_size_vocab)\n",
        "\n",
        "        initial_index = len(self.util_vocab)\n",
        "        self.vocab = {\n",
        "            **self.util_vocab,\n",
        "            **{word: i for i, (word, _) in enumerate(word_counts, initial_index)}\n",
        "        }\n",
        "        self.vocab_reversed = {v: k for k, v in self.vocab.items()}\n",
        "    \n",
        "    def pad_words(self, words, max_length):\n",
        "        words = words + ['[PAD]'] * (max_length - len(words))\n",
        "        return words[:max_length]\n",
        "\n",
        "    def encode_words(self, words):\n",
        "        unk_code = self.vocab['[UNK]']\n",
        "        return [self.vocab.get(word, unk_code) for word in words]\n",
        "    \n",
        "    def decode_words(self, words):\n",
        "        unk_word = '[UNK]'\n",
        "        return [self.vocab_reversed.get(word, unk_word) for word in words]\n"
      ],
      "execution_count": 14,
      "outputs": []
    },
    {
      "cell_type": "code",
      "metadata": {
        "id": "VNWe0bEt_kI6",
        "outputId": "9ca0d544-86b1-4c54-a40c-cf3f4b4372fc",
        "colab": {
          "base_uri": "https://localhost:8080/"
        }
      },
      "source": [
        "%%time\n",
        "test_dataset = process_sentence_structure(test_dataset, column='sentence1_parse')\n",
        "test_dataset = process_sentence_structure(test_dataset, column='sentence2_parse')"
      ],
      "execution_count": 15,
      "outputs": [
        {
          "output_type": "stream",
          "text": [
            "CPU times: user 1.97 s, sys: 0 ns, total: 1.97 s\n",
            "Wall time: 1.97 s\n"
          ],
          "name": "stdout"
        }
      ]
    },
    {
      "cell_type": "code",
      "metadata": {
        "id": "rVcm3F1ERBH0",
        "outputId": "76ecafc3-e3c3-47ba-e1ea-6f47d38100b6",
        "colab": {
          "base_uri": "https://localhost:8080/"
        }
      },
      "source": [
        "%%time\n",
        "train_dataset = process_sentence_structure(train_dataset, column='sentence1_parse')\n",
        "train_dataset = process_sentence_structure(train_dataset, column='sentence2_parse')\n",
        "\n",
        "# CPU times: user 20min 40s, sys: 1.85 s, total: 20min 42s\n",
        "# Wall time: 20min 42s"
      ],
      "execution_count": 16,
      "outputs": [
        {
          "output_type": "stream",
          "text": [
            "CPU times: user 3min 3s, sys: 7.71 ms, total: 3min 4s\n",
            "Wall time: 3min 4s\n"
          ],
          "name": "stdout"
        }
      ]
    },
    {
      "cell_type": "code",
      "metadata": {
        "id": "25NXdJ_MRfc5"
      },
      "source": [
        "word_model = WordModel()\n",
        "\n",
        "train_words = word_model.parse_corpus(train_dataset['sentence1_parse_words'])\n",
        "train_words += word_model.parse_corpus(train_dataset['sentence2_parse_words'])"
      ],
      "execution_count": 17,
      "outputs": []
    },
    {
      "cell_type": "code",
      "metadata": {
        "id": "XUxp69PiRJXm"
      },
      "source": [
        "label_model = WordModel()\n",
        "\n",
        "train_labels = label_model.parse_corpus(train_dataset['sentence1_parse_labels'])\n",
        "train_labels += label_model.parse_corpus(train_dataset['sentence2_parse_labels'])"
      ],
      "execution_count": 18,
      "outputs": []
    },
    {
      "cell_type": "code",
      "metadata": {
        "id": "ze8bT2Zjwev9"
      },
      "source": [
        "max_size_vocab = 8000\n",
        "\n",
        "\n",
        "word_vocab = WordVocab(max_size_vocab)\n",
        "word_vocab.create_vocab(train_words)"
      ],
      "execution_count": 19,
      "outputs": []
    },
    {
      "cell_type": "code",
      "metadata": {
        "id": "pQk8sFYwdwUC",
        "outputId": "b55be037-a4e9-4343-f998-cc9c2dfe7225",
        "colab": {
          "base_uri": "https://localhost:8080/"
        }
      },
      "source": [
        "word_vocab.vocab_size, len([word for word in train_words if word in word_vocab.vocab]) / len(train_words)"
      ],
      "execution_count": 20,
      "outputs": [
        {
          "output_type": "execute_result",
          "data": {
            "text/plain": [
              "(8002, 0.9919986938115715)"
            ]
          },
          "metadata": {
            "tags": []
          },
          "execution_count": 20
        }
      ]
    },
    {
      "cell_type": "code",
      "metadata": {
        "id": "-YAv2ScHSVV0"
      },
      "source": [
        "max_size_label_vocab = 8000\n",
        "\n",
        "\n",
        "label_vocab = WordVocab(max_size_label_vocab)\n",
        "label_vocab.create_vocab(train_labels)"
      ],
      "execution_count": 21,
      "outputs": []
    },
    {
      "cell_type": "code",
      "metadata": {
        "id": "1eJrfF0nSVji",
        "outputId": "a6980833-a614-4180-989c-cf144a56fd87",
        "colab": {
          "base_uri": "https://localhost:8080/"
        }
      },
      "source": [
        "label_vocab.vocab_size, len([label for label in train_labels if label in label_vocab.vocab]) / len(train_labels)"
      ],
      "execution_count": 22,
      "outputs": [
        {
          "output_type": "execute_result",
          "data": {
            "text/plain": [
              "(8002, 0.9866977157037586)"
            ]
          },
          "metadata": {
            "tags": []
          },
          "execution_count": 22
        }
      ]
    },
    {
      "cell_type": "markdown",
      "metadata": {
        "id": "ZAIaw7lB2jtY"
      },
      "source": [
        "# Embs"
      ]
    },
    {
      "cell_type": "code",
      "metadata": {
        "id": "htlVmG9uMiyT"
      },
      "source": [
        "emb_size = 300"
      ],
      "execution_count": 23,
      "outputs": []
    },
    {
      "cell_type": "code",
      "metadata": {
        "id": "NjS5-BQ3S-Q6"
      },
      "source": [
        "# embeddings = [\n",
        "#     word_embeddings[word] if word in word_embeddings else np.random.uniform(-0.05, 0.05, 300)\n",
        "#     for word, _ in sorted(word_vocab.vocab.items(), key=lambda x: x[1])\n",
        "# ]\n",
        "# embeddings = np.array(embeddings)"
      ],
      "execution_count": 35,
      "outputs": []
    },
    {
      "cell_type": "markdown",
      "metadata": {
        "id": "Rt75G4TySy7X"
      },
      "source": [
        "### pretrained"
      ]
    },
    {
      "cell_type": "code",
      "metadata": {
        "id": "hwtiyhRer8aV"
      },
      "source": [
        "word_embeddings = {}\n",
        "\n",
        "with open(EMBS, 'r', encoding='utf-8') as fp:\n",
        "    for line in fp:\n",
        "        values = line.strip().split()\n",
        "        word = ' '.join(values[:-300])\n",
        "        word_embeddings[word] = np.asarray(values[-300:], 'float32')\n"
      ],
      "execution_count": null,
      "outputs": []
    },
    {
      "cell_type": "code",
      "metadata": {
        "id": "8FJEavffI9_c",
        "outputId": "8b0fc042-c018-45d8-fd59-7085cd1cc3d4",
        "colab": {
          "base_uri": "https://localhost:8080/",
          "height": 34
        }
      },
      "source": [
        "len(word_embeddings)"
      ],
      "execution_count": null,
      "outputs": [
        {
          "output_type": "execute_result",
          "data": {
            "text/plain": [
              "2195895"
            ]
          },
          "metadata": {
            "tags": []
          },
          "execution_count": 25
        }
      ]
    },
    {
      "cell_type": "code",
      "metadata": {
        "id": "OEoUcdWjLb1F"
      },
      "source": [
        "# space is part of word\n",
        "# [word for word in word_embeddings if ' ' in word]"
      ],
      "execution_count": null,
      "outputs": []
    },
    {
      "cell_type": "markdown",
      "metadata": {
        "id": "rrPSMhZ4M7MB"
      },
      "source": [
        "##### check words without embeddings"
      ]
    },
    {
      "cell_type": "code",
      "metadata": {
        "id": "sRirEffFLmos",
        "outputId": "80e33fba-be7b-4c3f-f9ab-ead71d50fa2a",
        "colab": {
          "base_uri": "https://localhost:8080/",
          "height": 34
        }
      },
      "source": [
        "# check word embeddings\n",
        "len([word for word in word_vocab.vocab if word in word_embeddings]) / word_vocab.vocab_size"
      ],
      "execution_count": null,
      "outputs": [
        {
          "output_type": "execute_result",
          "data": {
            "text/plain": [
              "0.9991252186953262"
            ]
          },
          "metadata": {
            "tags": []
          },
          "execution_count": 66
        }
      ]
    },
    {
      "cell_type": "code",
      "metadata": {
        "id": "UHL-KjmIL5s2",
        "outputId": "b8b59a58-da0e-48d8-f96c-f42f41341c8a",
        "colab": {
          "base_uri": "https://localhost:8080/",
          "height": 136
        }
      },
      "source": [
        "[word for word in word_vocab.vocab if word not in word_embeddings]"
      ],
      "execution_count": null,
      "outputs": [
        {
          "output_type": "execute_result",
          "data": {
            "text/plain": [
              "['[PAD]',\n",
              " '[UNK]',\n",
              " 'rollerskaters',\n",
              " 'surfboarder',\n",
              " 'graffited',\n",
              " 'parasailer',\n",
              " 'boogieboard']"
            ]
          },
          "metadata": {
            "tags": []
          },
          "execution_count": 67
        }
      ]
    },
    {
      "cell_type": "markdown",
      "metadata": {
        "id": "zDZiHJ4QNLZ1"
      },
      "source": [
        "##### init emb matrix"
      ]
    },
    {
      "cell_type": "code",
      "metadata": {
        "id": "WnUV99_7NKyu"
      },
      "source": [
        "embeddings = [\n",
        "    word_embeddings[word] if word in word_embeddings else np.random.uniform(-0.05, 0.05, 300)\n",
        "    for word, _ in sorted(word_vocab.vocab.items(), key=lambda x: x[1])\n",
        "]\n",
        "embeddings = np.array(embeddings)"
      ],
      "execution_count": null,
      "outputs": []
    },
    {
      "cell_type": "code",
      "metadata": {
        "id": "-cQ8-hpyMUQb",
        "outputId": "c33300ed-0596-4bff-9339-e7b640ab9eec",
        "colab": {
          "base_uri": "https://localhost:8080/",
          "height": 34
        }
      },
      "source": [
        "embeddings.shape"
      ],
      "execution_count": null,
      "outputs": [
        {
          "output_type": "execute_result",
          "data": {
            "text/plain": [
              "(8002, 300)"
            ]
          },
          "metadata": {
            "tags": []
          },
          "execution_count": 65
        }
      ]
    },
    {
      "cell_type": "markdown",
      "metadata": {
        "id": "LW1TGzbW2YRp"
      },
      "source": [
        "# Dataset"
      ]
    },
    {
      "cell_type": "code",
      "metadata": {
        "id": "s_-UEIrMxHoB"
      },
      "source": [
        "max_length = 32\n",
        "batch_size = 1024  # 64\n",
        "\n",
        "test_size = 1000\n",
        "train_size = 1000"
      ],
      "execution_count": 24,
      "outputs": []
    },
    {
      "cell_type": "code",
      "metadata": {
        "id": "VnxzurjK6sXc",
        "outputId": "69d19fca-6a2f-4867-f657-5b130c6a5eb3",
        "colab": {
          "base_uri": "https://localhost:8080/"
        }
      },
      "source": [
        "# check max_length\n",
        "lengths = [len(sentence) for sentence in train_dataset['sentence1_parse_words']]\n",
        "np.min(lengths), np.max(lengths), np.mean(lengths), len([length for length in lengths if length < max_length]) / len(lengths)"
      ],
      "execution_count": 25,
      "outputs": [
        {
          "output_type": "execute_result",
          "data": {
            "text/plain": [
              "(2, 82, 13.95736, 0.98548)"
            ]
          },
          "metadata": {
            "tags": []
          },
          "execution_count": 25
        }
      ]
    },
    {
      "cell_type": "code",
      "metadata": {
        "id": "68-zjch24k6_"
      },
      "source": [
        "def process_words(words):\n",
        "    words = word_vocab.pad_words(words, max_length)\n",
        "    words = word_vocab.encode_words(words)\n",
        "    return words\n",
        "\n",
        "\n",
        "def process_labels(labels):\n",
        "    labels = label_vocab.pad_words(labels, max_length)\n",
        "    labels = label_vocab.encode_words(labels)\n",
        "    return labels\n",
        "\n",
        "\n",
        "def get_dataset(dataset):\n",
        "    dataset_words = [process_words(words) for words in dataset['sentence1_parse_words']]\n",
        "    dataset_words += [process_words(words) for words in dataset['sentence2_parse_words']]\n",
        "    dataset_words = np.array(dataset_words)\n",
        "\n",
        "    dataset_labels = [process_labels(labels) for labels in dataset['sentence1_parse_labels']]\n",
        "    dataset_labels += [process_labels(labels) for labels in dataset['sentence2_parse_labels']]\n",
        "    dataset_labels = np.array(dataset_labels)\n",
        "\n",
        "    dataset = {\n",
        "        'words': dataset_words,\n",
        "        'labels': dataset_labels\n",
        "    }\n",
        "    return dataset\n",
        "\n",
        "# \n",
        "test_sentences = (\n",
        "    tf.data.Dataset.from_tensor_slices(get_dataset(test_dataset))\n",
        "    .shuffle(test_size)\n",
        "    .batch(batch_size)\n",
        ")\n",
        "train_sentences = (\n",
        "    tf.data.Dataset.from_tensor_slices(get_dataset(train_dataset))\n",
        "    .shuffle(train_size)\n",
        "    .batch(batch_size)\n",
        ")"
      ],
      "execution_count": 26,
      "outputs": []
    },
    {
      "cell_type": "markdown",
      "metadata": {
        "id": "2FC0d-Ky2p1b"
      },
      "source": [
        "# Model"
      ]
    },
    {
      "cell_type": "markdown",
      "metadata": {
        "id": "U5WNCDM3dLpg"
      },
      "source": [
        "### Positional Encoding"
      ]
    },
    {
      "cell_type": "code",
      "metadata": {
        "id": "UIClAG77U11d"
      },
      "source": [
        "def get_angles(pos, i, d_model):\n",
        "    angle_rates = 1 / np.power(10000, (2 * (i//2)) / np.float32(d_model))\n",
        "    return pos * angle_rates\n"
      ],
      "execution_count": null,
      "outputs": []
    },
    {
      "cell_type": "code",
      "metadata": {
        "id": "sIB99JdoU2AC"
      },
      "source": [
        "def positional_encoding(position, d_model):\n",
        "    angle_rads = get_angles(\n",
        "        np.arange(position)[:, np.newaxis],\n",
        "        np.arange(d_model)[np.newaxis, :],\n",
        "        d_model\n",
        "    )\n",
        "  \n",
        "    # apply sin to even indices in the array; 2i\n",
        "    angle_rads[:, 0::2] = np.sin(angle_rads[:, 0::2])\n",
        "\n",
        "    # apply cos to odd indices in the array; 2i+1\n",
        "    angle_rads[:, 1::2] = np.cos(angle_rads[:, 1::2])\n",
        "\n",
        "    pos_encoding = angle_rads[np.newaxis, ...]\n",
        "\n",
        "    return tf.cast(pos_encoding, dtype=tf.float32)\n"
      ],
      "execution_count": null,
      "outputs": []
    },
    {
      "cell_type": "markdown",
      "metadata": {
        "id": "QQ0drsJ-dQ7-"
      },
      "source": [
        "##### *how it works*"
      ]
    },
    {
      "cell_type": "code",
      "metadata": {
        "id": "ekS40pxsVehZ",
        "outputId": "4a8904b6-a948-4e35-e1f8-e3a332560f33",
        "colab": {
          "base_uri": "https://localhost:8080/",
          "height": 300
        }
      },
      "source": [
        "pos_encoding = positional_encoding(50, 512)\n",
        "print(pos_encoding.shape)\n",
        "\n",
        "plt.xlim((0, 512))\n",
        "plt.xlabel('Depth')\n",
        "plt.ylabel('Position')\n",
        "plt.pcolormesh(pos_encoding[0], cmap='RdBu')\n",
        "plt.colorbar()\n",
        "plt.show()"
      ],
      "execution_count": null,
      "outputs": [
        {
          "output_type": "stream",
          "text": [
            "(1, 50, 512)\n"
          ],
          "name": "stdout"
        },
        {
          "output_type": "display_data",
          "data": {
            "image/png": "[encoded data removed]",
            "text/plain": [
              "<Figure size 432x288 with 2 Axes>"
            ]
          },
          "metadata": {
            "tags": [],
            "needs_background": "light"
          }
        }
      ]
    },
    {
      "cell_type": "markdown",
      "metadata": {
        "id": "CMNqkNYEdViB"
      },
      "source": [
        "### Attention Function"
      ]
    },
    {
      "cell_type": "code",
      "metadata": {
        "id": "hThQOuYCsqZx"
      },
      "source": [
        "def create_padding_mask(seq):\n",
        "    seq = tf.cast(tf.math.equal(seq, 0), tf.float32)\n",
        "\n",
        "    # add extra dimensions to add the padding\n",
        "    # to the attention logits.\n",
        "    return seq[:, tf.newaxis, tf.newaxis, :]  # (batch_size, 1, 1, seq_len)\n"
      ],
      "execution_count": null,
      "outputs": []
    },
    {
      "cell_type": "code",
      "metadata": {
        "id": "clTsCcnEdEvS"
      },
      "source": [
        "def scaled_dot_product_attention(q, k, v, mask):\n",
        "    \"\"\"Calculate the attention weights.\n",
        "    q, k, v must have matching leading dimensions.\n",
        "    k, v must have matching penultimate dimension, i.e.: seq_len_k = seq_len_v.\n",
        "    The mask has different shapes depending on its type(padding or look ahead) \n",
        "    but it must be broadcastable for addition.\n",
        "\n",
        "    Args:\n",
        "        q: query shape == (..., seq_len_q, depth)\n",
        "        k: key shape == (..., seq_len_k, depth)\n",
        "        v: value shape == (..., seq_len_v, depth_v)\n",
        "        mask: Float tensor with shape broadcastable \n",
        "                to (..., seq_len_q, seq_len_k). Defaults to None.\n",
        "\n",
        "    Returns:\n",
        "        output, attention_weights\n",
        "    \"\"\"\n",
        "\n",
        "    matmul_qk = tf.matmul(q, k, transpose_b=True)  # (..., seq_len_q, seq_len_k)\n",
        "  \n",
        "    # scale matmul_qk\n",
        "    dk = tf.cast(tf.shape(k)[-1], tf.float32)\n",
        "    scaled_attention_logits = matmul_qk / tf.math.sqrt(dk)\n",
        "\n",
        "    # add the mask to the scaled tensor.\n",
        "    if mask is not None:\n",
        "        scaled_attention_logits += (mask * -1e9)  \n",
        "\n",
        "    # softmax is normalized on the last axis (seq_len_k) so that the scores\n",
        "    # add up to 1.\n",
        "    attention_weights = tf.nn.softmax(scaled_attention_logits, axis=-1)  # (..., seq_len_q, seq_len_k)\n",
        "\n",
        "    output = tf.matmul(attention_weights, v)  # (..., seq_len_q, depth_v)\n",
        "    return output, attention_weights\n"
      ],
      "execution_count": null,
      "outputs": []
    },
    {
      "cell_type": "markdown",
      "metadata": {
        "id": "xCJqBpejdaBP"
      },
      "source": [
        "##### *how it works*"
      ]
    },
    {
      "cell_type": "code",
      "metadata": {
        "id": "MjhWFKe3Ux0a"
      },
      "source": [
        "def print_out(q, k, v):\n",
        "    temp_out, temp_attn = scaled_dot_product_attention(q, k, v, None)\n",
        "    print('Attention weights are:')\n",
        "    print(temp_attn)\n",
        "    print('Output is:')\n",
        "    print(temp_out)\n"
      ],
      "execution_count": null,
      "outputs": []
    },
    {
      "cell_type": "code",
      "metadata": {
        "id": "j0acUlSGbu9e",
        "outputId": "cad052ff-b341-4e86-e0f0-def2685a2048",
        "colab": {
          "base_uri": "https://localhost:8080/",
          "height": 85
        }
      },
      "source": [
        "# np.set_printoptions(suppress=True)\n",
        "\n",
        "temp_k = tf.constant([[10,0,0],\n",
        "                      [0,10,0],\n",
        "                      [0,0,10],\n",
        "                      [0,0,10]], dtype=tf.float32)  # (4, 3)\n",
        "\n",
        "temp_v = tf.constant([[   1,0],\n",
        "                      [  10,0],\n",
        "                      [ 100,5],\n",
        "                      [1000,6]], dtype=tf.float32)  # (4, 2)\n",
        "\n",
        "# This `query` aligns with the second `key`,\n",
        "# so the second `value` is returned.\n",
        "temp_q = tf.constant([[0, 10, 0]], dtype=tf.float32)  # (1, 3)\n",
        "\n",
        "print_out(temp_q, temp_k, temp_v)"
      ],
      "execution_count": null,
      "outputs": [
        {
          "output_type": "stream",
          "text": [
            "Attention weights are:\n",
            "tf.Tensor([[8.433274e-26 1.000000e+00 8.433274e-26 8.433274e-26]], shape=(1, 4), dtype=float32)\n",
            "Output is:\n",
            "tf.Tensor([[1.000000e+01 9.276601e-25]], shape=(1, 2), dtype=float32)\n"
          ],
          "name": "stdout"
        }
      ]
    },
    {
      "cell_type": "markdown",
      "metadata": {
        "id": "aQHE9qzUdiyg"
      },
      "source": [
        "### Attention"
      ]
    },
    {
      "cell_type": "code",
      "metadata": {
        "id": "ws-yCAQ0nwNS"
      },
      "source": [
        "class MultiHeadAttention(tf.keras.layers.Layer):\n",
        "    def __init__(self, d_model, num_heads):\n",
        "        super(MultiHeadAttention, self).__init__()\n",
        "        self.num_heads = num_heads\n",
        "        self.d_model = d_model\n",
        "\n",
        "        assert d_model % self.num_heads == 0\n",
        "\n",
        "        self.depth = d_model // self.num_heads\n",
        "\n",
        "        self.wq = tf.keras.layers.Dense(d_model)\n",
        "        self.wk = tf.keras.layers.Dense(d_model)\n",
        "        self.wv = tf.keras.layers.Dense(d_model)\n",
        "\n",
        "        self.dense = tf.keras.layers.Dense(d_model)\n",
        "        \n",
        "    def split_heads(self, x, batch_size):\n",
        "        \"\"\"Split the last dimension into (num_heads, depth).\n",
        "        Transpose the result such that the shape is (batch_size, num_heads, seq_len, depth)\n",
        "        \"\"\"\n",
        "        x = tf.reshape(x, (batch_size, -1, self.num_heads, self.depth))\n",
        "        return tf.transpose(x, perm=[0, 2, 1, 3])\n",
        "    \n",
        "    def call(self, v, k, q, mask):\n",
        "        batch_size = tf.shape(q)[0]\n",
        "\n",
        "        q = self.wq(q)  # (batch_size, seq_len, d_model)\n",
        "        k = self.wk(k)  # (batch_size, seq_len, d_model)\n",
        "        v = self.wv(v)  # (batch_size, seq_len, d_model)\n",
        "\n",
        "        q = self.split_heads(q, batch_size)  # (batch_size, num_heads, seq_len_q, depth)\n",
        "        k = self.split_heads(k, batch_size)  # (batch_size, num_heads, seq_len_k, depth)\n",
        "        v = self.split_heads(v, batch_size)  # (batch_size, num_heads, seq_len_v, depth)\n",
        "\n",
        "        # scaled_attention.shape == (batch_size, num_heads, seq_len_q, depth)\n",
        "        # attention_weights.shape == (batch_size, num_heads, seq_len_q, seq_len_k)\n",
        "        scaled_attention, attention_weights = scaled_dot_product_attention(q, k, v, mask)\n",
        "\n",
        "        scaled_attention = tf.transpose(scaled_attention, perm=[0, 2, 1, 3])  # (batch_size, seq_len_q, num_heads, depth)\n",
        "        concat_attention = tf.reshape(scaled_attention, (batch_size, -1, self.d_model))  # (batch_size, seq_len_q, d_model)\n",
        "\n",
        "        output = self.dense(concat_attention)  # (batch_size, seq_len_q, d_model)\n",
        "        return output, attention_weights\n"
      ],
      "execution_count": null,
      "outputs": []
    },
    {
      "cell_type": "code",
      "metadata": {
        "id": "EkGPA7u6nj6-"
      },
      "source": [
        "def sample_gumbel(shape, eps=1e-20):\n",
        "  u = tf.random.uniform(shape, minval=0, maxval=1, dtype=tf.float32)\n",
        "  return -tf.math.log(-tf.math.log(u + eps) + eps)\n",
        "\n",
        "\n",
        "def sinkhorn(log_alpha, length, n_iters=20):\n",
        "  for _ in tf.range(n_iters):\n",
        "    log_alpha -= tf.math.reduce_logsumexp(log_alpha, axis=2, keepdims=True)\n",
        "    log_alpha -= tf.math.reduce_logsumexp(log_alpha, axis=1, keepdims=True)\n",
        "#   return tf.exp(log_alpha)\n",
        "  return log_alpha\n",
        "\n",
        "\n",
        "def gumbel_sinkhorn(log_alpha, temperature=1.0, noise=1.0, n_iters=20):\n",
        "    if noise:\n",
        "      noise = sample_gumbel(log_alpha.shape) * noise\n",
        "    log_alpha = (log_alpha + noise) / temperature\n",
        "    return sinkhorn(log_alpha, n_iters)\n"
      ],
      "execution_count": 31,
      "outputs": []
    },
    {
      "cell_type": "markdown",
      "metadata": {
        "id": "Z9cEu1Y0sl1H"
      },
      "source": [
        "##### *how it works*"
      ]
    },
    {
      "cell_type": "code",
      "metadata": {
        "id": "t2ti5OjT3uzB",
        "outputId": "343d8bdb-941d-4bea-d4de-6a87e8fe3aa6",
        "colab": {
          "base_uri": "https://localhost:8080/"
        }
      },
      "source": [
        "# b=64, s=32, logits=8k\n",
        "\n",
        "batch_size = 2\n",
        "max_length = 4\n",
        "hidden_size = 5\n",
        "\n",
        "lengths = tf.constant([1, 2], dtype=tf.int64)\n",
        "\n",
        "\n",
        "# \n",
        "mask = tf.sequence_mask(\n",
        "    lengths, maxlen=max_length\n",
        ")\n",
        "mask = tf.cast(tf.logical_not(mask), dtype=tf.float32)\n",
        "\n",
        "mask = tf.tile(mask, [1, hidden_size])\n",
        "mask = tf.reshape(mask, [batch_size, hidden_size, max_length])\n",
        "mask = tf.transpose(mask, [0, 2, 1])\n",
        "\n",
        "\n",
        "# \n",
        "log_alpha = [\n",
        "    [\n",
        "        [0.75, 0.05, 0.19, 0.01, 0.01],  # A\n",
        "        [0.01, 0.05, 0.01, 0.01, 1.00],  # B\n",
        "        [0.01, 0.05, 0.01, 0.01, 1.00],  # PAD\n",
        "        [0.01, 0.05, 0.01, 0.01, 1.00],  # PAD\n",
        "    ],\n",
        "    [\n",
        "        [0.75, 0.05, 0.19, 0.01, 0.01],  # A\n",
        "        [0.19, 0.05, 0.75, 0.01, 0.01],  # B\n",
        "        [0.01, 0.05, 0.01, 0.01, 1.00],  # PAD\n",
        "        [0.01, 0.05, 0.01, 0.01, 1.00],  # PAD\n",
        "    ]\n",
        "]\n",
        "log_alpha = tf.constant(log_alpha, dtype=tf.float32)\n",
        "\n",
        "\n",
        "with tf.GradientTape() as tape:\n",
        "    mask\n",
        "    log_alpha -= tf.math.reduce_logsumexp(log_alpha + mask * 1e3, axis=2, keepdims=True)\n",
        "    log_alpha -= tf.math.reduce_logsumexp(log_alpha + mask * 1e3, axis=1, keepdims=True)\n",
        "    log_alpha = tf.exp(log_alpha)\n",
        "\n",
        "    log_alpha -= tf.math.reduce_logsumexp(log_alpha + mask * 1e3, axis=2, keepdims=True)\n",
        "    log_alpha -= tf.math.reduce_logsumexp(log_alpha + mask * 1e3, axis=1, keepdims=True)\n",
        "    log_alpha = tf.exp(log_alpha)\n",
        "\n",
        "mask, log_alpha"
      ],
      "execution_count": 239,
      "outputs": [
        {
          "output_type": "execute_result",
          "data": {
            "text/plain": [
              "(<tf.Tensor: shape=(2, 4, 5), dtype=float32, numpy=\n",
              " array([[[0., 0., 0., 0., 0.],\n",
              "         [1., 1., 1., 1., 1.],\n",
              "         [1., 1., 1., 1., 1.],\n",
              "         [1., 1., 1., 1., 1.]],\n",
              " \n",
              "        [[0., 0., 0., 0., 0.],\n",
              "         [0., 0., 0., 0., 0.],\n",
              "         [1., 1., 1., 1., 1.],\n",
              "         [1., 1., 1., 1., 1.]]], dtype=float32)>,\n",
              " <tf.Tensor: shape=(2, 4, 5), dtype=float32, numpy=\n",
              " array([[[0.2788722 , 0.24701703, 0.2538159 , 0.24701622, 0.22099805],\n",
              "         [0.        , 0.        , 0.        , 0.        , 0.        ],\n",
              "         [0.        , 0.        , 0.        , 0.        , 0.        ],\n",
              "         [0.        , 0.        , 0.        , 0.        , 0.        ]],\n",
              " \n",
              "        [[0.27975768, 0.24941832, 0.23515755, 0.24941799, 0.23492923],\n",
              "         [0.23515755, 0.24941832, 0.2797576 , 0.24941799, 0.23492923],\n",
              "         [0.        , 0.        , 0.        , 0.        , 0.        ],\n",
              "         [0.        , 0.        , 0.        , 0.        , 0.        ]]],\n",
              "       dtype=float32)>)"
            ]
          },
          "metadata": {
            "tags": []
          },
          "execution_count": 239
        }
      ]
    },
    {
      "cell_type": "code",
      "metadata": {
        "id": "bKIC-FQjp4uT",
        "outputId": "6f25e779-ada8-46a7-9442-4d4cea6caa49",
        "colab": {
          "base_uri": "https://localhost:8080/"
        }
      },
      "source": [
        "inf = np.inf\n",
        "\n",
        "log_alpha = [\n",
        "    [\n",
        "        [0.75, 0.05, 0.19, 0.01, 0.01],  # A\n",
        "        [0.19, 0.05, 0.75, 0.01, 0.01],  # B\n",
        "        [0.01, 0.05, 0.01, 0.01, 1.00],  # PAD\n",
        "        [0.01, 0.05, 0.01, 0.01, 1.00],  # PAD\n",
        "    ],\n",
        "    [\n",
        "        [0.75, 0.05, 0.19, 0.01, 0.01],  # A\n",
        "        [0.19, 0.05, 0.75, 0.01, 0.01],  # B\n",
        "        [0.01, 0.05, 0.01, 0.01, 0.00],  # PAD\n",
        "        [0.01, 0.05, 0.01, 0.01, 0.00],  # PAD\n",
        "    ],\n",
        "    [\n",
        "        [0.75, 0.05, 0.19, 0.01, 0.01],  # A\n",
        "        [0.19, 0.05, 0.75, 0.01, 0.01],  # B\n",
        "        [-inf, -inf, -inf, -inf, -inf],  # PAD\n",
        "        [-inf, -inf, -inf, -inf, -inf],  # PAD\n",
        "    ],\n",
        "]\n",
        "# log_alpha = np.random.rand(4, 4, 4)\n",
        "\n",
        "log_alpha = tf.constant(log_alpha, dtype=tf.float32)\n",
        "\n",
        "\n",
        "with tf.GradientTape() as tape:\n",
        "    log_alpha = gumbel_sinkhorn(\n",
        "        log_alpha, temperature=0.19, noise=0.1, n_iters=10\n",
        "    )\n",
        "\n",
        "log_alpha, tf.math.log(log_alpha)"
      ],
      "execution_count": 263,
      "outputs": [
        {
          "output_type": "execute_result",
          "data": {
            "text/plain": [
              "(<tf.Tensor: shape=(3, 4, 5), dtype=float32, numpy=\n",
              " array([[[0.92109287, 0.13772646, 0.09242249, 0.10207093, 0.00129111],\n",
              "         [0.02454666, 0.30682516, 0.8129591 , 0.09811517, 0.00817495],\n",
              "         [0.02888179, 0.23373286, 0.02288803, 0.25183755, 0.70953393],\n",
              "         [0.02547874, 0.32171553, 0.07173035, 0.5479764 , 0.281     ]],\n",
              " \n",
              "        [[0.81200325, 0.21342234, 0.05571639, 0.107598  , 0.06165284],\n",
              "         [0.04968697, 0.08016108, 0.8587835 , 0.10679868, 0.1536327 ],\n",
              "         [0.06550746, 0.32574737, 0.03631322, 0.6011184 , 0.22161661],\n",
              "         [0.07280227, 0.38066918, 0.04918694, 0.18448497, 0.5630979 ]],\n",
              " \n",
              "        [[       nan,        nan,        nan,        nan,        nan],\n",
              "         [       nan,        nan,        nan,        nan,        nan],\n",
              "         [       nan,        nan,        nan,        nan,        nan],\n",
              "         [       nan,        nan,        nan,        nan,        nan]]],\n",
              "       dtype=float32)>, <tf.Tensor: shape=(3, 4, 5), dtype=float32, numpy=\n",
              " array([[[-0.08219441, -1.9824858 , -2.3813848 , -2.2820873 ,\n",
              "          -6.6522512 ],\n",
              "         [-3.7071793 , -1.1814772 , -0.20707451, -2.3216133 ,\n",
              "          -4.8066807 ],\n",
              "         [-3.544544  , -1.4535764 , -3.7771413 , -1.378971  ,\n",
              "          -0.34314695],\n",
              "         [-3.6699107 , -1.1340876 , -2.6348414 , -0.6015231 ,\n",
              "          -1.2694006 ]],\n",
              " \n",
              "        [[-0.20825092, -1.5444822 , -2.887481  , -2.2293532 ,\n",
              "          -2.786236  ],\n",
              "         [-3.0020125 , -2.5237172 , -0.15223844, -2.2368097 ,\n",
              "          -1.8731906 ],\n",
              "         [-2.7255912 , -1.1216332 , -3.3155735 , -0.50896335,\n",
              "          -1.5068064 ],\n",
              "         [-2.6200082 , -0.9658246 , -3.0121272 , -1.6901872 ,\n",
              "          -0.5743018 ]],\n",
              " \n",
              "        [[        nan,         nan,         nan,         nan,\n",
              "                  nan],\n",
              "         [        nan,         nan,         nan,         nan,\n",
              "                  nan],\n",
              "         [        nan,         nan,         nan,         nan,\n",
              "                  nan],\n",
              "         [        nan,         nan,         nan,         nan,\n",
              "                  nan]]], dtype=float32)>)"
            ]
          },
          "metadata": {
            "tags": []
          },
          "execution_count": 263
        }
      ]
    },
    {
      "cell_type": "code",
      "metadata": {
        "id": "wvX6wQdntP0B",
        "outputId": "fba81393-9457-4024-b625-99d4ca5e2d7c",
        "colab": {
          "base_uri": "https://localhost:8080/"
        }
      },
      "source": [
        "inf = np.inf\n",
        "\n",
        "log_alpha = [\n",
        "    [\n",
        "        [0.75, 0.05, 0.19, 0.01],  # A\n",
        "        [0.19, 0.05, 0.75, 0.01],  # B\n",
        "        [0.01, 0.75, 0.01, 0.00],  # PAD\n",
        "        [0.01, 0.05, 0.01, 1.00],  # PAD\n",
        "    ],\n",
        "]\n",
        "# log_alpha = np.random.rand(4, 4, 4)\n",
        "\n",
        "log_alpha = tf.constant(log_alpha, dtype=tf.float32)\n",
        "\n",
        "\n",
        "with tf.GradientTape() as tape:\n",
        "    log_alpha = gumbel_sinkhorn(\n",
        "        log_alpha, temperature=0.2, noise=0.1, n_iters=100\n",
        "    )\n",
        "\n",
        "log_alpha"
      ],
      "execution_count": 255,
      "outputs": [
        {
          "output_type": "execute_result",
          "data": {
            "text/plain": [
              "<tf.Tensor: shape=(1, 4, 4), dtype=float32, numpy=\n",
              "array([[[0.91433096, 0.03264742, 0.04765708, 0.00536499],\n",
              "        [0.05261366, 0.03161505, 0.8952369 , 0.02053461],\n",
              "        [0.02616647, 0.93055004, 0.02976672, 0.01351739],\n",
              "        [0.00688877, 0.00518755, 0.02733931, 0.96058303]]], dtype=float32)>"
            ]
          },
          "metadata": {
            "tags": []
          },
          "execution_count": 255
        }
      ]
    },
    {
      "cell_type": "code",
      "metadata": {
        "id": "QwRfAhcAp465",
        "outputId": "d2e4fd04-de0a-4378-b410-7a2b6cd29833",
        "colab": {
          "base_uri": "https://localhost:8080/"
        }
      },
      "source": [
        "soft_perms_inf"
      ],
      "execution_count": 96,
      "outputs": [
        {
          "output_type": "execute_result",
          "data": {
            "text/plain": [
              "<tf.Tensor: shape=(4, 3, 2), dtype=float32, numpy=\n",
              "array([[[0.37884277, 0.28782383],\n",
              "        [0.26742694, 0.39923975],\n",
              "        [0.35373026, 0.31293637]],\n",
              "\n",
              "       [[0.46695518, 0.19971152],\n",
              "        [0.29818264, 0.36848402],\n",
              "        [0.23486218, 0.4318045 ]],\n",
              "\n",
              "       [[0.36098942, 0.30567726],\n",
              "        [0.34798416, 0.31868243],\n",
              "        [0.2910263 , 0.37564036]],\n",
              "\n",
              "       [[0.27470788, 0.3919588 ],\n",
              "        [0.28544784, 0.38121885],\n",
              "        [0.43984425, 0.22682239]]], dtype=float32)>"
            ]
          },
          "metadata": {
            "tags": []
          },
          "execution_count": 96
        }
      ]
    },
    {
      "cell_type": "code",
      "metadata": {
        "id": "nTPUJMqZsrOV",
        "outputId": "c1a778ba-3e79-43cc-dca3-f33fe70706e6",
        "colab": {
          "base_uri": "https://localhost:8080/"
        }
      },
      "source": [
        "log_alpha_w_noise"
      ],
      "execution_count": 97,
      "outputs": [
        {
          "output_type": "execute_result",
          "data": {
            "text/plain": [
              "<tf.Tensor: shape=(4, 3, 2), dtype=float32, numpy=\n",
              "array([[[0.69348073, 0.39238495],\n",
              "        [0.57456255, 0.9489553 ],\n",
              "        [0.71029997, 0.5614424 ]],\n",
              "\n",
              "       [[1.0537262 , 0.5446054 ],\n",
              "        [0.47288078, 1.0248101 ],\n",
              "        [0.19754723, 1.1467597 ]],\n",
              "\n",
              "       [[0.7363186 , 0.4338076 ],\n",
              "        [0.8279322 , 0.6037785 ],\n",
              "        [0.66436553, 0.78339195]],\n",
              "\n",
              "       [[0.34069693, 0.6689483 ],\n",
              "        [0.47743994, 0.73955715],\n",
              "        [1.2744286 , 0.58497804]]], dtype=float32)>"
            ]
          },
          "metadata": {
            "tags": []
          },
          "execution_count": 97
        }
      ]
    },
    {
      "cell_type": "markdown",
      "metadata": {
        "id": "z5U-Ktq1dvs_"
      },
      "source": [
        "### VAE"
      ]
    },
    {
      "cell_type": "code",
      "metadata": {
        "id": "QIJpXx7WfSKy"
      },
      "source": [
        "latent_dim = 512"
      ],
      "execution_count": 27,
      "outputs": []
    },
    {
      "cell_type": "code",
      "metadata": {
        "id": "D2WAZHbnnpBv"
      },
      "source": [
        "class Encoder(tf.keras.layers.Layer):\n",
        "    def __init__(self):\n",
        "        super(Encoder, self).__init__()\n",
        "\n",
        "        self.seq = tf.keras.layers.InputLayer(input_shape=(max_length))\n",
        "        self.emb = tf.keras.layers.Embedding(\n",
        "            word_vocab.vocab_size, emb_size,\n",
        "            # embeddings_initializer=tf.keras.initializers.Constant(embeddings),\n",
        "            # trainable=False\n",
        "        )\n",
        "\n",
        "        self.conv_1 = tf.keras.layers.Conv1D(\n",
        "            filters=emb_size, kernel_size=3, strides=2, activation='relu'\n",
        "        )\n",
        "        self.conv_2 = tf.keras.layers.Conv1D(\n",
        "            filters=512, kernel_size=3, strides=2, activation='relu'\n",
        "        )\n",
        "        self.conv_3 = tf.keras.layers.Conv1D(\n",
        "            filters=512, kernel_size=3, strides=2, activation='relu'\n",
        "        )\n",
        "\n",
        "        self.flatten = tf.keras.layers.Flatten()\n",
        "        self.latent = tf.keras.layers.Dense(latent_dim + latent_dim)\n",
        "\n",
        "    def call(self, x, training=None):\n",
        "        seq = self.seq(x)    # (64, 32)\n",
        "        emb = self.emb(seq)  # (64, 32, 300)\n",
        "\n",
        "        conv_1 = self.conv_1(emb)     # (64, 15, 300)\n",
        "        conv_2 = self.conv_2(conv_1)  # (64, 7, 512)\n",
        "        conv_3 = self.conv_3(conv_2)  # (64, 3, 512)\n",
        "\n",
        "        flatten = self.flatten(conv_3)  # (64, 1536)\n",
        "        latent = self.latent(flatten)   # (64, 1024)\n",
        "        return latent\n"
      ],
      "execution_count": 28,
      "outputs": []
    },
    {
      "cell_type": "code",
      "metadata": {
        "id": "MAN2GcErlXV6"
      },
      "source": [
        "class Decoder(tf.keras.layers.Layer):\n",
        "    def __init__(self):\n",
        "        super(Decoder, self).__init__()\n",
        "\n",
        "        self.seq = tf.keras.layers.InputLayer(input_shape=(latent_dim,))\n",
        "        self.dense = tf.keras.layers.Dense(units=4 * 512, activation=tf.nn.relu)\n",
        "        self.reshape = tf.keras.layers.Reshape(target_shape=(4, 512))\n",
        "\n",
        "        self.conv_1 = tf.keras.layers.Conv1DTranspose(\n",
        "            filters=512, kernel_size=3, strides=2, padding='same', activation='relu'\n",
        "        )\n",
        "        self.conv_2 = tf.keras.layers.Conv1DTranspose(\n",
        "            filters=512, kernel_size=3, strides=2, padding='same', activation='relu'\n",
        "        )\n",
        "        self.conv_3 = tf.keras.layers.Conv1DTranspose(\n",
        "            filters=emb_size, kernel_size=3, strides=2, padding='same', activation='relu'\n",
        "        )\n",
        "\n",
        "        # No activation\n",
        "        self.embeddings = tf.keras.layers.Conv1DTranspose(\n",
        "            filters=emb_size, kernel_size=1, strides=1, padding='same'\n",
        "        )\n",
        "        self.word_logits = tf.keras.layers.Conv1DTranspose(\n",
        "            filters=word_vocab.vocab_size, kernel_size=1, strides=1, padding='same'\n",
        "        )\n",
        "        self.label_logits = tf.keras.layers.Conv1DTranspose(\n",
        "            filters=label_vocab.vocab_size, kernel_size=1, strides=1, padding='same'\n",
        "        )\n",
        "\n",
        "    def call(self, x, training=None):\n",
        "        seq = self.seq(x)        # (64, 512)\n",
        "        seq = self.dense(seq)    # (64, 2048)\n",
        "        seq = self.reshape(seq)  # (64, 4, 512)\n",
        "\n",
        "        conv_1 = self.conv_1(seq)     # (64, 8, 512)\n",
        "        conv_2 = self.conv_2(conv_1)  # (64, 16, 512)\n",
        "        conv_3 = self.conv_3(conv_2)  # (64, 32, 300)\n",
        "\n",
        "        embeddings = self.embeddings(conv_3)      # (64, 32, 300)\n",
        "        word_logits = self.word_logits(conv_3)    # (64, 32, 8002)\n",
        "        label_logits = self.label_logits(conv_3)  # (64, 32, 8002)\n",
        "        return embeddings, word_logits, label_logits\n"
      ],
      "execution_count": 29,
      "outputs": []
    },
    {
      "cell_type": "code",
      "metadata": {
        "id": "F6Ke0eDozIm0"
      },
      "source": [
        "class CVAE(tf.keras.Model):\n",
        "    \"\"\"Convolutional variational autoencoder.\"\"\"\n",
        "\n",
        "    def __init__(self, latent_dim):\n",
        "        super(CVAE, self).__init__()\n",
        "        self.latent_dim = latent_dim\n",
        "\n",
        "        self.encoder = Encoder()\n",
        "        self.decoder = Decoder()\n",
        "\n",
        "    @tf.function\n",
        "    def sample(self, eps=None):\n",
        "        if eps is None:\n",
        "            eps = tf.random.normal(shape=(100, self.latent_dim))\n",
        "        return self.decode(eps, apply_sigmoid=True)\n",
        "\n",
        "    def encode(self, x):\n",
        "        mean, log_variance = tf.split(self.encoder(x), num_or_size_splits=2, axis=1)\n",
        "        return mean, log_variance\n",
        "\n",
        "    def reparameterize(self, mean, log_variance):\n",
        "        eps = tf.random.normal(shape=mean.shape)\n",
        "        return eps * tf.exp(log_variance * .5) + mean\n",
        "\n",
        "    def decode(self, z, apply_sigmoid=False):\n",
        "        embeddings, word_logits, label_logits = self.decoder(z)\n",
        "        if apply_sigmoid:\n",
        "            word_logits = tf.sigmoid(word_logits)\n",
        "            label_logits = tf.sigmoid(label_logits)\n",
        "        return embeddings, word_logits, label_logits\n"
      ],
      "execution_count": 30,
      "outputs": []
    },
    {
      "cell_type": "code",
      "metadata": {
        "id": "pmo3pXomoBGz"
      },
      "source": [
        "optimizer = tf.keras.optimizers.Adam(1e-4)\n",
        "\n",
        "\n",
        "def log_normal_pdf(sample, mean, log_variance, raxis=1):\n",
        "    log_2pi = tf.math.log(2. * np.pi)\n",
        "    return tf.reduce_sum(-0.5 * ((sample - mean) ** 2. * tf.exp(-log_variance) + log_variance + log_2pi), axis=raxis)\n",
        "\n",
        "\n",
        "def compute_loss(model, x):\n",
        "    # TODO: разделить encode на две части\n",
        "    #       latent: чтобы сразу учитывать labels\n",
        "    #       mean, variance: чтобы потом декодировать предложение\n",
        "    # \n",
        "    # С одной стороны, чем дальше от входа, тем сложнее обучение\n",
        "    # С другой стороны, это плохая идея, потому что labels зависят от контекста\n",
        "    mean, log_variance = model.encode(x['words'])\n",
        "    z = model.reparameterize(mean, log_variance)\n",
        "\n",
        "    embeddings, word_logits, label_logits = model.decode(z)\n",
        "\n",
        "    words = tf.one_hot(x['words'], depth=word_vocab.vocab_size, dtype='float32')\n",
        "    cross_entropy = tf.nn.sigmoid_cross_entropy_with_logits(logits=word_logits, labels=words)\n",
        "    word_loss = -tf.reduce_sum(cross_entropy, axis=[1, 2])\n",
        "\n",
        "    labels = tf.one_hot(x['labels'], depth=label_vocab.vocab_size, dtype='float32')\n",
        "    cross_entropy = tf.nn.sigmoid_cross_entropy_with_logits(logits=label_logits, labels=labels)\n",
        "    label_loss = -tf.reduce_sum(cross_entropy, axis=[1, 2])\n",
        "\n",
        "    # log_px_z = word_loss + 0.01 * label_loss\n",
        "    log_px_z = word_loss + label_loss\n",
        "    log_pz = log_normal_pdf(z, 0., 0.)\n",
        "    log_qz_x = log_normal_pdf(z, mean, log_variance)\n",
        "    return -tf.reduce_mean(log_px_z + log_pz - log_qz_x)\n",
        "\n",
        "\n",
        "@tf.function\n",
        "def train_step(model, sample, optimizer):\n",
        "    \"\"\"Executes one training step and returns the loss.\n",
        "\n",
        "    This function computes the loss and gradients, and uses the latter to\n",
        "    update the model's parameters.\n",
        "    \"\"\"\n",
        "    with tf.GradientTape() as tape:\n",
        "        loss = compute_loss(model, sample)\n",
        "    gradients = tape.gradient(loss, model.trainable_variables)\n",
        "    optimizer.apply_gradients(zip(gradients, model.trainable_variables))\n"
      ],
      "execution_count": 31,
      "outputs": []
    },
    {
      "cell_type": "code",
      "metadata": {
        "id": "qWwDzQn1G4q3"
      },
      "source": [
        "def print_words_and_labels(words, labels, length=None):\n",
        "    length = length or len(words)\n",
        "    sentence = ' '.join(words[:length])\n",
        "\n",
        "    words = ' '.join(f'{str(item):<15s}_'[:16] for item in words)\n",
        "    labels = ' '.join(f'{str(item):<15s}_'[:16] for item in labels)\n",
        "\n",
        "    string = f\"\"\"\n",
        "        sentence: {sentence}\n",
        "        words   : {words}\n",
        "        labels  : {labels}\n",
        "    \"\"\"\n",
        "    print(string)\n"
      ],
      "execution_count": 32,
      "outputs": []
    },
    {
      "cell_type": "code",
      "metadata": {
        "id": "iGklDTzDiC9v"
      },
      "source": [
        "def decode_sentences(sentences):\n",
        "    sentences = [word_vocab.decode_words(sentence) for sentence in sentences]\n",
        "    sentences = [' '.join(sentence) for sentence in sentences]\n",
        "    return sentences\n",
        "\n",
        "\n",
        "def generate_sentences(model, sample):\n",
        "    words = [word_vocab.decode_words(words) for words in sample['words'].numpy()]\n",
        "    labels = [label_vocab.decode_words(words) for words in sample['labels'].numpy()]\n",
        "\n",
        "    mean, log_variance = model.encode(sample['words'])\n",
        "    z = model.reparameterize(mean, log_variance)\n",
        "    embeddings, word_predictions, label_predictions = model.sample(z)\n",
        "\n",
        "    word_predictions = np.argmax(word_predictions, axis=-1)\n",
        "    label_predictions = np.argmax(label_predictions, axis=-1)\n",
        "\n",
        "    word_predictions = [word_vocab.decode_words(ws) for ws in word_predictions]\n",
        "    label_predictions = [label_vocab.decode_words(ls) for ls in label_predictions]\n",
        "    return list(zip(words, labels, word_predictions, label_predictions))\n"
      ],
      "execution_count": 33,
      "outputs": []
    },
    {
      "cell_type": "markdown",
      "metadata": {
        "id": "m94SzX1T2tc2"
      },
      "source": [
        "# Training"
      ]
    },
    {
      "cell_type": "code",
      "metadata": {
        "id": "C1CCus_0m0EN"
      },
      "source": [
        "tf.keras.backend.clear_session()"
      ],
      "execution_count": 34,
      "outputs": []
    },
    {
      "cell_type": "code",
      "metadata": {
        "id": "s_nNw1KZnmoc"
      },
      "source": [
        "epochs = 100\n",
        "num_samples = 4\n",
        "\n",
        "model = CVAE(latent_dim)"
      ],
      "execution_count": 35,
      "outputs": []
    },
    {
      "cell_type": "code",
      "metadata": {
        "id": "8AZhjr7sgS6j"
      },
      "source": [
        "for sample in test_sentences.take(1):\n",
        "    test_sample = sample\n"
      ],
      "execution_count": 36,
      "outputs": []
    },
    {
      "cell_type": "code",
      "metadata": {
        "id": "hSFgfuRmkCAl",
        "outputId": "53c26006-6fe8-4089-d1a7-4eedaa8b41ba",
        "colab": {
          "base_uri": "https://localhost:8080/"
        }
      },
      "source": [
        "for sentence in decode_sentences(test_sample['words'].numpy()[:num_samples]):\n",
        "    print(sentence)\n"
      ],
      "execution_count": 37,
      "outputs": [
        {
          "output_type": "stream",
          "text": [
            "a man walking along side a clean up crew . [PAD] [PAD] [PAD] [PAD] [PAD] [PAD] [PAD] [PAD] [PAD] [PAD] [PAD] [PAD] [PAD] [PAD] [PAD] [PAD] [PAD] [PAD] [PAD] [PAD] [PAD] [PAD]\n",
            "a foreign family is walking along a dirt path next to the water . [PAD] [PAD] [PAD] [PAD] [PAD] [PAD] [PAD] [PAD] [PAD] [PAD] [PAD] [PAD] [PAD] [PAD] [PAD] [PAD] [PAD] [PAD]\n",
            "a young man doing a trick on a skateboard down the stairs while being photographed . [PAD] [PAD] [PAD] [PAD] [PAD] [PAD] [PAD] [PAD] [PAD] [PAD] [PAD] [PAD] [PAD] [PAD] [PAD] [PAD]\n",
            "a little boy swimming underwater with a toy in his hand . [PAD] [PAD] [PAD] [PAD] [PAD] [PAD] [PAD] [PAD] [PAD] [PAD] [PAD] [PAD] [PAD] [PAD] [PAD] [PAD] [PAD] [PAD] [PAD] [PAD]\n"
          ],
          "name": "stdout"
        }
      ]
    },
    {
      "cell_type": "code",
      "metadata": {
        "id": "k0cQEiWzeQ3j",
        "outputId": "66d87660-4239-49ba-c0eb-3b3b6face711",
        "colab": {
          "base_uri": "https://localhost:8080/"
        }
      },
      "source": [
        "for epoch in range(1, epochs + 1):\n",
        "\n",
        "    start_time = time.time()\n",
        "    for sample in train_sentences:\n",
        "        train_step(model, sample, optimizer)\n",
        "    end_time = time.time()\n",
        "    print(f'Train time: {end_time - start_time:.4f}')\n",
        "\n",
        "    loss = tf.keras.metrics.Mean()\n",
        "\n",
        "    start_time = time.time()\n",
        "    for sample in test_sentences:\n",
        "        loss(compute_loss(model, sample))\n",
        "    end_time = time.time()\n",
        "    print(f' Test time: {end_time - start_time:.4f}')\n",
        "    \n",
        "    elbo = -loss.result()\n",
        "\n",
        "    # if epoch % 1 == 10 or epoch == epochs:\n",
        "        # display.clear_output(wait=False)\n",
        "    print(f'Epoch: {epoch}, ELBO: {elbo:.4f}')\n",
        "    for (words, labels, pred_words, pred_labels) in generate_sentences(model, test_sample)[:num_samples]:\n",
        "        length = len([w for w in words if w != '[PAD]'])\n",
        "        print_words_and_labels(words, labels, length=length)\n",
        "        print_words_and_labels(pred_words, pred_labels, length=length)\n"
      ],
      "execution_count": null,
      "outputs": [
        {
          "output_type": "stream",
          "text": [
            "WARNING:tensorflow:Gradients do not exist for variables ['decoder/conv1d_transpose_3/kernel:0', 'decoder/conv1d_transpose_3/bias:0'] when minimizing the loss.\n"
          ],
          "name": "stdout"
        },
        {
          "output_type": "stream",
          "text": [
            "2020-10-18 16:11:42,972 [WARNI] [_filter_grads                   ]  Gradients do not exist for variables ['decoder/conv1d_transpose_3/kernel:0', 'decoder/conv1d_transpose_3/bias:0'] when minimizing the loss.\n"
          ],
          "name": "stderr"
        },
        {
          "output_type": "stream",
          "text": [
            "WARNING:tensorflow:Gradients do not exist for variables ['decoder/conv1d_transpose_3/kernel:0', 'decoder/conv1d_transpose_3/bias:0'] when minimizing the loss.\n"
          ],
          "name": "stdout"
        },
        {
          "output_type": "stream",
          "text": [
            "2020-10-18 16:11:43,488 [WARNI] [_filter_grads                   ]  Gradients do not exist for variables ['decoder/conv1d_transpose_3/kernel:0', 'decoder/conv1d_transpose_3/bias:0'] when minimizing the loss.\n"
          ],
          "name": "stderr"
        },
        {
          "output_type": "stream",
          "text": [
            "WARNING:tensorflow:Gradients do not exist for variables ['decoder/conv1d_transpose_3/kernel:0', 'decoder/conv1d_transpose_3/bias:0'] when minimizing the loss.\n"
          ],
          "name": "stdout"
        },
        {
          "output_type": "stream",
          "text": [
            "2020-10-18 16:15:17,748 [WARNI] [_filter_grads                   ]  Gradients do not exist for variables ['decoder/conv1d_transpose_3/kernel:0', 'decoder/conv1d_transpose_3/bias:0'] when minimizing the loss.\n"
          ],
          "name": "stderr"
        },
        {
          "output_type": "stream",
          "text": [
            "Epoch: 1, ELBO: -412.1704\n",
            "\n",
            "        sentence: a man walking along side a clean up crew .\n",
            "        words   : a              _ man            _ walking        _ along          _ side           _ a              _ clean          _ up             _ crew           _ .              _ [PAD]          _ [PAD]          _ [PAD]          _ [PAD]          _ [PAD]          _ [PAD]          _ [PAD]          _ [PAD]          _ [PAD]          _ [PAD]          _ [PAD]          _ [PAD]          _ [PAD]          _ [PAD]          _ [PAD]          _ [PAD]          _ [PAD]          _ [PAD]          _ [PAD]          _ [PAD]          _ [PAD]          _ [PAD]          _\n",
            "        labels  : NP-NP-DT       _ NP-NP-NN       _ NP-VP-VBG      _ NP-VP-PRT-RP   _ NP-VP-NP-RB    _ NP-VP-NP-DT    _ NP-VP-NP-ADJP-JJ [UNK]          _ NP-VP-NP-NN    _ NP-.           _ [PAD]          _ [PAD]          _ [PAD]          _ [PAD]          _ [PAD]          _ [PAD]          _ [PAD]          _ [PAD]          _ [PAD]          _ [PAD]          _ [PAD]          _ [PAD]          _ [PAD]          _ [PAD]          _ [PAD]          _ [PAD]          _ [PAD]          _ [PAD]          _ [PAD]          _ [PAD]          _ [PAD]          _ [PAD]          _\n",
            "    \n",
            "\n",
            "        sentence: [PAD] [PAD] [PAD] [PAD] [PAD] [PAD] [PAD] [PAD] [PAD] [PAD]\n",
            "        words   : [PAD]          _ [PAD]          _ [PAD]          _ [PAD]          _ [PAD]          _ [PAD]          _ [PAD]          _ [PAD]          _ [PAD]          _ [PAD]          _ [PAD]          _ [PAD]          _ [PAD]          _ [PAD]          _ [PAD]          _ [PAD]          _ [PAD]          _ [PAD]          _ [PAD]          _ [PAD]          _ [PAD]          _ [PAD]          _ [PAD]          _ [PAD]          _ [PAD]          _ [PAD]          _ [PAD]          _ [PAD]          _ [PAD]          _ [PAD]          _ [PAD]          _ [PAD]          _\n",
            "        labels  : [PAD]          _ [PAD]          _ [PAD]          _ [PAD]          _ [PAD]          _ [PAD]          _ [PAD]          _ [PAD]          _ [PAD]          _ [PAD]          _ [PAD]          _ [PAD]          _ [PAD]          _ [PAD]          _ [PAD]          _ [PAD]          _ [PAD]          _ [PAD]          _ [PAD]          _ [PAD]          _ [PAD]          _ [PAD]          _ [PAD]          _ [PAD]          _ [PAD]          _ [PAD]          _ [PAD]          _ [PAD]          _ [PAD]          _ [PAD]          _ [PAD]          _ [PAD]          _\n",
            "    \n",
            "\n",
            "        sentence: a foreign family is walking along a dirt path next to the water .\n",
            "        words   : a              _ foreign        _ family         _ is             _ walking        _ along          _ a              _ dirt           _ path           _ next           _ to             _ the            _ water          _ .              _ [PAD]          _ [PAD]          _ [PAD]          _ [PAD]          _ [PAD]          _ [PAD]          _ [PAD]          _ [PAD]          _ [PAD]          _ [PAD]          _ [PAD]          _ [PAD]          _ [PAD]          _ [PAD]          _ [PAD]          _ [PAD]          _ [PAD]          _ [PAD]          _\n",
            "        labels  : NP-DT          _ NP-JJ          _ NP-NN          _ VP-VBZ         _ VP-VP-VBG      _ VP-VP-PP-IN    _ VP-VP-PP-NP-DT _ VP-VP-PP-NP-NN _ VP-VP-PP-NP-NN _ VP-VP-ADVP-JJ  _ VP-VP-ADVP-PP-TO VP-VP-ADVP-PP-NP VP-VP-ADVP-PP-NP .              _ [PAD]          _ [PAD]          _ [PAD]          _ [PAD]          _ [PAD]          _ [PAD]          _ [PAD]          _ [PAD]          _ [PAD]          _ [PAD]          _ [PAD]          _ [PAD]          _ [PAD]          _ [PAD]          _ [PAD]          _ [PAD]          _ [PAD]          _ [PAD]          _\n",
            "    \n",
            "\n",
            "        sentence: [PAD] [PAD] [PAD] [PAD] [PAD] [PAD] [PAD] [PAD] [PAD] [PAD] [PAD] [PAD] [PAD] [PAD]\n",
            "        words   : [PAD]          _ [PAD]          _ [PAD]          _ [PAD]          _ [PAD]          _ [PAD]          _ [PAD]          _ [PAD]          _ [PAD]          _ [PAD]          _ [PAD]          _ [PAD]          _ [PAD]          _ [PAD]          _ [PAD]          _ [PAD]          _ [PAD]          _ [PAD]          _ [PAD]          _ [PAD]          _ [PAD]          _ [PAD]          _ [PAD]          _ [PAD]          _ [PAD]          _ [PAD]          _ [PAD]          _ [PAD]          _ [PAD]          _ [PAD]          _ [PAD]          _ [PAD]          _\n",
            "        labels  : [PAD]          _ [PAD]          _ [PAD]          _ [PAD]          _ [PAD]          _ [PAD]          _ [PAD]          _ [PAD]          _ [PAD]          _ [PAD]          _ [PAD]          _ [PAD]          _ [PAD]          _ [PAD]          _ [PAD]          _ [PAD]          _ [PAD]          _ [PAD]          _ [PAD]          _ [PAD]          _ [PAD]          _ [PAD]          _ [PAD]          _ [PAD]          _ [PAD]          _ [PAD]          _ [PAD]          _ [PAD]          _ [PAD]          _ [PAD]          _ [PAD]          _ [PAD]          _\n",
            "    \n",
            "\n",
            "        sentence: a young man doing a trick on a skateboard down the stairs while being photographed .\n",
            "        words   : a              _ young          _ man            _ doing          _ a              _ trick          _ on             _ a              _ skateboard     _ down           _ the            _ stairs         _ while          _ being          _ photographed   _ .              _ [PAD]          _ [PAD]          _ [PAD]          _ [PAD]          _ [PAD]          _ [PAD]          _ [PAD]          _ [PAD]          _ [PAD]          _ [PAD]          _ [PAD]          _ [PAD]          _ [PAD]          _ [PAD]          _ [PAD]          _ [PAD]          _\n",
            "        labels  : NP-NP-DT       _ NP-NP-JJ       _ NP-NP-NN       _ NP-VP-VBG      _ NP-VP-NP-DT    _ NP-VP-NP-NN    _ NP-VP-PP-IN    _ NP-VP-PP-NP-NP-D NP-VP-PP-NP-NP-A [UNK]          _ [UNK]          _ [UNK]          _ NP-VP-PP-NP-NP-N NP-VP-PP-NP-VP-V NP-VP-PP-NP-VP-V NP-.           _ [PAD]          _ [PAD]          _ [PAD]          _ [PAD]          _ [PAD]          _ [PAD]          _ [PAD]          _ [PAD]          _ [PAD]          _ [PAD]          _ [PAD]          _ [PAD]          _ [PAD]          _ [PAD]          _ [PAD]          _ [PAD]          _\n",
            "    \n",
            "\n",
            "        sentence: [PAD] [PAD] [PAD] [PAD] [PAD] [PAD] [PAD] [PAD] [PAD] [PAD] [PAD] [PAD] [PAD] [PAD] [PAD] [PAD]\n",
            "        words   : [PAD]          _ [PAD]          _ [PAD]          _ [PAD]          _ [PAD]          _ [PAD]          _ [PAD]          _ [PAD]          _ [PAD]          _ [PAD]          _ [PAD]          _ [PAD]          _ [PAD]          _ [PAD]          _ [PAD]          _ [PAD]          _ [PAD]          _ [PAD]          _ [PAD]          _ [PAD]          _ [PAD]          _ [PAD]          _ [PAD]          _ [PAD]          _ [PAD]          _ [PAD]          _ [PAD]          _ [PAD]          _ [PAD]          _ [PAD]          _ [PAD]          _ [PAD]          _\n",
            "        labels  : [PAD]          _ [PAD]          _ [PAD]          _ [PAD]          _ [PAD]          _ [PAD]          _ [PAD]          _ [PAD]          _ [PAD]          _ [PAD]          _ [PAD]          _ [PAD]          _ [PAD]          _ [PAD]          _ [PAD]          _ [PAD]          _ [PAD]          _ [PAD]          _ [PAD]          _ [PAD]          _ [PAD]          _ [PAD]          _ [PAD]          _ [PAD]          _ [PAD]          _ [PAD]          _ [PAD]          _ [PAD]          _ [PAD]          _ [PAD]          _ [PAD]          _ [PAD]          _\n",
            "    \n",
            "\n",
            "        sentence: a little boy swimming underwater with a toy in his hand .\n",
            "        words   : a              _ little         _ boy            _ swimming       _ underwater     _ with           _ a              _ toy            _ in             _ his            _ hand           _ .              _ [PAD]          _ [PAD]          _ [PAD]          _ [PAD]          _ [PAD]          _ [PAD]          _ [PAD]          _ [PAD]          _ [PAD]          _ [PAD]          _ [PAD]          _ [PAD]          _ [PAD]          _ [PAD]          _ [PAD]          _ [PAD]          _ [PAD]          _ [PAD]          _ [PAD]          _ [PAD]          _\n",
            "        labels  : NP-NP-DT       _ NP-NP-JJ       _ NP-NP-NN       _ NP-VP-VBG      _ NP-VP-ADVP-RB  _ NP-VP-PP-IN    _ NP-VP-PP-NP-NP-D NP-VP-PP-NP-NP-N NP-VP-PP-NP-PP-I NP-VP-PP-NP-PP-N NP-VP-PP-NP-PP-N NP-.           _ [PAD]          _ [PAD]          _ [PAD]          _ [PAD]          _ [PAD]          _ [PAD]          _ [PAD]          _ [PAD]          _ [PAD]          _ [PAD]          _ [PAD]          _ [PAD]          _ [PAD]          _ [PAD]          _ [PAD]          _ [PAD]          _ [PAD]          _ [PAD]          _ [PAD]          _ [PAD]          _\n",
            "    \n",
            "\n",
            "        sentence: [PAD] [PAD] [PAD] [PAD] [PAD] [PAD] [PAD] [PAD] [PAD] [PAD] [PAD] [PAD]\n",
            "        words   : [PAD]          _ [PAD]          _ [PAD]          _ [PAD]          _ [PAD]          _ [PAD]          _ [PAD]          _ [PAD]          _ [PAD]          _ [PAD]          _ [PAD]          _ [PAD]          _ [PAD]          _ [PAD]          _ [PAD]          _ [PAD]          _ [PAD]          _ [PAD]          _ [PAD]          _ [PAD]          _ [PAD]          _ [PAD]          _ [PAD]          _ [PAD]          _ [PAD]          _ [PAD]          _ [PAD]          _ [PAD]          _ [PAD]          _ [PAD]          _ [PAD]          _ [PAD]          _\n",
            "        labels  : [PAD]          _ [PAD]          _ [PAD]          _ [PAD]          _ [PAD]          _ [PAD]          _ [PAD]          _ [PAD]          _ [PAD]          _ [PAD]          _ [PAD]          _ [PAD]          _ [PAD]          _ [PAD]          _ [PAD]          _ [PAD]          _ [PAD]          _ [PAD]          _ [PAD]          _ [PAD]          _ [PAD]          _ [PAD]          _ [PAD]          _ [PAD]          _ [PAD]          _ [PAD]          _ [PAD]          _ [PAD]          _ [PAD]          _ [PAD]          _ [PAD]          _ [PAD]          _\n",
            "    \n",
            "Epoch: 2, ELBO: -294.7971\n",
            "\n",
            "        sentence: a man walking along side a clean up crew .\n",
            "        words   : a              _ man            _ walking        _ along          _ side           _ a              _ clean          _ up             _ crew           _ .              _ [PAD]          _ [PAD]          _ [PAD]          _ [PAD]          _ [PAD]          _ [PAD]          _ [PAD]          _ [PAD]          _ [PAD]          _ [PAD]          _ [PAD]          _ [PAD]          _ [PAD]          _ [PAD]          _ [PAD]          _ [PAD]          _ [PAD]          _ [PAD]          _ [PAD]          _ [PAD]          _ [PAD]          _ [PAD]          _\n",
            "        labels  : NP-NP-DT       _ NP-NP-NN       _ NP-VP-VBG      _ NP-VP-PRT-RP   _ NP-VP-NP-RB    _ NP-VP-NP-DT    _ NP-VP-NP-ADJP-JJ [UNK]          _ NP-VP-NP-NN    _ NP-.           _ [PAD]          _ [PAD]          _ [PAD]          _ [PAD]          _ [PAD]          _ [PAD]          _ [PAD]          _ [PAD]          _ [PAD]          _ [PAD]          _ [PAD]          _ [PAD]          _ [PAD]          _ [PAD]          _ [PAD]          _ [PAD]          _ [PAD]          _ [PAD]          _ [PAD]          _ [PAD]          _ [PAD]          _ [PAD]          _\n",
            "    \n",
            "\n",
            "        sentence: [PAD] [PAD] [PAD] [PAD] [PAD] [PAD] [PAD] [PAD] [PAD] [PAD]\n",
            "        words   : [PAD]          _ [PAD]          _ [PAD]          _ [PAD]          _ [PAD]          _ [PAD]          _ [PAD]          _ [PAD]          _ [PAD]          _ [PAD]          _ [PAD]          _ [PAD]          _ [PAD]          _ [PAD]          _ [PAD]          _ [PAD]          _ [PAD]          _ [PAD]          _ [PAD]          _ [PAD]          _ [PAD]          _ [PAD]          _ [PAD]          _ [PAD]          _ [PAD]          _ [PAD]          _ [PAD]          _ [PAD]          _ [PAD]          _ [PAD]          _ [PAD]          _ [PAD]          _\n",
            "        labels  : NP-DT          _ [PAD]          _ [PAD]          _ [PAD]          _ [PAD]          _ [PAD]          _ [PAD]          _ [PAD]          _ [PAD]          _ [PAD]          _ [PAD]          _ [PAD]          _ [PAD]          _ [PAD]          _ [PAD]          _ [PAD]          _ [PAD]          _ [PAD]          _ [PAD]          _ [PAD]          _ [PAD]          _ [PAD]          _ [PAD]          _ [PAD]          _ [PAD]          _ [PAD]          _ [PAD]          _ [PAD]          _ [PAD]          _ [PAD]          _ [PAD]          _ [PAD]          _\n",
            "    \n",
            "\n",
            "        sentence: a foreign family is walking along a dirt path next to the water .\n",
            "        words   : a              _ foreign        _ family         _ is             _ walking        _ along          _ a              _ dirt           _ path           _ next           _ to             _ the            _ water          _ .              _ [PAD]          _ [PAD]          _ [PAD]          _ [PAD]          _ [PAD]          _ [PAD]          _ [PAD]          _ [PAD]          _ [PAD]          _ [PAD]          _ [PAD]          _ [PAD]          _ [PAD]          _ [PAD]          _ [PAD]          _ [PAD]          _ [PAD]          _ [PAD]          _\n",
            "        labels  : NP-DT          _ NP-JJ          _ NP-NN          _ VP-VBZ         _ VP-VP-VBG      _ VP-VP-PP-IN    _ VP-VP-PP-NP-DT _ VP-VP-PP-NP-NN _ VP-VP-PP-NP-NN _ VP-VP-ADVP-JJ  _ VP-VP-ADVP-PP-TO VP-VP-ADVP-PP-NP VP-VP-ADVP-PP-NP .              _ [PAD]          _ [PAD]          _ [PAD]          _ [PAD]          _ [PAD]          _ [PAD]          _ [PAD]          _ [PAD]          _ [PAD]          _ [PAD]          _ [PAD]          _ [PAD]          _ [PAD]          _ [PAD]          _ [PAD]          _ [PAD]          _ [PAD]          _ [PAD]          _\n",
            "    \n",
            "\n",
            "        sentence: [PAD] [PAD] [PAD] [PAD] [PAD] [PAD] [PAD] [PAD] [PAD] [PAD] [PAD] [PAD] [PAD] [PAD]\n",
            "        words   : [PAD]          _ [PAD]          _ [PAD]          _ [PAD]          _ [PAD]          _ [PAD]          _ [PAD]          _ [PAD]          _ [PAD]          _ [PAD]          _ [PAD]          _ [PAD]          _ [PAD]          _ [PAD]          _ [PAD]          _ [PAD]          _ [PAD]          _ [PAD]          _ [PAD]          _ [PAD]          _ [PAD]          _ [PAD]          _ [PAD]          _ [PAD]          _ [PAD]          _ [PAD]          _ [PAD]          _ [PAD]          _ [PAD]          _ [PAD]          _ [PAD]          _ [PAD]          _\n",
            "        labels  : NP-DT          _ [PAD]          _ [PAD]          _ [PAD]          _ [PAD]          _ [PAD]          _ [PAD]          _ [PAD]          _ [PAD]          _ [PAD]          _ [PAD]          _ [PAD]          _ [PAD]          _ [PAD]          _ [PAD]          _ [PAD]          _ [PAD]          _ [PAD]          _ [PAD]          _ [PAD]          _ [PAD]          _ [PAD]          _ [PAD]          _ [PAD]          _ [PAD]          _ [PAD]          _ [PAD]          _ [PAD]          _ [PAD]          _ [PAD]          _ [PAD]          _ [PAD]          _\n",
            "    \n",
            "\n",
            "        sentence: a young man doing a trick on a skateboard down the stairs while being photographed .\n",
            "        words   : a              _ young          _ man            _ doing          _ a              _ trick          _ on             _ a              _ skateboard     _ down           _ the            _ stairs         _ while          _ being          _ photographed   _ .              _ [PAD]          _ [PAD]          _ [PAD]          _ [PAD]          _ [PAD]          _ [PAD]          _ [PAD]          _ [PAD]          _ [PAD]          _ [PAD]          _ [PAD]          _ [PAD]          _ [PAD]          _ [PAD]          _ [PAD]          _ [PAD]          _\n",
            "        labels  : NP-NP-DT       _ NP-NP-JJ       _ NP-NP-NN       _ NP-VP-VBG      _ NP-VP-NP-DT    _ NP-VP-NP-NN    _ NP-VP-PP-IN    _ NP-VP-PP-NP-NP-D NP-VP-PP-NP-NP-A [UNK]          _ [UNK]          _ [UNK]          _ NP-VP-PP-NP-NP-N NP-VP-PP-NP-VP-V NP-VP-PP-NP-VP-V NP-.           _ [PAD]          _ [PAD]          _ [PAD]          _ [PAD]          _ [PAD]          _ [PAD]          _ [PAD]          _ [PAD]          _ [PAD]          _ [PAD]          _ [PAD]          _ [PAD]          _ [PAD]          _ [PAD]          _ [PAD]          _ [PAD]          _\n",
            "    \n",
            "\n",
            "        sentence: [PAD] [PAD] [PAD] [PAD] [PAD] [PAD] [PAD] [PAD] [PAD] [PAD] [PAD] [PAD] [PAD] [PAD] [PAD] [PAD]\n",
            "        words   : [PAD]          _ [PAD]          _ [PAD]          _ [PAD]          _ [PAD]          _ [PAD]          _ [PAD]          _ [PAD]          _ [PAD]          _ [PAD]          _ [PAD]          _ [PAD]          _ [PAD]          _ [PAD]          _ [PAD]          _ [PAD]          _ [PAD]          _ [PAD]          _ [PAD]          _ [PAD]          _ [PAD]          _ [PAD]          _ [PAD]          _ [PAD]          _ [PAD]          _ [PAD]          _ [PAD]          _ [PAD]          _ [PAD]          _ [PAD]          _ [PAD]          _ [PAD]          _\n",
            "        labels  : NP-DT          _ [PAD]          _ [PAD]          _ [PAD]          _ [PAD]          _ [PAD]          _ [PAD]          _ [PAD]          _ [PAD]          _ [PAD]          _ [PAD]          _ [PAD]          _ [PAD]          _ [PAD]          _ [PAD]          _ [PAD]          _ [PAD]          _ [PAD]          _ [PAD]          _ [PAD]          _ [PAD]          _ [PAD]          _ [PAD]          _ [PAD]          _ [PAD]          _ [PAD]          _ [PAD]          _ [PAD]          _ [PAD]          _ [PAD]          _ [PAD]          _ [PAD]          _\n",
            "    \n",
            "\n",
            "        sentence: a little boy swimming underwater with a toy in his hand .\n",
            "        words   : a              _ little         _ boy            _ swimming       _ underwater     _ with           _ a              _ toy            _ in             _ his            _ hand           _ .              _ [PAD]          _ [PAD]          _ [PAD]          _ [PAD]          _ [PAD]          _ [PAD]          _ [PAD]          _ [PAD]          _ [PAD]          _ [PAD]          _ [PAD]          _ [PAD]          _ [PAD]          _ [PAD]          _ [PAD]          _ [PAD]          _ [PAD]          _ [PAD]          _ [PAD]          _ [PAD]          _\n",
            "        labels  : NP-NP-DT       _ NP-NP-JJ       _ NP-NP-NN       _ NP-VP-VBG      _ NP-VP-ADVP-RB  _ NP-VP-PP-IN    _ NP-VP-PP-NP-NP-D NP-VP-PP-NP-NP-N NP-VP-PP-NP-PP-I NP-VP-PP-NP-PP-N NP-VP-PP-NP-PP-N NP-.           _ [PAD]          _ [PAD]          _ [PAD]          _ [PAD]          _ [PAD]          _ [PAD]          _ [PAD]          _ [PAD]          _ [PAD]          _ [PAD]          _ [PAD]          _ [PAD]          _ [PAD]          _ [PAD]          _ [PAD]          _ [PAD]          _ [PAD]          _ [PAD]          _ [PAD]          _ [PAD]          _\n",
            "    \n",
            "\n",
            "        sentence: [PAD] [PAD] [PAD] [PAD] [PAD] [PAD] [PAD] [PAD] [PAD] [PAD] [PAD] [PAD]\n",
            "        words   : [PAD]          _ [PAD]          _ [PAD]          _ [PAD]          _ [PAD]          _ [PAD]          _ [PAD]          _ [PAD]          _ [PAD]          _ [PAD]          _ [PAD]          _ [PAD]          _ [PAD]          _ [PAD]          _ [PAD]          _ [PAD]          _ [PAD]          _ [PAD]          _ [PAD]          _ [PAD]          _ [PAD]          _ [PAD]          _ [PAD]          _ [PAD]          _ [PAD]          _ [PAD]          _ [PAD]          _ [PAD]          _ [PAD]          _ [PAD]          _ [PAD]          _ [PAD]          _\n",
            "        labels  : NP-DT          _ [PAD]          _ [PAD]          _ [PAD]          _ [PAD]          _ [PAD]          _ [PAD]          _ [PAD]          _ [PAD]          _ [PAD]          _ [PAD]          _ [PAD]          _ [PAD]          _ [PAD]          _ [PAD]          _ [PAD]          _ [PAD]          _ [PAD]          _ [PAD]          _ [PAD]          _ [PAD]          _ [PAD]          _ [PAD]          _ [PAD]          _ [PAD]          _ [PAD]          _ [PAD]          _ [PAD]          _ [PAD]          _ [PAD]          _ [PAD]          _ [PAD]          _\n",
            "    \n",
            "Epoch: 3, ELBO: -226.5564\n",
            "\n",
            "        sentence: a man walking along side a clean up crew .\n",
            "        words   : a              _ man            _ walking        _ along          _ side           _ a              _ clean          _ up             _ crew           _ .              _ [PAD]          _ [PAD]          _ [PAD]          _ [PAD]          _ [PAD]          _ [PAD]          _ [PAD]          _ [PAD]          _ [PAD]          _ [PAD]          _ [PAD]          _ [PAD]          _ [PAD]          _ [PAD]          _ [PAD]          _ [PAD]          _ [PAD]          _ [PAD]          _ [PAD]          _ [PAD]          _ [PAD]          _ [PAD]          _\n",
            "        labels  : NP-NP-DT       _ NP-NP-NN       _ NP-VP-VBG      _ NP-VP-PRT-RP   _ NP-VP-NP-RB    _ NP-VP-NP-DT    _ NP-VP-NP-ADJP-JJ [UNK]          _ NP-VP-NP-NN    _ NP-.           _ [PAD]          _ [PAD]          _ [PAD]          _ [PAD]          _ [PAD]          _ [PAD]          _ [PAD]          _ [PAD]          _ [PAD]          _ [PAD]          _ [PAD]          _ [PAD]          _ [PAD]          _ [PAD]          _ [PAD]          _ [PAD]          _ [PAD]          _ [PAD]          _ [PAD]          _ [PAD]          _ [PAD]          _ [PAD]          _\n",
            "    \n",
            "\n",
            "        sentence: a [PAD] is [PAD] [PAD] [PAD] [PAD] [PAD] [PAD] [PAD]\n",
            "        words   : a              _ [PAD]          _ is             _ [PAD]          _ [PAD]          _ [PAD]          _ [PAD]          _ [PAD]          _ [PAD]          _ [PAD]          _ [PAD]          _ [PAD]          _ [PAD]          _ [PAD]          _ [PAD]          _ [PAD]          _ [PAD]          _ [PAD]          _ [PAD]          _ [PAD]          _ [PAD]          _ [PAD]          _ [PAD]          _ [PAD]          _ [PAD]          _ [PAD]          _ [PAD]          _ [PAD]          _ [PAD]          _ [PAD]          _ [PAD]          _ [PAD]          _\n",
            "        labels  : NP-DT          _ NP-NN          _ VP-VBZ         _ [PAD]          _ [PAD]          _ [PAD]          _ [PAD]          _ [PAD]          _ [PAD]          _ [PAD]          _ [PAD]          _ [PAD]          _ [PAD]          _ [PAD]          _ [PAD]          _ [PAD]          _ [PAD]          _ [PAD]          _ [PAD]          _ [PAD]          _ [PAD]          _ [PAD]          _ [PAD]          _ [PAD]          _ [PAD]          _ [PAD]          _ [PAD]          _ [PAD]          _ [PAD]          _ [PAD]          _ [PAD]          _ [PAD]          _\n",
            "    \n",
            "\n",
            "        sentence: a foreign family is walking along a dirt path next to the water .\n",
            "        words   : a              _ foreign        _ family         _ is             _ walking        _ along          _ a              _ dirt           _ path           _ next           _ to             _ the            _ water          _ .              _ [PAD]          _ [PAD]          _ [PAD]          _ [PAD]          _ [PAD]          _ [PAD]          _ [PAD]          _ [PAD]          _ [PAD]          _ [PAD]          _ [PAD]          _ [PAD]          _ [PAD]          _ [PAD]          _ [PAD]          _ [PAD]          _ [PAD]          _ [PAD]          _\n",
            "        labels  : NP-DT          _ NP-JJ          _ NP-NN          _ VP-VBZ         _ VP-VP-VBG      _ VP-VP-PP-IN    _ VP-VP-PP-NP-DT _ VP-VP-PP-NP-NN _ VP-VP-PP-NP-NN _ VP-VP-ADVP-JJ  _ VP-VP-ADVP-PP-TO VP-VP-ADVP-PP-NP VP-VP-ADVP-PP-NP .              _ [PAD]          _ [PAD]          _ [PAD]          _ [PAD]          _ [PAD]          _ [PAD]          _ [PAD]          _ [PAD]          _ [PAD]          _ [PAD]          _ [PAD]          _ [PAD]          _ [PAD]          _ [PAD]          _ [PAD]          _ [PAD]          _ [PAD]          _ [PAD]          _\n",
            "    \n",
            "\n",
            "        sentence: a [PAD] is [PAD] [PAD] [PAD] [PAD] [PAD] [PAD] [PAD] [PAD] [PAD] [PAD] [PAD]\n",
            "        words   : a              _ [PAD]          _ is             _ [PAD]          _ [PAD]          _ [PAD]          _ [PAD]          _ [PAD]          _ [PAD]          _ [PAD]          _ [PAD]          _ [PAD]          _ [PAD]          _ [PAD]          _ [PAD]          _ [PAD]          _ [PAD]          _ [PAD]          _ [PAD]          _ [PAD]          _ [PAD]          _ [PAD]          _ [PAD]          _ [PAD]          _ [PAD]          _ [PAD]          _ [PAD]          _ [PAD]          _ [PAD]          _ [PAD]          _ [PAD]          _ [PAD]          _\n",
            "        labels  : NP-DT          _ NP-NN          _ VP-VBZ         _ [PAD]          _ [PAD]          _ [PAD]          _ [PAD]          _ [PAD]          _ [PAD]          _ [PAD]          _ [PAD]          _ [PAD]          _ [PAD]          _ [PAD]          _ [PAD]          _ [PAD]          _ [PAD]          _ [PAD]          _ [PAD]          _ [PAD]          _ [PAD]          _ [PAD]          _ [PAD]          _ [PAD]          _ [PAD]          _ [PAD]          _ [PAD]          _ [PAD]          _ [PAD]          _ [PAD]          _ [PAD]          _ [PAD]          _\n",
            "    \n",
            "\n",
            "        sentence: a young man doing a trick on a skateboard down the stairs while being photographed .\n",
            "        words   : a              _ young          _ man            _ doing          _ a              _ trick          _ on             _ a              _ skateboard     _ down           _ the            _ stairs         _ while          _ being          _ photographed   _ .              _ [PAD]          _ [PAD]          _ [PAD]          _ [PAD]          _ [PAD]          _ [PAD]          _ [PAD]          _ [PAD]          _ [PAD]          _ [PAD]          _ [PAD]          _ [PAD]          _ [PAD]          _ [PAD]          _ [PAD]          _ [PAD]          _\n",
            "        labels  : NP-NP-DT       _ NP-NP-JJ       _ NP-NP-NN       _ NP-VP-VBG      _ NP-VP-NP-DT    _ NP-VP-NP-NN    _ NP-VP-PP-IN    _ NP-VP-PP-NP-NP-D NP-VP-PP-NP-NP-A [UNK]          _ [UNK]          _ [UNK]          _ NP-VP-PP-NP-NP-N NP-VP-PP-NP-VP-V NP-VP-PP-NP-VP-V NP-.           _ [PAD]          _ [PAD]          _ [PAD]          _ [PAD]          _ [PAD]          _ [PAD]          _ [PAD]          _ [PAD]          _ [PAD]          _ [PAD]          _ [PAD]          _ [PAD]          _ [PAD]          _ [PAD]          _ [PAD]          _ [PAD]          _\n",
            "    \n",
            "\n",
            "        sentence: a [PAD] is [PAD] [PAD] [PAD] [PAD] [PAD] [PAD] [PAD] [PAD] [PAD] [PAD] [PAD] [PAD] [PAD]\n",
            "        words   : a              _ [PAD]          _ is             _ [PAD]          _ [PAD]          _ [PAD]          _ [PAD]          _ [PAD]          _ [PAD]          _ [PAD]          _ [PAD]          _ [PAD]          _ [PAD]          _ [PAD]          _ [PAD]          _ [PAD]          _ [PAD]          _ [PAD]          _ [PAD]          _ [PAD]          _ [PAD]          _ [PAD]          _ [PAD]          _ [PAD]          _ [PAD]          _ [PAD]          _ [PAD]          _ [PAD]          _ [PAD]          _ [PAD]          _ [PAD]          _ [PAD]          _\n",
            "        labels  : NP-DT          _ NP-NN          _ VP-VBZ         _ [PAD]          _ [PAD]          _ [PAD]          _ [PAD]          _ [PAD]          _ [PAD]          _ [PAD]          _ [PAD]          _ [PAD]          _ [PAD]          _ [PAD]          _ [PAD]          _ [PAD]          _ [PAD]          _ [PAD]          _ [PAD]          _ [PAD]          _ [PAD]          _ [PAD]          _ [PAD]          _ [PAD]          _ [PAD]          _ [PAD]          _ [PAD]          _ [PAD]          _ [PAD]          _ [PAD]          _ [PAD]          _ [PAD]          _\n",
            "    \n",
            "\n",
            "        sentence: a little boy swimming underwater with a toy in his hand .\n",
            "        words   : a              _ little         _ boy            _ swimming       _ underwater     _ with           _ a              _ toy            _ in             _ his            _ hand           _ .              _ [PAD]          _ [PAD]          _ [PAD]          _ [PAD]          _ [PAD]          _ [PAD]          _ [PAD]          _ [PAD]          _ [PAD]          _ [PAD]          _ [PAD]          _ [PAD]          _ [PAD]          _ [PAD]          _ [PAD]          _ [PAD]          _ [PAD]          _ [PAD]          _ [PAD]          _ [PAD]          _\n",
            "        labels  : NP-NP-DT       _ NP-NP-JJ       _ NP-NP-NN       _ NP-VP-VBG      _ NP-VP-ADVP-RB  _ NP-VP-PP-IN    _ NP-VP-PP-NP-NP-D NP-VP-PP-NP-NP-N NP-VP-PP-NP-PP-I NP-VP-PP-NP-PP-N NP-VP-PP-NP-PP-N NP-.           _ [PAD]          _ [PAD]          _ [PAD]          _ [PAD]          _ [PAD]          _ [PAD]          _ [PAD]          _ [PAD]          _ [PAD]          _ [PAD]          _ [PAD]          _ [PAD]          _ [PAD]          _ [PAD]          _ [PAD]          _ [PAD]          _ [PAD]          _ [PAD]          _ [PAD]          _ [PAD]          _\n",
            "    \n",
            "\n",
            "        sentence: a [PAD] is [PAD] [PAD] [PAD] [PAD] [PAD] [PAD] [PAD] [PAD] [PAD]\n",
            "        words   : a              _ [PAD]          _ is             _ [PAD]          _ [PAD]          _ [PAD]          _ [PAD]          _ [PAD]          _ [PAD]          _ [PAD]          _ [PAD]          _ [PAD]          _ [PAD]          _ [PAD]          _ [PAD]          _ [PAD]          _ [PAD]          _ [PAD]          _ [PAD]          _ [PAD]          _ [PAD]          _ [PAD]          _ [PAD]          _ [PAD]          _ [PAD]          _ [PAD]          _ [PAD]          _ [PAD]          _ [PAD]          _ [PAD]          _ [PAD]          _ [PAD]          _\n",
            "        labels  : NP-DT          _ NP-NN          _ VP-VBZ         _ [PAD]          _ [PAD]          _ [PAD]          _ [PAD]          _ [PAD]          _ [PAD]          _ [PAD]          _ [PAD]          _ [PAD]          _ [PAD]          _ [PAD]          _ [PAD]          _ [PAD]          _ [PAD]          _ [PAD]          _ [PAD]          _ [PAD]          _ [PAD]          _ [PAD]          _ [PAD]          _ [PAD]          _ [PAD]          _ [PAD]          _ [PAD]          _ [PAD]          _ [PAD]          _ [PAD]          _ [PAD]          _ [PAD]          _\n",
            "    \n",
            "Epoch: 4, ELBO: -205.8055\n",
            "\n",
            "        sentence: a man walking along side a clean up crew .\n",
            "        words   : a              _ man            _ walking        _ along          _ side           _ a              _ clean          _ up             _ crew           _ .              _ [PAD]          _ [PAD]          _ [PAD]          _ [PAD]          _ [PAD]          _ [PAD]          _ [PAD]          _ [PAD]          _ [PAD]          _ [PAD]          _ [PAD]          _ [PAD]          _ [PAD]          _ [PAD]          _ [PAD]          _ [PAD]          _ [PAD]          _ [PAD]          _ [PAD]          _ [PAD]          _ [PAD]          _ [PAD]          _\n",
            "        labels  : NP-NP-DT       _ NP-NP-NN       _ NP-VP-VBG      _ NP-VP-PRT-RP   _ NP-VP-NP-RB    _ NP-VP-NP-DT    _ NP-VP-NP-ADJP-JJ [UNK]          _ NP-VP-NP-NN    _ NP-.           _ [PAD]          _ [PAD]          _ [PAD]          _ [PAD]          _ [PAD]          _ [PAD]          _ [PAD]          _ [PAD]          _ [PAD]          _ [PAD]          _ [PAD]          _ [PAD]          _ [PAD]          _ [PAD]          _ [PAD]          _ [PAD]          _ [PAD]          _ [PAD]          _ [PAD]          _ [PAD]          _ [PAD]          _ [PAD]          _\n",
            "    \n",
            "\n",
            "        sentence: a man is [PAD] [PAD] [PAD] [PAD] [PAD] [PAD] [PAD]\n",
            "        words   : a              _ man            _ is             _ [PAD]          _ [PAD]          _ [PAD]          _ [PAD]          _ [PAD]          _ [PAD]          _ [PAD]          _ [PAD]          _ [PAD]          _ [PAD]          _ [PAD]          _ [PAD]          _ [PAD]          _ [PAD]          _ [PAD]          _ [PAD]          _ [PAD]          _ [PAD]          _ [PAD]          _ [PAD]          _ [PAD]          _ [PAD]          _ [PAD]          _ [PAD]          _ [PAD]          _ [PAD]          _ [PAD]          _ [PAD]          _ [PAD]          _\n",
            "        labels  : NP-DT          _ NP-NN          _ VP-VBZ         _ [PAD]          _ [PAD]          _ [PAD]          _ [PAD]          _ [PAD]          _ [PAD]          _ [PAD]          _ [PAD]          _ [PAD]          _ [PAD]          _ [PAD]          _ [PAD]          _ [PAD]          _ [PAD]          _ [PAD]          _ [PAD]          _ [PAD]          _ [PAD]          _ [PAD]          _ [PAD]          _ [PAD]          _ [PAD]          _ [PAD]          _ [PAD]          _ [PAD]          _ [PAD]          _ [PAD]          _ [PAD]          _ [PAD]          _\n",
            "    \n",
            "\n",
            "        sentence: a foreign family is walking along a dirt path next to the water .\n",
            "        words   : a              _ foreign        _ family         _ is             _ walking        _ along          _ a              _ dirt           _ path           _ next           _ to             _ the            _ water          _ .              _ [PAD]          _ [PAD]          _ [PAD]          _ [PAD]          _ [PAD]          _ [PAD]          _ [PAD]          _ [PAD]          _ [PAD]          _ [PAD]          _ [PAD]          _ [PAD]          _ [PAD]          _ [PAD]          _ [PAD]          _ [PAD]          _ [PAD]          _ [PAD]          _\n",
            "        labels  : NP-DT          _ NP-JJ          _ NP-NN          _ VP-VBZ         _ VP-VP-VBG      _ VP-VP-PP-IN    _ VP-VP-PP-NP-DT _ VP-VP-PP-NP-NN _ VP-VP-PP-NP-NN _ VP-VP-ADVP-JJ  _ VP-VP-ADVP-PP-TO VP-VP-ADVP-PP-NP VP-VP-ADVP-PP-NP .              _ [PAD]          _ [PAD]          _ [PAD]          _ [PAD]          _ [PAD]          _ [PAD]          _ [PAD]          _ [PAD]          _ [PAD]          _ [PAD]          _ [PAD]          _ [PAD]          _ [PAD]          _ [PAD]          _ [PAD]          _ [PAD]          _ [PAD]          _ [PAD]          _\n",
            "    \n",
            "\n",
            "        sentence: a man is [PAD] [PAD] [PAD] [PAD] [PAD] [PAD] [PAD] [PAD] [PAD] [PAD] [PAD]\n",
            "        words   : a              _ man            _ is             _ [PAD]          _ [PAD]          _ [PAD]          _ [PAD]          _ [PAD]          _ [PAD]          _ [PAD]          _ [PAD]          _ [PAD]          _ [PAD]          _ [PAD]          _ [PAD]          _ [PAD]          _ [PAD]          _ [PAD]          _ [PAD]          _ [PAD]          _ [PAD]          _ [PAD]          _ [PAD]          _ [PAD]          _ [PAD]          _ [PAD]          _ [PAD]          _ [PAD]          _ [PAD]          _ [PAD]          _ [PAD]          _ [PAD]          _\n",
            "        labels  : NP-DT          _ NP-NN          _ VP-VBZ         _ [PAD]          _ [PAD]          _ [PAD]          _ [PAD]          _ [PAD]          _ [PAD]          _ [PAD]          _ [PAD]          _ [PAD]          _ [PAD]          _ [PAD]          _ [PAD]          _ [PAD]          _ [PAD]          _ [PAD]          _ [PAD]          _ [PAD]          _ [PAD]          _ [PAD]          _ [PAD]          _ [PAD]          _ [PAD]          _ [PAD]          _ [PAD]          _ [PAD]          _ [PAD]          _ [PAD]          _ [PAD]          _ [PAD]          _\n",
            "    \n",
            "\n",
            "        sentence: a young man doing a trick on a skateboard down the stairs while being photographed .\n",
            "        words   : a              _ young          _ man            _ doing          _ a              _ trick          _ on             _ a              _ skateboard     _ down           _ the            _ stairs         _ while          _ being          _ photographed   _ .              _ [PAD]          _ [PAD]          _ [PAD]          _ [PAD]          _ [PAD]          _ [PAD]          _ [PAD]          _ [PAD]          _ [PAD]          _ [PAD]          _ [PAD]          _ [PAD]          _ [PAD]          _ [PAD]          _ [PAD]          _ [PAD]          _\n",
            "        labels  : NP-NP-DT       _ NP-NP-JJ       _ NP-NP-NN       _ NP-VP-VBG      _ NP-VP-NP-DT    _ NP-VP-NP-NN    _ NP-VP-PP-IN    _ NP-VP-PP-NP-NP-D NP-VP-PP-NP-NP-A [UNK]          _ [UNK]          _ [UNK]          _ NP-VP-PP-NP-NP-N NP-VP-PP-NP-VP-V NP-VP-PP-NP-VP-V NP-.           _ [PAD]          _ [PAD]          _ [PAD]          _ [PAD]          _ [PAD]          _ [PAD]          _ [PAD]          _ [PAD]          _ [PAD]          _ [PAD]          _ [PAD]          _ [PAD]          _ [PAD]          _ [PAD]          _ [PAD]          _ [PAD]          _\n",
            "    \n",
            "\n",
            "        sentence: a man is [PAD] [PAD] [PAD] [PAD] [PAD] [PAD] [PAD] [PAD] [PAD] [PAD] [PAD] [PAD] [PAD]\n",
            "        words   : a              _ man            _ is             _ [PAD]          _ [PAD]          _ [PAD]          _ [PAD]          _ [PAD]          _ [PAD]          _ [PAD]          _ [PAD]          _ [PAD]          _ [PAD]          _ [PAD]          _ [PAD]          _ [PAD]          _ [PAD]          _ [PAD]          _ [PAD]          _ [PAD]          _ [PAD]          _ [PAD]          _ [PAD]          _ [PAD]          _ [PAD]          _ [PAD]          _ [PAD]          _ [PAD]          _ [PAD]          _ [PAD]          _ [PAD]          _ [PAD]          _\n",
            "        labels  : NP-DT          _ NP-NN          _ VP-VBZ         _ [PAD]          _ [PAD]          _ [PAD]          _ [PAD]          _ [PAD]          _ [PAD]          _ [PAD]          _ [PAD]          _ [PAD]          _ [PAD]          _ [PAD]          _ [PAD]          _ [PAD]          _ [PAD]          _ [PAD]          _ [PAD]          _ [PAD]          _ [PAD]          _ [PAD]          _ [PAD]          _ [PAD]          _ [PAD]          _ [PAD]          _ [PAD]          _ [PAD]          _ [PAD]          _ [PAD]          _ [PAD]          _ [PAD]          _\n",
            "    \n",
            "\n",
            "        sentence: a little boy swimming underwater with a toy in his hand .\n",
            "        words   : a              _ little         _ boy            _ swimming       _ underwater     _ with           _ a              _ toy            _ in             _ his            _ hand           _ .              _ [PAD]          _ [PAD]          _ [PAD]          _ [PAD]          _ [PAD]          _ [PAD]          _ [PAD]          _ [PAD]          _ [PAD]          _ [PAD]          _ [PAD]          _ [PAD]          _ [PAD]          _ [PAD]          _ [PAD]          _ [PAD]          _ [PAD]          _ [PAD]          _ [PAD]          _ [PAD]          _\n",
            "        labels  : NP-NP-DT       _ NP-NP-JJ       _ NP-NP-NN       _ NP-VP-VBG      _ NP-VP-ADVP-RB  _ NP-VP-PP-IN    _ NP-VP-PP-NP-NP-D NP-VP-PP-NP-NP-N NP-VP-PP-NP-PP-I NP-VP-PP-NP-PP-N NP-VP-PP-NP-PP-N NP-.           _ [PAD]          _ [PAD]          _ [PAD]          _ [PAD]          _ [PAD]          _ [PAD]          _ [PAD]          _ [PAD]          _ [PAD]          _ [PAD]          _ [PAD]          _ [PAD]          _ [PAD]          _ [PAD]          _ [PAD]          _ [PAD]          _ [PAD]          _ [PAD]          _ [PAD]          _ [PAD]          _\n",
            "    \n",
            "\n",
            "        sentence: a man is [PAD] [PAD] [PAD] [PAD] [PAD] [PAD] [PAD] [PAD] [PAD]\n",
            "        words   : a              _ man            _ is             _ [PAD]          _ [PAD]          _ [PAD]          _ [PAD]          _ [PAD]          _ [PAD]          _ [PAD]          _ [PAD]          _ [PAD]          _ [PAD]          _ [PAD]          _ [PAD]          _ [PAD]          _ [PAD]          _ [PAD]          _ [PAD]          _ [PAD]          _ [PAD]          _ [PAD]          _ [PAD]          _ [PAD]          _ [PAD]          _ [PAD]          _ [PAD]          _ [PAD]          _ [PAD]          _ [PAD]          _ [PAD]          _ [PAD]          _\n",
            "        labels  : NP-DT          _ NP-NN          _ VP-VBZ         _ [PAD]          _ [PAD]          _ [PAD]          _ [PAD]          _ [PAD]          _ [PAD]          _ [PAD]          _ [PAD]          _ [PAD]          _ [PAD]          _ [PAD]          _ [PAD]          _ [PAD]          _ [PAD]          _ [PAD]          _ [PAD]          _ [PAD]          _ [PAD]          _ [PAD]          _ [PAD]          _ [PAD]          _ [PAD]          _ [PAD]          _ [PAD]          _ [PAD]          _ [PAD]          _ [PAD]          _ [PAD]          _ [PAD]          _\n",
            "    \n",
            "Epoch: 5, ELBO: -197.2614\n",
            "\n",
            "        sentence: a man walking along side a clean up crew .\n",
            "        words   : a              _ man            _ walking        _ along          _ side           _ a              _ clean          _ up             _ crew           _ .              _ [PAD]          _ [PAD]          _ [PAD]          _ [PAD]          _ [PAD]          _ [PAD]          _ [PAD]          _ [PAD]          _ [PAD]          _ [PAD]          _ [PAD]          _ [PAD]          _ [PAD]          _ [PAD]          _ [PAD]          _ [PAD]          _ [PAD]          _ [PAD]          _ [PAD]          _ [PAD]          _ [PAD]          _ [PAD]          _\n",
            "        labels  : NP-NP-DT       _ NP-NP-NN       _ NP-VP-VBG      _ NP-VP-PRT-RP   _ NP-VP-NP-RB    _ NP-VP-NP-DT    _ NP-VP-NP-ADJP-JJ [UNK]          _ NP-VP-NP-NN    _ NP-.           _ [PAD]          _ [PAD]          _ [PAD]          _ [PAD]          _ [PAD]          _ [PAD]          _ [PAD]          _ [PAD]          _ [PAD]          _ [PAD]          _ [PAD]          _ [PAD]          _ [PAD]          _ [PAD]          _ [PAD]          _ [PAD]          _ [PAD]          _ [PAD]          _ [PAD]          _ [PAD]          _ [PAD]          _ [PAD]          _\n",
            "    \n",
            "\n",
            "        sentence: a man is [PAD] [PAD] [PAD] [PAD] [PAD] [PAD] [PAD]\n",
            "        words   : a              _ man            _ is             _ [PAD]          _ [PAD]          _ [PAD]          _ [PAD]          _ [PAD]          _ [PAD]          _ [PAD]          _ [PAD]          _ [PAD]          _ [PAD]          _ [PAD]          _ [PAD]          _ [PAD]          _ [PAD]          _ [PAD]          _ [PAD]          _ [PAD]          _ [PAD]          _ [PAD]          _ [PAD]          _ [PAD]          _ [PAD]          _ [PAD]          _ [PAD]          _ [PAD]          _ [PAD]          _ [PAD]          _ [PAD]          _ [PAD]          _\n",
            "        labels  : NP-DT          _ NP-NN          _ VP-VBZ         _ [PAD]          _ [PAD]          _ [PAD]          _ [PAD]          _ [PAD]          _ [PAD]          _ [PAD]          _ [PAD]          _ [PAD]          _ [PAD]          _ [PAD]          _ [PAD]          _ [PAD]          _ [PAD]          _ [PAD]          _ [PAD]          _ [PAD]          _ [PAD]          _ [PAD]          _ [PAD]          _ [PAD]          _ [PAD]          _ [PAD]          _ [PAD]          _ [PAD]          _ [PAD]          _ [PAD]          _ [PAD]          _ [PAD]          _\n",
            "    \n",
            "\n",
            "        sentence: a foreign family is walking along a dirt path next to the water .\n",
            "        words   : a              _ foreign        _ family         _ is             _ walking        _ along          _ a              _ dirt           _ path           _ next           _ to             _ the            _ water          _ .              _ [PAD]          _ [PAD]          _ [PAD]          _ [PAD]          _ [PAD]          _ [PAD]          _ [PAD]          _ [PAD]          _ [PAD]          _ [PAD]          _ [PAD]          _ [PAD]          _ [PAD]          _ [PAD]          _ [PAD]          _ [PAD]          _ [PAD]          _ [PAD]          _\n",
            "        labels  : NP-DT          _ NP-JJ          _ NP-NN          _ VP-VBZ         _ VP-VP-VBG      _ VP-VP-PP-IN    _ VP-VP-PP-NP-DT _ VP-VP-PP-NP-NN _ VP-VP-PP-NP-NN _ VP-VP-ADVP-JJ  _ VP-VP-ADVP-PP-TO VP-VP-ADVP-PP-NP VP-VP-ADVP-PP-NP .              _ [PAD]          _ [PAD]          _ [PAD]          _ [PAD]          _ [PAD]          _ [PAD]          _ [PAD]          _ [PAD]          _ [PAD]          _ [PAD]          _ [PAD]          _ [PAD]          _ [PAD]          _ [PAD]          _ [PAD]          _ [PAD]          _ [PAD]          _ [PAD]          _\n",
            "    \n",
            "\n",
            "        sentence: a man is [PAD] [PAD] [PAD] [PAD] [PAD] [PAD] [PAD] [PAD] [PAD] [PAD] [PAD]\n",
            "        words   : a              _ man            _ is             _ [PAD]          _ [PAD]          _ [PAD]          _ [PAD]          _ [PAD]          _ [PAD]          _ [PAD]          _ [PAD]          _ [PAD]          _ [PAD]          _ [PAD]          _ [PAD]          _ [PAD]          _ [PAD]          _ [PAD]          _ [PAD]          _ [PAD]          _ [PAD]          _ [PAD]          _ [PAD]          _ [PAD]          _ [PAD]          _ [PAD]          _ [PAD]          _ [PAD]          _ [PAD]          _ [PAD]          _ [PAD]          _ [PAD]          _\n",
            "        labels  : NP-DT          _ NP-NN          _ VP-VBZ         _ [PAD]          _ [PAD]          _ [PAD]          _ [PAD]          _ [PAD]          _ [PAD]          _ [PAD]          _ [PAD]          _ [PAD]          _ [PAD]          _ [PAD]          _ [PAD]          _ [PAD]          _ [PAD]          _ [PAD]          _ [PAD]          _ [PAD]          _ [PAD]          _ [PAD]          _ [PAD]          _ [PAD]          _ [PAD]          _ [PAD]          _ [PAD]          _ [PAD]          _ [PAD]          _ [PAD]          _ [PAD]          _ [PAD]          _\n",
            "    \n",
            "\n",
            "        sentence: a young man doing a trick on a skateboard down the stairs while being photographed .\n",
            "        words   : a              _ young          _ man            _ doing          _ a              _ trick          _ on             _ a              _ skateboard     _ down           _ the            _ stairs         _ while          _ being          _ photographed   _ .              _ [PAD]          _ [PAD]          _ [PAD]          _ [PAD]          _ [PAD]          _ [PAD]          _ [PAD]          _ [PAD]          _ [PAD]          _ [PAD]          _ [PAD]          _ [PAD]          _ [PAD]          _ [PAD]          _ [PAD]          _ [PAD]          _\n",
            "        labels  : NP-NP-DT       _ NP-NP-JJ       _ NP-NP-NN       _ NP-VP-VBG      _ NP-VP-NP-DT    _ NP-VP-NP-NN    _ NP-VP-PP-IN    _ NP-VP-PP-NP-NP-D NP-VP-PP-NP-NP-A [UNK]          _ [UNK]          _ [UNK]          _ NP-VP-PP-NP-NP-N NP-VP-PP-NP-VP-V NP-VP-PP-NP-VP-V NP-.           _ [PAD]          _ [PAD]          _ [PAD]          _ [PAD]          _ [PAD]          _ [PAD]          _ [PAD]          _ [PAD]          _ [PAD]          _ [PAD]          _ [PAD]          _ [PAD]          _ [PAD]          _ [PAD]          _ [PAD]          _ [PAD]          _\n",
            "    \n",
            "\n",
            "        sentence: a man is [PAD] [PAD] [PAD] [PAD] [PAD] [PAD] [PAD] [PAD] [PAD] [PAD] [PAD] [PAD] [PAD]\n",
            "        words   : a              _ man            _ is             _ [PAD]          _ [PAD]          _ [PAD]          _ [PAD]          _ [PAD]          _ [PAD]          _ [PAD]          _ [PAD]          _ [PAD]          _ [PAD]          _ [PAD]          _ [PAD]          _ [PAD]          _ [PAD]          _ [PAD]          _ [PAD]          _ [PAD]          _ [PAD]          _ [PAD]          _ [PAD]          _ [PAD]          _ [PAD]          _ [PAD]          _ [PAD]          _ [PAD]          _ [PAD]          _ [PAD]          _ [PAD]          _ [PAD]          _\n",
            "        labels  : NP-DT          _ NP-NN          _ VP-VBZ         _ [PAD]          _ [PAD]          _ [PAD]          _ [PAD]          _ [PAD]          _ [PAD]          _ [PAD]          _ [PAD]          _ [PAD]          _ [PAD]          _ [PAD]          _ [PAD]          _ [PAD]          _ [PAD]          _ [PAD]          _ [PAD]          _ [PAD]          _ [PAD]          _ [PAD]          _ [PAD]          _ [PAD]          _ [PAD]          _ [PAD]          _ [PAD]          _ [PAD]          _ [PAD]          _ [PAD]          _ [PAD]          _ [PAD]          _\n",
            "    \n",
            "\n",
            "        sentence: a little boy swimming underwater with a toy in his hand .\n",
            "        words   : a              _ little         _ boy            _ swimming       _ underwater     _ with           _ a              _ toy            _ in             _ his            _ hand           _ .              _ [PAD]          _ [PAD]          _ [PAD]          _ [PAD]          _ [PAD]          _ [PAD]          _ [PAD]          _ [PAD]          _ [PAD]          _ [PAD]          _ [PAD]          _ [PAD]          _ [PAD]          _ [PAD]          _ [PAD]          _ [PAD]          _ [PAD]          _ [PAD]          _ [PAD]          _ [PAD]          _\n",
            "        labels  : NP-NP-DT       _ NP-NP-JJ       _ NP-NP-NN       _ NP-VP-VBG      _ NP-VP-ADVP-RB  _ NP-VP-PP-IN    _ NP-VP-PP-NP-NP-D NP-VP-PP-NP-NP-N NP-VP-PP-NP-PP-I NP-VP-PP-NP-PP-N NP-VP-PP-NP-PP-N NP-.           _ [PAD]          _ [PAD]          _ [PAD]          _ [PAD]          _ [PAD]          _ [PAD]          _ [PAD]          _ [PAD]          _ [PAD]          _ [PAD]          _ [PAD]          _ [PAD]          _ [PAD]          _ [PAD]          _ [PAD]          _ [PAD]          _ [PAD]          _ [PAD]          _ [PAD]          _ [PAD]          _\n",
            "    \n",
            "\n",
            "        sentence: a man is [PAD] [PAD] [PAD] [PAD] [PAD] [PAD] [PAD] [PAD] [PAD]\n",
            "        words   : a              _ man            _ is             _ [PAD]          _ [PAD]          _ [PAD]          _ [PAD]          _ [PAD]          _ [PAD]          _ [PAD]          _ [PAD]          _ [PAD]          _ [PAD]          _ [PAD]          _ [PAD]          _ [PAD]          _ [PAD]          _ [PAD]          _ [PAD]          _ [PAD]          _ [PAD]          _ [PAD]          _ [PAD]          _ [PAD]          _ [PAD]          _ [PAD]          _ [PAD]          _ [PAD]          _ [PAD]          _ [PAD]          _ [PAD]          _ [PAD]          _\n",
            "        labels  : NP-DT          _ NP-NN          _ VP-VBZ         _ [PAD]          _ [PAD]          _ [PAD]          _ [PAD]          _ [PAD]          _ [PAD]          _ [PAD]          _ [PAD]          _ [PAD]          _ [PAD]          _ [PAD]          _ [PAD]          _ [PAD]          _ [PAD]          _ [PAD]          _ [PAD]          _ [PAD]          _ [PAD]          _ [PAD]          _ [PAD]          _ [PAD]          _ [PAD]          _ [PAD]          _ [PAD]          _ [PAD]          _ [PAD]          _ [PAD]          _ [PAD]          _ [PAD]          _\n",
            "    \n",
            "Epoch: 6, ELBO: -191.5397\n",
            "\n",
            "        sentence: a man walking along side a clean up crew .\n",
            "        words   : a              _ man            _ walking        _ along          _ side           _ a              _ clean          _ up             _ crew           _ .              _ [PAD]          _ [PAD]          _ [PAD]          _ [PAD]          _ [PAD]          _ [PAD]          _ [PAD]          _ [PAD]          _ [PAD]          _ [PAD]          _ [PAD]          _ [PAD]          _ [PAD]          _ [PAD]          _ [PAD]          _ [PAD]          _ [PAD]          _ [PAD]          _ [PAD]          _ [PAD]          _ [PAD]          _ [PAD]          _\n",
            "        labels  : NP-NP-DT       _ NP-NP-NN       _ NP-VP-VBG      _ NP-VP-PRT-RP   _ NP-VP-NP-RB    _ NP-VP-NP-DT    _ NP-VP-NP-ADJP-JJ [UNK]          _ NP-VP-NP-NN    _ NP-.           _ [PAD]          _ [PAD]          _ [PAD]          _ [PAD]          _ [PAD]          _ [PAD]          _ [PAD]          _ [PAD]          _ [PAD]          _ [PAD]          _ [PAD]          _ [PAD]          _ [PAD]          _ [PAD]          _ [PAD]          _ [PAD]          _ [PAD]          _ [PAD]          _ [PAD]          _ [PAD]          _ [PAD]          _ [PAD]          _\n",
            "    \n",
            "\n",
            "        sentence: a man is [PAD] [PAD] [PAD] [PAD] [PAD] [PAD] [PAD]\n",
            "        words   : a              _ man            _ is             _ [PAD]          _ [PAD]          _ [PAD]          _ [PAD]          _ [PAD]          _ [PAD]          _ [PAD]          _ [PAD]          _ [PAD]          _ [PAD]          _ [PAD]          _ [PAD]          _ [PAD]          _ [PAD]          _ [PAD]          _ [PAD]          _ [PAD]          _ [PAD]          _ [PAD]          _ [PAD]          _ [PAD]          _ [PAD]          _ [PAD]          _ [PAD]          _ [PAD]          _ [PAD]          _ [PAD]          _ [PAD]          _ [PAD]          _\n",
            "        labels  : NP-DT          _ NP-NN          _ VP-VBZ         _ [PAD]          _ [PAD]          _ [PAD]          _ [PAD]          _ [PAD]          _ [PAD]          _ [PAD]          _ [PAD]          _ [PAD]          _ [PAD]          _ [PAD]          _ [PAD]          _ [PAD]          _ [PAD]          _ [PAD]          _ [PAD]          _ [PAD]          _ [PAD]          _ [PAD]          _ [PAD]          _ [PAD]          _ [PAD]          _ [PAD]          _ [PAD]          _ [PAD]          _ [PAD]          _ [PAD]          _ [PAD]          _ [PAD]          _\n",
            "    \n",
            "\n",
            "        sentence: a foreign family is walking along a dirt path next to the water .\n",
            "        words   : a              _ foreign        _ family         _ is             _ walking        _ along          _ a              _ dirt           _ path           _ next           _ to             _ the            _ water          _ .              _ [PAD]          _ [PAD]          _ [PAD]          _ [PAD]          _ [PAD]          _ [PAD]          _ [PAD]          _ [PAD]          _ [PAD]          _ [PAD]          _ [PAD]          _ [PAD]          _ [PAD]          _ [PAD]          _ [PAD]          _ [PAD]          _ [PAD]          _ [PAD]          _\n",
            "        labels  : NP-DT          _ NP-JJ          _ NP-NN          _ VP-VBZ         _ VP-VP-VBG      _ VP-VP-PP-IN    _ VP-VP-PP-NP-DT _ VP-VP-PP-NP-NN _ VP-VP-PP-NP-NN _ VP-VP-ADVP-JJ  _ VP-VP-ADVP-PP-TO VP-VP-ADVP-PP-NP VP-VP-ADVP-PP-NP .              _ [PAD]          _ [PAD]          _ [PAD]          _ [PAD]          _ [PAD]          _ [PAD]          _ [PAD]          _ [PAD]          _ [PAD]          _ [PAD]          _ [PAD]          _ [PAD]          _ [PAD]          _ [PAD]          _ [PAD]          _ [PAD]          _ [PAD]          _ [PAD]          _\n",
            "    \n",
            "\n",
            "        sentence: a man is [PAD] [PAD] [PAD] [PAD] [PAD] [PAD] [PAD] [PAD] [PAD] [PAD] [PAD]\n",
            "        words   : a              _ man            _ is             _ [PAD]          _ [PAD]          _ [PAD]          _ [PAD]          _ [PAD]          _ [PAD]          _ [PAD]          _ [PAD]          _ [PAD]          _ [PAD]          _ [PAD]          _ [PAD]          _ [PAD]          _ [PAD]          _ [PAD]          _ [PAD]          _ [PAD]          _ [PAD]          _ [PAD]          _ [PAD]          _ [PAD]          _ [PAD]          _ [PAD]          _ [PAD]          _ [PAD]          _ [PAD]          _ [PAD]          _ [PAD]          _ [PAD]          _\n",
            "        labels  : NP-DT          _ NP-NN          _ VP-VBZ         _ [PAD]          _ [PAD]          _ [PAD]          _ [PAD]          _ [PAD]          _ [PAD]          _ [PAD]          _ [PAD]          _ [PAD]          _ [PAD]          _ [PAD]          _ [PAD]          _ [PAD]          _ [PAD]          _ [PAD]          _ [PAD]          _ [PAD]          _ [PAD]          _ [PAD]          _ [PAD]          _ [PAD]          _ [PAD]          _ [PAD]          _ [PAD]          _ [PAD]          _ [PAD]          _ [PAD]          _ [PAD]          _ [PAD]          _\n",
            "    \n",
            "\n",
            "        sentence: a young man doing a trick on a skateboard down the stairs while being photographed .\n",
            "        words   : a              _ young          _ man            _ doing          _ a              _ trick          _ on             _ a              _ skateboard     _ down           _ the            _ stairs         _ while          _ being          _ photographed   _ .              _ [PAD]          _ [PAD]          _ [PAD]          _ [PAD]          _ [PAD]          _ [PAD]          _ [PAD]          _ [PAD]          _ [PAD]          _ [PAD]          _ [PAD]          _ [PAD]          _ [PAD]          _ [PAD]          _ [PAD]          _ [PAD]          _\n",
            "        labels  : NP-NP-DT       _ NP-NP-JJ       _ NP-NP-NN       _ NP-VP-VBG      _ NP-VP-NP-DT    _ NP-VP-NP-NN    _ NP-VP-PP-IN    _ NP-VP-PP-NP-NP-D NP-VP-PP-NP-NP-A [UNK]          _ [UNK]          _ [UNK]          _ NP-VP-PP-NP-NP-N NP-VP-PP-NP-VP-V NP-VP-PP-NP-VP-V NP-.           _ [PAD]          _ [PAD]          _ [PAD]          _ [PAD]          _ [PAD]          _ [PAD]          _ [PAD]          _ [PAD]          _ [PAD]          _ [PAD]          _ [PAD]          _ [PAD]          _ [PAD]          _ [PAD]          _ [PAD]          _ [PAD]          _\n",
            "    \n",
            "\n",
            "        sentence: a man is [PAD] [PAD] [PAD] [PAD] [PAD] [PAD] [PAD] [PAD] [PAD] [PAD] [PAD] [PAD] [PAD]\n",
            "        words   : a              _ man            _ is             _ [PAD]          _ [PAD]          _ [PAD]          _ [PAD]          _ [PAD]          _ [PAD]          _ [PAD]          _ [PAD]          _ [PAD]          _ [PAD]          _ [PAD]          _ [PAD]          _ [PAD]          _ [PAD]          _ [PAD]          _ [PAD]          _ [PAD]          _ [PAD]          _ [PAD]          _ [PAD]          _ [PAD]          _ [PAD]          _ [PAD]          _ [PAD]          _ [PAD]          _ [PAD]          _ [PAD]          _ [PAD]          _ [PAD]          _\n",
            "        labels  : NP-DT          _ NP-NN          _ VP-VBZ         _ [PAD]          _ [PAD]          _ [PAD]          _ [PAD]          _ [PAD]          _ [PAD]          _ [PAD]          _ [PAD]          _ [PAD]          _ [PAD]          _ [PAD]          _ [PAD]          _ [PAD]          _ [PAD]          _ [PAD]          _ [PAD]          _ [PAD]          _ [PAD]          _ [PAD]          _ [PAD]          _ [PAD]          _ [PAD]          _ [PAD]          _ [PAD]          _ [PAD]          _ [PAD]          _ [PAD]          _ [PAD]          _ [PAD]          _\n",
            "    \n",
            "\n",
            "        sentence: a little boy swimming underwater with a toy in his hand .\n",
            "        words   : a              _ little         _ boy            _ swimming       _ underwater     _ with           _ a              _ toy            _ in             _ his            _ hand           _ .              _ [PAD]          _ [PAD]          _ [PAD]          _ [PAD]          _ [PAD]          _ [PAD]          _ [PAD]          _ [PAD]          _ [PAD]          _ [PAD]          _ [PAD]          _ [PAD]          _ [PAD]          _ [PAD]          _ [PAD]          _ [PAD]          _ [PAD]          _ [PAD]          _ [PAD]          _ [PAD]          _\n",
            "        labels  : NP-NP-DT       _ NP-NP-JJ       _ NP-NP-NN       _ NP-VP-VBG      _ NP-VP-ADVP-RB  _ NP-VP-PP-IN    _ NP-VP-PP-NP-NP-D NP-VP-PP-NP-NP-N NP-VP-PP-NP-PP-I NP-VP-PP-NP-PP-N NP-VP-PP-NP-PP-N NP-.           _ [PAD]          _ [PAD]          _ [PAD]          _ [PAD]          _ [PAD]          _ [PAD]          _ [PAD]          _ [PAD]          _ [PAD]          _ [PAD]          _ [PAD]          _ [PAD]          _ [PAD]          _ [PAD]          _ [PAD]          _ [PAD]          _ [PAD]          _ [PAD]          _ [PAD]          _ [PAD]          _\n",
            "    \n",
            "\n",
            "        sentence: a man is [PAD] [PAD] [PAD] [PAD] [PAD] [PAD] [PAD] [PAD] [PAD]\n",
            "        words   : a              _ man            _ is             _ [PAD]          _ [PAD]          _ [PAD]          _ [PAD]          _ [PAD]          _ [PAD]          _ [PAD]          _ [PAD]          _ [PAD]          _ [PAD]          _ [PAD]          _ [PAD]          _ [PAD]          _ [PAD]          _ [PAD]          _ [PAD]          _ [PAD]          _ [PAD]          _ [PAD]          _ [PAD]          _ [PAD]          _ [PAD]          _ [PAD]          _ [PAD]          _ [PAD]          _ [PAD]          _ [PAD]          _ [PAD]          _ [PAD]          _\n",
            "        labels  : NP-DT          _ NP-NN          _ VP-VBZ         _ [PAD]          _ [PAD]          _ [PAD]          _ [PAD]          _ [PAD]          _ [PAD]          _ [PAD]          _ [PAD]          _ [PAD]          _ [PAD]          _ [PAD]          _ [PAD]          _ [PAD]          _ [PAD]          _ [PAD]          _ [PAD]          _ [PAD]          _ [PAD]          _ [PAD]          _ [PAD]          _ [PAD]          _ [PAD]          _ [PAD]          _ [PAD]          _ [PAD]          _ [PAD]          _ [PAD]          _ [PAD]          _ [PAD]          _\n",
            "    \n",
            "Epoch: 7, ELBO: -188.7457\n",
            "\n",
            "        sentence: a man walking along side a clean up crew .\n",
            "        words   : a              _ man            _ walking        _ along          _ side           _ a              _ clean          _ up             _ crew           _ .              _ [PAD]          _ [PAD]          _ [PAD]          _ [PAD]          _ [PAD]          _ [PAD]          _ [PAD]          _ [PAD]          _ [PAD]          _ [PAD]          _ [PAD]          _ [PAD]          _ [PAD]          _ [PAD]          _ [PAD]          _ [PAD]          _ [PAD]          _ [PAD]          _ [PAD]          _ [PAD]          _ [PAD]          _ [PAD]          _\n",
            "        labels  : NP-NP-DT       _ NP-NP-NN       _ NP-VP-VBG      _ NP-VP-PRT-RP   _ NP-VP-NP-RB    _ NP-VP-NP-DT    _ NP-VP-NP-ADJP-JJ [UNK]          _ NP-VP-NP-NN    _ NP-.           _ [PAD]          _ [PAD]          _ [PAD]          _ [PAD]          _ [PAD]          _ [PAD]          _ [PAD]          _ [PAD]          _ [PAD]          _ [PAD]          _ [PAD]          _ [PAD]          _ [PAD]          _ [PAD]          _ [PAD]          _ [PAD]          _ [PAD]          _ [PAD]          _ [PAD]          _ [PAD]          _ [PAD]          _ [PAD]          _\n",
            "    \n",
            "\n",
            "        sentence: a man is [PAD] a [PAD] [PAD] [PAD] [PAD] [PAD]\n",
            "        words   : a              _ man            _ is             _ [PAD]          _ a              _ [PAD]          _ [PAD]          _ [PAD]          _ [PAD]          _ [PAD]          _ [PAD]          _ [PAD]          _ [PAD]          _ [PAD]          _ [PAD]          _ [PAD]          _ [PAD]          _ [PAD]          _ [PAD]          _ [PAD]          _ [PAD]          _ [PAD]          _ [PAD]          _ [PAD]          _ [PAD]          _ [PAD]          _ [PAD]          _ [PAD]          _ [PAD]          _ [PAD]          _ [PAD]          _ [PAD]          _\n",
            "        labels  : NP-DT          _ NP-NN          _ VP-VBZ         _ VP-VP-VBG      _ [PAD]          _ [PAD]          _ [PAD]          _ [PAD]          _ [PAD]          _ [PAD]          _ [PAD]          _ [PAD]          _ [PAD]          _ [PAD]          _ [PAD]          _ [PAD]          _ [PAD]          _ [PAD]          _ [PAD]          _ [PAD]          _ [PAD]          _ [PAD]          _ [PAD]          _ [PAD]          _ [PAD]          _ [PAD]          _ [PAD]          _ [PAD]          _ [PAD]          _ [PAD]          _ [PAD]          _ [PAD]          _\n",
            "    \n",
            "\n",
            "        sentence: a foreign family is walking along a dirt path next to the water .\n",
            "        words   : a              _ foreign        _ family         _ is             _ walking        _ along          _ a              _ dirt           _ path           _ next           _ to             _ the            _ water          _ .              _ [PAD]          _ [PAD]          _ [PAD]          _ [PAD]          _ [PAD]          _ [PAD]          _ [PAD]          _ [PAD]          _ [PAD]          _ [PAD]          _ [PAD]          _ [PAD]          _ [PAD]          _ [PAD]          _ [PAD]          _ [PAD]          _ [PAD]          _ [PAD]          _\n",
            "        labels  : NP-DT          _ NP-JJ          _ NP-NN          _ VP-VBZ         _ VP-VP-VBG      _ VP-VP-PP-IN    _ VP-VP-PP-NP-DT _ VP-VP-PP-NP-NN _ VP-VP-PP-NP-NN _ VP-VP-ADVP-JJ  _ VP-VP-ADVP-PP-TO VP-VP-ADVP-PP-NP VP-VP-ADVP-PP-NP .              _ [PAD]          _ [PAD]          _ [PAD]          _ [PAD]          _ [PAD]          _ [PAD]          _ [PAD]          _ [PAD]          _ [PAD]          _ [PAD]          _ [PAD]          _ [PAD]          _ [PAD]          _ [PAD]          _ [PAD]          _ [PAD]          _ [PAD]          _ [PAD]          _\n",
            "    \n",
            "\n",
            "        sentence: a man is [PAD] a [PAD] [PAD] [PAD] [PAD] [PAD] [PAD] [PAD] [PAD] [PAD]\n",
            "        words   : a              _ man            _ is             _ [PAD]          _ a              _ [PAD]          _ [PAD]          _ [PAD]          _ [PAD]          _ [PAD]          _ [PAD]          _ [PAD]          _ [PAD]          _ [PAD]          _ [PAD]          _ [PAD]          _ [PAD]          _ [PAD]          _ [PAD]          _ [PAD]          _ [PAD]          _ [PAD]          _ [PAD]          _ [PAD]          _ [PAD]          _ [PAD]          _ [PAD]          _ [PAD]          _ [PAD]          _ [PAD]          _ [PAD]          _ [PAD]          _\n",
            "        labels  : NP-DT          _ NP-NN          _ VP-VBZ         _ VP-VP-VBG      _ [PAD]          _ [PAD]          _ [PAD]          _ [PAD]          _ [PAD]          _ [PAD]          _ [PAD]          _ [PAD]          _ [PAD]          _ [PAD]          _ [PAD]          _ [PAD]          _ [PAD]          _ [PAD]          _ [PAD]          _ [PAD]          _ [PAD]          _ [PAD]          _ [PAD]          _ [PAD]          _ [PAD]          _ [PAD]          _ [PAD]          _ [PAD]          _ [PAD]          _ [PAD]          _ [PAD]          _ [PAD]          _\n",
            "    \n",
            "\n",
            "        sentence: a young man doing a trick on a skateboard down the stairs while being photographed .\n",
            "        words   : a              _ young          _ man            _ doing          _ a              _ trick          _ on             _ a              _ skateboard     _ down           _ the            _ stairs         _ while          _ being          _ photographed   _ .              _ [PAD]          _ [PAD]          _ [PAD]          _ [PAD]          _ [PAD]          _ [PAD]          _ [PAD]          _ [PAD]          _ [PAD]          _ [PAD]          _ [PAD]          _ [PAD]          _ [PAD]          _ [PAD]          _ [PAD]          _ [PAD]          _\n",
            "        labels  : NP-NP-DT       _ NP-NP-JJ       _ NP-NP-NN       _ NP-VP-VBG      _ NP-VP-NP-DT    _ NP-VP-NP-NN    _ NP-VP-PP-IN    _ NP-VP-PP-NP-NP-D NP-VP-PP-NP-NP-A [UNK]          _ [UNK]          _ [UNK]          _ NP-VP-PP-NP-NP-N NP-VP-PP-NP-VP-V NP-VP-PP-NP-VP-V NP-.           _ [PAD]          _ [PAD]          _ [PAD]          _ [PAD]          _ [PAD]          _ [PAD]          _ [PAD]          _ [PAD]          _ [PAD]          _ [PAD]          _ [PAD]          _ [PAD]          _ [PAD]          _ [PAD]          _ [PAD]          _ [PAD]          _\n",
            "    \n",
            "\n",
            "        sentence: a man is [PAD] a [PAD] [PAD] [PAD] [PAD] [PAD] [PAD] [PAD] [PAD] [PAD] [PAD] [PAD]\n",
            "        words   : a              _ man            _ is             _ [PAD]          _ a              _ [PAD]          _ [PAD]          _ [PAD]          _ [PAD]          _ [PAD]          _ [PAD]          _ [PAD]          _ [PAD]          _ [PAD]          _ [PAD]          _ [PAD]          _ [PAD]          _ [PAD]          _ [PAD]          _ [PAD]          _ [PAD]          _ [PAD]          _ [PAD]          _ [PAD]          _ [PAD]          _ [PAD]          _ [PAD]          _ [PAD]          _ [PAD]          _ [PAD]          _ [PAD]          _ [PAD]          _\n",
            "        labels  : NP-DT          _ NP-NN          _ VP-VBZ         _ VP-VP-VBG      _ [PAD]          _ [PAD]          _ [PAD]          _ [PAD]          _ [PAD]          _ [PAD]          _ [PAD]          _ [PAD]          _ [PAD]          _ [PAD]          _ [PAD]          _ [PAD]          _ [PAD]          _ [PAD]          _ [PAD]          _ [PAD]          _ [PAD]          _ [PAD]          _ [PAD]          _ [PAD]          _ [PAD]          _ [PAD]          _ [PAD]          _ [PAD]          _ [PAD]          _ [PAD]          _ [PAD]          _ [PAD]          _\n",
            "    \n",
            "\n",
            "        sentence: a little boy swimming underwater with a toy in his hand .\n",
            "        words   : a              _ little         _ boy            _ swimming       _ underwater     _ with           _ a              _ toy            _ in             _ his            _ hand           _ .              _ [PAD]          _ [PAD]          _ [PAD]          _ [PAD]          _ [PAD]          _ [PAD]          _ [PAD]          _ [PAD]          _ [PAD]          _ [PAD]          _ [PAD]          _ [PAD]          _ [PAD]          _ [PAD]          _ [PAD]          _ [PAD]          _ [PAD]          _ [PAD]          _ [PAD]          _ [PAD]          _\n",
            "        labels  : NP-NP-DT       _ NP-NP-JJ       _ NP-NP-NN       _ NP-VP-VBG      _ NP-VP-ADVP-RB  _ NP-VP-PP-IN    _ NP-VP-PP-NP-NP-D NP-VP-PP-NP-NP-N NP-VP-PP-NP-PP-I NP-VP-PP-NP-PP-N NP-VP-PP-NP-PP-N NP-.           _ [PAD]          _ [PAD]          _ [PAD]          _ [PAD]          _ [PAD]          _ [PAD]          _ [PAD]          _ [PAD]          _ [PAD]          _ [PAD]          _ [PAD]          _ [PAD]          _ [PAD]          _ [PAD]          _ [PAD]          _ [PAD]          _ [PAD]          _ [PAD]          _ [PAD]          _ [PAD]          _\n",
            "    \n",
            "\n",
            "        sentence: a man is [PAD] a [PAD] [PAD] [PAD] [PAD] [PAD] [PAD] [PAD]\n",
            "        words   : a              _ man            _ is             _ [PAD]          _ a              _ [PAD]          _ [PAD]          _ [PAD]          _ [PAD]          _ [PAD]          _ [PAD]          _ [PAD]          _ [PAD]          _ [PAD]          _ [PAD]          _ [PAD]          _ [PAD]          _ [PAD]          _ [PAD]          _ [PAD]          _ [PAD]          _ [PAD]          _ [PAD]          _ [PAD]          _ [PAD]          _ [PAD]          _ [PAD]          _ [PAD]          _ [PAD]          _ [PAD]          _ [PAD]          _ [PAD]          _\n",
            "        labels  : NP-DT          _ NP-NN          _ VP-VBZ         _ VP-VP-VBG      _ [PAD]          _ [PAD]          _ [PAD]          _ [PAD]          _ [PAD]          _ [PAD]          _ [PAD]          _ [PAD]          _ [PAD]          _ [PAD]          _ [PAD]          _ [PAD]          _ [PAD]          _ [PAD]          _ [PAD]          _ [PAD]          _ [PAD]          _ [PAD]          _ [PAD]          _ [PAD]          _ [PAD]          _ [PAD]          _ [PAD]          _ [PAD]          _ [PAD]          _ [PAD]          _ [PAD]          _ [PAD]          _\n",
            "    \n",
            "Epoch: 8, ELBO: -186.4865\n",
            "\n",
            "        sentence: a man walking along side a clean up crew .\n",
            "        words   : a              _ man            _ walking        _ along          _ side           _ a              _ clean          _ up             _ crew           _ .              _ [PAD]          _ [PAD]          _ [PAD]          _ [PAD]          _ [PAD]          _ [PAD]          _ [PAD]          _ [PAD]          _ [PAD]          _ [PAD]          _ [PAD]          _ [PAD]          _ [PAD]          _ [PAD]          _ [PAD]          _ [PAD]          _ [PAD]          _ [PAD]          _ [PAD]          _ [PAD]          _ [PAD]          _ [PAD]          _\n",
            "        labels  : NP-NP-DT       _ NP-NP-NN       _ NP-VP-VBG      _ NP-VP-PRT-RP   _ NP-VP-NP-RB    _ NP-VP-NP-DT    _ NP-VP-NP-ADJP-JJ [UNK]          _ NP-VP-NP-NN    _ NP-.           _ [PAD]          _ [PAD]          _ [PAD]          _ [PAD]          _ [PAD]          _ [PAD]          _ [PAD]          _ [PAD]          _ [PAD]          _ [PAD]          _ [PAD]          _ [PAD]          _ [PAD]          _ [PAD]          _ [PAD]          _ [PAD]          _ [PAD]          _ [PAD]          _ [PAD]          _ [PAD]          _ [PAD]          _ [PAD]          _\n",
            "    \n",
            "\n",
            "        sentence: a man is [PAD] a [PAD] [PAD] [PAD] [PAD] [PAD]\n",
            "        words   : a              _ man            _ is             _ [PAD]          _ a              _ [PAD]          _ [PAD]          _ [PAD]          _ [PAD]          _ [PAD]          _ [PAD]          _ [PAD]          _ [PAD]          _ [PAD]          _ [PAD]          _ [PAD]          _ [PAD]          _ [PAD]          _ [PAD]          _ [PAD]          _ [PAD]          _ [PAD]          _ [PAD]          _ [PAD]          _ [PAD]          _ [PAD]          _ [PAD]          _ [PAD]          _ [PAD]          _ [PAD]          _ [PAD]          _ [PAD]          _\n",
            "        labels  : NP-DT          _ NP-NN          _ VP-VBZ         _ VP-VP-VBG      _ VP-VP-PP-IN    _ [PAD]          _ [PAD]          _ [PAD]          _ [PAD]          _ [PAD]          _ [PAD]          _ [PAD]          _ [PAD]          _ [PAD]          _ [PAD]          _ [PAD]          _ [PAD]          _ [PAD]          _ [PAD]          _ [PAD]          _ [PAD]          _ [PAD]          _ [PAD]          _ [PAD]          _ [PAD]          _ [PAD]          _ [PAD]          _ [PAD]          _ [PAD]          _ [PAD]          _ [PAD]          _ [PAD]          _\n",
            "    \n",
            "\n",
            "        sentence: a foreign family is walking along a dirt path next to the water .\n",
            "        words   : a              _ foreign        _ family         _ is             _ walking        _ along          _ a              _ dirt           _ path           _ next           _ to             _ the            _ water          _ .              _ [PAD]          _ [PAD]          _ [PAD]          _ [PAD]          _ [PAD]          _ [PAD]          _ [PAD]          _ [PAD]          _ [PAD]          _ [PAD]          _ [PAD]          _ [PAD]          _ [PAD]          _ [PAD]          _ [PAD]          _ [PAD]          _ [PAD]          _ [PAD]          _\n",
            "        labels  : NP-DT          _ NP-JJ          _ NP-NN          _ VP-VBZ         _ VP-VP-VBG      _ VP-VP-PP-IN    _ VP-VP-PP-NP-DT _ VP-VP-PP-NP-NN _ VP-VP-PP-NP-NN _ VP-VP-ADVP-JJ  _ VP-VP-ADVP-PP-TO VP-VP-ADVP-PP-NP VP-VP-ADVP-PP-NP .              _ [PAD]          _ [PAD]          _ [PAD]          _ [PAD]          _ [PAD]          _ [PAD]          _ [PAD]          _ [PAD]          _ [PAD]          _ [PAD]          _ [PAD]          _ [PAD]          _ [PAD]          _ [PAD]          _ [PAD]          _ [PAD]          _ [PAD]          _ [PAD]          _\n",
            "    \n",
            "\n",
            "        sentence: a man is a a [PAD] [PAD] [PAD] [PAD] [PAD] [PAD] [PAD] [PAD] [PAD]\n",
            "        words   : a              _ man            _ is             _ a              _ a              _ [PAD]          _ [PAD]          _ [PAD]          _ [PAD]          _ [PAD]          _ [PAD]          _ [PAD]          _ [PAD]          _ [PAD]          _ [PAD]          _ [PAD]          _ [PAD]          _ [PAD]          _ [PAD]          _ [PAD]          _ [PAD]          _ [PAD]          _ [PAD]          _ [PAD]          _ [PAD]          _ [PAD]          _ [PAD]          _ [PAD]          _ [PAD]          _ [PAD]          _ [PAD]          _ [PAD]          _\n",
            "        labels  : NP-DT          _ NP-NN          _ VP-VBZ         _ VP-VP-VBG      _ VP-VP-PP-IN    _ [PAD]          _ [PAD]          _ [PAD]          _ [PAD]          _ [PAD]          _ [PAD]          _ [PAD]          _ [PAD]          _ [PAD]          _ [PAD]          _ [PAD]          _ [PAD]          _ [PAD]          _ [PAD]          _ [PAD]          _ [PAD]          _ [PAD]          _ [PAD]          _ [PAD]          _ [PAD]          _ [PAD]          _ [PAD]          _ [PAD]          _ [PAD]          _ [PAD]          _ [PAD]          _ [PAD]          _\n",
            "    \n",
            "\n",
            "        sentence: a young man doing a trick on a skateboard down the stairs while being photographed .\n",
            "        words   : a              _ young          _ man            _ doing          _ a              _ trick          _ on             _ a              _ skateboard     _ down           _ the            _ stairs         _ while          _ being          _ photographed   _ .              _ [PAD]          _ [PAD]          _ [PAD]          _ [PAD]          _ [PAD]          _ [PAD]          _ [PAD]          _ [PAD]          _ [PAD]          _ [PAD]          _ [PAD]          _ [PAD]          _ [PAD]          _ [PAD]          _ [PAD]          _ [PAD]          _\n",
            "        labels  : NP-NP-DT       _ NP-NP-JJ       _ NP-NP-NN       _ NP-VP-VBG      _ NP-VP-NP-DT    _ NP-VP-NP-NN    _ NP-VP-PP-IN    _ NP-VP-PP-NP-NP-D NP-VP-PP-NP-NP-A [UNK]          _ [UNK]          _ [UNK]          _ NP-VP-PP-NP-NP-N NP-VP-PP-NP-VP-V NP-VP-PP-NP-VP-V NP-.           _ [PAD]          _ [PAD]          _ [PAD]          _ [PAD]          _ [PAD]          _ [PAD]          _ [PAD]          _ [PAD]          _ [PAD]          _ [PAD]          _ [PAD]          _ [PAD]          _ [PAD]          _ [PAD]          _ [PAD]          _ [PAD]          _\n",
            "    \n",
            "\n",
            "        sentence: a man is a a [PAD] [PAD] [PAD] [PAD] [PAD] [PAD] [PAD] [PAD] [PAD] [PAD] [PAD]\n",
            "        words   : a              _ man            _ is             _ a              _ a              _ [PAD]          _ [PAD]          _ [PAD]          _ [PAD]          _ [PAD]          _ [PAD]          _ [PAD]          _ [PAD]          _ [PAD]          _ [PAD]          _ [PAD]          _ [PAD]          _ [PAD]          _ [PAD]          _ [PAD]          _ [PAD]          _ [PAD]          _ [PAD]          _ [PAD]          _ [PAD]          _ [PAD]          _ [PAD]          _ [PAD]          _ [PAD]          _ [PAD]          _ [PAD]          _ [PAD]          _\n",
            "        labels  : NP-DT          _ NP-NN          _ VP-VBZ         _ VP-VP-VBG      _ VP-VP-PP-IN    _ [PAD]          _ [PAD]          _ [PAD]          _ [PAD]          _ [PAD]          _ [PAD]          _ [PAD]          _ [PAD]          _ [PAD]          _ [PAD]          _ [PAD]          _ [PAD]          _ [PAD]          _ [PAD]          _ [PAD]          _ [PAD]          _ [PAD]          _ [PAD]          _ [PAD]          _ [PAD]          _ [PAD]          _ [PAD]          _ [PAD]          _ [PAD]          _ [PAD]          _ [PAD]          _ [PAD]          _\n",
            "    \n",
            "\n",
            "        sentence: a little boy swimming underwater with a toy in his hand .\n",
            "        words   : a              _ little         _ boy            _ swimming       _ underwater     _ with           _ a              _ toy            _ in             _ his            _ hand           _ .              _ [PAD]          _ [PAD]          _ [PAD]          _ [PAD]          _ [PAD]          _ [PAD]          _ [PAD]          _ [PAD]          _ [PAD]          _ [PAD]          _ [PAD]          _ [PAD]          _ [PAD]          _ [PAD]          _ [PAD]          _ [PAD]          _ [PAD]          _ [PAD]          _ [PAD]          _ [PAD]          _\n",
            "        labels  : NP-NP-DT       _ NP-NP-JJ       _ NP-NP-NN       _ NP-VP-VBG      _ NP-VP-ADVP-RB  _ NP-VP-PP-IN    _ NP-VP-PP-NP-NP-D NP-VP-PP-NP-NP-N NP-VP-PP-NP-PP-I NP-VP-PP-NP-PP-N NP-VP-PP-NP-PP-N NP-.           _ [PAD]          _ [PAD]          _ [PAD]          _ [PAD]          _ [PAD]          _ [PAD]          _ [PAD]          _ [PAD]          _ [PAD]          _ [PAD]          _ [PAD]          _ [PAD]          _ [PAD]          _ [PAD]          _ [PAD]          _ [PAD]          _ [PAD]          _ [PAD]          _ [PAD]          _ [PAD]          _\n",
            "    \n",
            "\n",
            "        sentence: a man is a a [PAD] [PAD] [PAD] [PAD] [PAD] [PAD] [PAD]\n",
            "        words   : a              _ man            _ is             _ a              _ a              _ [PAD]          _ [PAD]          _ [PAD]          _ [PAD]          _ [PAD]          _ [PAD]          _ [PAD]          _ [PAD]          _ [PAD]          _ [PAD]          _ [PAD]          _ [PAD]          _ [PAD]          _ [PAD]          _ [PAD]          _ [PAD]          _ [PAD]          _ [PAD]          _ [PAD]          _ [PAD]          _ [PAD]          _ [PAD]          _ [PAD]          _ [PAD]          _ [PAD]          _ [PAD]          _ [PAD]          _\n",
            "        labels  : NP-DT          _ NP-NN          _ VP-VBZ         _ VP-VP-VBG      _ VP-VP-PP-IN    _ [PAD]          _ [PAD]          _ [PAD]          _ [PAD]          _ [PAD]          _ [PAD]          _ [PAD]          _ [PAD]          _ [PAD]          _ [PAD]          _ [PAD]          _ [PAD]          _ [PAD]          _ [PAD]          _ [PAD]          _ [PAD]          _ [PAD]          _ [PAD]          _ [PAD]          _ [PAD]          _ [PAD]          _ [PAD]          _ [PAD]          _ [PAD]          _ [PAD]          _ [PAD]          _ [PAD]          _\n",
            "    \n",
            "Epoch: 9, ELBO: -183.7765\n",
            "\n",
            "        sentence: a man walking along side a clean up crew .\n",
            "        words   : a              _ man            _ walking        _ along          _ side           _ a              _ clean          _ up             _ crew           _ .              _ [PAD]          _ [PAD]          _ [PAD]          _ [PAD]          _ [PAD]          _ [PAD]          _ [PAD]          _ [PAD]          _ [PAD]          _ [PAD]          _ [PAD]          _ [PAD]          _ [PAD]          _ [PAD]          _ [PAD]          _ [PAD]          _ [PAD]          _ [PAD]          _ [PAD]          _ [PAD]          _ [PAD]          _ [PAD]          _\n",
            "        labels  : NP-NP-DT       _ NP-NP-NN       _ NP-VP-VBG      _ NP-VP-PRT-RP   _ NP-VP-NP-RB    _ NP-VP-NP-DT    _ NP-VP-NP-ADJP-JJ [UNK]          _ NP-VP-NP-NN    _ NP-.           _ [PAD]          _ [PAD]          _ [PAD]          _ [PAD]          _ [PAD]          _ [PAD]          _ [PAD]          _ [PAD]          _ [PAD]          _ [PAD]          _ [PAD]          _ [PAD]          _ [PAD]          _ [PAD]          _ [PAD]          _ [PAD]          _ [PAD]          _ [PAD]          _ [PAD]          _ [PAD]          _ [PAD]          _ [PAD]          _\n",
            "    \n",
            "\n",
            "        sentence: a man is a a [PAD] [PAD] [PAD] [PAD] [PAD]\n",
            "        words   : a              _ man            _ is             _ a              _ a              _ [PAD]          _ [PAD]          _ [PAD]          _ [PAD]          _ [PAD]          _ [PAD]          _ [PAD]          _ [PAD]          _ [PAD]          _ [PAD]          _ [PAD]          _ [PAD]          _ [PAD]          _ [PAD]          _ [PAD]          _ [PAD]          _ [PAD]          _ [PAD]          _ [PAD]          _ [PAD]          _ [PAD]          _ [PAD]          _ [PAD]          _ [PAD]          _ [PAD]          _ [PAD]          _ [PAD]          _\n",
            "        labels  : NP-DT          _ NP-NN          _ VP-VBZ         _ VP-VP-VBG      _ VP-VP-PP-IN    _ [PAD]          _ [PAD]          _ [PAD]          _ [PAD]          _ [PAD]          _ [PAD]          _ [PAD]          _ [PAD]          _ [PAD]          _ [PAD]          _ [PAD]          _ [PAD]          _ [PAD]          _ [PAD]          _ [PAD]          _ [PAD]          _ [PAD]          _ [PAD]          _ [PAD]          _ [PAD]          _ [PAD]          _ [PAD]          _ [PAD]          _ [PAD]          _ [PAD]          _ [PAD]          _ [PAD]          _\n",
            "    \n",
            "\n",
            "        sentence: a foreign family is walking along a dirt path next to the water .\n",
            "        words   : a              _ foreign        _ family         _ is             _ walking        _ along          _ a              _ dirt           _ path           _ next           _ to             _ the            _ water          _ .              _ [PAD]          _ [PAD]          _ [PAD]          _ [PAD]          _ [PAD]          _ [PAD]          _ [PAD]          _ [PAD]          _ [PAD]          _ [PAD]          _ [PAD]          _ [PAD]          _ [PAD]          _ [PAD]          _ [PAD]          _ [PAD]          _ [PAD]          _ [PAD]          _\n",
            "        labels  : NP-DT          _ NP-JJ          _ NP-NN          _ VP-VBZ         _ VP-VP-VBG      _ VP-VP-PP-IN    _ VP-VP-PP-NP-DT _ VP-VP-PP-NP-NN _ VP-VP-PP-NP-NN _ VP-VP-ADVP-JJ  _ VP-VP-ADVP-PP-TO VP-VP-ADVP-PP-NP VP-VP-ADVP-PP-NP .              _ [PAD]          _ [PAD]          _ [PAD]          _ [PAD]          _ [PAD]          _ [PAD]          _ [PAD]          _ [PAD]          _ [PAD]          _ [PAD]          _ [PAD]          _ [PAD]          _ [PAD]          _ [PAD]          _ [PAD]          _ [PAD]          _ [PAD]          _ [PAD]          _\n",
            "    \n",
            "\n",
            "        sentence: a man is a a [PAD] [PAD] [PAD] [PAD] [PAD] [PAD] [PAD] [PAD] [PAD]\n",
            "        words   : a              _ man            _ is             _ a              _ a              _ [PAD]          _ [PAD]          _ [PAD]          _ [PAD]          _ [PAD]          _ [PAD]          _ [PAD]          _ [PAD]          _ [PAD]          _ [PAD]          _ [PAD]          _ [PAD]          _ [PAD]          _ [PAD]          _ [PAD]          _ [PAD]          _ [PAD]          _ [PAD]          _ [PAD]          _ [PAD]          _ [PAD]          _ [PAD]          _ [PAD]          _ [PAD]          _ [PAD]          _ [PAD]          _ [PAD]          _\n",
            "        labels  : NP-DT          _ NP-NN          _ VP-VBZ         _ VP-VP-VBG      _ VP-VP-PP-IN    _ [PAD]          _ [PAD]          _ [PAD]          _ [PAD]          _ [PAD]          _ [PAD]          _ [PAD]          _ [PAD]          _ [PAD]          _ [PAD]          _ [PAD]          _ [PAD]          _ [PAD]          _ [PAD]          _ [PAD]          _ [PAD]          _ [PAD]          _ [PAD]          _ [PAD]          _ [PAD]          _ [PAD]          _ [PAD]          _ [PAD]          _ [PAD]          _ [PAD]          _ [PAD]          _ [PAD]          _\n",
            "    \n",
            "\n",
            "        sentence: a young man doing a trick on a skateboard down the stairs while being photographed .\n",
            "        words   : a              _ young          _ man            _ doing          _ a              _ trick          _ on             _ a              _ skateboard     _ down           _ the            _ stairs         _ while          _ being          _ photographed   _ .              _ [PAD]          _ [PAD]          _ [PAD]          _ [PAD]          _ [PAD]          _ [PAD]          _ [PAD]          _ [PAD]          _ [PAD]          _ [PAD]          _ [PAD]          _ [PAD]          _ [PAD]          _ [PAD]          _ [PAD]          _ [PAD]          _\n",
            "        labels  : NP-NP-DT       _ NP-NP-JJ       _ NP-NP-NN       _ NP-VP-VBG      _ NP-VP-NP-DT    _ NP-VP-NP-NN    _ NP-VP-PP-IN    _ NP-VP-PP-NP-NP-D NP-VP-PP-NP-NP-A [UNK]          _ [UNK]          _ [UNK]          _ NP-VP-PP-NP-NP-N NP-VP-PP-NP-VP-V NP-VP-PP-NP-VP-V NP-.           _ [PAD]          _ [PAD]          _ [PAD]          _ [PAD]          _ [PAD]          _ [PAD]          _ [PAD]          _ [PAD]          _ [PAD]          _ [PAD]          _ [PAD]          _ [PAD]          _ [PAD]          _ [PAD]          _ [PAD]          _ [PAD]          _\n",
            "    \n",
            "\n",
            "        sentence: a man is a a [PAD] [PAD] [PAD] [PAD] [PAD] [PAD] [PAD] [PAD] [PAD] [PAD] [PAD]\n",
            "        words   : a              _ man            _ is             _ a              _ a              _ [PAD]          _ [PAD]          _ [PAD]          _ [PAD]          _ [PAD]          _ [PAD]          _ [PAD]          _ [PAD]          _ [PAD]          _ [PAD]          _ [PAD]          _ [PAD]          _ [PAD]          _ [PAD]          _ [PAD]          _ [PAD]          _ [PAD]          _ [PAD]          _ [PAD]          _ [PAD]          _ [PAD]          _ [PAD]          _ [PAD]          _ [PAD]          _ [PAD]          _ [PAD]          _ [PAD]          _\n",
            "        labels  : NP-DT          _ NP-NN          _ VP-VBZ         _ VP-VP-VBG      _ VP-VP-PP-IN    _ [PAD]          _ [PAD]          _ [PAD]          _ [PAD]          _ [PAD]          _ [PAD]          _ [PAD]          _ [PAD]          _ [PAD]          _ [PAD]          _ [PAD]          _ [PAD]          _ [PAD]          _ [PAD]          _ [PAD]          _ [PAD]          _ [PAD]          _ [PAD]          _ [PAD]          _ [PAD]          _ [PAD]          _ [PAD]          _ [PAD]          _ [PAD]          _ [PAD]          _ [PAD]          _ [PAD]          _\n",
            "    \n",
            "\n",
            "        sentence: a little boy swimming underwater with a toy in his hand .\n",
            "        words   : a              _ little         _ boy            _ swimming       _ underwater     _ with           _ a              _ toy            _ in             _ his            _ hand           _ .              _ [PAD]          _ [PAD]          _ [PAD]          _ [PAD]          _ [PAD]          _ [PAD]          _ [PAD]          _ [PAD]          _ [PAD]          _ [PAD]          _ [PAD]          _ [PAD]          _ [PAD]          _ [PAD]          _ [PAD]          _ [PAD]          _ [PAD]          _ [PAD]          _ [PAD]          _ [PAD]          _\n",
            "        labels  : NP-NP-DT       _ NP-NP-JJ       _ NP-NP-NN       _ NP-VP-VBG      _ NP-VP-ADVP-RB  _ NP-VP-PP-IN    _ NP-VP-PP-NP-NP-D NP-VP-PP-NP-NP-N NP-VP-PP-NP-PP-I NP-VP-PP-NP-PP-N NP-VP-PP-NP-PP-N NP-.           _ [PAD]          _ [PAD]          _ [PAD]          _ [PAD]          _ [PAD]          _ [PAD]          _ [PAD]          _ [PAD]          _ [PAD]          _ [PAD]          _ [PAD]          _ [PAD]          _ [PAD]          _ [PAD]          _ [PAD]          _ [PAD]          _ [PAD]          _ [PAD]          _ [PAD]          _ [PAD]          _\n",
            "    \n",
            "\n",
            "        sentence: a man is a a [PAD] [PAD] [PAD] [PAD] [PAD] [PAD] [PAD]\n",
            "        words   : a              _ man            _ is             _ a              _ a              _ [PAD]          _ [PAD]          _ [PAD]          _ [PAD]          _ [PAD]          _ [PAD]          _ [PAD]          _ [PAD]          _ [PAD]          _ [PAD]          _ [PAD]          _ [PAD]          _ [PAD]          _ [PAD]          _ [PAD]          _ [PAD]          _ [PAD]          _ [PAD]          _ [PAD]          _ [PAD]          _ [PAD]          _ [PAD]          _ [PAD]          _ [PAD]          _ [PAD]          _ [PAD]          _ [PAD]          _\n",
            "        labels  : NP-DT          _ NP-NN          _ VP-VBZ         _ VP-VP-VBG      _ VP-VP-PP-IN    _ [PAD]          _ [PAD]          _ [PAD]          _ [PAD]          _ [PAD]          _ [PAD]          _ [PAD]          _ [PAD]          _ [PAD]          _ [PAD]          _ [PAD]          _ [PAD]          _ [PAD]          _ [PAD]          _ [PAD]          _ [PAD]          _ [PAD]          _ [PAD]          _ [PAD]          _ [PAD]          _ [PAD]          _ [PAD]          _ [PAD]          _ [PAD]          _ [PAD]          _ [PAD]          _ [PAD]          _\n",
            "    \n",
            "Epoch: 10, ELBO: -181.0348\n",
            "\n",
            "        sentence: a man walking along side a clean up crew .\n",
            "        words   : a              _ man            _ walking        _ along          _ side           _ a              _ clean          _ up             _ crew           _ .              _ [PAD]          _ [PAD]          _ [PAD]          _ [PAD]          _ [PAD]          _ [PAD]          _ [PAD]          _ [PAD]          _ [PAD]          _ [PAD]          _ [PAD]          _ [PAD]          _ [PAD]          _ [PAD]          _ [PAD]          _ [PAD]          _ [PAD]          _ [PAD]          _ [PAD]          _ [PAD]          _ [PAD]          _ [PAD]          _\n",
            "        labels  : NP-NP-DT       _ NP-NP-NN       _ NP-VP-VBG      _ NP-VP-PRT-RP   _ NP-VP-NP-RB    _ NP-VP-NP-DT    _ NP-VP-NP-ADJP-JJ [UNK]          _ NP-VP-NP-NN    _ NP-.           _ [PAD]          _ [PAD]          _ [PAD]          _ [PAD]          _ [PAD]          _ [PAD]          _ [PAD]          _ [PAD]          _ [PAD]          _ [PAD]          _ [PAD]          _ [PAD]          _ [PAD]          _ [PAD]          _ [PAD]          _ [PAD]          _ [PAD]          _ [PAD]          _ [PAD]          _ [PAD]          _ [PAD]          _ [PAD]          _\n",
            "    \n",
            "\n",
            "        sentence: a man is a a [PAD] [PAD] [PAD] [PAD] [PAD]\n",
            "        words   : a              _ man            _ is             _ a              _ a              _ [PAD]          _ [PAD]          _ [PAD]          _ [PAD]          _ [PAD]          _ [PAD]          _ [PAD]          _ [PAD]          _ [PAD]          _ [PAD]          _ [PAD]          _ [PAD]          _ [PAD]          _ [PAD]          _ [PAD]          _ [PAD]          _ [PAD]          _ [PAD]          _ [PAD]          _ [PAD]          _ [PAD]          _ [PAD]          _ [PAD]          _ [PAD]          _ [PAD]          _ [PAD]          _ [PAD]          _\n",
            "        labels  : NP-DT          _ NP-NN          _ VP-VBZ         _ VP-VP-VBG      _ VP-VP-PP-IN    _ [PAD]          _ [PAD]          _ [PAD]          _ [PAD]          _ [PAD]          _ [PAD]          _ [PAD]          _ [PAD]          _ [PAD]          _ [PAD]          _ [PAD]          _ [PAD]          _ [PAD]          _ [PAD]          _ [PAD]          _ [PAD]          _ [PAD]          _ [PAD]          _ [PAD]          _ [PAD]          _ [PAD]          _ [PAD]          _ [PAD]          _ [PAD]          _ [PAD]          _ [PAD]          _ [PAD]          _\n",
            "    \n",
            "\n",
            "        sentence: a foreign family is walking along a dirt path next to the water .\n",
            "        words   : a              _ foreign        _ family         _ is             _ walking        _ along          _ a              _ dirt           _ path           _ next           _ to             _ the            _ water          _ .              _ [PAD]          _ [PAD]          _ [PAD]          _ [PAD]          _ [PAD]          _ [PAD]          _ [PAD]          _ [PAD]          _ [PAD]          _ [PAD]          _ [PAD]          _ [PAD]          _ [PAD]          _ [PAD]          _ [PAD]          _ [PAD]          _ [PAD]          _ [PAD]          _\n",
            "        labels  : NP-DT          _ NP-JJ          _ NP-NN          _ VP-VBZ         _ VP-VP-VBG      _ VP-VP-PP-IN    _ VP-VP-PP-NP-DT _ VP-VP-PP-NP-NN _ VP-VP-PP-NP-NN _ VP-VP-ADVP-JJ  _ VP-VP-ADVP-PP-TO VP-VP-ADVP-PP-NP VP-VP-ADVP-PP-NP .              _ [PAD]          _ [PAD]          _ [PAD]          _ [PAD]          _ [PAD]          _ [PAD]          _ [PAD]          _ [PAD]          _ [PAD]          _ [PAD]          _ [PAD]          _ [PAD]          _ [PAD]          _ [PAD]          _ [PAD]          _ [PAD]          _ [PAD]          _ [PAD]          _\n",
            "    \n",
            "\n",
            "        sentence: a man is a a [PAD] [PAD] [PAD] [PAD] [PAD] [PAD] [PAD] [PAD] [PAD]\n",
            "        words   : a              _ man            _ is             _ a              _ a              _ [PAD]          _ [PAD]          _ [PAD]          _ [PAD]          _ [PAD]          _ [PAD]          _ [PAD]          _ [PAD]          _ [PAD]          _ [PAD]          _ [PAD]          _ [PAD]          _ [PAD]          _ [PAD]          _ [PAD]          _ [PAD]          _ [PAD]          _ [PAD]          _ [PAD]          _ [PAD]          _ [PAD]          _ [PAD]          _ [PAD]          _ [PAD]          _ [PAD]          _ [PAD]          _ [PAD]          _\n",
            "        labels  : NP-DT          _ NP-NN          _ VP-VBZ         _ VP-VP-VBG      _ VP-VP-PP-IN    _ [PAD]          _ [PAD]          _ [PAD]          _ [PAD]          _ [PAD]          _ [PAD]          _ [PAD]          _ [PAD]          _ [PAD]          _ [PAD]          _ [PAD]          _ [PAD]          _ [PAD]          _ [PAD]          _ [PAD]          _ [PAD]          _ [PAD]          _ [PAD]          _ [PAD]          _ [PAD]          _ [PAD]          _ [PAD]          _ [PAD]          _ [PAD]          _ [PAD]          _ [PAD]          _ [PAD]          _\n",
            "    \n",
            "\n",
            "        sentence: a young man doing a trick on a skateboard down the stairs while being photographed .\n",
            "        words   : a              _ young          _ man            _ doing          _ a              _ trick          _ on             _ a              _ skateboard     _ down           _ the            _ stairs         _ while          _ being          _ photographed   _ .              _ [PAD]          _ [PAD]          _ [PAD]          _ [PAD]          _ [PAD]          _ [PAD]          _ [PAD]          _ [PAD]          _ [PAD]          _ [PAD]          _ [PAD]          _ [PAD]          _ [PAD]          _ [PAD]          _ [PAD]          _ [PAD]          _\n",
            "        labels  : NP-NP-DT       _ NP-NP-JJ       _ NP-NP-NN       _ NP-VP-VBG      _ NP-VP-NP-DT    _ NP-VP-NP-NN    _ NP-VP-PP-IN    _ NP-VP-PP-NP-NP-D NP-VP-PP-NP-NP-A [UNK]          _ [UNK]          _ [UNK]          _ NP-VP-PP-NP-NP-N NP-VP-PP-NP-VP-V NP-VP-PP-NP-VP-V NP-.           _ [PAD]          _ [PAD]          _ [PAD]          _ [PAD]          _ [PAD]          _ [PAD]          _ [PAD]          _ [PAD]          _ [PAD]          _ [PAD]          _ [PAD]          _ [PAD]          _ [PAD]          _ [PAD]          _ [PAD]          _ [PAD]          _\n",
            "    \n",
            "\n",
            "        sentence: a man is a a [PAD] [PAD] [PAD] [PAD] [PAD] [PAD] [PAD] [PAD] [PAD] [PAD] [PAD]\n",
            "        words   : a              _ man            _ is             _ a              _ a              _ [PAD]          _ [PAD]          _ [PAD]          _ [PAD]          _ [PAD]          _ [PAD]          _ [PAD]          _ [PAD]          _ [PAD]          _ [PAD]          _ [PAD]          _ [PAD]          _ [PAD]          _ [PAD]          _ [PAD]          _ [PAD]          _ [PAD]          _ [PAD]          _ [PAD]          _ [PAD]          _ [PAD]          _ [PAD]          _ [PAD]          _ [PAD]          _ [PAD]          _ [PAD]          _ [PAD]          _\n",
            "        labels  : NP-DT          _ NP-NN          _ VP-VBZ         _ VP-VP-VBG      _ VP-VP-PP-IN    _ [PAD]          _ [PAD]          _ [PAD]          _ [PAD]          _ [PAD]          _ [PAD]          _ [PAD]          _ [PAD]          _ [PAD]          _ [PAD]          _ [PAD]          _ [PAD]          _ [PAD]          _ [PAD]          _ [PAD]          _ [PAD]          _ [PAD]          _ [PAD]          _ [PAD]          _ [PAD]          _ [PAD]          _ [PAD]          _ [PAD]          _ [PAD]          _ [PAD]          _ [PAD]          _ [PAD]          _\n",
            "    \n",
            "\n",
            "        sentence: a little boy swimming underwater with a toy in his hand .\n",
            "        words   : a              _ little         _ boy            _ swimming       _ underwater     _ with           _ a              _ toy            _ in             _ his            _ hand           _ .              _ [PAD]          _ [PAD]          _ [PAD]          _ [PAD]          _ [PAD]          _ [PAD]          _ [PAD]          _ [PAD]          _ [PAD]          _ [PAD]          _ [PAD]          _ [PAD]          _ [PAD]          _ [PAD]          _ [PAD]          _ [PAD]          _ [PAD]          _ [PAD]          _ [PAD]          _ [PAD]          _\n",
            "        labels  : NP-NP-DT       _ NP-NP-JJ       _ NP-NP-NN       _ NP-VP-VBG      _ NP-VP-ADVP-RB  _ NP-VP-PP-IN    _ NP-VP-PP-NP-NP-D NP-VP-PP-NP-NP-N NP-VP-PP-NP-PP-I NP-VP-PP-NP-PP-N NP-VP-PP-NP-PP-N NP-.           _ [PAD]          _ [PAD]          _ [PAD]          _ [PAD]          _ [PAD]          _ [PAD]          _ [PAD]          _ [PAD]          _ [PAD]          _ [PAD]          _ [PAD]          _ [PAD]          _ [PAD]          _ [PAD]          _ [PAD]          _ [PAD]          _ [PAD]          _ [PAD]          _ [PAD]          _ [PAD]          _\n",
            "    \n",
            "\n",
            "        sentence: a man is a a [PAD] [PAD] [PAD] [PAD] [PAD] [PAD] [PAD]\n",
            "        words   : a              _ man            _ is             _ a              _ a              _ [PAD]          _ [PAD]          _ [PAD]          _ [PAD]          _ [PAD]          _ [PAD]          _ [PAD]          _ [PAD]          _ [PAD]          _ [PAD]          _ [PAD]          _ [PAD]          _ [PAD]          _ [PAD]          _ [PAD]          _ [PAD]          _ [PAD]          _ [PAD]          _ [PAD]          _ [PAD]          _ [PAD]          _ [PAD]          _ [PAD]          _ [PAD]          _ [PAD]          _ [PAD]          _ [PAD]          _\n",
            "        labels  : NP-DT          _ NP-NN          _ VP-VBZ         _ VP-VP-VBG      _ VP-VP-PP-IN    _ [PAD]          _ [PAD]          _ [PAD]          _ [PAD]          _ [PAD]          _ [PAD]          _ [PAD]          _ [PAD]          _ [PAD]          _ [PAD]          _ [PAD]          _ [PAD]          _ [PAD]          _ [PAD]          _ [PAD]          _ [PAD]          _ [PAD]          _ [PAD]          _ [PAD]          _ [PAD]          _ [PAD]          _ [PAD]          _ [PAD]          _ [PAD]          _ [PAD]          _ [PAD]          _ [PAD]          _\n",
            "    \n",
            "Epoch: 11, ELBO: -178.5171\n",
            "\n",
            "        sentence: a man walking along side a clean up crew .\n",
            "        words   : a              _ man            _ walking        _ along          _ side           _ a              _ clean          _ up             _ crew           _ .              _ [PAD]          _ [PAD]          _ [PAD]          _ [PAD]          _ [PAD]          _ [PAD]          _ [PAD]          _ [PAD]          _ [PAD]          _ [PAD]          _ [PAD]          _ [PAD]          _ [PAD]          _ [PAD]          _ [PAD]          _ [PAD]          _ [PAD]          _ [PAD]          _ [PAD]          _ [PAD]          _ [PAD]          _ [PAD]          _\n",
            "        labels  : NP-NP-DT       _ NP-NP-NN       _ NP-VP-VBG      _ NP-VP-PRT-RP   _ NP-VP-NP-RB    _ NP-VP-NP-DT    _ NP-VP-NP-ADJP-JJ [UNK]          _ NP-VP-NP-NN    _ NP-.           _ [PAD]          _ [PAD]          _ [PAD]          _ [PAD]          _ [PAD]          _ [PAD]          _ [PAD]          _ [PAD]          _ [PAD]          _ [PAD]          _ [PAD]          _ [PAD]          _ [PAD]          _ [PAD]          _ [PAD]          _ [PAD]          _ [PAD]          _ [PAD]          _ [PAD]          _ [PAD]          _ [PAD]          _ [PAD]          _\n",
            "    \n",
            "\n",
            "        sentence: a man is a a [PAD] [PAD] [PAD] [PAD] [PAD]\n",
            "        words   : a              _ man            _ is             _ a              _ a              _ [PAD]          _ [PAD]          _ [PAD]          _ [PAD]          _ [PAD]          _ [PAD]          _ [PAD]          _ [PAD]          _ [PAD]          _ [PAD]          _ [PAD]          _ [PAD]          _ [PAD]          _ [PAD]          _ [PAD]          _ [PAD]          _ [PAD]          _ [PAD]          _ [PAD]          _ [PAD]          _ [PAD]          _ [PAD]          _ [PAD]          _ [PAD]          _ [PAD]          _ [PAD]          _ [PAD]          _\n",
            "        labels  : NP-DT          _ NP-NN          _ VP-VBZ         _ VP-VP-VBG      _ VP-VP-PP-IN    _ [PAD]          _ [PAD]          _ [PAD]          _ [PAD]          _ [PAD]          _ [PAD]          _ [PAD]          _ [PAD]          _ [PAD]          _ [PAD]          _ [PAD]          _ [PAD]          _ [PAD]          _ [PAD]          _ [PAD]          _ [PAD]          _ [PAD]          _ [PAD]          _ [PAD]          _ [PAD]          _ [PAD]          _ [PAD]          _ [PAD]          _ [PAD]          _ [PAD]          _ [PAD]          _ [PAD]          _\n",
            "    \n",
            "\n",
            "        sentence: a foreign family is walking along a dirt path next to the water .\n",
            "        words   : a              _ foreign        _ family         _ is             _ walking        _ along          _ a              _ dirt           _ path           _ next           _ to             _ the            _ water          _ .              _ [PAD]          _ [PAD]          _ [PAD]          _ [PAD]          _ [PAD]          _ [PAD]          _ [PAD]          _ [PAD]          _ [PAD]          _ [PAD]          _ [PAD]          _ [PAD]          _ [PAD]          _ [PAD]          _ [PAD]          _ [PAD]          _ [PAD]          _ [PAD]          _\n",
            "        labels  : NP-DT          _ NP-JJ          _ NP-NN          _ VP-VBZ         _ VP-VP-VBG      _ VP-VP-PP-IN    _ VP-VP-PP-NP-DT _ VP-VP-PP-NP-NN _ VP-VP-PP-NP-NN _ VP-VP-ADVP-JJ  _ VP-VP-ADVP-PP-TO VP-VP-ADVP-PP-NP VP-VP-ADVP-PP-NP .              _ [PAD]          _ [PAD]          _ [PAD]          _ [PAD]          _ [PAD]          _ [PAD]          _ [PAD]          _ [PAD]          _ [PAD]          _ [PAD]          _ [PAD]          _ [PAD]          _ [PAD]          _ [PAD]          _ [PAD]          _ [PAD]          _ [PAD]          _ [PAD]          _\n",
            "    \n",
            "\n",
            "        sentence: a man is a a [PAD] [PAD] [PAD] [PAD] [PAD] [PAD] [PAD] [PAD] [PAD]\n",
            "        words   : a              _ man            _ is             _ a              _ a              _ [PAD]          _ [PAD]          _ [PAD]          _ [PAD]          _ [PAD]          _ [PAD]          _ [PAD]          _ [PAD]          _ [PAD]          _ [PAD]          _ [PAD]          _ [PAD]          _ [PAD]          _ [PAD]          _ [PAD]          _ [PAD]          _ [PAD]          _ [PAD]          _ [PAD]          _ [PAD]          _ [PAD]          _ [PAD]          _ [PAD]          _ [PAD]          _ [PAD]          _ [PAD]          _ [PAD]          _\n",
            "        labels  : NP-DT          _ NP-NN          _ VP-VBZ         _ VP-VP-VBG      _ VP-VP-PP-IN    _ [PAD]          _ [PAD]          _ [PAD]          _ [PAD]          _ [PAD]          _ [PAD]          _ [PAD]          _ [PAD]          _ [PAD]          _ [PAD]          _ [PAD]          _ [PAD]          _ [PAD]          _ [PAD]          _ [PAD]          _ [PAD]          _ [PAD]          _ [PAD]          _ [PAD]          _ [PAD]          _ [PAD]          _ [PAD]          _ [PAD]          _ [PAD]          _ [PAD]          _ [PAD]          _ [PAD]          _\n",
            "    \n",
            "\n",
            "        sentence: a young man doing a trick on a skateboard down the stairs while being photographed .\n",
            "        words   : a              _ young          _ man            _ doing          _ a              _ trick          _ on             _ a              _ skateboard     _ down           _ the            _ stairs         _ while          _ being          _ photographed   _ .              _ [PAD]          _ [PAD]          _ [PAD]          _ [PAD]          _ [PAD]          _ [PAD]          _ [PAD]          _ [PAD]          _ [PAD]          _ [PAD]          _ [PAD]          _ [PAD]          _ [PAD]          _ [PAD]          _ [PAD]          _ [PAD]          _\n",
            "        labels  : NP-NP-DT       _ NP-NP-JJ       _ NP-NP-NN       _ NP-VP-VBG      _ NP-VP-NP-DT    _ NP-VP-NP-NN    _ NP-VP-PP-IN    _ NP-VP-PP-NP-NP-D NP-VP-PP-NP-NP-A [UNK]          _ [UNK]          _ [UNK]          _ NP-VP-PP-NP-NP-N NP-VP-PP-NP-VP-V NP-VP-PP-NP-VP-V NP-.           _ [PAD]          _ [PAD]          _ [PAD]          _ [PAD]          _ [PAD]          _ [PAD]          _ [PAD]          _ [PAD]          _ [PAD]          _ [PAD]          _ [PAD]          _ [PAD]          _ [PAD]          _ [PAD]          _ [PAD]          _ [PAD]          _\n",
            "    \n",
            "\n",
            "        sentence: a man is a a [PAD] [PAD] [PAD] [PAD] [PAD] [PAD] [PAD] [PAD] [PAD] [PAD] [PAD]\n",
            "        words   : a              _ man            _ is             _ a              _ a              _ [PAD]          _ [PAD]          _ [PAD]          _ [PAD]          _ [PAD]          _ [PAD]          _ [PAD]          _ [PAD]          _ [PAD]          _ [PAD]          _ [PAD]          _ [PAD]          _ [PAD]          _ [PAD]          _ [PAD]          _ [PAD]          _ [PAD]          _ [PAD]          _ [PAD]          _ [PAD]          _ [PAD]          _ [PAD]          _ [PAD]          _ [PAD]          _ [PAD]          _ [PAD]          _ [PAD]          _\n",
            "        labels  : NP-DT          _ NP-NN          _ VP-VBZ         _ VP-VP-VBG      _ VP-VP-PP-IN    _ [PAD]          _ [PAD]          _ [PAD]          _ [PAD]          _ [PAD]          _ [PAD]          _ [PAD]          _ [PAD]          _ [PAD]          _ [PAD]          _ [PAD]          _ [PAD]          _ [PAD]          _ [PAD]          _ [PAD]          _ [PAD]          _ [PAD]          _ [PAD]          _ [PAD]          _ [PAD]          _ [PAD]          _ [PAD]          _ [PAD]          _ [PAD]          _ [PAD]          _ [PAD]          _ [PAD]          _\n",
            "    \n",
            "\n",
            "        sentence: a little boy swimming underwater with a toy in his hand .\n",
            "        words   : a              _ little         _ boy            _ swimming       _ underwater     _ with           _ a              _ toy            _ in             _ his            _ hand           _ .              _ [PAD]          _ [PAD]          _ [PAD]          _ [PAD]          _ [PAD]          _ [PAD]          _ [PAD]          _ [PAD]          _ [PAD]          _ [PAD]          _ [PAD]          _ [PAD]          _ [PAD]          _ [PAD]          _ [PAD]          _ [PAD]          _ [PAD]          _ [PAD]          _ [PAD]          _ [PAD]          _\n",
            "        labels  : NP-NP-DT       _ NP-NP-JJ       _ NP-NP-NN       _ NP-VP-VBG      _ NP-VP-ADVP-RB  _ NP-VP-PP-IN    _ NP-VP-PP-NP-NP-D NP-VP-PP-NP-NP-N NP-VP-PP-NP-PP-I NP-VP-PP-NP-PP-N NP-VP-PP-NP-PP-N NP-.           _ [PAD]          _ [PAD]          _ [PAD]          _ [PAD]          _ [PAD]          _ [PAD]          _ [PAD]          _ [PAD]          _ [PAD]          _ [PAD]          _ [PAD]          _ [PAD]          _ [PAD]          _ [PAD]          _ [PAD]          _ [PAD]          _ [PAD]          _ [PAD]          _ [PAD]          _ [PAD]          _\n",
            "    \n",
            "\n",
            "        sentence: a man is a a [PAD] [PAD] [PAD] [PAD] [PAD] [PAD] [PAD]\n",
            "        words   : a              _ man            _ is             _ a              _ a              _ [PAD]          _ [PAD]          _ [PAD]          _ [PAD]          _ [PAD]          _ [PAD]          _ [PAD]          _ [PAD]          _ [PAD]          _ [PAD]          _ [PAD]          _ [PAD]          _ [PAD]          _ [PAD]          _ [PAD]          _ [PAD]          _ [PAD]          _ [PAD]          _ [PAD]          _ [PAD]          _ [PAD]          _ [PAD]          _ [PAD]          _ [PAD]          _ [PAD]          _ [PAD]          _ [PAD]          _\n",
            "        labels  : NP-DT          _ NP-NN          _ VP-VBZ         _ VP-VP-VBG      _ VP-VP-PP-IN    _ [PAD]          _ [PAD]          _ [PAD]          _ [PAD]          _ [PAD]          _ [PAD]          _ [PAD]          _ [PAD]          _ [PAD]          _ [PAD]          _ [PAD]          _ [PAD]          _ [PAD]          _ [PAD]          _ [PAD]          _ [PAD]          _ [PAD]          _ [PAD]          _ [PAD]          _ [PAD]          _ [PAD]          _ [PAD]          _ [PAD]          _ [PAD]          _ [PAD]          _ [PAD]          _ [PAD]          _\n",
            "    \n",
            "Epoch: 12, ELBO: -177.2975\n",
            "\n",
            "        sentence: a man walking along side a clean up crew .\n",
            "        words   : a              _ man            _ walking        _ along          _ side           _ a              _ clean          _ up             _ crew           _ .              _ [PAD]          _ [PAD]          _ [PAD]          _ [PAD]          _ [PAD]          _ [PAD]          _ [PAD]          _ [PAD]          _ [PAD]          _ [PAD]          _ [PAD]          _ [PAD]          _ [PAD]          _ [PAD]          _ [PAD]          _ [PAD]          _ [PAD]          _ [PAD]          _ [PAD]          _ [PAD]          _ [PAD]          _ [PAD]          _\n",
            "        labels  : NP-NP-DT       _ NP-NP-NN       _ NP-VP-VBG      _ NP-VP-PRT-RP   _ NP-VP-NP-RB    _ NP-VP-NP-DT    _ NP-VP-NP-ADJP-JJ [UNK]          _ NP-VP-NP-NN    _ NP-.           _ [PAD]          _ [PAD]          _ [PAD]          _ [PAD]          _ [PAD]          _ [PAD]          _ [PAD]          _ [PAD]          _ [PAD]          _ [PAD]          _ [PAD]          _ [PAD]          _ [PAD]          _ [PAD]          _ [PAD]          _ [PAD]          _ [PAD]          _ [PAD]          _ [PAD]          _ [PAD]          _ [PAD]          _ [PAD]          _\n",
            "    \n",
            "\n",
            "        sentence: a man is a a [PAD] [PAD] [PAD] [PAD] [PAD]\n",
            "        words   : a              _ man            _ is             _ a              _ a              _ [PAD]          _ [PAD]          _ [PAD]          _ [PAD]          _ [PAD]          _ [PAD]          _ [PAD]          _ [PAD]          _ [PAD]          _ [PAD]          _ [PAD]          _ [PAD]          _ [PAD]          _ [PAD]          _ [PAD]          _ [PAD]          _ [PAD]          _ [PAD]          _ [PAD]          _ [PAD]          _ [PAD]          _ [PAD]          _ [PAD]          _ [PAD]          _ [PAD]          _ [PAD]          _ [PAD]          _\n",
            "        labels  : NP-DT          _ NP-NN          _ VP-VBZ         _ VP-VP-VBG      _ VP-VP-PP-IN    _ [PAD]          _ [PAD]          _ [PAD]          _ [PAD]          _ [PAD]          _ [PAD]          _ [PAD]          _ [PAD]          _ [PAD]          _ [PAD]          _ [PAD]          _ [PAD]          _ [PAD]          _ [PAD]          _ [PAD]          _ [PAD]          _ [PAD]          _ [PAD]          _ [PAD]          _ [PAD]          _ [PAD]          _ [PAD]          _ [PAD]          _ [PAD]          _ [PAD]          _ [PAD]          _ [PAD]          _\n",
            "    \n",
            "\n",
            "        sentence: a foreign family is walking along a dirt path next to the water .\n",
            "        words   : a              _ foreign        _ family         _ is             _ walking        _ along          _ a              _ dirt           _ path           _ next           _ to             _ the            _ water          _ .              _ [PAD]          _ [PAD]          _ [PAD]          _ [PAD]          _ [PAD]          _ [PAD]          _ [PAD]          _ [PAD]          _ [PAD]          _ [PAD]          _ [PAD]          _ [PAD]          _ [PAD]          _ [PAD]          _ [PAD]          _ [PAD]          _ [PAD]          _ [PAD]          _\n",
            "        labels  : NP-DT          _ NP-JJ          _ NP-NN          _ VP-VBZ         _ VP-VP-VBG      _ VP-VP-PP-IN    _ VP-VP-PP-NP-DT _ VP-VP-PP-NP-NN _ VP-VP-PP-NP-NN _ VP-VP-ADVP-JJ  _ VP-VP-ADVP-PP-TO VP-VP-ADVP-PP-NP VP-VP-ADVP-PP-NP .              _ [PAD]          _ [PAD]          _ [PAD]          _ [PAD]          _ [PAD]          _ [PAD]          _ [PAD]          _ [PAD]          _ [PAD]          _ [PAD]          _ [PAD]          _ [PAD]          _ [PAD]          _ [PAD]          _ [PAD]          _ [PAD]          _ [PAD]          _ [PAD]          _\n",
            "    \n",
            "\n",
            "        sentence: a man is a a [PAD] [PAD] [PAD] [PAD] [PAD] [PAD] [PAD] [PAD] [PAD]\n",
            "        words   : a              _ man            _ is             _ a              _ a              _ [PAD]          _ [PAD]          _ [PAD]          _ [PAD]          _ [PAD]          _ [PAD]          _ [PAD]          _ [PAD]          _ [PAD]          _ [PAD]          _ [PAD]          _ [PAD]          _ [PAD]          _ [PAD]          _ [PAD]          _ [PAD]          _ [PAD]          _ [PAD]          _ [PAD]          _ [PAD]          _ [PAD]          _ [PAD]          _ [PAD]          _ [PAD]          _ [PAD]          _ [PAD]          _ [PAD]          _\n",
            "        labels  : NP-DT          _ NP-NN          _ VP-VBZ         _ VP-VP-VBG      _ VP-VP-PP-IN    _ [PAD]          _ [PAD]          _ [PAD]          _ [PAD]          _ [PAD]          _ [PAD]          _ [PAD]          _ [PAD]          _ [PAD]          _ [PAD]          _ [PAD]          _ [PAD]          _ [PAD]          _ [PAD]          _ [PAD]          _ [PAD]          _ [PAD]          _ [PAD]          _ [PAD]          _ [PAD]          _ [PAD]          _ [PAD]          _ [PAD]          _ [PAD]          _ [PAD]          _ [PAD]          _ [PAD]          _\n",
            "    \n",
            "\n",
            "        sentence: a young man doing a trick on a skateboard down the stairs while being photographed .\n",
            "        words   : a              _ young          _ man            _ doing          _ a              _ trick          _ on             _ a              _ skateboard     _ down           _ the            _ stairs         _ while          _ being          _ photographed   _ .              _ [PAD]          _ [PAD]          _ [PAD]          _ [PAD]          _ [PAD]          _ [PAD]          _ [PAD]          _ [PAD]          _ [PAD]          _ [PAD]          _ [PAD]          _ [PAD]          _ [PAD]          _ [PAD]          _ [PAD]          _ [PAD]          _\n",
            "        labels  : NP-NP-DT       _ NP-NP-JJ       _ NP-NP-NN       _ NP-VP-VBG      _ NP-VP-NP-DT    _ NP-VP-NP-NN    _ NP-VP-PP-IN    _ NP-VP-PP-NP-NP-D NP-VP-PP-NP-NP-A [UNK]          _ [UNK]          _ [UNK]          _ NP-VP-PP-NP-NP-N NP-VP-PP-NP-VP-V NP-VP-PP-NP-VP-V NP-.           _ [PAD]          _ [PAD]          _ [PAD]          _ [PAD]          _ [PAD]          _ [PAD]          _ [PAD]          _ [PAD]          _ [PAD]          _ [PAD]          _ [PAD]          _ [PAD]          _ [PAD]          _ [PAD]          _ [PAD]          _ [PAD]          _\n",
            "    \n",
            "\n",
            "        sentence: a man is a a [PAD] [PAD] [PAD] [PAD] [PAD] [PAD] [PAD] [PAD] [PAD] [PAD] [PAD]\n",
            "        words   : a              _ man            _ is             _ a              _ a              _ [PAD]          _ [PAD]          _ [PAD]          _ [PAD]          _ [PAD]          _ [PAD]          _ [PAD]          _ [PAD]          _ [PAD]          _ [PAD]          _ [PAD]          _ [PAD]          _ [PAD]          _ [PAD]          _ [PAD]          _ [PAD]          _ [PAD]          _ [PAD]          _ [PAD]          _ [PAD]          _ [PAD]          _ [PAD]          _ [PAD]          _ [PAD]          _ [PAD]          _ [PAD]          _ [PAD]          _\n",
            "        labels  : NP-DT          _ NP-NN          _ VP-VBZ         _ VP-VP-VBG      _ VP-VP-PP-IN    _ [PAD]          _ [PAD]          _ [PAD]          _ [PAD]          _ [PAD]          _ [PAD]          _ [PAD]          _ [PAD]          _ [PAD]          _ [PAD]          _ [PAD]          _ [PAD]          _ [PAD]          _ [PAD]          _ [PAD]          _ [PAD]          _ [PAD]          _ [PAD]          _ [PAD]          _ [PAD]          _ [PAD]          _ [PAD]          _ [PAD]          _ [PAD]          _ [PAD]          _ [PAD]          _ [PAD]          _\n",
            "    \n",
            "\n",
            "        sentence: a little boy swimming underwater with a toy in his hand .\n",
            "        words   : a              _ little         _ boy            _ swimming       _ underwater     _ with           _ a              _ toy            _ in             _ his            _ hand           _ .              _ [PAD]          _ [PAD]          _ [PAD]          _ [PAD]          _ [PAD]          _ [PAD]          _ [PAD]          _ [PAD]          _ [PAD]          _ [PAD]          _ [PAD]          _ [PAD]          _ [PAD]          _ [PAD]          _ [PAD]          _ [PAD]          _ [PAD]          _ [PAD]          _ [PAD]          _ [PAD]          _\n",
            "        labels  : NP-NP-DT       _ NP-NP-JJ       _ NP-NP-NN       _ NP-VP-VBG      _ NP-VP-ADVP-RB  _ NP-VP-PP-IN    _ NP-VP-PP-NP-NP-D NP-VP-PP-NP-NP-N NP-VP-PP-NP-PP-I NP-VP-PP-NP-PP-N NP-VP-PP-NP-PP-N NP-.           _ [PAD]          _ [PAD]          _ [PAD]          _ [PAD]          _ [PAD]          _ [PAD]          _ [PAD]          _ [PAD]          _ [PAD]          _ [PAD]          _ [PAD]          _ [PAD]          _ [PAD]          _ [PAD]          _ [PAD]          _ [PAD]          _ [PAD]          _ [PAD]          _ [PAD]          _ [PAD]          _\n",
            "    \n",
            "\n",
            "        sentence: a man is a a [PAD] [PAD] [PAD] [PAD] [PAD] [PAD] [PAD]\n",
            "        words   : a              _ man            _ is             _ a              _ a              _ [PAD]          _ [PAD]          _ [PAD]          _ [PAD]          _ [PAD]          _ [PAD]          _ [PAD]          _ [PAD]          _ [PAD]          _ [PAD]          _ [PAD]          _ [PAD]          _ [PAD]          _ [PAD]          _ [PAD]          _ [PAD]          _ [PAD]          _ [PAD]          _ [PAD]          _ [PAD]          _ [PAD]          _ [PAD]          _ [PAD]          _ [PAD]          _ [PAD]          _ [PAD]          _ [PAD]          _\n",
            "        labels  : NP-DT          _ NP-NN          _ VP-VBZ         _ VP-VP-VBG      _ VP-VP-PP-IN    _ [PAD]          _ [PAD]          _ [PAD]          _ [PAD]          _ [PAD]          _ [PAD]          _ [PAD]          _ [PAD]          _ [PAD]          _ [PAD]          _ [PAD]          _ [PAD]          _ [PAD]          _ [PAD]          _ [PAD]          _ [PAD]          _ [PAD]          _ [PAD]          _ [PAD]          _ [PAD]          _ [PAD]          _ [PAD]          _ [PAD]          _ [PAD]          _ [PAD]          _ [PAD]          _ [PAD]          _\n",
            "    \n",
            "Epoch: 13, ELBO: -174.2619\n",
            "\n",
            "        sentence: a man walking along side a clean up crew .\n",
            "        words   : a              _ man            _ walking        _ along          _ side           _ a              _ clean          _ up             _ crew           _ .              _ [PAD]          _ [PAD]          _ [PAD]          _ [PAD]          _ [PAD]          _ [PAD]          _ [PAD]          _ [PAD]          _ [PAD]          _ [PAD]          _ [PAD]          _ [PAD]          _ [PAD]          _ [PAD]          _ [PAD]          _ [PAD]          _ [PAD]          _ [PAD]          _ [PAD]          _ [PAD]          _ [PAD]          _ [PAD]          _\n",
            "        labels  : NP-NP-DT       _ NP-NP-NN       _ NP-VP-VBG      _ NP-VP-PRT-RP   _ NP-VP-NP-RB    _ NP-VP-NP-DT    _ NP-VP-NP-ADJP-JJ [UNK]          _ NP-VP-NP-NN    _ NP-.           _ [PAD]          _ [PAD]          _ [PAD]          _ [PAD]          _ [PAD]          _ [PAD]          _ [PAD]          _ [PAD]          _ [PAD]          _ [PAD]          _ [PAD]          _ [PAD]          _ [PAD]          _ [PAD]          _ [PAD]          _ [PAD]          _ [PAD]          _ [PAD]          _ [PAD]          _ [PAD]          _ [PAD]          _ [PAD]          _\n",
            "    \n",
            "\n",
            "        sentence: a man is a a [PAD] [PAD] [PAD] [PAD] [PAD]\n",
            "        words   : a              _ man            _ is             _ a              _ a              _ [PAD]          _ [PAD]          _ [PAD]          _ [PAD]          _ [PAD]          _ [PAD]          _ [PAD]          _ [PAD]          _ [PAD]          _ [PAD]          _ [PAD]          _ [PAD]          _ [PAD]          _ [PAD]          _ [PAD]          _ [PAD]          _ [PAD]          _ [PAD]          _ [PAD]          _ [PAD]          _ [PAD]          _ [PAD]          _ [PAD]          _ [PAD]          _ [PAD]          _ [PAD]          _ [PAD]          _\n",
            "        labels  : NP-DT          _ NP-NN          _ VP-VBZ         _ VP-VP-VBG      _ VP-VP-PP-IN    _ [PAD]          _ [PAD]          _ [PAD]          _ [PAD]          _ [PAD]          _ [PAD]          _ [PAD]          _ [PAD]          _ [PAD]          _ [PAD]          _ [PAD]          _ [PAD]          _ [PAD]          _ [PAD]          _ [PAD]          _ [PAD]          _ [PAD]          _ [PAD]          _ [PAD]          _ [PAD]          _ [PAD]          _ [PAD]          _ [PAD]          _ [PAD]          _ [PAD]          _ [PAD]          _ [PAD]          _\n",
            "    \n",
            "\n",
            "        sentence: a foreign family is walking along a dirt path next to the water .\n",
            "        words   : a              _ foreign        _ family         _ is             _ walking        _ along          _ a              _ dirt           _ path           _ next           _ to             _ the            _ water          _ .              _ [PAD]          _ [PAD]          _ [PAD]          _ [PAD]          _ [PAD]          _ [PAD]          _ [PAD]          _ [PAD]          _ [PAD]          _ [PAD]          _ [PAD]          _ [PAD]          _ [PAD]          _ [PAD]          _ [PAD]          _ [PAD]          _ [PAD]          _ [PAD]          _\n",
            "        labels  : NP-DT          _ NP-JJ          _ NP-NN          _ VP-VBZ         _ VP-VP-VBG      _ VP-VP-PP-IN    _ VP-VP-PP-NP-DT _ VP-VP-PP-NP-NN _ VP-VP-PP-NP-NN _ VP-VP-ADVP-JJ  _ VP-VP-ADVP-PP-TO VP-VP-ADVP-PP-NP VP-VP-ADVP-PP-NP .              _ [PAD]          _ [PAD]          _ [PAD]          _ [PAD]          _ [PAD]          _ [PAD]          _ [PAD]          _ [PAD]          _ [PAD]          _ [PAD]          _ [PAD]          _ [PAD]          _ [PAD]          _ [PAD]          _ [PAD]          _ [PAD]          _ [PAD]          _ [PAD]          _\n",
            "    \n",
            "\n",
            "        sentence: a man is a a [PAD] [PAD] [PAD] [PAD] [PAD] [PAD] [PAD] [PAD] [PAD]\n",
            "        words   : a              _ man            _ is             _ a              _ a              _ [PAD]          _ [PAD]          _ [PAD]          _ [PAD]          _ [PAD]          _ [PAD]          _ [PAD]          _ [PAD]          _ [PAD]          _ [PAD]          _ [PAD]          _ [PAD]          _ [PAD]          _ [PAD]          _ [PAD]          _ [PAD]          _ [PAD]          _ [PAD]          _ [PAD]          _ [PAD]          _ [PAD]          _ [PAD]          _ [PAD]          _ [PAD]          _ [PAD]          _ [PAD]          _ [PAD]          _\n",
            "        labels  : NP-DT          _ NP-NN          _ VP-VBZ         _ VP-VP-VBG      _ VP-VP-PP-IN    _ [PAD]          _ [PAD]          _ [PAD]          _ [PAD]          _ [PAD]          _ [PAD]          _ [PAD]          _ [PAD]          _ [PAD]          _ [PAD]          _ [PAD]          _ [PAD]          _ [PAD]          _ [PAD]          _ [PAD]          _ [PAD]          _ [PAD]          _ [PAD]          _ [PAD]          _ [PAD]          _ [PAD]          _ [PAD]          _ [PAD]          _ [PAD]          _ [PAD]          _ [PAD]          _ [PAD]          _\n",
            "    \n",
            "\n",
            "        sentence: a young man doing a trick on a skateboard down the stairs while being photographed .\n",
            "        words   : a              _ young          _ man            _ doing          _ a              _ trick          _ on             _ a              _ skateboard     _ down           _ the            _ stairs         _ while          _ being          _ photographed   _ .              _ [PAD]          _ [PAD]          _ [PAD]          _ [PAD]          _ [PAD]          _ [PAD]          _ [PAD]          _ [PAD]          _ [PAD]          _ [PAD]          _ [PAD]          _ [PAD]          _ [PAD]          _ [PAD]          _ [PAD]          _ [PAD]          _\n",
            "        labels  : NP-NP-DT       _ NP-NP-JJ       _ NP-NP-NN       _ NP-VP-VBG      _ NP-VP-NP-DT    _ NP-VP-NP-NN    _ NP-VP-PP-IN    _ NP-VP-PP-NP-NP-D NP-VP-PP-NP-NP-A [UNK]          _ [UNK]          _ [UNK]          _ NP-VP-PP-NP-NP-N NP-VP-PP-NP-VP-V NP-VP-PP-NP-VP-V NP-.           _ [PAD]          _ [PAD]          _ [PAD]          _ [PAD]          _ [PAD]          _ [PAD]          _ [PAD]          _ [PAD]          _ [PAD]          _ [PAD]          _ [PAD]          _ [PAD]          _ [PAD]          _ [PAD]          _ [PAD]          _ [PAD]          _\n",
            "    \n",
            "\n",
            "        sentence: a man is a a [PAD] [PAD] [PAD] [PAD] [PAD] [PAD] [PAD] [PAD] [PAD] [PAD] [PAD]\n",
            "        words   : a              _ man            _ is             _ a              _ a              _ [PAD]          _ [PAD]          _ [PAD]          _ [PAD]          _ [PAD]          _ [PAD]          _ [PAD]          _ [PAD]          _ [PAD]          _ [PAD]          _ [PAD]          _ [PAD]          _ [PAD]          _ [PAD]          _ [PAD]          _ [PAD]          _ [PAD]          _ [PAD]          _ [PAD]          _ [PAD]          _ [PAD]          _ [PAD]          _ [PAD]          _ [PAD]          _ [PAD]          _ [PAD]          _ [PAD]          _\n",
            "        labels  : NP-DT          _ NP-NN          _ VP-VBZ         _ VP-VP-VBG      _ VP-VP-PP-IN    _ [PAD]          _ [PAD]          _ [PAD]          _ [PAD]          _ [PAD]          _ [PAD]          _ [PAD]          _ [PAD]          _ [PAD]          _ [PAD]          _ [PAD]          _ [PAD]          _ [PAD]          _ [PAD]          _ [PAD]          _ [PAD]          _ [PAD]          _ [PAD]          _ [PAD]          _ [PAD]          _ [PAD]          _ [PAD]          _ [PAD]          _ [PAD]          _ [PAD]          _ [PAD]          _ [PAD]          _\n",
            "    \n",
            "\n",
            "        sentence: a little boy swimming underwater with a toy in his hand .\n",
            "        words   : a              _ little         _ boy            _ swimming       _ underwater     _ with           _ a              _ toy            _ in             _ his            _ hand           _ .              _ [PAD]          _ [PAD]          _ [PAD]          _ [PAD]          _ [PAD]          _ [PAD]          _ [PAD]          _ [PAD]          _ [PAD]          _ [PAD]          _ [PAD]          _ [PAD]          _ [PAD]          _ [PAD]          _ [PAD]          _ [PAD]          _ [PAD]          _ [PAD]          _ [PAD]          _ [PAD]          _\n",
            "        labels  : NP-NP-DT       _ NP-NP-JJ       _ NP-NP-NN       _ NP-VP-VBG      _ NP-VP-ADVP-RB  _ NP-VP-PP-IN    _ NP-VP-PP-NP-NP-D NP-VP-PP-NP-NP-N NP-VP-PP-NP-PP-I NP-VP-PP-NP-PP-N NP-VP-PP-NP-PP-N NP-.           _ [PAD]          _ [PAD]          _ [PAD]          _ [PAD]          _ [PAD]          _ [PAD]          _ [PAD]          _ [PAD]          _ [PAD]          _ [PAD]          _ [PAD]          _ [PAD]          _ [PAD]          _ [PAD]          _ [PAD]          _ [PAD]          _ [PAD]          _ [PAD]          _ [PAD]          _ [PAD]          _\n",
            "    \n",
            "\n",
            "        sentence: a man is a a [PAD] [PAD] [PAD] [PAD] [PAD] [PAD] [PAD]\n",
            "        words   : a              _ man            _ is             _ a              _ a              _ [PAD]          _ [PAD]          _ [PAD]          _ [PAD]          _ [PAD]          _ [PAD]          _ [PAD]          _ [PAD]          _ [PAD]          _ [PAD]          _ [PAD]          _ [PAD]          _ [PAD]          _ [PAD]          _ [PAD]          _ [PAD]          _ [PAD]          _ [PAD]          _ [PAD]          _ [PAD]          _ [PAD]          _ [PAD]          _ [PAD]          _ [PAD]          _ [PAD]          _ [PAD]          _ [PAD]          _\n",
            "        labels  : NP-DT          _ NP-NN          _ VP-VBZ         _ VP-VP-VBG      _ VP-VP-PP-IN    _ [PAD]          _ [PAD]          _ [PAD]          _ [PAD]          _ [PAD]          _ [PAD]          _ [PAD]          _ [PAD]          _ [PAD]          _ [PAD]          _ [PAD]          _ [PAD]          _ [PAD]          _ [PAD]          _ [PAD]          _ [PAD]          _ [PAD]          _ [PAD]          _ [PAD]          _ [PAD]          _ [PAD]          _ [PAD]          _ [PAD]          _ [PAD]          _ [PAD]          _ [PAD]          _ [PAD]          _\n",
            "    \n",
            "Epoch: 14, ELBO: -171.0222\n",
            "\n",
            "        sentence: a man walking along side a clean up crew .\n",
            "        words   : a              _ man            _ walking        _ along          _ side           _ a              _ clean          _ up             _ crew           _ .              _ [PAD]          _ [PAD]          _ [PAD]          _ [PAD]          _ [PAD]          _ [PAD]          _ [PAD]          _ [PAD]          _ [PAD]          _ [PAD]          _ [PAD]          _ [PAD]          _ [PAD]          _ [PAD]          _ [PAD]          _ [PAD]          _ [PAD]          _ [PAD]          _ [PAD]          _ [PAD]          _ [PAD]          _ [PAD]          _\n",
            "        labels  : NP-NP-DT       _ NP-NP-NN       _ NP-VP-VBG      _ NP-VP-PRT-RP   _ NP-VP-NP-RB    _ NP-VP-NP-DT    _ NP-VP-NP-ADJP-JJ [UNK]          _ NP-VP-NP-NN    _ NP-.           _ [PAD]          _ [PAD]          _ [PAD]          _ [PAD]          _ [PAD]          _ [PAD]          _ [PAD]          _ [PAD]          _ [PAD]          _ [PAD]          _ [PAD]          _ [PAD]          _ [PAD]          _ [PAD]          _ [PAD]          _ [PAD]          _ [PAD]          _ [PAD]          _ [PAD]          _ [PAD]          _ [PAD]          _ [PAD]          _\n",
            "    \n",
            "\n",
            "        sentence: a man is a a [PAD] [PAD] [PAD] [PAD] [PAD]\n",
            "        words   : a              _ man            _ is             _ a              _ a              _ [PAD]          _ [PAD]          _ [PAD]          _ [PAD]          _ [PAD]          _ [PAD]          _ [PAD]          _ [PAD]          _ [PAD]          _ [PAD]          _ [PAD]          _ [PAD]          _ [PAD]          _ [PAD]          _ [PAD]          _ [PAD]          _ [PAD]          _ [PAD]          _ [PAD]          _ [PAD]          _ [PAD]          _ [PAD]          _ [PAD]          _ [PAD]          _ [PAD]          _ [PAD]          _ [PAD]          _\n",
            "        labels  : NP-DT          _ NP-NN          _ VP-VBZ         _ VP-VP-VBG      _ VP-VP-PP-IN    _ [PAD]          _ [PAD]          _ [PAD]          _ [PAD]          _ [PAD]          _ [PAD]          _ [PAD]          _ [PAD]          _ [PAD]          _ [PAD]          _ [PAD]          _ [PAD]          _ [PAD]          _ [PAD]          _ [PAD]          _ [PAD]          _ [PAD]          _ [PAD]          _ [PAD]          _ [PAD]          _ [PAD]          _ [PAD]          _ [PAD]          _ [PAD]          _ [PAD]          _ [PAD]          _ [PAD]          _\n",
            "    \n",
            "\n",
            "        sentence: a foreign family is walking along a dirt path next to the water .\n",
            "        words   : a              _ foreign        _ family         _ is             _ walking        _ along          _ a              _ dirt           _ path           _ next           _ to             _ the            _ water          _ .              _ [PAD]          _ [PAD]          _ [PAD]          _ [PAD]          _ [PAD]          _ [PAD]          _ [PAD]          _ [PAD]          _ [PAD]          _ [PAD]          _ [PAD]          _ [PAD]          _ [PAD]          _ [PAD]          _ [PAD]          _ [PAD]          _ [PAD]          _ [PAD]          _\n",
            "        labels  : NP-DT          _ NP-JJ          _ NP-NN          _ VP-VBZ         _ VP-VP-VBG      _ VP-VP-PP-IN    _ VP-VP-PP-NP-DT _ VP-VP-PP-NP-NN _ VP-VP-PP-NP-NN _ VP-VP-ADVP-JJ  _ VP-VP-ADVP-PP-TO VP-VP-ADVP-PP-NP VP-VP-ADVP-PP-NP .              _ [PAD]          _ [PAD]          _ [PAD]          _ [PAD]          _ [PAD]          _ [PAD]          _ [PAD]          _ [PAD]          _ [PAD]          _ [PAD]          _ [PAD]          _ [PAD]          _ [PAD]          _ [PAD]          _ [PAD]          _ [PAD]          _ [PAD]          _ [PAD]          _\n",
            "    \n",
            "\n",
            "        sentence: a man is a a [PAD] [PAD] [PAD] [PAD] [PAD] [PAD] [PAD] [PAD] [PAD]\n",
            "        words   : a              _ man            _ is             _ a              _ a              _ [PAD]          _ [PAD]          _ [PAD]          _ [PAD]          _ [PAD]          _ [PAD]          _ [PAD]          _ [PAD]          _ [PAD]          _ [PAD]          _ [PAD]          _ [PAD]          _ [PAD]          _ [PAD]          _ [PAD]          _ [PAD]          _ [PAD]          _ [PAD]          _ [PAD]          _ [PAD]          _ [PAD]          _ [PAD]          _ [PAD]          _ [PAD]          _ [PAD]          _ [PAD]          _ [PAD]          _\n",
            "        labels  : NP-DT          _ NP-NN          _ VP-VBZ         _ VP-VP-VBG      _ VP-VP-PP-IN    _ [PAD]          _ [PAD]          _ [PAD]          _ [PAD]          _ [PAD]          _ [PAD]          _ [PAD]          _ [PAD]          _ [PAD]          _ [PAD]          _ [PAD]          _ [PAD]          _ [PAD]          _ [PAD]          _ [PAD]          _ [PAD]          _ [PAD]          _ [PAD]          _ [PAD]          _ [PAD]          _ [PAD]          _ [PAD]          _ [PAD]          _ [PAD]          _ [PAD]          _ [PAD]          _ [PAD]          _\n",
            "    \n",
            "\n",
            "        sentence: a young man doing a trick on a skateboard down the stairs while being photographed .\n",
            "        words   : a              _ young          _ man            _ doing          _ a              _ trick          _ on             _ a              _ skateboard     _ down           _ the            _ stairs         _ while          _ being          _ photographed   _ .              _ [PAD]          _ [PAD]          _ [PAD]          _ [PAD]          _ [PAD]          _ [PAD]          _ [PAD]          _ [PAD]          _ [PAD]          _ [PAD]          _ [PAD]          _ [PAD]          _ [PAD]          _ [PAD]          _ [PAD]          _ [PAD]          _\n",
            "        labels  : NP-NP-DT       _ NP-NP-JJ       _ NP-NP-NN       _ NP-VP-VBG      _ NP-VP-NP-DT    _ NP-VP-NP-NN    _ NP-VP-PP-IN    _ NP-VP-PP-NP-NP-D NP-VP-PP-NP-NP-A [UNK]          _ [UNK]          _ [UNK]          _ NP-VP-PP-NP-NP-N NP-VP-PP-NP-VP-V NP-VP-PP-NP-VP-V NP-.           _ [PAD]          _ [PAD]          _ [PAD]          _ [PAD]          _ [PAD]          _ [PAD]          _ [PAD]          _ [PAD]          _ [PAD]          _ [PAD]          _ [PAD]          _ [PAD]          _ [PAD]          _ [PAD]          _ [PAD]          _ [PAD]          _\n",
            "    \n",
            "\n",
            "        sentence: a man is a a [PAD] [PAD] [PAD] [PAD] [PAD] [PAD] [PAD] [PAD] [PAD] [PAD] [PAD]\n",
            "        words   : a              _ man            _ is             _ a              _ a              _ [PAD]          _ [PAD]          _ [PAD]          _ [PAD]          _ [PAD]          _ [PAD]          _ [PAD]          _ [PAD]          _ [PAD]          _ [PAD]          _ [PAD]          _ [PAD]          _ [PAD]          _ [PAD]          _ [PAD]          _ [PAD]          _ [PAD]          _ [PAD]          _ [PAD]          _ [PAD]          _ [PAD]          _ [PAD]          _ [PAD]          _ [PAD]          _ [PAD]          _ [PAD]          _ [PAD]          _\n",
            "        labels  : NP-DT          _ NP-NN          _ VP-VBZ         _ VP-VP-VBG      _ VP-VP-PP-IN    _ [PAD]          _ [PAD]          _ [PAD]          _ [PAD]          _ [PAD]          _ [PAD]          _ [PAD]          _ [PAD]          _ [PAD]          _ [PAD]          _ [PAD]          _ [PAD]          _ [PAD]          _ [PAD]          _ [PAD]          _ [PAD]          _ [PAD]          _ [PAD]          _ [PAD]          _ [PAD]          _ [PAD]          _ [PAD]          _ [PAD]          _ [PAD]          _ [PAD]          _ [PAD]          _ [PAD]          _\n",
            "    \n",
            "\n",
            "        sentence: a little boy swimming underwater with a toy in his hand .\n",
            "        words   : a              _ little         _ boy            _ swimming       _ underwater     _ with           _ a              _ toy            _ in             _ his            _ hand           _ .              _ [PAD]          _ [PAD]          _ [PAD]          _ [PAD]          _ [PAD]          _ [PAD]          _ [PAD]          _ [PAD]          _ [PAD]          _ [PAD]          _ [PAD]          _ [PAD]          _ [PAD]          _ [PAD]          _ [PAD]          _ [PAD]          _ [PAD]          _ [PAD]          _ [PAD]          _ [PAD]          _\n",
            "        labels  : NP-NP-DT       _ NP-NP-JJ       _ NP-NP-NN       _ NP-VP-VBG      _ NP-VP-ADVP-RB  _ NP-VP-PP-IN    _ NP-VP-PP-NP-NP-D NP-VP-PP-NP-NP-N NP-VP-PP-NP-PP-I NP-VP-PP-NP-PP-N NP-VP-PP-NP-PP-N NP-.           _ [PAD]          _ [PAD]          _ [PAD]          _ [PAD]          _ [PAD]          _ [PAD]          _ [PAD]          _ [PAD]          _ [PAD]          _ [PAD]          _ [PAD]          _ [PAD]          _ [PAD]          _ [PAD]          _ [PAD]          _ [PAD]          _ [PAD]          _ [PAD]          _ [PAD]          _ [PAD]          _\n",
            "    \n",
            "\n",
            "        sentence: a man is a a [PAD] [PAD] [PAD] [PAD] [PAD] [PAD] [PAD]\n",
            "        words   : a              _ man            _ is             _ a              _ a              _ [PAD]          _ [PAD]          _ [PAD]          _ [PAD]          _ [PAD]          _ [PAD]          _ [PAD]          _ [PAD]          _ [PAD]          _ [PAD]          _ [PAD]          _ [PAD]          _ [PAD]          _ [PAD]          _ [PAD]          _ [PAD]          _ [PAD]          _ [PAD]          _ [PAD]          _ [PAD]          _ [PAD]          _ [PAD]          _ [PAD]          _ [PAD]          _ [PAD]          _ [PAD]          _ [PAD]          _\n",
            "        labels  : NP-DT          _ NP-NN          _ VP-VBZ         _ VP-VP-VBG      _ VP-VP-PP-IN    _ [PAD]          _ [PAD]          _ [PAD]          _ [PAD]          _ [PAD]          _ [PAD]          _ [PAD]          _ [PAD]          _ [PAD]          _ [PAD]          _ [PAD]          _ [PAD]          _ [PAD]          _ [PAD]          _ [PAD]          _ [PAD]          _ [PAD]          _ [PAD]          _ [PAD]          _ [PAD]          _ [PAD]          _ [PAD]          _ [PAD]          _ [PAD]          _ [PAD]          _ [PAD]          _ [PAD]          _\n",
            "    \n",
            "Epoch: 15, ELBO: -166.6726\n",
            "\n",
            "        sentence: a man walking along side a clean up crew .\n",
            "        words   : a              _ man            _ walking        _ along          _ side           _ a              _ clean          _ up             _ crew           _ .              _ [PAD]          _ [PAD]          _ [PAD]          _ [PAD]          _ [PAD]          _ [PAD]          _ [PAD]          _ [PAD]          _ [PAD]          _ [PAD]          _ [PAD]          _ [PAD]          _ [PAD]          _ [PAD]          _ [PAD]          _ [PAD]          _ [PAD]          _ [PAD]          _ [PAD]          _ [PAD]          _ [PAD]          _ [PAD]          _\n",
            "        labels  : NP-NP-DT       _ NP-NP-NN       _ NP-VP-VBG      _ NP-VP-PRT-RP   _ NP-VP-NP-RB    _ NP-VP-NP-DT    _ NP-VP-NP-ADJP-JJ [UNK]          _ NP-VP-NP-NN    _ NP-.           _ [PAD]          _ [PAD]          _ [PAD]          _ [PAD]          _ [PAD]          _ [PAD]          _ [PAD]          _ [PAD]          _ [PAD]          _ [PAD]          _ [PAD]          _ [PAD]          _ [PAD]          _ [PAD]          _ [PAD]          _ [PAD]          _ [PAD]          _ [PAD]          _ [PAD]          _ [PAD]          _ [PAD]          _ [PAD]          _\n",
            "    \n",
            "\n",
            "        sentence: a man is a a [PAD] [PAD] [PAD] [PAD] [PAD]\n",
            "        words   : a              _ man            _ is             _ a              _ a              _ [PAD]          _ [PAD]          _ [PAD]          _ [PAD]          _ [PAD]          _ [PAD]          _ [PAD]          _ [PAD]          _ [PAD]          _ [PAD]          _ [PAD]          _ [PAD]          _ [PAD]          _ [PAD]          _ [PAD]          _ [PAD]          _ [PAD]          _ [PAD]          _ [PAD]          _ [PAD]          _ [PAD]          _ [PAD]          _ [PAD]          _ [PAD]          _ [PAD]          _ [PAD]          _ [PAD]          _\n",
            "        labels  : NP-DT          _ NP-NN          _ VP-VBZ         _ VP-VP-VBG      _ VP-VP-PP-IN    _ [PAD]          _ [PAD]          _ [PAD]          _ [PAD]          _ [PAD]          _ [PAD]          _ [PAD]          _ [PAD]          _ [PAD]          _ [PAD]          _ [PAD]          _ [PAD]          _ [PAD]          _ [PAD]          _ [PAD]          _ [PAD]          _ [PAD]          _ [PAD]          _ [PAD]          _ [PAD]          _ [PAD]          _ [PAD]          _ [PAD]          _ [PAD]          _ [PAD]          _ [PAD]          _ [PAD]          _\n",
            "    \n",
            "\n",
            "        sentence: a foreign family is walking along a dirt path next to the water .\n",
            "        words   : a              _ foreign        _ family         _ is             _ walking        _ along          _ a              _ dirt           _ path           _ next           _ to             _ the            _ water          _ .              _ [PAD]          _ [PAD]          _ [PAD]          _ [PAD]          _ [PAD]          _ [PAD]          _ [PAD]          _ [PAD]          _ [PAD]          _ [PAD]          _ [PAD]          _ [PAD]          _ [PAD]          _ [PAD]          _ [PAD]          _ [PAD]          _ [PAD]          _ [PAD]          _\n",
            "        labels  : NP-DT          _ NP-JJ          _ NP-NN          _ VP-VBZ         _ VP-VP-VBG      _ VP-VP-PP-IN    _ VP-VP-PP-NP-DT _ VP-VP-PP-NP-NN _ VP-VP-PP-NP-NN _ VP-VP-ADVP-JJ  _ VP-VP-ADVP-PP-TO VP-VP-ADVP-PP-NP VP-VP-ADVP-PP-NP .              _ [PAD]          _ [PAD]          _ [PAD]          _ [PAD]          _ [PAD]          _ [PAD]          _ [PAD]          _ [PAD]          _ [PAD]          _ [PAD]          _ [PAD]          _ [PAD]          _ [PAD]          _ [PAD]          _ [PAD]          _ [PAD]          _ [PAD]          _ [PAD]          _\n",
            "    \n",
            "\n",
            "        sentence: a man is a a [PAD] . [PAD] [PAD] [PAD] [PAD] [PAD] [PAD] [PAD]\n",
            "        words   : a              _ man            _ is             _ a              _ a              _ [PAD]          _ .              _ [PAD]          _ [PAD]          _ [PAD]          _ [PAD]          _ [PAD]          _ [PAD]          _ [PAD]          _ [PAD]          _ [PAD]          _ [PAD]          _ [PAD]          _ [PAD]          _ [PAD]          _ [PAD]          _ [PAD]          _ [PAD]          _ [PAD]          _ [PAD]          _ [PAD]          _ [PAD]          _ [PAD]          _ [PAD]          _ [PAD]          _ [PAD]          _ [PAD]          _\n",
            "        labels  : NP-DT          _ NP-NN          _ VP-VBZ         _ VP-VP-VBG      _ VP-VP-PP-IN    _ [PAD]          _ .              _ [PAD]          _ [PAD]          _ [PAD]          _ [PAD]          _ [PAD]          _ [PAD]          _ [PAD]          _ [PAD]          _ [PAD]          _ [PAD]          _ [PAD]          _ [PAD]          _ [PAD]          _ [PAD]          _ [PAD]          _ [PAD]          _ [PAD]          _ [PAD]          _ [PAD]          _ [PAD]          _ [PAD]          _ [PAD]          _ [PAD]          _ [PAD]          _ [PAD]          _\n",
            "    \n",
            "\n",
            "        sentence: a young man doing a trick on a skateboard down the stairs while being photographed .\n",
            "        words   : a              _ young          _ man            _ doing          _ a              _ trick          _ on             _ a              _ skateboard     _ down           _ the            _ stairs         _ while          _ being          _ photographed   _ .              _ [PAD]          _ [PAD]          _ [PAD]          _ [PAD]          _ [PAD]          _ [PAD]          _ [PAD]          _ [PAD]          _ [PAD]          _ [PAD]          _ [PAD]          _ [PAD]          _ [PAD]          _ [PAD]          _ [PAD]          _ [PAD]          _\n",
            "        labels  : NP-NP-DT       _ NP-NP-JJ       _ NP-NP-NN       _ NP-VP-VBG      _ NP-VP-NP-DT    _ NP-VP-NP-NN    _ NP-VP-PP-IN    _ NP-VP-PP-NP-NP-D NP-VP-PP-NP-NP-A [UNK]          _ [UNK]          _ [UNK]          _ NP-VP-PP-NP-NP-N NP-VP-PP-NP-VP-V NP-VP-PP-NP-VP-V NP-.           _ [PAD]          _ [PAD]          _ [PAD]          _ [PAD]          _ [PAD]          _ [PAD]          _ [PAD]          _ [PAD]          _ [PAD]          _ [PAD]          _ [PAD]          _ [PAD]          _ [PAD]          _ [PAD]          _ [PAD]          _ [PAD]          _\n",
            "    \n",
            "\n",
            "        sentence: a man is a a . . a . [PAD] [PAD] [PAD] [PAD] [PAD] [PAD] [PAD]\n",
            "        words   : a              _ man            _ is             _ a              _ a              _ .              _ .              _ a              _ .              _ [PAD]          _ [PAD]          _ [PAD]          _ [PAD]          _ [PAD]          _ [PAD]          _ [PAD]          _ [PAD]          _ [PAD]          _ [PAD]          _ [PAD]          _ [PAD]          _ [PAD]          _ [PAD]          _ [PAD]          _ [PAD]          _ [PAD]          _ [PAD]          _ [PAD]          _ [PAD]          _ [PAD]          _ [PAD]          _ [PAD]          _\n",
            "        labels  : NP-DT          _ NP-NN          _ VP-VBZ         _ VP-VP-VBG      _ VP-VP-PP-IN    _ .              _ .              _ VP-VP-VBG      _ .              _ [PAD]          _ [PAD]          _ [PAD]          _ [PAD]          _ [PAD]          _ [PAD]          _ [PAD]          _ [PAD]          _ [PAD]          _ [PAD]          _ [PAD]          _ [PAD]          _ [PAD]          _ [PAD]          _ [PAD]          _ [PAD]          _ [PAD]          _ [PAD]          _ [PAD]          _ [PAD]          _ [PAD]          _ [PAD]          _ [PAD]          _\n",
            "    \n",
            "\n",
            "        sentence: a little boy swimming underwater with a toy in his hand .\n",
            "        words   : a              _ little         _ boy            _ swimming       _ underwater     _ with           _ a              _ toy            _ in             _ his            _ hand           _ .              _ [PAD]          _ [PAD]          _ [PAD]          _ [PAD]          _ [PAD]          _ [PAD]          _ [PAD]          _ [PAD]          _ [PAD]          _ [PAD]          _ [PAD]          _ [PAD]          _ [PAD]          _ [PAD]          _ [PAD]          _ [PAD]          _ [PAD]          _ [PAD]          _ [PAD]          _ [PAD]          _\n",
            "        labels  : NP-NP-DT       _ NP-NP-JJ       _ NP-NP-NN       _ NP-VP-VBG      _ NP-VP-ADVP-RB  _ NP-VP-PP-IN    _ NP-VP-PP-NP-NP-D NP-VP-PP-NP-NP-N NP-VP-PP-NP-PP-I NP-VP-PP-NP-PP-N NP-VP-PP-NP-PP-N NP-.           _ [PAD]          _ [PAD]          _ [PAD]          _ [PAD]          _ [PAD]          _ [PAD]          _ [PAD]          _ [PAD]          _ [PAD]          _ [PAD]          _ [PAD]          _ [PAD]          _ [PAD]          _ [PAD]          _ [PAD]          _ [PAD]          _ [PAD]          _ [PAD]          _ [PAD]          _ [PAD]          _\n",
            "    \n",
            "\n",
            "        sentence: a man is a a . . a . [PAD] [PAD] [PAD]\n",
            "        words   : a              _ man            _ is             _ a              _ a              _ .              _ .              _ a              _ .              _ [PAD]          _ [PAD]          _ [PAD]          _ [PAD]          _ [PAD]          _ [PAD]          _ [PAD]          _ [PAD]          _ [PAD]          _ [PAD]          _ [PAD]          _ [PAD]          _ [PAD]          _ [PAD]          _ [PAD]          _ [PAD]          _ [PAD]          _ [PAD]          _ [PAD]          _ [PAD]          _ [PAD]          _ [PAD]          _ [PAD]          _\n",
            "        labels  : NP-DT          _ NP-NN          _ VP-VBZ         _ VP-VP-VBG      _ VP-VP-PP-IN    _ [PAD]          _ .              _ VP-VP-VBG      _ .              _ [PAD]          _ [PAD]          _ [PAD]          _ [PAD]          _ [PAD]          _ [PAD]          _ [PAD]          _ [PAD]          _ [PAD]          _ [PAD]          _ [PAD]          _ [PAD]          _ [PAD]          _ [PAD]          _ [PAD]          _ [PAD]          _ [PAD]          _ [PAD]          _ [PAD]          _ [PAD]          _ [PAD]          _ [PAD]          _ [PAD]          _\n",
            "    \n",
            "Epoch: 16, ELBO: -162.5911\n",
            "\n",
            "        sentence: a man walking along side a clean up crew .\n",
            "        words   : a              _ man            _ walking        _ along          _ side           _ a              _ clean          _ up             _ crew           _ .              _ [PAD]          _ [PAD]          _ [PAD]          _ [PAD]          _ [PAD]          _ [PAD]          _ [PAD]          _ [PAD]          _ [PAD]          _ [PAD]          _ [PAD]          _ [PAD]          _ [PAD]          _ [PAD]          _ [PAD]          _ [PAD]          _ [PAD]          _ [PAD]          _ [PAD]          _ [PAD]          _ [PAD]          _ [PAD]          _\n",
            "        labels  : NP-NP-DT       _ NP-NP-NN       _ NP-VP-VBG      _ NP-VP-PRT-RP   _ NP-VP-NP-RB    _ NP-VP-NP-DT    _ NP-VP-NP-ADJP-JJ [UNK]          _ NP-VP-NP-NN    _ NP-.           _ [PAD]          _ [PAD]          _ [PAD]          _ [PAD]          _ [PAD]          _ [PAD]          _ [PAD]          _ [PAD]          _ [PAD]          _ [PAD]          _ [PAD]          _ [PAD]          _ [PAD]          _ [PAD]          _ [PAD]          _ [PAD]          _ [PAD]          _ [PAD]          _ [PAD]          _ [PAD]          _ [PAD]          _ [PAD]          _\n",
            "    \n",
            "\n",
            "        sentence: a man is a a [PAD] [PAD] [PAD] [PAD] [PAD]\n",
            "        words   : a              _ man            _ is             _ a              _ a              _ [PAD]          _ [PAD]          _ [PAD]          _ [PAD]          _ [PAD]          _ [PAD]          _ [PAD]          _ [PAD]          _ [PAD]          _ [PAD]          _ [PAD]          _ [PAD]          _ [PAD]          _ [PAD]          _ [PAD]          _ [PAD]          _ [PAD]          _ [PAD]          _ [PAD]          _ [PAD]          _ [PAD]          _ [PAD]          _ [PAD]          _ [PAD]          _ [PAD]          _ [PAD]          _ [PAD]          _\n",
            "        labels  : NP-DT          _ NP-NN          _ VP-VBZ         _ VP-VP-VBG      _ VP-VP-PP-IN    _ [PAD]          _ [PAD]          _ [PAD]          _ [PAD]          _ [PAD]          _ [PAD]          _ [PAD]          _ [PAD]          _ [PAD]          _ [PAD]          _ [PAD]          _ [PAD]          _ [PAD]          _ [PAD]          _ [PAD]          _ [PAD]          _ [PAD]          _ [PAD]          _ [PAD]          _ [PAD]          _ [PAD]          _ [PAD]          _ [PAD]          _ [PAD]          _ [PAD]          _ [PAD]          _ [PAD]          _\n",
            "    \n",
            "\n",
            "        sentence: a foreign family is walking along a dirt path next to the water .\n",
            "        words   : a              _ foreign        _ family         _ is             _ walking        _ along          _ a              _ dirt           _ path           _ next           _ to             _ the            _ water          _ .              _ [PAD]          _ [PAD]          _ [PAD]          _ [PAD]          _ [PAD]          _ [PAD]          _ [PAD]          _ [PAD]          _ [PAD]          _ [PAD]          _ [PAD]          _ [PAD]          _ [PAD]          _ [PAD]          _ [PAD]          _ [PAD]          _ [PAD]          _ [PAD]          _\n",
            "        labels  : NP-DT          _ NP-JJ          _ NP-NN          _ VP-VBZ         _ VP-VP-VBG      _ VP-VP-PP-IN    _ VP-VP-PP-NP-DT _ VP-VP-PP-NP-NN _ VP-VP-PP-NP-NN _ VP-VP-ADVP-JJ  _ VP-VP-ADVP-PP-TO VP-VP-ADVP-PP-NP VP-VP-ADVP-PP-NP .              _ [PAD]          _ [PAD]          _ [PAD]          _ [PAD]          _ [PAD]          _ [PAD]          _ [PAD]          _ [PAD]          _ [PAD]          _ [PAD]          _ [PAD]          _ [PAD]          _ [PAD]          _ [PAD]          _ [PAD]          _ [PAD]          _ [PAD]          _ [PAD]          _\n",
            "    \n",
            "\n",
            "        sentence: a man is a a . . [PAD] [PAD] [PAD] [PAD] [PAD] [PAD] [PAD]\n",
            "        words   : a              _ man            _ is             _ a              _ a              _ .              _ .              _ [PAD]          _ [PAD]          _ [PAD]          _ [PAD]          _ [PAD]          _ [PAD]          _ [PAD]          _ [PAD]          _ [PAD]          _ [PAD]          _ [PAD]          _ [PAD]          _ [PAD]          _ [PAD]          _ [PAD]          _ [PAD]          _ [PAD]          _ [PAD]          _ [PAD]          _ [PAD]          _ [PAD]          _ [PAD]          _ [PAD]          _ [PAD]          _ [PAD]          _\n",
            "        labels  : NP-DT          _ NP-NN          _ VP-VBZ         _ VP-VP-VBG      _ VP-VP-PP-IN    _ [PAD]          _ .              _ [PAD]          _ [PAD]          _ [PAD]          _ [PAD]          _ [PAD]          _ [PAD]          _ [PAD]          _ [PAD]          _ [PAD]          _ [PAD]          _ [PAD]          _ [PAD]          _ [PAD]          _ [PAD]          _ [PAD]          _ [PAD]          _ [PAD]          _ [PAD]          _ [PAD]          _ [PAD]          _ [PAD]          _ [PAD]          _ [PAD]          _ [PAD]          _ [PAD]          _\n",
            "    \n",
            "\n",
            "        sentence: a young man doing a trick on a skateboard down the stairs while being photographed .\n",
            "        words   : a              _ young          _ man            _ doing          _ a              _ trick          _ on             _ a              _ skateboard     _ down           _ the            _ stairs         _ while          _ being          _ photographed   _ .              _ [PAD]          _ [PAD]          _ [PAD]          _ [PAD]          _ [PAD]          _ [PAD]          _ [PAD]          _ [PAD]          _ [PAD]          _ [PAD]          _ [PAD]          _ [PAD]          _ [PAD]          _ [PAD]          _ [PAD]          _ [PAD]          _\n",
            "        labels  : NP-NP-DT       _ NP-NP-JJ       _ NP-NP-NN       _ NP-VP-VBG      _ NP-VP-NP-DT    _ NP-VP-NP-NN    _ NP-VP-PP-IN    _ NP-VP-PP-NP-NP-D NP-VP-PP-NP-NP-A [UNK]          _ [UNK]          _ [UNK]          _ NP-VP-PP-NP-NP-N NP-VP-PP-NP-VP-V NP-VP-PP-NP-VP-V NP-.           _ [PAD]          _ [PAD]          _ [PAD]          _ [PAD]          _ [PAD]          _ [PAD]          _ [PAD]          _ [PAD]          _ [PAD]          _ [PAD]          _ [PAD]          _ [PAD]          _ [PAD]          _ [PAD]          _ [PAD]          _ [PAD]          _\n",
            "    \n",
            "\n",
            "        sentence: a man is a a . . a a . . [PAD] [PAD] [PAD] [PAD] [PAD]\n",
            "        words   : a              _ man            _ is             _ a              _ a              _ .              _ .              _ a              _ a              _ .              _ .              _ [PAD]          _ [PAD]          _ [PAD]          _ [PAD]          _ [PAD]          _ [PAD]          _ [PAD]          _ [PAD]          _ [PAD]          _ [PAD]          _ [PAD]          _ [PAD]          _ [PAD]          _ [PAD]          _ [PAD]          _ [PAD]          _ [PAD]          _ [PAD]          _ [PAD]          _ [PAD]          _ [PAD]          _\n",
            "        labels  : NP-DT          _ NP-NN          _ VP-VBZ         _ VP-VP-VBG      _ VP-VP-PP-IN    _ VP-VP-NP-NN    _ .              _ VP-VP-VBG      _ .              _ .              _ .              _ [PAD]          _ [PAD]          _ [PAD]          _ [PAD]          _ [PAD]          _ [PAD]          _ [PAD]          _ [PAD]          _ [PAD]          _ [PAD]          _ [PAD]          _ [PAD]          _ [PAD]          _ [PAD]          _ [PAD]          _ [PAD]          _ [PAD]          _ [PAD]          _ [PAD]          _ [PAD]          _ [PAD]          _\n",
            "    \n",
            "\n",
            "        sentence: a little boy swimming underwater with a toy in his hand .\n",
            "        words   : a              _ little         _ boy            _ swimming       _ underwater     _ with           _ a              _ toy            _ in             _ his            _ hand           _ .              _ [PAD]          _ [PAD]          _ [PAD]          _ [PAD]          _ [PAD]          _ [PAD]          _ [PAD]          _ [PAD]          _ [PAD]          _ [PAD]          _ [PAD]          _ [PAD]          _ [PAD]          _ [PAD]          _ [PAD]          _ [PAD]          _ [PAD]          _ [PAD]          _ [PAD]          _ [PAD]          _\n",
            "        labels  : NP-NP-DT       _ NP-NP-JJ       _ NP-NP-NN       _ NP-VP-VBG      _ NP-VP-ADVP-RB  _ NP-VP-PP-IN    _ NP-VP-PP-NP-NP-D NP-VP-PP-NP-NP-N NP-VP-PP-NP-PP-I NP-VP-PP-NP-PP-N NP-VP-PP-NP-PP-N NP-.           _ [PAD]          _ [PAD]          _ [PAD]          _ [PAD]          _ [PAD]          _ [PAD]          _ [PAD]          _ [PAD]          _ [PAD]          _ [PAD]          _ [PAD]          _ [PAD]          _ [PAD]          _ [PAD]          _ [PAD]          _ [PAD]          _ [PAD]          _ [PAD]          _ [PAD]          _ [PAD]          _\n",
            "    \n",
            "\n",
            "        sentence: a man is a a . . [PAD] [PAD] [PAD] [PAD] [PAD]\n",
            "        words   : a              _ man            _ is             _ a              _ a              _ .              _ .              _ [PAD]          _ [PAD]          _ [PAD]          _ [PAD]          _ [PAD]          _ [PAD]          _ [PAD]          _ [PAD]          _ [PAD]          _ [PAD]          _ [PAD]          _ [PAD]          _ [PAD]          _ [PAD]          _ [PAD]          _ [PAD]          _ [PAD]          _ [PAD]          _ [PAD]          _ [PAD]          _ [PAD]          _ [PAD]          _ [PAD]          _ [PAD]          _ [PAD]          _\n",
            "        labels  : NP-DT          _ NP-NN          _ VP-VBZ         _ VP-VP-VBG      _ VP-VP-PP-IN    _ .              _ .              _ VP-VP-VBG      _ [PAD]          _ [PAD]          _ [PAD]          _ [PAD]          _ [PAD]          _ [PAD]          _ [PAD]          _ [PAD]          _ [PAD]          _ [PAD]          _ [PAD]          _ [PAD]          _ [PAD]          _ [PAD]          _ [PAD]          _ [PAD]          _ [PAD]          _ [PAD]          _ [PAD]          _ [PAD]          _ [PAD]          _ [PAD]          _ [PAD]          _ [PAD]          _\n",
            "    \n"
          ],
          "name": "stdout"
        }
      ]
    },
    {
      "cell_type": "code",
      "metadata": {
        "id": "Fk7Fcsn615bt"
      },
      "source": [
        "# 1.1\n",
        "# hidden -> word\n",
        "# hidden -> syntax\n",
        "# train = test = test[:1000]\n",
        "# Epoch: 1000, ELBO: -23.3353\n"
      ],
      "execution_count": null,
      "outputs": []
    },
    {
      "cell_type": "code",
      "metadata": {
        "id": "AdA6BY2NZYww"
      },
      "source": [
        "# 1.2\n",
        "# hidden -> word\n",
        "# hidden -> syntax\n",
        "# test = test[:1000]\n",
        "# train = train[:1000]\n",
        "# Epoch: 1000, ELBO: -191.2348\n"
      ],
      "execution_count": null,
      "outputs": []
    },
    {
      "cell_type": "code",
      "metadata": {
        "id": "SlBRXdDnZgrM"
      },
      "source": [
        "# 2.1\n",
        "# hidden -> word\n",
        "# hidden -> syntax\n",
        "# test = train[:1000]\n",
        "# train = train[:10000]\n",
        "# Epoch: 15, ELBO: -166.6726"
      ],
      "execution_count": null,
      "outputs": []
    },
    {
      "cell_type": "code",
      "metadata": {
        "id": "7qUV8WceZhc_"
      },
      "source": [
        "# 2.2\n",
        "# hidden -> word\n",
        "# hidden -> syntax\n",
        "# test = test[:1000]\n",
        "# train = train[:10000]\n",
        "# Epoch: 1000, ELBO: \n"
      ],
      "execution_count": null,
      "outputs": []
    },
    {
      "cell_type": "code",
      "metadata": {
        "id": "B0UsEiZZerZ-"
      },
      "source": [
        "# 1\n",
        "#         sentence: two people are playing american football and one of them is trying to stop the other from throwing the ball .\n",
        "#         words   : two              people           are              playing          american         football         and              one              of               them             is               trying           to               stop             the              other            from             throwing         the              ball             .                [PAD]            [PAD]            [PAD]            [PAD]            [PAD]            [PAD]            [PAD]            [PAD]            [PAD]            [PAD]            [PAD]           \n",
        "#         labels  : NP-CD            NP-NNS           VP-VBP           VP-VP-VBG        VP-VP-NP-NNP     VP-VP-NP-NNP     CC               NP-NP-CD         NP-PP-IN         NP-PP-NP-PRP     VP-VBZ           VP-VP-VBG        VP-VP-VP-TO      VP-VP-VP-VP-VB   VP-VP-VP-VP-NP-DT VP-VP-VP-VP-NP-JJ VP-VP-VP-VP-PP-IN VP-VP-VP-VP-PP-VP-VBG VP-VP-VP-VP-PP-VP-NP-DT VP-VP-VP-VP-PP-VP-NP-NN .                [PAD]            [PAD]            [PAD]            [PAD]            [PAD]            [PAD]            [PAD]            [PAD]            [PAD]            [PAD]            [PAD]           \n",
        "    \n",
        "\n",
        "#         sentence: two people are playing american football and one of them is trying to stop the other from throwing the ball .\n",
        "#         words   : two              people           are              playing          american         football         and              one              of               them             is               trying           to               stop             the              other            from             throwing         the              ball             .                [PAD]            [PAD]            [PAD]            [PAD]            [PAD]            [PAD]            [PAD]            [PAD]            [PAD]            [PAD]            [PAD]           \n",
        "#         labels  : NP-CD            NP-NNS           VP-VBP           VP-VP-VBG        VP-VP-NP-NNP     VP-VP-NP-NNP     CC               NP-NP-CD         NP-PP-IN         NP-PP-NP-PRP     VP-VBZ           VP-VP-VBG        VP-VP-VP-TO      VP-VP-VP-VP-VB   VP-VP-VP-VP-NP-DT VP-VP-VP-VP-NP-JJ VP-VP-VP-VP-PP-IN VP-VP-VP-VP-PP-VP-VBG VP-VP-VP-VP-PP-VP-NP-DT VP-VP-VP-VP-PP-VP-NP-NN .                [PAD]            [PAD]            [PAD]            [PAD]            [PAD]            [PAD]            [PAD]            [PAD]            [PAD]            [PAD]            [PAD]           \n",
        "    \n",
        "\n",
        "#         sentence: a woman in red blouse is standing with small blond child in front of a small folding chalkboard .\n",
        "#         words   : a                woman            in               red              blouse           is               standing         with             small            blond            child            in               front            of               a                small            folding          chalkboard       .                [PAD]            [PAD]            [PAD]            [PAD]            [PAD]            [PAD]            [PAD]            [PAD]            [PAD]            [PAD]            [PAD]            [PAD]            [PAD]           \n",
        "#         labels  : NP-NP-DT         NP-NP-NN         NP-PP-IN         NP-PP-NP-JJ      NP-PP-NP-NN      VP-VBZ           VP-VP-VBG        VP-VP-PP-IN      VP-VP-PP-NP-NP-JJ VP-VP-PP-NP-NP-JJ VP-VP-PP-NP-NP-NN VP-VP-PP-NP-PP-IN VP-VP-PP-NP-PP-NP-NP-NN VP-VP-PP-NP-PP-NP-PP-IN VP-VP-PP-NP-PP-NP-PP-NP-DT VP-VP-PP-NP-PP-NP-PP-NP-JJ VP-VP-PP-NP-PP-NP-PP-NP-JJ VP-VP-PP-NP-PP-NP-PP-NP-NN .                [PAD]            [PAD]            [PAD]            [PAD]            [PAD]            [PAD]            [PAD]            [PAD]            [PAD]            [PAD]            [PAD]            [PAD]            [PAD]           \n",
        "    \n",
        "\n",
        "#         sentence: a woman in red blouse is standing with small blond child in front of a small folding chalkboard .\n",
        "#         words   : a                woman            in               red              blouse           is               standing         with             small            blond            child            in               front            of               a                small            folding          chalkboard       .                [PAD]            [PAD]            [PAD]            [PAD]            [PAD]            [PAD]            [PAD]            [PAD]            [PAD]            [PAD]            [PAD]            [PAD]            [PAD]           \n",
        "#         labels  : NP-NP-DT         NP-NP-NN         NP-PP-IN         NP-PP-NP-JJ      NP-PP-NP-NN      VP-VBZ           VP-VP-VBG        VP-VP-PP-IN      VP-VP-PP-NP-NP-JJ VP-VP-PP-NP-NP-JJ VP-VP-PP-NP-NP-NN VP-VP-PP-NP-PP-IN VP-VP-PP-NP-PP-NP-NP-NN VP-VP-PP-NP-PP-NP-PP-IN VP-VP-PP-NP-PP-NP-PP-NP-DT VP-VP-PP-NP-PP-NP-PP-NP-JJ VP-VP-PP-NP-PP-NP-PP-NP-JJ VP-VP-PP-NP-PP-NP-PP-NP-NN .                [PAD]            [PAD]            [PAD]            [PAD]            [PAD]            [PAD]            [PAD]            [PAD]            [PAD]            [PAD]            [PAD]            [PAD]            [PAD]           \n",
        "    \n",
        "\n",
        "#         sentence: five children playing soccer chase after a ball .\n",
        "#         words   : five             children         playing          soccer           chase            after            a                ball             .                [PAD]            [PAD]            [PAD]            [PAD]            [PAD]            [PAD]            [PAD]            [PAD]            [PAD]            [PAD]            [PAD]            [PAD]            [PAD]            [PAD]            [PAD]            [PAD]            [PAD]            [PAD]            [PAD]            [PAD]            [PAD]            [PAD]            [PAD]           \n",
        "#         labels  : NP-NP-CD         NP-NP-NNS        NP-VP-VBG        NP-VP-NP-NN      NP-VP-NP-NN      NP-VP-PP-IN      NP-VP-PP-NP-DT   NP-VP-PP-NP-NN   NP-.             [PAD]            [PAD]            [PAD]            [PAD]            [PAD]            [PAD]            [PAD]            [PAD]            [PAD]            [PAD]            [PAD]            [PAD]            [PAD]            [PAD]            [PAD]            [PAD]            [PAD]            [PAD]            [PAD]            [PAD]            [PAD]            [PAD]            [PAD]           \n",
        "    \n",
        "\n",
        "#         sentence: five children playing soccer chase after a ball .\n",
        "#         words   : five             children         playing          soccer           chase            after            a                ball             .                [PAD]            [PAD]            [PAD]            [PAD]            [PAD]            [PAD]            [PAD]            [PAD]            [PAD]            [PAD]            [PAD]            [PAD]            [PAD]            [PAD]            [PAD]            [PAD]            [PAD]            [PAD]            [PAD]            [PAD]            [PAD]            [PAD]            [PAD]           \n",
        "#         labels  : NP-NP-CD         NP-NP-NNS        NP-VP-VBG        NP-VP-NP-NN      NP-VP-NP-NN      NP-VP-PP-IN      NP-VP-PP-NP-DT   NP-VP-PP-NP-NN   NP-.             [PAD]            [PAD]            [PAD]            [PAD]            [PAD]            [PAD]            [PAD]            [PAD]            [PAD]            [PAD]            [PAD]            [PAD]            [PAD]            [PAD]            [PAD]            [PAD]            [PAD]            [PAD]            [PAD]            [PAD]            [PAD]            [PAD]            [PAD]           \n",
        "    \n",
        "\n",
        "#         sentence: a skier ski-jumping while two other skiers watch his act .\n",
        "#         words   : a                skier            ski-jumping      while            two              other            skiers           watch            his              act              .                [PAD]            [PAD]            [PAD]            [PAD]            [PAD]            [PAD]            [PAD]            [PAD]            [PAD]            [PAD]            [PAD]            [PAD]            [PAD]            [PAD]            [PAD]            [PAD]            [PAD]            [PAD]            [PAD]            [PAD]            [PAD]           \n",
        "#         labels  : NP-NP-DT         NP-NP-NNP        NP-NP-NN         NP-PP-IN         NP-PP-NP-CD      NP-PP-NP-JJ      NP-PP-NP-NNS     VP-VBP           VP-NP-PRP$       VP-NP-NN         .                [PAD]            [PAD]            [PAD]            [PAD]            [PAD]            [PAD]            [PAD]            [PAD]            [PAD]            [PAD]            [PAD]            [PAD]            [PAD]            [PAD]            [PAD]            [PAD]            [PAD]            [PAD]            [PAD]            [PAD]            [PAD]           \n",
        "    \n",
        "\n",
        "#         sentence: a skier ski-jumping while two other skiers watch his act .\n",
        "#         words   : a                skier            ski-jumping      while            two              other            skiers           watch            his              act              .                [PAD]            [PAD]            [PAD]            [PAD]            [PAD]            [PAD]            [PAD]            [PAD]            [PAD]            [PAD]            [PAD]            [PAD]            [PAD]            [PAD]            [PAD]            [PAD]            [PAD]            [PAD]            [PAD]            [PAD]            [PAD]           \n",
        "#         labels  : NP-NP-DT         NP-NP-NNP        NP-NP-NN         NP-PP-IN         NP-PP-NP-CD      NP-PP-NP-JJ      NP-PP-NP-NNS     VP-VBP           VP-NP-PRP$       VP-NP-NN         .                [PAD]            [PAD]            [PAD]            [PAD]            [PAD]            [PAD]            [PAD]            [PAD]            [PAD]            [PAD]            [PAD]            [PAD]            [PAD]            [PAD]            [PAD]            [PAD]            [PAD]            [PAD]            [PAD]            [PAD]            [PAD]           \n"
      ],
      "execution_count": 47,
      "outputs": []
    },
    {
      "cell_type": "markdown",
      "metadata": {
        "id": "3-oPesi5_YH4"
      },
      "source": [
        "# Test"
      ]
    },
    {
      "cell_type": "code",
      "metadata": {
        "id": "m7RpzAYscQX0"
      },
      "source": [
        "# Что первичнее синтаксис или семантика?\n",
        "# ребенок, плач\n",
        "# NP-NNP NP-NNP -> плач ребенка\n",
        "# NP-NN  VP-VBG -> ребенок плачет\n",
        "\n",
        "# 1\n",
        "# hidden -> word\n",
        "# hidden -> syntax\n",
        "\n",
        "# 2\n",
        "# hidden -> sema\n",
        "# hidden -> syntax\n",
        "# hidden, sema, syntax -> word"
      ],
      "execution_count": 77,
      "outputs": []
    },
    {
      "cell_type": "code",
      "metadata": {
        "id": "-3guXr5P_XAA"
      },
      "source": [
        "# 200 epochs - train = valid 10000 samples - 200 epochs - no embs pretrained\n",
        "# five young indian girls dress in colorful dresses are holding hands and smiling forming a circle [PAD] [PAD] [PAD] [PAD] [PAD] [PAD] [PAD] [PAD] [PAD] [PAD] [PAD] [PAD] [PAD] [PAD] [PAD] [PAD]\n",
        "# a man in a black suit with a cat on a leash is looking in a shop while the cat stands beside him staring the opposite direction of the man , as\n",
        "# these are young adults who seem to be working together to protect the plants surrounding the white pole . [PAD] [PAD] [PAD] [PAD] [PAD] [PAD] [PAD] [PAD] [PAD] [PAD] [PAD] [PAD] [PAD]\n",
        "# an older man wearing a suit has his arms folded behind his back and looking in a store window . [PAD] [PAD] [PAD] [PAD] [PAD] [PAD] [PAD] [PAD] [PAD] [PAD] [PAD] [PAD]\n",
        "# a man in a suit with gold buttons and a name tag gestures with his hands as he speaks to another man in a dress shirt who is holding a beverage in\n",
        "# a teen is standing in a field and is in the upswing position after hitting a golf ball . [PAD] [PAD] [PAD] [PAD] [PAD] [PAD] [PAD] [PAD] [PAD] [PAD] [PAD] [PAD] [PAD]\n",
        "# a skateboarder getting ready to perform on a half - tube rink where there are trees in the background . [PAD] [PAD] [PAD] [PAD] [PAD] [PAD] [PAD] [PAD] [PAD] [PAD] [PAD] [PAD]\n",
        "# a man is smiling at a woman in a white dress . [PAD] [PAD] [PAD] [PAD] [PAD] [PAD] [PAD] [PAD] [PAD] [PAD] [PAD] [PAD] [PAD] [PAD] [PAD] [PAD] [PAD] [PAD] [PAD] [PAD]\n",
        "\n",
        "# Epoch: 200, Test set ELBO: -31.7231, time elapse for current epoch: 20.1175\n",
        "# five young indian girls dress a colorful dresses are holding hands and smiling forming in circle [PAD] [PAD] [PAD] [PAD] [PAD] [PAD] [PAD] [PAD] [PAD] [PAD] [PAD] [PAD] [PAD] [PAD] [PAD] [PAD]\n",
        "# a woman in a black suit with a cat on a leash is looking in a shop while the cat stands beside him staring while a direction of the background , as\n",
        "# these are young adults who seem to be working together to protect the plants surrounding the white pole . [PAD] [PAD] [PAD] [PAD] [PAD] [PAD] [PAD] [PAD] [PAD] [PAD] [PAD] [PAD] [PAD]\n",
        "# an older man wearing a suit has makes arms folded behind his back and looking in a store window . [PAD] [PAD] [PAD] [PAD] [PAD] [PAD] [PAD] [PAD] [PAD] [PAD] [PAD] [PAD]\n",
        "# a woman in a suit with gold buttons and a name tag gestures with his hands as he speaks to another man in a dress shirt who is holding a beverage khaki\n",
        "# a teen boy standing in black field and is in the upswing position after hitting in golf ball . [PAD] [PAD] [PAD] [PAD] [PAD] [PAD] [PAD] [PAD] [PAD] [PAD] [PAD] [PAD] [PAD]\n",
        "# a skateboarder getting ready to perform on a half - tube rink where there are trees in the background . [PAD] [PAD] [PAD] [PAD] [PAD] [PAD] [PAD] [PAD] [PAD] [PAD] [PAD] [PAD]\n",
        "# a man is smiling in a escalator in a white dress . [PAD] [PAD] [PAD] [PAD] [PAD] [PAD] [PAD] [PAD] [PAD] [PAD] [PAD] [PAD] [PAD] [PAD] [PAD] [PAD] [PAD] [PAD] [PAD] [PAD]\n"
      ],
      "execution_count": null,
      "outputs": []
    },
    {
      "cell_type": "code",
      "metadata": {
        "id": "igjCzAtI5gik"
      },
      "source": [
        "def get_exact_match_score(sample, prediction):\n",
        "    sample = [word for word in sample if word != '[PAD]']\n",
        "\n",
        "    head = [1 for s_word, p_word in zip(sample, prediction) if s_word == p_word]\n",
        "    tail = [1 for word in prediction[len(sample):] if word != '[PAD]']\n",
        "\n",
        "    score = (sum(head) - sum(tail)) / len(sample)\n",
        "    return score\n"
      ],
      "execution_count": null,
      "outputs": []
    },
    {
      "cell_type": "code",
      "metadata": {
        "id": "cEbpJUyN88-w",
        "outputId": "254465cd-cbc2-40d5-f7d1-3d2afb879f7e",
        "colab": {
          "base_uri": "https://localhost:8080/",
          "height": 34
        }
      },
      "source": [
        "scores = []\n",
        "\n",
        "for sample in test_sentences:\n",
        "    sentences = decode_sentences(sample.numpy())\n",
        "    predictions = generate_sentences(model, sample)\n",
        "\n",
        "    scores += [\n",
        "        get_exact_match_score(sentence, prediction)\n",
        "        for sentence, prediction in zip(sentences, predictions)\n",
        "    ]\n",
        "      \n",
        "\n",
        "np.min(scores), np.max(scores), np.mean(scores)"
      ],
      "execution_count": null,
      "outputs": [
        {
          "output_type": "execute_result",
          "data": {
            "text/plain": [
              "(-0.1286549707602339, 1.0, 0.28382985152632745)"
            ]
          },
          "metadata": {
            "tags": []
          },
          "execution_count": 91
        }
      ]
    },
    {
      "cell_type": "code",
      "metadata": {
        "id": "Q0dfRROs9eCm",
        "outputId": "5df3168c-3a05-4860-c3ed-ecc8b6deaff2",
        "colab": {
          "base_uri": "https://localhost:8080/",
          "height": 265
        }
      },
      "source": [
        "plt.hist(scores, bins='auto')\n",
        "plt.show()"
      ],
      "execution_count": null,
      "outputs": [
        {
          "output_type": "display_data",
          "data": {
            "image/png": "[encoded data removed]",
            "text/plain": [
              "<Figure size 432x288 with 1 Axes>"
            ]
          },
          "metadata": {
            "tags": [],
            "needs_background": "light"
          }
        }
      ]
    },
    {
      "cell_type": "code",
      "metadata": {
        "id": "tVyq-xwiSzDz"
      },
      "source": [
        ""
      ],
      "execution_count": null,
      "outputs": []
    }
  ]
}